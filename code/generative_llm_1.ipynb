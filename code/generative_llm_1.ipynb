{
 "cells": [
  {
   "cell_type": "code",
   "execution_count": null,
   "id": "abdd07ec",
   "metadata": {},
   "outputs": [],
   "source": [
    "import os\n",
    "import pandas as pd\n",
    "from mistralai import Mistral\n",
    "import jsonlines\n",
    "import json\n",
    "from dotenv import load_dotenv\n",
    "load_dotenv() \n"
   ]
  },
  {
   "cell_type": "code",
   "execution_count": null,
   "id": "9854fa40",
   "metadata": {},
   "outputs": [],
   "source": [
    "# 1. Let's get a sample of data"
   ]
  },
  {
   "cell_type": "code",
   "execution_count": null,
   "id": "d0a7c988",
   "metadata": {},
   "outputs": [],
   "source": [
    "api_key = os.environ[\"MIXTRAL\"]\n",
    "model = \"mistral-large-latest\""
   ]
  },
  {
   "cell_type": "code",
   "execution_count": null,
   "id": "b7204c8d",
   "metadata": {},
   "outputs": [],
   "source": [
    "df = pd.read_excel(\"../data/sample_llm.xlsx\", engine='openpyxl')"
   ]
  },
  {
   "cell_type": "code",
   "execution_count": null,
   "id": "235be51c",
   "metadata": {},
   "outputs": [],
   "source": [
    "df.shape"
   ]
  },
  {
   "cell_type": "code",
   "execution_count": null,
   "id": "cdaba1c1",
   "metadata": {},
   "outputs": [],
   "source": [
    "def make_message_description_instrument(title, abstract):\n",
    "    title = title.replace(\"\\\"\", \"\")\n",
    "    abstract = abstract.replace(\"\\\"\", \"\")\n",
    "    return [\n",
    "                {\n",
    "                    \"role\": \"system\",\n",
    "                    \"content\": \"You are a policy researcher.\",\n",
    "                },\n",
    "                {\n",
    "                    \"role\": \"user\",\n",
    "                    \"content\": f\"\"\"\n",
    "                    You are asked to determined whether an academic publication, given its title and and abstract, is relevant  to the policy studies community. To assess this, please follow the following criteria:\n",
    "\n",
    "                    1. The title is representative of the content of the abstract.\n",
    "                    2. Its relevance to the policy studies community is defined as containing information if it advances theoretical, methodological, or empirical understanding of policy processes, instruments, actors, or institutions in the field.\n",
    "\n",
    "\n",
    "                    You will receive the information in the following format:\n",
    "                    ### Example input ###\n",
    "                    TITLE: <title>\n",
    "                    ABSTRACT: <abstract>\n",
    "                    ### End example input ###\n",
    "\n",
    "                    Your answer should be ONLY as \"YES\" or \"NO\".\n",
    "\n",
    "                    ### Example positive answer ###\n",
    "                    ANSWER: YES\n",
    "                    ### End example positive answer ###\n",
    "\n",
    "                    ### Example negative answer ###\n",
    "                    ANSWER: NO\n",
    "                    ### End example negative answer ###\n",
    "\n",
    "                    Given the following abstract from and academic publication:\n",
    "                     \n",
    "                    TITLE: {title}\n",
    "                    ABSTRACT: {abstract}\n",
    "\n",
    "                    Is this abstract relevant to the policy studies community? \n",
    "\n",
    "                    ANSWER:\"\"\",\n",
    "                },\n",
    "            ]"
   ]
  },
  {
   "cell_type": "code",
   "execution_count": null,
   "id": "19fa11b9",
   "metadata": {},
   "outputs": [],
   "source": [
    "def get_information_for_mixtral(id, title, abstract):\n",
    "    message = make_message_description_instrument(title, abstract)\n",
    "    output_file = f\"../data/for_llm/data.jsonl\"\n",
    "    with jsonlines.open(output_file, 'a') as writer:\n",
    "        writer.write({\"custom_id\": str(id), \"body\": {\"max_tokens\": 50, \"messages\": message}})\n",
    "    return"
   ]
  },
  {
   "cell_type": "code",
   "execution_count": null,
   "id": "f0a115a8",
   "metadata": {},
   "outputs": [],
   "source": [
    "df.apply(lambda x: get_information_for_mixtral(x.index_new, x.Title, x.Abstract), axis=1)"
   ]
  },
  {
   "cell_type": "code",
   "execution_count": null,
   "id": "1a7e8d46",
   "metadata": {},
   "outputs": [],
   "source": [
    "client = Mistral(api_key=api_key)"
   ]
  },
  {
   "cell_type": "code",
   "execution_count": null,
   "id": "79a207d8",
   "metadata": {},
   "outputs": [],
   "source": [
    "batch_data = client.files.upload(\n",
    "    file={\n",
    "        \"file_name\": f\"data_for_llm\",\n",
    "        \"content\": open(f\"../data/for_llm/data.jsonl\", \"rb\")},\n",
    "    purpose = \"batch\"\n",
    "    \n",
    ")\n",
    "\n",
    "created_job = client.batch.jobs.create(\n",
    "    input_files=[batch_data.id],\n",
    "    model=\"mistral-large-latest\",\n",
    "    endpoint=\"/v1/chat/completions\",\n",
    "    metadata={\"job_type\": \"response\"}\n",
    ")"
   ]
  },
  {
   "cell_type": "code",
   "execution_count": null,
   "id": "a4d1219b",
   "metadata": {},
   "outputs": [],
   "source": [
    "file_id = created_job.id"
   ]
  },
  {
   "cell_type": "code",
   "execution_count": null,
   "id": "59c2e2e1",
   "metadata": {},
   "outputs": [],
   "source": [
    "list_job = client.batch.jobs.list()\n",
    "list_job.data[0]"
   ]
  },
  {
   "cell_type": "code",
   "execution_count": null,
   "id": "39931b96",
   "metadata": {},
   "outputs": [],
   "source": [
    "output_file = list_job.data[0].output_file\n",
    "output_file"
   ]
  },
  {
   "cell_type": "code",
   "execution_count": null,
   "id": "47538e25",
   "metadata": {},
   "outputs": [],
   "source": [
    "response = client.files.download(file_id=output_file)"
   ]
  },
  {
   "cell_type": "code",
   "execution_count": null,
   "id": "9699cf8d",
   "metadata": {},
   "outputs": [],
   "source": [
    "with open(\"../data/for_llm/results.jsonl\", \"w\") as f:\n",
    "    for chunk in response.stream:\n",
    "        f.write(chunk.decode(\"utf-8\"))"
   ]
  },
  {
   "cell_type": "code",
   "execution_count": null,
   "id": "e9bc14f1",
   "metadata": {},
   "outputs": [],
   "source": [
    "def retrieve_json(file_path='../data/for_llm/results.jsonl'):\n",
    "    tbr = {}\n",
    "    with open(file_path, 'r') as f:\n",
    "        data = [json.loads(line) for line in f]\n",
    "    for i in data:\n",
    "        id = i[\"custom_id\"]\n",
    "        choice = i[\"response\"][\"body\"][\"choices\"][0][\"message\"][\"content\"]\n",
    "        if \"yes\" in choice.lower():\n",
    "            tbr[id] = 1\n",
    "        else:\n",
    "            tbr[id] = 0 \n",
    "    return tbr       \n",
    "    \n",
    "is_it_relevant = retrieve_json()"
   ]
  },
  {
   "cell_type": "code",
   "execution_count": null,
   "id": "6e95b756",
   "metadata": {},
   "outputs": [],
   "source": [
    "df[\"is_relevant\"] = df[\"index_new\"].apply(lambda x: is_it_relevant[str(x)])"
   ]
  },
  {
   "cell_type": "code",
   "execution_count": null,
   "id": "0fc0d96e",
   "metadata": {},
   "outputs": [],
   "source": [
    "df.is_relevant.value_counts()"
   ]
  },
  {
   "cell_type": "code",
   "execution_count": null,
   "id": "e507b1d3",
   "metadata": {},
   "outputs": [],
   "source": [
    "df.to_excel(\"../data/sample_llm_assessed.xlsx\")"
   ]
  },
  {
   "cell_type": "code",
   "execution_count": null,
   "id": "b5a182cd",
   "metadata": {},
   "outputs": [],
   "source": []
  }
 ],
 "metadata": {
  "kernelspec": {
   "display_name": ".venv",
   "language": "python",
   "name": "python3"
  },
  "language_info": {
   "codemirror_mode": {
    "name": "ipython",
    "version": 3
   },
   "file_extension": ".py",
   "mimetype": "text/x-python",
   "name": "python",
   "nbconvert_exporter": "python",
   "pygments_lexer": "ipython3",
   "version": "3.11.5"
  }
 },
 "nbformat": 4,
 "nbformat_minor": 5
}
