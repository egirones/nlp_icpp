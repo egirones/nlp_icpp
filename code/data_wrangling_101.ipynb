{
 "cells": [
  {
   "cell_type": "code",
   "execution_count": 1,
   "id": "891b3d6f",
   "metadata": {},
   "outputs": [],
   "source": [
    "import pandas as pd"
   ]
  },
  {
   "cell_type": "markdown",
   "id": "a458004a",
   "metadata": {},
   "source": [
    "# Basic pandas"
   ]
  },
  {
   "cell_type": "code",
   "execution_count": 2,
   "id": "4545f14d",
   "metadata": {},
   "outputs": [],
   "source": [
    "# let's load the dataframe\n",
    "df = pd.read_excel(\"../data/sample.xlsx\")"
   ]
  },
  {
   "cell_type": "code",
   "execution_count": 3,
   "id": "b1d3a2db",
   "metadata": {},
   "outputs": [
    {
     "data": {
      "text/plain": [
       "(19, 5)"
      ]
     },
     "execution_count": 3,
     "metadata": {},
     "output_type": "execute_result"
    }
   ],
   "source": [
    "# get the size\n",
    "df.shape # 19 rows, 5 columns, "
   ]
  },
  {
   "cell_type": "code",
   "execution_count": 4,
   "id": "90c4347e",
   "metadata": {},
   "outputs": [
    {
     "data": {
      "text/html": [
       "<div>\n",
       "<style scoped>\n",
       "    .dataframe tbody tr th:only-of-type {\n",
       "        vertical-align: middle;\n",
       "    }\n",
       "\n",
       "    .dataframe tbody tr th {\n",
       "        vertical-align: top;\n",
       "    }\n",
       "\n",
       "    .dataframe thead th {\n",
       "        text-align: right;\n",
       "    }\n",
       "</style>\n",
       "<table border=\"1\" class=\"dataframe\">\n",
       "  <thead>\n",
       "    <tr style=\"text-align: right;\">\n",
       "      <th></th>\n",
       "      <th>Authors</th>\n",
       "      <th>Author full names</th>\n",
       "      <th>Author(s) ID</th>\n",
       "      <th>Title</th>\n",
       "      <th>Year</th>\n",
       "    </tr>\n",
       "  </thead>\n",
       "  <tbody>\n",
       "    <tr>\n",
       "      <th>0</th>\n",
       "      <td>Das P.; Mandal S.; Nedungadi P.; Raman R.</td>\n",
       "      <td>Das, Payel (55588367500); Mandal, Santanu (551...</td>\n",
       "      <td>55588367500; 55191197300; 36069838600; 3661818...</td>\n",
       "      <td>Unveiling sustainable tourism themes with mach...</td>\n",
       "      <td>2025</td>\n",
       "    </tr>\n",
       "    <tr>\n",
       "      <th>1</th>\n",
       "      <td>Chellapandian H.; Jeyachandran S.</td>\n",
       "      <td>Chellapandian, Hethesh (59540482700); Jeyachan...</td>\n",
       "      <td>59540482700; 59219777900</td>\n",
       "      <td>Retraction Note: Comment on, ‚ÄúExpression of ...</td>\n",
       "      <td>2025</td>\n",
       "    </tr>\n",
       "    <tr>\n",
       "      <th>2</th>\n",
       "      <td>Wanjari M.; Mittal G.; Prasad R.</td>\n",
       "      <td>Wanjari, Mayur (57220811297); Mittal, Gaurav (...</td>\n",
       "      <td>57220811297; 58994663400; 58573618600</td>\n",
       "      <td>Retraction Note: Transforming neurosurgical ap...</td>\n",
       "      <td>2025</td>\n",
       "    </tr>\n",
       "    <tr>\n",
       "      <th>3</th>\n",
       "      <td>Snigdha N.T.</td>\n",
       "      <td>Snigdha, Niher Tabassum (59738024300)</td>\n",
       "      <td>59738024300</td>\n",
       "      <td>RETRACTED ARTICLE: Letter to the editor: ‚ÄúRi...</td>\n",
       "      <td>2025</td>\n",
       "    </tr>\n",
       "    <tr>\n",
       "      <th>4</th>\n",
       "      <td>Ragavendran C.</td>\n",
       "      <td>Ragavendran, Chinnasamy (57210563730)</td>\n",
       "      <td>57210563730</td>\n",
       "      <td>Retraction Note: Letter to Editor: Comment on,...</td>\n",
       "      <td>2025</td>\n",
       "    </tr>\n",
       "  </tbody>\n",
       "</table>\n",
       "</div>"
      ],
      "text/plain": [
       "                                     Authors  \\\n",
       "0  Das P.; Mandal S.; Nedungadi P.; Raman R.   \n",
       "1          Chellapandian H.; Jeyachandran S.   \n",
       "2           Wanjari M.; Mittal G.; Prasad R.   \n",
       "3                               Snigdha N.T.   \n",
       "4                             Ragavendran C.   \n",
       "\n",
       "                                   Author full names  \\\n",
       "0  Das, Payel (55588367500); Mandal, Santanu (551...   \n",
       "1  Chellapandian, Hethesh (59540482700); Jeyachan...   \n",
       "2  Wanjari, Mayur (57220811297); Mittal, Gaurav (...   \n",
       "3              Snigdha, Niher Tabassum (59738024300)   \n",
       "4              Ragavendran, Chinnasamy (57210563730)   \n",
       "\n",
       "                                        Author(s) ID  \\\n",
       "0  55588367500; 55191197300; 36069838600; 3661818...   \n",
       "1                           59540482700; 59219777900   \n",
       "2              57220811297; 58994663400; 58573618600   \n",
       "3                                        59738024300   \n",
       "4                                        57210563730   \n",
       "\n",
       "                                               Title  Year  \n",
       "0  Unveiling sustainable tourism themes with mach...  2025  \n",
       "1  Retraction Note: Comment on, ‚ÄúExpression of ...  2025  \n",
       "2  Retraction Note: Transforming neurosurgical ap...  2025  \n",
       "3  RETRACTED ARTICLE: Letter to the editor: ‚ÄúRi...  2025  \n",
       "4  Retraction Note: Letter to Editor: Comment on,...  2025  "
      ]
     },
     "execution_count": 4,
     "metadata": {},
     "output_type": "execute_result"
    }
   ],
   "source": [
    "# get the first five rows\n",
    "df.head(5)"
   ]
  },
  {
   "cell_type": "code",
   "execution_count": 5,
   "id": "fbede2a0",
   "metadata": {},
   "outputs": [
    {
     "data": {
      "text/html": [
       "<div>\n",
       "<style scoped>\n",
       "    .dataframe tbody tr th:only-of-type {\n",
       "        vertical-align: middle;\n",
       "    }\n",
       "\n",
       "    .dataframe tbody tr th {\n",
       "        vertical-align: top;\n",
       "    }\n",
       "\n",
       "    .dataframe thead th {\n",
       "        text-align: right;\n",
       "    }\n",
       "</style>\n",
       "<table border=\"1\" class=\"dataframe\">\n",
       "  <thead>\n",
       "    <tr style=\"text-align: right;\">\n",
       "      <th></th>\n",
       "      <th>Authors</th>\n",
       "      <th>Author full names</th>\n",
       "      <th>Author(s) ID</th>\n",
       "      <th>Title</th>\n",
       "      <th>Year</th>\n",
       "    </tr>\n",
       "  </thead>\n",
       "  <tbody>\n",
       "    <tr>\n",
       "      <th>11</th>\n",
       "      <td>Wanjari M.; Mittal G.; Prasad R.; Choudhary L....</td>\n",
       "      <td>Wanjari, Mayur (57220811297); Mittal, Gaurav (...</td>\n",
       "      <td>57220811297; 58994663400; 58573618600; 5933108...</td>\n",
       "      <td>Retraction Note: The role of robotics in moder...</td>\n",
       "      <td>2025</td>\n",
       "    </tr>\n",
       "    <tr>\n",
       "      <th>5</th>\n",
       "      <td>Chellapandian H.; Jeyachandran S.</td>\n",
       "      <td>Chellapandian, Hethesh (59540482700); Jeyachan...</td>\n",
       "      <td>59540482700; 59219777900</td>\n",
       "      <td>RETRACTED ARTICLE: Bridging the gap: Enhancing...</td>\n",
       "      <td>2025</td>\n",
       "    </tr>\n",
       "  </tbody>\n",
       "</table>\n",
       "</div>"
      ],
      "text/plain": [
       "                                              Authors  \\\n",
       "11  Wanjari M.; Mittal G.; Prasad R.; Choudhary L....   \n",
       "5                   Chellapandian H.; Jeyachandran S.   \n",
       "\n",
       "                                    Author full names  \\\n",
       "11  Wanjari, Mayur (57220811297); Mittal, Gaurav (...   \n",
       "5   Chellapandian, Hethesh (59540482700); Jeyachan...   \n",
       "\n",
       "                                         Author(s) ID  \\\n",
       "11  57220811297; 58994663400; 58573618600; 5933108...   \n",
       "5                            59540482700; 59219777900   \n",
       "\n",
       "                                                Title  Year  \n",
       "11  Retraction Note: The role of robotics in moder...  2025  \n",
       "5   RETRACTED ARTICLE: Bridging the gap: Enhancing...  2025  "
      ]
     },
     "execution_count": 5,
     "metadata": {},
     "output_type": "execute_result"
    }
   ],
   "source": [
    "# get a sample\n",
    "df.sample(2)"
   ]
  },
  {
   "cell_type": "code",
   "execution_count": 6,
   "id": "00a61d4e",
   "metadata": {},
   "outputs": [
    {
     "name": "stdout",
     "output_type": "stream",
     "text": [
      "<class 'pandas.core.frame.DataFrame'>\n",
      "RangeIndex: 19 entries, 0 to 18\n",
      "Data columns (total 5 columns):\n",
      " #   Column             Non-Null Count  Dtype \n",
      "---  ------             --------------  ----- \n",
      " 0   Authors            19 non-null     object\n",
      " 1   Author full names  19 non-null     object\n",
      " 2   Author(s) ID       19 non-null     object\n",
      " 3   Title              19 non-null     object\n",
      " 4   Year               19 non-null     int64 \n",
      "dtypes: int64(1), object(4)\n",
      "memory usage: 892.0+ bytes\n"
     ]
    }
   ],
   "source": [
    "# get information of the dataframe\n",
    "df.info()"
   ]
  },
  {
   "cell_type": "code",
   "execution_count": 7,
   "id": "b0e7daf8",
   "metadata": {},
   "outputs": [
    {
     "data": {
      "text/plain": [
       "Authors                      Das P.; Mandal S.; Nedungadi P.; Raman R.\n",
       "Author full names    Das, Payel (55588367500); Mandal, Santanu (551...\n",
       "Author(s) ID         55588367500; 55191197300; 36069838600; 3661818...\n",
       "Title                Unveiling sustainable tourism themes with mach...\n",
       "Year                                                              2025\n",
       "Name: 0, dtype: object"
      ]
     },
     "execution_count": 7,
     "metadata": {},
     "output_type": "execute_result"
    }
   ],
   "source": [
    "# basic selection: row 0\n",
    "df.iloc[0]      "
   ]
  },
  {
   "cell_type": "code",
   "execution_count": 8,
   "id": "96301671",
   "metadata": {},
   "outputs": [
    {
     "data": {
      "text/plain": [
       "'Unveiling sustainable tourism themes with machine learning based topic modeling'"
      ]
     },
     "execution_count": 8,
     "metadata": {},
     "output_type": "execute_result"
    }
   ],
   "source": [
    "# Get the title of row 0\n",
    "df.loc[0, \"Title\"]"
   ]
  },
  {
   "cell_type": "code",
   "execution_count": 9,
   "id": "85313873",
   "metadata": {},
   "outputs": [],
   "source": [
    "# do you want to shuffle the data? use this code\n",
    "df = df.sample(frac=1)"
   ]
  },
  {
   "cell_type": "markdown",
   "id": "d4302520",
   "metadata": {},
   "source": [
    "# 2. First analysis Descriptive statistics"
   ]
  },
  {
   "cell_type": "code",
   "execution_count": 10,
   "id": "ce746bfd",
   "metadata": {},
   "outputs": [
    {
     "data": {
      "text/plain": [
       "Authors              0\n",
       "Author full names    0\n",
       "Author(s) ID         0\n",
       "Title                0\n",
       "Year                 0\n",
       "dtype: int64"
      ]
     },
     "execution_count": 10,
     "metadata": {},
     "output_type": "execute_result"
    }
   ],
   "source": [
    "# let's check missing values in the df\n",
    "df.isna().sum()"
   ]
  },
  {
   "cell_type": "code",
   "execution_count": 11,
   "id": "37cb20c0",
   "metadata": {},
   "outputs": [
    {
     "name": "stdout",
     "output_type": "stream",
     "text": [
      "2025.0\n"
     ]
    }
   ],
   "source": [
    "# get average of year\n",
    "print(df['Year'].mean())"
   ]
  }
 ],
 "metadata": {
  "kernelspec": {
   "display_name": ".venv",
   "language": "python",
   "name": "python3"
  },
  "language_info": {
   "codemirror_mode": {
    "name": "ipython",
    "version": 3
   },
   "file_extension": ".py",
   "mimetype": "text/x-python",
   "name": "python",
   "nbconvert_exporter": "python",
   "pygments_lexer": "ipython3",
   "version": "3.11.5"
  }
 },
 "nbformat": 4,
 "nbformat_minor": 5
}
