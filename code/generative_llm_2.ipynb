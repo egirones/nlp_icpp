{
 "cells": [
  {
   "cell_type": "markdown",
   "id": "1695a207",
   "metadata": {},
   "source": [
    "# Generative LLM"
   ]
  },
  {
   "cell_type": "code",
   "execution_count": 5,
   "id": "a844e2be",
   "metadata": {},
   "outputs": [
    {
     "data": {
      "text/plain": [
       "True"
      ]
     },
     "execution_count": 5,
     "metadata": {},
     "output_type": "execute_result"
    }
   ],
   "source": [
    "import os\n",
    "from mistralai import Mistral\n",
    "from dotenv import load_dotenv\n",
    "load_dotenv() "
   ]
  },
  {
   "cell_type": "code",
   "execution_count": 6,
   "id": "298a2b3e",
   "metadata": {},
   "outputs": [],
   "source": [
    "api_key = os.environ[\"MIXTRAL\"]\n",
    "model = \"mistral-large-latest\""
   ]
  },
  {
   "cell_type": "markdown",
   "id": "bc98c9e9",
   "metadata": {},
   "source": [
    "Elements in an LLM prompt:\n",
    "\n",
    "| #  | Feature        | Needed? (1-5)|\n",
    "|----|----------------|--------------|\n",
    "| 1  | Context         | 5           |\n",
    "| 2  | Instruction     | 5           |\n",
    "| 3  | Input data      | 4           |\n",
    "| 4  | Input example   | 3           |\n",
    "| 5  | Output indicator| 4           |\n",
    "| 6  | Output example  | 3           |\n",
    "| 7  | Constrains      | 2           |\n",
    "\n",
    "For instructions, see https://www.promptingguide.ai/  \n"
   ]
  },
  {
   "cell_type": "code",
   "execution_count": null,
   "id": "aa060b48",
   "metadata": {},
   "outputs": [],
   "source": [
    "def make_message():\n",
    "    return [\n",
    "                {\n",
    "                    \"role\": \"system\",\n",
    "                    \"content\": \"_______\", # general context goes here\n",
    "                },\n",
    "                {\n",
    "                    \"role\": \"user\",\n",
    "                    \"content\": f\"\"\"\n",
    "                    _________CONTEXT_________\n",
    "\n",
    "                    _________INSTRUCTION_________ \n",
    "\n",
    "                    _________(OPTIONAL) INPUT EXAMPLE_________\n",
    "                    ### Example input ###\n",
    "                    _________YOUR INPUT EXAMPLE HERE _________\n",
    "                    ### End example input ###\n",
    "\n",
    "                    _________CONSTRAINS_________\n",
    "\n",
    "                    _________(OPTIONAL) OUTPUT EXAMPLE_________\n",
    "                    ### Example positive answer ###\n",
    "                    _________YOUR OUTPUT EXAMPLE HERE _________\n",
    "                    ### End example positive answer ###\n",
    "\n",
    "                    Given the following data: \n",
    "                    \n",
    "                    _________INPUT DATA_________ \n",
    "\n",
    "                    _________SHORT INSTRUCTION_________ \n",
    "\n",
    "                    ANSWER:\"\"\",\n",
    "                },\n",
    "            ]"
   ]
  },
  {
   "cell_type": "code",
   "execution_count": null,
   "id": "5d85e3f7",
   "metadata": {},
   "outputs": [],
   "source": [
    "client = Mistral(api_key=api_key)\n"
   ]
  },
  {
   "cell_type": "code",
   "execution_count": 13,
   "id": "67a481f1",
   "metadata": {},
   "outputs": [
    {
     "name": "stdout",
     "output_type": "stream",
     "text": [
      "Choosing the \"best\" French cheese can be\n"
     ]
    }
   ],
   "source": [
    "chat_response = client.chat.complete(\n",
    "    model= model,\n",
    "    temperature=0.1,\n",
    "    max_tokens=10,\n",
    "    messages = [\n",
    "        {\n",
    "            \"role\": \"user\",\n",
    "            \"content\": \"What is the best French cheese?\",\n",
    "        },\n",
    "    ]\n",
    ")\n",
    "\n",
    "print(chat_response.choices[0].message.content)"
   ]
  },
  {
   "cell_type": "markdown",
   "id": "8cc93e20",
   "metadata": {},
   "source": []
  }
 ],
 "metadata": {
  "kernelspec": {
   "display_name": ".venv",
   "language": "python",
   "name": "python3"
  },
  "language_info": {
   "codemirror_mode": {
    "name": "ipython",
    "version": 3
   },
   "file_extension": ".py",
   "mimetype": "text/x-python",
   "name": "python",
   "nbconvert_exporter": "python",
   "pygments_lexer": "ipython3",
   "version": "3.11.5"
  }
 },
 "nbformat": 4,
 "nbformat_minor": 5
}
