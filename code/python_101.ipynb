{
 "cells": [
  {
   "cell_type": "markdown",
   "metadata": {},
   "source": [
    "# Getting Started with Python "
   ]
  },
  {
   "cell_type": "markdown",
   "metadata": {},
   "source": [
    "## How to Use This Notebook\n",
    "- Run code cells with `Shift + Enter`\n",
    "- Markdown cells (like this one) are for explanations\n",
    "- Code cells are for Python code"
   ]
  },
  {
   "cell_type": "markdown",
   "id": "301ad7e2",
   "metadata": {},
   "source": [
    "### 1. Print function"
   ]
  },
  {
   "cell_type": "code",
   "execution_count": 1,
   "metadata": {},
   "outputs": [
    {
     "name": "stdout",
     "output_type": "stream",
     "text": [
      "Hello, policy world!\n"
     ]
    }
   ],
   "source": [
    "# First, let's use the print function\n",
    "print(\"Hello, policy world!\")"
   ]
  },
  {
   "cell_type": "markdown",
   "id": "d08f988d",
   "metadata": {},
   "source": [
    "### 2. Variables"
   ]
  },
  {
   "cell_type": "code",
   "execution_count": 2,
   "metadata": {},
   "outputs": [],
   "source": [
    "# Let's add some variables\n",
    "age = 35            # this is an integer\n",
    "age_string = \"35\"   # this is text\n",
    "name = \"Climate Policy\"\n",
    "is_active = True"
   ]
  },
  {
   "cell_type": "code",
   "execution_count": 3,
   "id": "38abc8bf",
   "metadata": {},
   "outputs": [
    {
     "name": "stdout",
     "output_type": "stream",
     "text": [
      "For name, the type is:  <class 'str'>\n",
      "For age, the type is:  <class 'int'>\n",
      "For age_string, the type is:  <class 'str'>\n",
      "For is_active, the type is:  <class 'bool'>\n"
     ]
    }
   ],
   "source": [
    "# how to check what type is your variable?\n",
    "print(\"For name, the type is: \", type(name))\n",
    "print(\"For age, the type is: \", type(age))\n",
    "print(\"For age_string, the type is: \", type(age_string))\n",
    "print(\"For is_active, the type is: \", type(is_active)) "
   ]
  },
  {
   "cell_type": "code",
   "execution_count": 4,
   "id": "05238dd5",
   "metadata": {},
   "outputs": [
    {
     "name": "stdout",
     "output_type": "stream",
     "text": [
      "With integers: 70\n",
      "With strings: 3535\n"
     ]
    }
   ],
   "source": [
    "# Operations with integers are as expected in a math class\n",
    "print(\"With integers:\", age + age)\n",
    "# However, look what happens when we sum strings\n",
    "print(\"With strings:\", age_string + age_string)"
   ]
  },
  {
   "cell_type": "code",
   "execution_count": 5,
   "id": "d0e99ac7",
   "metadata": {},
   "outputs": [
    {
     "name": "stdout",
     "output_type": "stream",
     "text": [
      "With integers: 175\n",
      "With strings: 3535353535\n"
     ]
    }
   ],
   "source": [
    "# Similarly, let's multiply both\n",
    "print(\"With integers:\", age * 5)\n",
    "# However, look what happens when we sum strings\n",
    "print(\"With strings:\", age_string * 5)"
   ]
  },
  {
   "cell_type": "markdown",
   "id": "45323a99",
   "metadata": {},
   "source": [
    "### 3. Data structures\n",
    "\n",
    "A data structure is a systematic way of organizing and storing data in a computer so that it can be accessed and modified efficiently."
   ]
  },
  {
   "cell_type": "code",
   "execution_count": 6,
   "id": "b26c136b",
   "metadata": {},
   "outputs": [
    {
     "name": "stdout",
     "output_type": "stream",
     "text": [
      "['tax', 'subsidy', 'regulation', 'tax']\n"
     ]
    }
   ],
   "source": [
    "# List: ordered, changeable, allows duplicates\n",
    "policy_tools = [\"tax\", \"subsidy\", \"regulation\", \"tax\"]\n",
    "print(policy_tools)"
   ]
  },
  {
   "cell_type": "code",
   "execution_count": 7,
   "id": "aef99a63",
   "metadata": {},
   "outputs": [
    {
     "name": "stdout",
     "output_type": "stream",
     "text": [
      "(2010, 2015, 2020)\n"
     ]
    }
   ],
   "source": [
    "# Tuple (like a list): ordered, non changeable\n",
    "years = (2010, 2015, 2020)\n",
    "print(years)"
   ]
  },
  {
   "cell_type": "code",
   "execution_count": 8,
   "id": "5acea09e",
   "metadata": {},
   "outputs": [
    {
     "name": "stdout",
     "output_type": "stream",
     "text": [
      "This is the first value of years: 2010\n",
      "This is the first value of policy_tools: tax\n"
     ]
    }
   ],
   "source": [
    "# How to access a value? By the index (we start with 0!)\n",
    "print(\"This is the first value of years:\",years[0])\n",
    "print(\"This is the first value of policy_tools:\",policy_tools[0])"
   ]
  },
  {
   "cell_type": "code",
   "execution_count": 9,
   "id": "8807f551",
   "metadata": {},
   "outputs": [
    {
     "name": "stdout",
     "output_type": "stream",
     "text": [
      "{'subsidy', 'regulation', 'tax'}\n"
     ]
    }
   ],
   "source": [
    "# Set: unordered, does not allow duplicates\n",
    "policy_tools_set = set(policy_tools)\n",
    "print(policy_tools_set)"
   ]
  },
  {
   "cell_type": "code",
   "execution_count": 10,
   "id": "f0d635f4",
   "metadata": {},
   "outputs": [
    {
     "name": "stdout",
     "output_type": "stream",
     "text": [
      "Print keys: dict_keys(['tax', 'subsidy', 'regulation'])\n",
      "Print keys: dict_values(['high', 'medium', 'low'])\n"
     ]
    }
   ],
   "source": [
    "# Dictionary: key-value pairs, unordered (in older Python), fast lookup\n",
    "policy_impact = {\"tax\": \"high\", \"subsidy\": \"medium\", \"regulation\": \"low\"}\n",
    "\n",
    "# let's print the keys\n",
    "print(\"Print keys:\", policy_impact.keys())\n",
    "\n",
    "# and now the values\n",
    "print(\"Print keys:\", policy_impact.values())"
   ]
  },
  {
   "cell_type": "code",
   "execution_count": 11,
   "id": "056181c3",
   "metadata": {},
   "outputs": [
    {
     "name": "stdout",
     "output_type": "stream",
     "text": [
      "high\n"
     ]
    }
   ],
   "source": [
    "# now let's access the value of 'tax' (which is 'high')\n",
    "print(policy_impact[\"tax\"])"
   ]
  },
  {
   "cell_type": "code",
   "execution_count": 12,
   "metadata": {},
   "outputs": [
    {
     "name": "stdout",
     "output_type": "stream",
     "text": [
      "This is the item in the list tax\n",
      "This is the value retrieved from the dictionary: high\n",
      "This is the item in the list subsidy\n",
      "This is the value retrieved from the dictionary: medium\n",
      "This is the item in the list regulation\n",
      "This is the value retrieved from the dictionary: low\n"
     ]
    }
   ],
   "source": [
    "# iteration, sometimes you want to visit all elements in a list\n",
    "for policy in [\"tax\", \"subsidy\", \"regulation\"]:\n",
    "    print(\"This is the item in the list\", policy)\n",
    "    # is this item in our policy_impact dictionary? let's print the values\n",
    "    print(\"This is the value retrieved from the dictionary:\", policy_impact[policy])"
   ]
  }
 ],
 "metadata": {
  "kernelspec": {
   "display_name": ".venv",
   "language": "python",
   "name": "python3"
  },
  "language_info": {
   "codemirror_mode": {
    "name": "ipython",
    "version": 3
   },
   "file_extension": ".py",
   "mimetype": "text/x-python",
   "name": "python",
   "nbconvert_exporter": "python",
   "pygments_lexer": "ipython3",
   "version": "3.11.5"
  }
 },
 "nbformat": 4,
 "nbformat_minor": 5
}
