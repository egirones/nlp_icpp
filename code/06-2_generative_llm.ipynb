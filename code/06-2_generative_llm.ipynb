{
 "cells": [
  {
   "cell_type": "code",
   "execution_count": 13,
   "id": "abdd07ec",
   "metadata": {},
   "outputs": [
    {
     "data": {
      "text/plain": [
       "True"
      ]
     },
     "execution_count": 13,
     "metadata": {},
     "output_type": "execute_result"
    }
   ],
   "source": [
    "import os\n",
    "import pandas as pd\n",
    "from mistralai import Mistral\n",
    "import jsonlines\n",
    "import json\n",
    "from dotenv import load_dotenv\n",
    "load_dotenv() \n"
   ]
  },
  {
   "cell_type": "code",
   "execution_count": 14,
   "id": "9854fa40",
   "metadata": {},
   "outputs": [],
   "source": [
    "# 1. Let's get a sample of data"
   ]
  },
  {
   "cell_type": "code",
   "execution_count": 15,
   "id": "d0a7c988",
   "metadata": {},
   "outputs": [],
   "source": [
    "api_key = os.environ[\"MIXTRAL\"]\n",
    "model = \"mistral-large-latest\""
   ]
  },
  {
   "cell_type": "code",
   "execution_count": 19,
   "id": "b7204c8d",
   "metadata": {},
   "outputs": [],
   "source": [
    "df = pd.read_excel(\"../data/sample_llm.xlsx\", engine='openpyxl',index_col=0)"
   ]
  },
  {
   "cell_type": "code",
   "execution_count": 20,
   "id": "235be51c",
   "metadata": {},
   "outputs": [
    {
     "data": {
      "text/plain": [
       "(600, 48)"
      ]
     },
     "execution_count": 20,
     "metadata": {},
     "output_type": "execute_result"
    }
   ],
   "source": [
    "df.shape"
   ]
  },
  {
   "cell_type": "code",
   "execution_count": 21,
   "id": "966f6e55",
   "metadata": {},
   "outputs": [
    {
     "data": {
      "text/html": [
       "<div>\n",
       "<style scoped>\n",
       "    .dataframe tbody tr th:only-of-type {\n",
       "        vertical-align: middle;\n",
       "    }\n",
       "\n",
       "    .dataframe tbody tr th {\n",
       "        vertical-align: top;\n",
       "    }\n",
       "\n",
       "    .dataframe thead th {\n",
       "        text-align: right;\n",
       "    }\n",
       "</style>\n",
       "<table border=\"1\" class=\"dataframe\">\n",
       "  <thead>\n",
       "    <tr style=\"text-align: right;\">\n",
       "      <th></th>\n",
       "      <th>index_new</th>\n",
       "      <th>Authors</th>\n",
       "      <th>Author full names</th>\n",
       "      <th>Author(s) ID</th>\n",
       "      <th>Title</th>\n",
       "      <th>Year</th>\n",
       "      <th>Source title</th>\n",
       "      <th>Volume</th>\n",
       "      <th>Issue</th>\n",
       "      <th>Art. No.</th>\n",
       "      <th>...</th>\n",
       "      <th>CODEN</th>\n",
       "      <th>PubMed ID</th>\n",
       "      <th>Language of Original Document</th>\n",
       "      <th>Abbreviated Source Title</th>\n",
       "      <th>Document Type</th>\n",
       "      <th>Publication Stage</th>\n",
       "      <th>Open Access</th>\n",
       "      <th>Source</th>\n",
       "      <th>EID</th>\n",
       "      <th>Potential_policy</th>\n",
       "    </tr>\n",
       "  </thead>\n",
       "  <tbody>\n",
       "    <tr>\n",
       "      <th>2578</th>\n",
       "      <td>2578</td>\n",
       "      <td>Ji J.; Li Y.; Liu H.; Du Z.; Wei Z.; Shen W.; ...</td>\n",
       "      <td>Ji, Jiarui (59399138800); Li, Yang (5721870369...</td>\n",
       "      <td>59399138800; 57218703695; 59414895200; 5941478...</td>\n",
       "      <td>SRAP-Agent: Simulating and Optimizing Scarce R...</td>\n",
       "      <td>2024</td>\n",
       "      <td>EMNLP 2024 - 2024 Conference on Empirical Meth...</td>\n",
       "      <td>NaN</td>\n",
       "      <td>NaN</td>\n",
       "      <td>NaN</td>\n",
       "      <td>...</td>\n",
       "      <td>NaN</td>\n",
       "      <td>NaN</td>\n",
       "      <td>English</td>\n",
       "      <td>EMNLP - Conf. Empir. Methods Nat. Lang. Proces...</td>\n",
       "      <td>Conference paper</td>\n",
       "      <td>Final</td>\n",
       "      <td>NaN</td>\n",
       "      <td>Scopus</td>\n",
       "      <td>2-s2.0-85213343894</td>\n",
       "      <td>True</td>\n",
       "    </tr>\n",
       "    <tr>\n",
       "      <th>2105</th>\n",
       "      <td>2105</td>\n",
       "      <td>Fakhruzzaman M.N.; Jannah S.Z.; Gunawan S.W.; ...</td>\n",
       "      <td>Fakhruzzaman, Muhammad Noor (57188878854); Jan...</td>\n",
       "      <td>57188878854; 57222250349; 57222288907; 5720250...</td>\n",
       "      <td>IndoPolicyStats: sentiment analyzer for public...</td>\n",
       "      <td>2024</td>\n",
       "      <td>Bulletin of Electrical Engineering and Informa...</td>\n",
       "      <td>13</td>\n",
       "      <td>1</td>\n",
       "      <td>NaN</td>\n",
       "      <td>...</td>\n",
       "      <td>NaN</td>\n",
       "      <td>NaN</td>\n",
       "      <td>English</td>\n",
       "      <td>Bull. Electr. Eng. Inform.</td>\n",
       "      <td>Article</td>\n",
       "      <td>Final</td>\n",
       "      <td>All Open Access; Gold Open Access</td>\n",
       "      <td>Scopus</td>\n",
       "      <td>2-s2.0-85186191889</td>\n",
       "      <td>True</td>\n",
       "    </tr>\n",
       "    <tr>\n",
       "      <th>1411</th>\n",
       "      <td>1411</td>\n",
       "      <td>Zeng R.; Zhou D.; Liang Q.; Liu J.; Li H.; Hua...</td>\n",
       "      <td>Zeng, Runhao (57210900375); Zhou, Dingjie (594...</td>\n",
       "      <td>57210900375; 59482180600; 58482655100; 5948228...</td>\n",
       "      <td>Video2Reward: Generating Reward Function from ...</td>\n",
       "      <td>2024</td>\n",
       "      <td>Frontiers in Artificial Intelligence and Appli...</td>\n",
       "      <td>392</td>\n",
       "      <td>NaN</td>\n",
       "      <td>NaN</td>\n",
       "      <td>...</td>\n",
       "      <td>NaN</td>\n",
       "      <td>NaN</td>\n",
       "      <td>English</td>\n",
       "      <td>Front. Artif. Intell. Appl.</td>\n",
       "      <td>Conference paper</td>\n",
       "      <td>Final</td>\n",
       "      <td>NaN</td>\n",
       "      <td>Scopus</td>\n",
       "      <td>2-s2.0-85216679053</td>\n",
       "      <td>True</td>\n",
       "    </tr>\n",
       "    <tr>\n",
       "      <th>3485</th>\n",
       "      <td>3485</td>\n",
       "      <td>Cheng Q.; Yang J.</td>\n",
       "      <td>Cheng, Quan (57221693268); Yang, Jing (5854993...</td>\n",
       "      <td>57221693268; 58549931200</td>\n",
       "      <td>Allocation and Evolution of Government Attenti...</td>\n",
       "      <td>2023</td>\n",
       "      <td>Sustainability (Switzerland)</td>\n",
       "      <td>15</td>\n",
       "      <td>16</td>\n",
       "      <td>12479</td>\n",
       "      <td>...</td>\n",
       "      <td>NaN</td>\n",
       "      <td>NaN</td>\n",
       "      <td>English</td>\n",
       "      <td>Sustainability</td>\n",
       "      <td>Article</td>\n",
       "      <td>Final</td>\n",
       "      <td>All Open Access; Gold Open Access</td>\n",
       "      <td>Scopus</td>\n",
       "      <td>2-s2.0-85168801344</td>\n",
       "      <td>True</td>\n",
       "    </tr>\n",
       "    <tr>\n",
       "      <th>166</th>\n",
       "      <td>166</td>\n",
       "      <td>Tang S.; Guo Q.</td>\n",
       "      <td>Tang, Shenghui (59901525700); Guo, Qian (57189...</td>\n",
       "      <td>59901525700; 57189686497</td>\n",
       "      <td>Delayed redevelopment in urban expansion: oppo...</td>\n",
       "      <td>2025</td>\n",
       "      <td>Built Heritage</td>\n",
       "      <td>9</td>\n",
       "      <td>1</td>\n",
       "      <td>22</td>\n",
       "      <td>...</td>\n",
       "      <td>NaN</td>\n",
       "      <td>NaN</td>\n",
       "      <td>English</td>\n",
       "      <td>Built Herit.</td>\n",
       "      <td>Article</td>\n",
       "      <td>Final</td>\n",
       "      <td>NaN</td>\n",
       "      <td>Scopus</td>\n",
       "      <td>2-s2.0-105005401385</td>\n",
       "      <td>True</td>\n",
       "    </tr>\n",
       "  </tbody>\n",
       "</table>\n",
       "<p>5 rows × 48 columns</p>\n",
       "</div>"
      ],
      "text/plain": [
       "      index_new                                            Authors  \\\n",
       "2578       2578  Ji J.; Li Y.; Liu H.; Du Z.; Wei Z.; Shen W.; ...   \n",
       "2105       2105  Fakhruzzaman M.N.; Jannah S.Z.; Gunawan S.W.; ...   \n",
       "1411       1411  Zeng R.; Zhou D.; Liang Q.; Liu J.; Li H.; Hua...   \n",
       "3485       3485                                  Cheng Q.; Yang J.   \n",
       "166         166                                    Tang S.; Guo Q.   \n",
       "\n",
       "                                      Author full names  \\\n",
       "2578  Ji, Jiarui (59399138800); Li, Yang (5721870369...   \n",
       "2105  Fakhruzzaman, Muhammad Noor (57188878854); Jan...   \n",
       "1411  Zeng, Runhao (57210900375); Zhou, Dingjie (594...   \n",
       "3485  Cheng, Quan (57221693268); Yang, Jing (5854993...   \n",
       "166   Tang, Shenghui (59901525700); Guo, Qian (57189...   \n",
       "\n",
       "                                           Author(s) ID  \\\n",
       "2578  59399138800; 57218703695; 59414895200; 5941478...   \n",
       "2105  57188878854; 57222250349; 57222288907; 5720250...   \n",
       "1411  57210900375; 59482180600; 58482655100; 5948228...   \n",
       "3485                           57221693268; 58549931200   \n",
       "166                            59901525700; 57189686497   \n",
       "\n",
       "                                                  Title  Year  \\\n",
       "2578  SRAP-Agent: Simulating and Optimizing Scarce R...  2024   \n",
       "2105  IndoPolicyStats: sentiment analyzer for public...  2024   \n",
       "1411  Video2Reward: Generating Reward Function from ...  2024   \n",
       "3485  Allocation and Evolution of Government Attenti...  2023   \n",
       "166   Delayed redevelopment in urban expansion: oppo...  2025   \n",
       "\n",
       "                                           Source title Volume Issue Art. No.  \\\n",
       "2578  EMNLP 2024 - 2024 Conference on Empirical Meth...    NaN   NaN      NaN   \n",
       "2105  Bulletin of Electrical Engineering and Informa...     13     1      NaN   \n",
       "1411  Frontiers in Artificial Intelligence and Appli...    392   NaN      NaN   \n",
       "3485                       Sustainability (Switzerland)     15    16    12479   \n",
       "166                                      Built Heritage      9     1       22   \n",
       "\n",
       "      ... CODEN PubMed ID  Language of Original Document  \\\n",
       "2578  ...   NaN       NaN                        English   \n",
       "2105  ...   NaN       NaN                        English   \n",
       "1411  ...   NaN       NaN                        English   \n",
       "3485  ...   NaN       NaN                        English   \n",
       "166   ...   NaN       NaN                        English   \n",
       "\n",
       "                               Abbreviated Source Title     Document Type  \\\n",
       "2578  EMNLP - Conf. Empir. Methods Nat. Lang. Proces...  Conference paper   \n",
       "2105                         Bull. Electr. Eng. Inform.           Article   \n",
       "1411                        Front. Artif. Intell. Appl.  Conference paper   \n",
       "3485                                     Sustainability           Article   \n",
       "166                                        Built Herit.           Article   \n",
       "\n",
       "     Publication Stage                        Open Access  Source  \\\n",
       "2578             Final                                NaN  Scopus   \n",
       "2105             Final  All Open Access; Gold Open Access  Scopus   \n",
       "1411             Final                                NaN  Scopus   \n",
       "3485             Final  All Open Access; Gold Open Access  Scopus   \n",
       "166              Final                                NaN  Scopus   \n",
       "\n",
       "                      EID Potential_policy  \n",
       "2578   2-s2.0-85213343894             True  \n",
       "2105   2-s2.0-85186191889             True  \n",
       "1411   2-s2.0-85216679053             True  \n",
       "3485   2-s2.0-85168801344             True  \n",
       "166   2-s2.0-105005401385             True  \n",
       "\n",
       "[5 rows x 48 columns]"
      ]
     },
     "execution_count": 21,
     "metadata": {},
     "output_type": "execute_result"
    }
   ],
   "source": [
    "df.head()"
   ]
  },
  {
   "cell_type": "code",
   "execution_count": 22,
   "id": "cdaba1c1",
   "metadata": {},
   "outputs": [],
   "source": [
    "def make_message_description_instrument(title, abstract):\n",
    "    title = title.replace(\"\\\"\", \"\")\n",
    "    abstract = abstract.replace(\"\\\"\", \"\")\n",
    "    return [\n",
    "                {\n",
    "                    \"role\": \"system\",\n",
    "                    \"content\": \"You are a policy researcher.\",\n",
    "                },\n",
    "                {\n",
    "                    \"role\": \"user\",\n",
    "                    \"content\": f\"\"\"\n",
    "                    You are asked to determined whether an academic publication, given its title and and abstract, is relevant  to the policy studies community. To assess this, please follow the following criteria:\n",
    "\n",
    "                    1. The title is representative of the content of the abstract.\n",
    "                    2. Its relevance to the policy studies community is defined as containing information if it advances theoretical, methodological, or empirical understanding of policy processes, instruments, actors, or institutions in the field.\n",
    "\n",
    "\n",
    "                    You will receive the information in the following format:\n",
    "                    ### Example input ###\n",
    "                    TITLE: <title>\n",
    "                    ABSTRACT: <abstract>\n",
    "                    ### End example input ###\n",
    "\n",
    "                    Your answer should be ONLY as \"YES\" or \"NO\".\n",
    "\n",
    "                    ### Example positive answer ###\n",
    "                    ANSWER: YES\n",
    "                    ### End example positive answer ###\n",
    "\n",
    "                    ### Example negative answer ###\n",
    "                    ANSWER: NO\n",
    "                    ### End example negative answer ###\n",
    "\n",
    "                    Given the following abstract from and academic publication:\n",
    "                     \n",
    "                    TITLE: {title}\n",
    "                    ABSTRACT: {abstract}\n",
    "\n",
    "                    Is this abstract relevant to the policy studies community? \n",
    "\n",
    "                    ANSWER:\"\"\",\n",
    "                },\n",
    "            ]"
   ]
  },
  {
   "cell_type": "code",
   "execution_count": 23,
   "id": "19fa11b9",
   "metadata": {},
   "outputs": [],
   "source": [
    "def get_information_for_mixtral(id, title, abstract):\n",
    "    message = make_message_description_instrument(title, abstract)\n",
    "    output_file = f\"../data/for_llm/data.jsonl\"\n",
    "    with jsonlines.open(output_file, 'a') as writer:\n",
    "        writer.write({\"custom_id\": str(id), \"body\": {\"max_tokens\": 50, \"messages\": message}})\n",
    "    return"
   ]
  },
  {
   "cell_type": "code",
   "execution_count": 24,
   "id": "f0a115a8",
   "metadata": {},
   "outputs": [
    {
     "data": {
      "text/plain": [
       "2578    None\n",
       "2105    None\n",
       "1411    None\n",
       "3485    None\n",
       "166     None\n",
       "        ... \n",
       "6454    None\n",
       "1428    None\n",
       "5272    None\n",
       "7684    None\n",
       "7769    None\n",
       "Length: 600, dtype: object"
      ]
     },
     "execution_count": 24,
     "metadata": {},
     "output_type": "execute_result"
    }
   ],
   "source": [
    "df.apply(lambda x: get_information_for_mixtral(x.index_new, x.Title, x.Abstract), axis=1)"
   ]
  },
  {
   "cell_type": "code",
   "execution_count": 6,
   "id": "1a7e8d46",
   "metadata": {},
   "outputs": [],
   "source": [
    "client = Mistral(api_key=api_key)"
   ]
  },
  {
   "cell_type": "code",
   "execution_count": null,
   "id": "79a207d8",
   "metadata": {},
   "outputs": [],
   "source": [
    "batch_data = client.files.upload(\n",
    "    file={\n",
    "        \"file_name\": f\"data_for_llm\",\n",
    "        \"content\": open(f\"../data/for_llm/data.jsonl\", \"rb\")},\n",
    "    purpose = \"batch\"\n",
    "    \n",
    ")\n",
    "\n",
    "created_job = client.batch.jobs.create(\n",
    "    input_files=[batch_data.id],\n",
    "    model=\"mistral-large-latest\",\n",
    "    endpoint=\"/v1/chat/completions\",\n",
    "    metadata={\"job_type\": \"response\"}\n",
    ")"
   ]
  },
  {
   "cell_type": "code",
   "execution_count": null,
   "id": "a4d1219b",
   "metadata": {},
   "outputs": [],
   "source": [
    "file_id = created_job.id"
   ]
  },
  {
   "cell_type": "code",
   "execution_count": 25,
   "id": "59c2e2e1",
   "metadata": {},
   "outputs": [
    {
     "data": {
      "text/plain": [
       "BatchJobOut(id='805e0201-e1cd-48f6-92b0-3e8edd927908', input_files=['b76f9baf-409a-441a-9163-55e51a0bd6b4'], endpoint='/v1/chat/completions', model='mistral-large-latest', errors=[], status='SUCCESS', created_at=1751175921, total_requests=1200, completed_requests=1200, succeeded_requests=1200, failed_requests=0, object='batch', metadata={'job_type': 'response'}, output_file='a7e4ad7d-e0fc-4262-9b5a-ef8df1c2103f', error_file=None, started_at=1751175923, completed_at=1751175960)"
      ]
     },
     "execution_count": 25,
     "metadata": {},
     "output_type": "execute_result"
    }
   ],
   "source": [
    "list_job = client.batch.jobs.list()\n",
    "list_job.data[0]"
   ]
  },
  {
   "cell_type": "code",
   "execution_count": 26,
   "id": "39931b96",
   "metadata": {},
   "outputs": [
    {
     "data": {
      "text/plain": [
       "'a7e4ad7d-e0fc-4262-9b5a-ef8df1c2103f'"
      ]
     },
     "execution_count": 26,
     "metadata": {},
     "output_type": "execute_result"
    }
   ],
   "source": [
    "output_file = list_job.data[0].output_file\n",
    "output_file"
   ]
  },
  {
   "cell_type": "code",
   "execution_count": 27,
   "id": "47538e25",
   "metadata": {},
   "outputs": [],
   "source": [
    "response = client.files.download(file_id=output_file)"
   ]
  },
  {
   "cell_type": "code",
   "execution_count": 28,
   "id": "9699cf8d",
   "metadata": {},
   "outputs": [],
   "source": [
    "with open(\"../data/for_llm/results.jsonl\", \"w\") as f:\n",
    "    for chunk in response.stream:\n",
    "        f.write(chunk.decode(\"utf-8\"))"
   ]
  },
  {
   "cell_type": "code",
   "execution_count": 32,
   "id": "e9bc14f1",
   "metadata": {},
   "outputs": [],
   "source": [
    "def retrieve_json(file_path='../data/for_llm/results.jsonl'):\n",
    "    tbr = {}\n",
    "    with open(file_path, 'r') as f:\n",
    "        data = [json.loads(line) for line in f]\n",
    "    for i in data:\n",
    "        id = i[\"custom_id\"]\n",
    "        choice = i[\"response\"][\"body\"][\"choices\"][0][\"message\"][\"content\"]\n",
    "        if \"yes\" in choice.lower():\n",
    "            tbr[id] = \"1\"\n",
    "        else:\n",
    "            tbr[id] = \"0\" \n",
    "    return tbr       \n",
    "    \n",
    "is_it_relevant = retrieve_json()"
   ]
  },
  {
   "cell_type": "code",
   "execution_count": 33,
   "id": "6e95b756",
   "metadata": {},
   "outputs": [],
   "source": [
    "df[\"is_relevant\"] = df[\"index_new\"].apply(lambda x: is_it_relevant[str(x)])"
   ]
  },
  {
   "cell_type": "code",
   "execution_count": 34,
   "id": "0fc0d96e",
   "metadata": {},
   "outputs": [
    {
     "data": {
      "text/plain": [
       "is_relevant\n",
       "1    458\n",
       "0    142\n",
       "Name: count, dtype: int64"
      ]
     },
     "execution_count": 34,
     "metadata": {},
     "output_type": "execute_result"
    }
   ],
   "source": [
    "df.is_relevant.value_counts()"
   ]
  },
  {
   "cell_type": "code",
   "execution_count": 35,
   "id": "e507b1d3",
   "metadata": {},
   "outputs": [],
   "source": [
    "df.to_excel(\"../data/sample_llm_assessed.xlsx\")"
   ]
  },
  {
   "cell_type": "code",
   "execution_count": null,
   "id": "b5a182cd",
   "metadata": {},
   "outputs": [],
   "source": []
  }
 ],
 "metadata": {
  "kernelspec": {
   "display_name": ".venv",
   "language": "python",
   "name": "python3"
  },
  "language_info": {
   "codemirror_mode": {
    "name": "ipython",
    "version": 3
   },
   "file_extension": ".py",
   "mimetype": "text/x-python",
   "name": "python",
   "nbconvert_exporter": "python",
   "pygments_lexer": "ipython3",
   "version": "3.11.5"
  }
 },
 "nbformat": 4,
 "nbformat_minor": 5
}
