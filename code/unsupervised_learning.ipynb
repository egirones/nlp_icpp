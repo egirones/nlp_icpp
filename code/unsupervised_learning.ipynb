{
 "cells": [
  {
   "cell_type": "markdown",
   "id": "2f5b30fe",
   "metadata": {},
   "source": [
    "## Notebook: Unsupervised learning"
   ]
  },
  {
   "cell_type": "markdown",
   "id": "c702dd40",
   "metadata": {},
   "source": [
    "\n",
    "In this notebook, you will learn how to use unsupervised learning to discover  patterns in text.\n",
    "\n",
    "We cover:\n",
    "- Co-occurrence: the basic building block  \n",
    "- LDA: classic topic modeling with word co-occurrence  \n",
    "- BERTopic: transformer-based topic modeling with embeddings and clustering"
   ]
  },
  {
   "cell_type": "code",
   "execution_count": 1,
   "id": "850b8394-4e29-4ee2-a8e3-d945b393a1ae",
   "metadata": {},
   "outputs": [],
   "source": [
    "import os\n",
    "import pandas as pd\n",
    "import matplotlib.pyplot as plt"
   ]
  },
  {
   "cell_type": "code",
   "execution_count": 2,
   "id": "a360d7d7",
   "metadata": {},
   "outputs": [],
   "source": [
    "df = pd.read_csv(\"../data/merged_scopus.csv\")\n",
    "\n",
    "valid_types = ['Article', 'Book', 'Book chapter', 'Review']\n",
    "df = df[df['Document Type'].isin(valid_types)]\n",
    "\n",
    "df['text'] = df['Title'].fillna('') + '. ' + df['Abstract'].fillna('')"
   ]
  },
  {
   "cell_type": "markdown",
   "id": "359d5077",
   "metadata": {},
   "source": [
    "### Word co-occurrence"
   ]
  },
  {
   "cell_type": "code",
   "execution_count": 3,
   "id": "ad77a167",
   "metadata": {},
   "outputs": [
    {
     "data": {
      "text/html": [
       "<div>\n",
       "<style scoped>\n",
       "    .dataframe tbody tr th:only-of-type {\n",
       "        vertical-align: middle;\n",
       "    }\n",
       "\n",
       "    .dataframe tbody tr th {\n",
       "        vertical-align: top;\n",
       "    }\n",
       "\n",
       "    .dataframe thead th {\n",
       "        text-align: right;\n",
       "    }\n",
       "</style>\n",
       "<table border=\"1\" class=\"dataframe\">\n",
       "  <thead>\n",
       "    <tr style=\"text-align: right;\">\n",
       "      <th></th>\n",
       "      <th>19</th>\n",
       "      <th>2019</th>\n",
       "      <th>2020</th>\n",
       "      <th>2021</th>\n",
       "      <th>2022</th>\n",
       "      <th>2023</th>\n",
       "      <th>2024</th>\n",
       "      <th>2025</th>\n",
       "      <th>academic</th>\n",
       "      <th>access</th>\n",
       "      <th>...</th>\n",
       "      <th>use</th>\n",
       "      <th>used</th>\n",
       "      <th>user</th>\n",
       "      <th>users</th>\n",
       "      <th>using</th>\n",
       "      <th>value</th>\n",
       "      <th>various</th>\n",
       "      <th>work</th>\n",
       "      <th>world</th>\n",
       "      <th>years</th>\n",
       "    </tr>\n",
       "  </thead>\n",
       "  <tbody>\n",
       "    <tr>\n",
       "      <th>19</th>\n",
       "      <td>12542</td>\n",
       "      <td>485</td>\n",
       "      <td>1739</td>\n",
       "      <td>1078</td>\n",
       "      <td>845</td>\n",
       "      <td>510</td>\n",
       "      <td>270</td>\n",
       "      <td>113</td>\n",
       "      <td>162</td>\n",
       "      <td>275</td>\n",
       "      <td>...</td>\n",
       "      <td>977</td>\n",
       "      <td>1366</td>\n",
       "      <td>297</td>\n",
       "      <td>801</td>\n",
       "      <td>2311</td>\n",
       "      <td>190</td>\n",
       "      <td>465</td>\n",
       "      <td>524</td>\n",
       "      <td>576</td>\n",
       "      <td>204</td>\n",
       "    </tr>\n",
       "    <tr>\n",
       "      <th>2019</th>\n",
       "      <td>485</td>\n",
       "      <td>920</td>\n",
       "      <td>210</td>\n",
       "      <td>126</td>\n",
       "      <td>148</td>\n",
       "      <td>117</td>\n",
       "      <td>77</td>\n",
       "      <td>21</td>\n",
       "      <td>65</td>\n",
       "      <td>61</td>\n",
       "      <td>...</td>\n",
       "      <td>255</td>\n",
       "      <td>288</td>\n",
       "      <td>72</td>\n",
       "      <td>155</td>\n",
       "      <td>473</td>\n",
       "      <td>90</td>\n",
       "      <td>97</td>\n",
       "      <td>103</td>\n",
       "      <td>82</td>\n",
       "      <td>133</td>\n",
       "    </tr>\n",
       "    <tr>\n",
       "      <th>2020</th>\n",
       "      <td>1739</td>\n",
       "      <td>210</td>\n",
       "      <td>1425</td>\n",
       "      <td>316</td>\n",
       "      <td>217</td>\n",
       "      <td>152</td>\n",
       "      <td>72</td>\n",
       "      <td>29</td>\n",
       "      <td>56</td>\n",
       "      <td>124</td>\n",
       "      <td>...</td>\n",
       "      <td>441</td>\n",
       "      <td>456</td>\n",
       "      <td>95</td>\n",
       "      <td>229</td>\n",
       "      <td>788</td>\n",
       "      <td>92</td>\n",
       "      <td>158</td>\n",
       "      <td>143</td>\n",
       "      <td>140</td>\n",
       "      <td>186</td>\n",
       "    </tr>\n",
       "    <tr>\n",
       "      <th>2021</th>\n",
       "      <td>1078</td>\n",
       "      <td>126</td>\n",
       "      <td>316</td>\n",
       "      <td>1186</td>\n",
       "      <td>176</td>\n",
       "      <td>129</td>\n",
       "      <td>74</td>\n",
       "      <td>29</td>\n",
       "      <td>83</td>\n",
       "      <td>92</td>\n",
       "      <td>...</td>\n",
       "      <td>396</td>\n",
       "      <td>438</td>\n",
       "      <td>108</td>\n",
       "      <td>208</td>\n",
       "      <td>690</td>\n",
       "      <td>119</td>\n",
       "      <td>189</td>\n",
       "      <td>152</td>\n",
       "      <td>140</td>\n",
       "      <td>167</td>\n",
       "    </tr>\n",
       "    <tr>\n",
       "      <th>2022</th>\n",
       "      <td>845</td>\n",
       "      <td>148</td>\n",
       "      <td>217</td>\n",
       "      <td>176</td>\n",
       "      <td>1245</td>\n",
       "      <td>179</td>\n",
       "      <td>139</td>\n",
       "      <td>64</td>\n",
       "      <td>78</td>\n",
       "      <td>95</td>\n",
       "      <td>...</td>\n",
       "      <td>448</td>\n",
       "      <td>460</td>\n",
       "      <td>103</td>\n",
       "      <td>209</td>\n",
       "      <td>786</td>\n",
       "      <td>102</td>\n",
       "      <td>154</td>\n",
       "      <td>131</td>\n",
       "      <td>109</td>\n",
       "      <td>166</td>\n",
       "    </tr>\n",
       "    <tr>\n",
       "      <th>...</th>\n",
       "      <td>...</td>\n",
       "      <td>...</td>\n",
       "      <td>...</td>\n",
       "      <td>...</td>\n",
       "      <td>...</td>\n",
       "      <td>...</td>\n",
       "      <td>...</td>\n",
       "      <td>...</td>\n",
       "      <td>...</td>\n",
       "      <td>...</td>\n",
       "      <td>...</td>\n",
       "      <td>...</td>\n",
       "      <td>...</td>\n",
       "      <td>...</td>\n",
       "      <td>...</td>\n",
       "      <td>...</td>\n",
       "      <td>...</td>\n",
       "      <td>...</td>\n",
       "      <td>...</td>\n",
       "      <td>...</td>\n",
       "      <td>...</td>\n",
       "    </tr>\n",
       "    <tr>\n",
       "      <th>value</th>\n",
       "      <td>190</td>\n",
       "      <td>90</td>\n",
       "      <td>92</td>\n",
       "      <td>119</td>\n",
       "      <td>102</td>\n",
       "      <td>141</td>\n",
       "      <td>153</td>\n",
       "      <td>90</td>\n",
       "      <td>119</td>\n",
       "      <td>44</td>\n",
       "      <td>...</td>\n",
       "      <td>293</td>\n",
       "      <td>330</td>\n",
       "      <td>144</td>\n",
       "      <td>130</td>\n",
       "      <td>600</td>\n",
       "      <td>1780</td>\n",
       "      <td>162</td>\n",
       "      <td>135</td>\n",
       "      <td>61</td>\n",
       "      <td>70</td>\n",
       "    </tr>\n",
       "    <tr>\n",
       "      <th>various</th>\n",
       "      <td>465</td>\n",
       "      <td>97</td>\n",
       "      <td>158</td>\n",
       "      <td>189</td>\n",
       "      <td>154</td>\n",
       "      <td>200</td>\n",
       "      <td>239</td>\n",
       "      <td>134</td>\n",
       "      <td>132</td>\n",
       "      <td>116</td>\n",
       "      <td>...</td>\n",
       "      <td>457</td>\n",
       "      <td>440</td>\n",
       "      <td>192</td>\n",
       "      <td>200</td>\n",
       "      <td>897</td>\n",
       "      <td>162</td>\n",
       "      <td>1399</td>\n",
       "      <td>193</td>\n",
       "      <td>181</td>\n",
       "      <td>151</td>\n",
       "    </tr>\n",
       "    <tr>\n",
       "      <th>work</th>\n",
       "      <td>524</td>\n",
       "      <td>103</td>\n",
       "      <td>143</td>\n",
       "      <td>152</td>\n",
       "      <td>131</td>\n",
       "      <td>151</td>\n",
       "      <td>199</td>\n",
       "      <td>101</td>\n",
       "      <td>122</td>\n",
       "      <td>146</td>\n",
       "      <td>...</td>\n",
       "      <td>580</td>\n",
       "      <td>392</td>\n",
       "      <td>171</td>\n",
       "      <td>223</td>\n",
       "      <td>780</td>\n",
       "      <td>135</td>\n",
       "      <td>193</td>\n",
       "      <td>1852</td>\n",
       "      <td>140</td>\n",
       "      <td>98</td>\n",
       "    </tr>\n",
       "    <tr>\n",
       "      <th>world</th>\n",
       "      <td>576</td>\n",
       "      <td>82</td>\n",
       "      <td>140</td>\n",
       "      <td>140</td>\n",
       "      <td>109</td>\n",
       "      <td>104</td>\n",
       "      <td>105</td>\n",
       "      <td>83</td>\n",
       "      <td>51</td>\n",
       "      <td>72</td>\n",
       "      <td>...</td>\n",
       "      <td>262</td>\n",
       "      <td>274</td>\n",
       "      <td>160</td>\n",
       "      <td>134</td>\n",
       "      <td>484</td>\n",
       "      <td>61</td>\n",
       "      <td>181</td>\n",
       "      <td>140</td>\n",
       "      <td>857</td>\n",
       "      <td>80</td>\n",
       "    </tr>\n",
       "    <tr>\n",
       "      <th>years</th>\n",
       "      <td>204</td>\n",
       "      <td>133</td>\n",
       "      <td>186</td>\n",
       "      <td>167</td>\n",
       "      <td>166</td>\n",
       "      <td>167</td>\n",
       "      <td>112</td>\n",
       "      <td>66</td>\n",
       "      <td>63</td>\n",
       "      <td>74</td>\n",
       "      <td>...</td>\n",
       "      <td>325</td>\n",
       "      <td>331</td>\n",
       "      <td>78</td>\n",
       "      <td>116</td>\n",
       "      <td>489</td>\n",
       "      <td>70</td>\n",
       "      <td>151</td>\n",
       "      <td>98</td>\n",
       "      <td>80</td>\n",
       "      <td>985</td>\n",
       "    </tr>\n",
       "  </tbody>\n",
       "</table>\n",
       "<p>250 rows × 250 columns</p>\n",
       "</div>"
      ],
      "text/plain": [
       "            19  2019  2020  2021  2022  2023  2024  2025  academic  access  \\\n",
       "19       12542   485  1739  1078   845   510   270   113       162     275   \n",
       "2019       485   920   210   126   148   117    77    21        65      61   \n",
       "2020      1739   210  1425   316   217   152    72    29        56     124   \n",
       "2021      1078   126   316  1186   176   129    74    29        83      92   \n",
       "2022       845   148   217   176  1245   179   139    64        78      95   \n",
       "...        ...   ...   ...   ...   ...   ...   ...   ...       ...     ...   \n",
       "value      190    90    92   119   102   141   153    90       119      44   \n",
       "various    465    97   158   189   154   200   239   134       132     116   \n",
       "work       524   103   143   152   131   151   199   101       122     146   \n",
       "world      576    82   140   140   109   104   105    83        51      72   \n",
       "years      204   133   186   167   166   167   112    66        63      74   \n",
       "\n",
       "         ...  use  used  user  users  using  value  various  work  world  \\\n",
       "19       ...  977  1366   297    801   2311    190      465   524    576   \n",
       "2019     ...  255   288    72    155    473     90       97   103     82   \n",
       "2020     ...  441   456    95    229    788     92      158   143    140   \n",
       "2021     ...  396   438   108    208    690    119      189   152    140   \n",
       "2022     ...  448   460   103    209    786    102      154   131    109   \n",
       "...      ...  ...   ...   ...    ...    ...    ...      ...   ...    ...   \n",
       "value    ...  293   330   144    130    600   1780      162   135     61   \n",
       "various  ...  457   440   192    200    897    162     1399   193    181   \n",
       "work     ...  580   392   171    223    780    135      193  1852    140   \n",
       "world    ...  262   274   160    134    484     61      181   140    857   \n",
       "years    ...  325   331    78    116    489     70      151    98     80   \n",
       "\n",
       "         years  \n",
       "19         204  \n",
       "2019       133  \n",
       "2020       186  \n",
       "2021       167  \n",
       "2022       166  \n",
       "...        ...  \n",
       "value       70  \n",
       "various    151  \n",
       "work        98  \n",
       "world       80  \n",
       "years      985  \n",
       "\n",
       "[250 rows x 250 columns]"
      ]
     },
     "execution_count": 3,
     "metadata": {},
     "output_type": "execute_result"
    }
   ],
   "source": [
    "\n",
    "from sklearn.feature_extraction.text import CountVectorizer\n",
    "\n",
    "vectorizer = CountVectorizer(stop_words='english', max_features=250)\n",
    "X = vectorizer.fit_transform(df['text'])\n",
    "\n",
    "# Raw co-occurrence matrix\n",
    "co_matrix = (X.T @ X).toarray()\n",
    "co_df = pd.DataFrame(co_matrix, index=vectorizer.get_feature_names_out(), columns=vectorizer.get_feature_names_out())\n",
    "co_df\n"
   ]
  },
  {
   "cell_type": "markdown",
   "id": "04572ccc",
   "metadata": {},
   "source": [
    "\n",
    "### Normalization for word frequency.\n"
   ]
  },
  {
   "cell_type": "code",
   "execution_count": 4,
   "id": "641d29b7",
   "metadata": {},
   "outputs": [
    {
     "name": "stdout",
     "output_type": "stream",
     "text": [
      "Point-wise mutual information (policy, analysis) = 0.045\n"
     ]
    }
   ],
   "source": [
    "\n",
    "import numpy as np\n",
    "\n",
    "N = X.shape[0]\n",
    "word1, word2 = 'policy', 'analysis'\n",
    "i, j = vectorizer.vocabulary_.get(word1), vectorizer.vocabulary_.get(word2)\n",
    "\n",
    "if i is not None and j is not None:\n",
    "    p_xy = co_matrix[i, j] / N\n",
    "    p_x = X[:, i].sum() / N\n",
    "    p_y = X[:, j].sum() / N\n",
    "    pmi = np.log2(p_xy / (p_x * p_y))\n",
    "    print(f\"Point-wise mutual information ({word1}, {word2}) = {pmi:.3f}\")\n",
    "else:\n",
    "    print(\"Words not found.\")\n"
   ]
  },
  {
   "cell_type": "markdown",
   "id": "eed08ca4",
   "metadata": {},
   "source": [
    "\n",
    "### Co-occurrence graph"
   ]
  },
  {
   "cell_type": "code",
   "execution_count": 5,
   "id": "c36c68ac",
   "metadata": {},
   "outputs": [
    {
     "data": {
      "image/png": "[encoded data removed]",
      "text/plain": [
       "<Figure size 1000x800 with 1 Axes>"
      ]
     },
     "metadata": {},
     "output_type": "display_data"
    }
   ],
   "source": [
    "import networkx as nx\n",
    "\n",
    "G = nx.Graph()\n",
    "threshold = 50\n",
    "\n",
    "for w1 in co_df.columns:\n",
    "    for w2 in co_df.columns:\n",
    "        if w1 != w2 and co_df.loc[w1, w2] > threshold:\n",
    "            G.add_edge(w1, w2, weight=co_df.loc[w1, w2])\n",
    "\n",
    "pos = nx.spring_layout(G, k=0.5)\n",
    "plt.figure(figsize=(10, 8))\n",
    "nx.draw_networkx_nodes(G, pos, node_size=250, node_color='skyblue')\n",
    "nx.draw_networkx_labels(G, pos, font_size=8)\n",
    "plt.title(\"Co-occurrence network\")\n",
    "plt.axis('off')\n",
    "plt.show()\n"
   ]
  },
  {
   "cell_type": "markdown",
   "id": "4a933a49",
   "metadata": {},
   "source": [
    "## LDA topic modeling"
   ]
  },
  {
   "cell_type": "code",
   "execution_count": 6,
   "id": "8466bc46",
   "metadata": {},
   "outputs": [
    {
     "data": {
      "text/plain": [
       "[(0,\n",
       "  '0.014*\"public\" + 0.012*\"social\" + 0.011*\"health\" + 0.011*\"sentiment\" + 0.009*\"data\" + 0.008*\"analysis\" + 0.008*\"covid-19\" + 0.008*\"media\" + 0.006*\"study\" + 0.006*\"tweets\"'),\n",
       " (1,\n",
       "  '0.015*\"research\" + 0.013*\"policy\" + 0.006*\"analysis\" + 0.006*\"data\" + 0.005*\"development\" + 0.005*\"technology\" + 0.005*\"study\" + 0.005*\"text\" + 0.005*\"policies\" + 0.004*\"mining\"'),\n",
       " (2,\n",
       "  '0.007*\"sentiment\" + 0.006*\"data\" + 0.005*\"analysis\" + 0.004*\"learning\" + 0.004*\"model\" + 0.004*\"study\" + 0.004*\"information\" + 0.004*\"language\" + 0.004*\"policy\" + 0.004*\"text\"'),\n",
       " (3,\n",
       "  '0.010*\"learning\" + 0.008*\"language\" + 0.007*\"model\" + 0.007*\"policy\" + 0.005*\"natural\" + 0.005*\"deep\" + 0.004*\"privacy\" + 0.004*\"based\" + 0.004*\"proposed\" + 0.004*\"network\"'),\n",
       " (4,\n",
       "  '0.012*\"policy\" + 0.008*\"analysis\" + 0.007*\"social\" + 0.006*\"study\" + 0.005*\"media\" + 0.005*\"text\" + 0.005*\"public\" + 0.004*\"data\" + 0.004*\"topic\" + 0.004*\"research\"')]"
      ]
     },
     "execution_count": 6,
     "metadata": {},
     "output_type": "execute_result"
    }
   ],
   "source": [
    "from gensim import corpora, models\n",
    "from gensim.models import CoherenceModel\n",
    "from gensim.parsing.preprocessing import STOPWORDS\n",
    "\n",
    "texts = []\n",
    "for doc in df['text']:\n",
    "    tokens = doc.lower().split()\n",
    "    tokens = [w for w in tokens if w not in STOPWORDS and len(w) > 2]\n",
    "    texts.append(tokens)\n",
    "    \n",
    "dictionary = corpora.Dictionary(texts)\n",
    "corpus = [dictionary.doc2bow(text) for text in texts]\n",
    "\n",
    "lda_model = models.LdaModel(corpus=corpus, num_topics=5, id2word=dictionary, passes=5)\n",
    "lda_model.print_topics(num_topics=5, num_words=10)"
   ]
  },
  {
   "cell_type": "code",
   "execution_count": 7,
   "id": "28385099",
   "metadata": {},
   "outputs": [
    {
     "name": "stdout",
     "output_type": "stream",
     "text": [
      "Coherence: 0.387\n",
      "Log Perplexity: -8.918  (lower is better)\n"
     ]
    }
   ],
   "source": [
    "coherence_model = CoherenceModel(model=lda_model, texts=texts, dictionary=dictionary, coherence='c_v')\n",
    "print(f\"Coherence: {coherence_model.get_coherence():.3f}\")\n",
    "\n",
    "# Gensim log perplexity\n",
    "perplexity = lda_model.log_perplexity(corpus)\n",
    "print(f\"Log Perplexity: {perplexity:.3f}  (lower is better)\")"
   ]
  },
  {
   "cell_type": "code",
   "execution_count": 8,
   "id": "92235bfb",
   "metadata": {},
   "outputs": [
    {
     "data": {
      "image/png": "[encoded data removed]",
      "text/plain": [
       "<Figure size 1000x600 with 2 Axes>"
      ]
     },
     "metadata": {},
     "output_type": "display_data"
    }
   ],
   "source": [
    "# Range of topic numbers\n",
    "topic_nums = list(range(3, 30, 3))  # starts at 3, step 3\n",
    "coherences = []\n",
    "perplexities = []\n",
    "\n",
    "for n in topic_nums:\n",
    "    temp_model = models.LdaModel(corpus=corpus, num_topics=n, id2word=dictionary, passes=5)\n",
    "    coh = CoherenceModel(model=temp_model, texts=texts, dictionary=dictionary, coherence='c_v').get_coherence()\n",
    "    perp = temp_model.log_perplexity(corpus)\n",
    "    coherences.append(coh)\n",
    "    perplexities.append(perp)\n",
    "    #print(f\"Topics: {n} | Coherence: {coh:.3f} | Log Perplexity: {perp:.3f}\")\n",
    "\n",
    "# Plot\n",
    "fig, ax1 = plt.subplots(figsize=(10, 6))\n",
    "\n",
    "color = 'tab:blue'\n",
    "ax1.set_xlabel('Number of Topics')\n",
    "ax1.set_ylabel('Coherence', color=color)\n",
    "ax1.plot(topic_nums, coherences, marker='o', color=color)\n",
    "ax1.tick_params(axis='y', labelcolor=color)\n",
    "\n",
    "# Add a second y-axis for perplexity\n",
    "ax2 = ax1.twinx()\n",
    "color = 'tab:red'\n",
    "ax2.set_ylabel('Log Perplexity', color=color)\n",
    "ax2.plot(topic_nums, perplexities, marker='x', color=color)\n",
    "ax2.tick_params(axis='y', labelcolor=color)\n",
    "\n",
    "plt.title('Coherence vs. Perplexity for Different Topic Numbers')\n",
    "plt.show()"
   ]
  },
  {
   "cell_type": "markdown",
   "id": "3edede89",
   "metadata": {},
   "source": [
    "### Interactive LDAVis"
   ]
  },
  {
   "cell_type": "code",
   "execution_count": 9,
   "id": "f8536211",
   "metadata": {},
   "outputs": [
    {
     "data": {
      "text/html": [
       "\n",
       "<link rel=\"stylesheet\" type=\"text/css\" href=\"https://cdn.jsdelivr.net/gh/bmabey/pyLDAvis@3.4.0/pyLDAvis/js/ldavis.v1.0.0.css\">\n",
       "\n",
       "\n",
       "<div id=\"ldavis_el4090113671170560787767262\" style=\"background-color:white;\"></div>\n",
       "<script type=\"text/javascript\">\n",
       "\n",
       "var ldavis_el4090113671170560787767262_data = {\"mdsDat\": {\"x\": [-0.28647934748711645, -0.26818889646494587, -0.250300980953986, -0.2561120081147361, -0.26209081211201657, -0.22632626217881036, -0.25322437648190604, -0.1649578519307326, -0.019641660264772237, 0.030434959468279798, 0.1263805535875378, 0.14033362643842154, 0.17144731334139784, 0.17949164238079204, 0.1584996239741722, 0.16564539553455687, 0.20355653117415362, 0.2013679045043013, 0.19964801441670452, 0.2054517101360718, 0.20506492103263335], \"y\": [-0.09048260464632654, -0.04940340433393394, -0.09648333958002953, 0.16142310932671872, -0.07837462703125098, 0.02605841583093874, 0.06864938902261929, -0.0814572861551185, 0.22832052168816247, 0.09926330152543444, -0.06540370558964205, 0.026731927625282006, -0.01481587142658642, -0.0487328870181869, -0.0379170641467483, -0.004062433366517391, -0.013214712531917193, -0.014805695204119253, -0.01480243943637142, -0.0001366505054562884, -0.0003539440469506815], \"topics\": [1, 2, 3, 4, 5, 6, 7, 8, 9, 10, 11, 12, 13, 14, 15, 16, 17, 18, 19, 20, 21], \"cluster\": [1, 1, 1, 1, 1, 1, 1, 1, 1, 1, 1, 1, 1, 1, 1, 1, 1, 1, 1, 1, 1], \"Freq\": [18.622982498254796, 15.710146363270544, 13.459104409351827, 12.32309877072984, 11.29940080011921, 10.655573553145198, 6.557751227479848, 4.719594346030209, 1.5855414124613134, 1.2068544800960725, 0.5842807536692889, 0.482941839925124, 0.4461557552949222, 0.40674096158141265, 0.400815868065469, 0.3931122564731222, 0.2854831470779924, 0.24416913084745573, 0.2204156042016577, 0.1984974551767214, 0.19733936674795324]}, \"tinfo\": {\"Term\": [\"sentiment\", \"policy\", \"health\", \"public\", \"learning\", \"covid-19\", \"media\", \"social\", \"political\", \"energy\", \"research\", \"model\", \"language\", \"news\", \"tweets\", \"data\", \"twitter\", \"privacy\", \"clinical\", \"analysis\", \"market\", \"proposed\", \"based\", \"technology\", \"academic\", \"classification\", \"deep\", \"text\", \"patient\", \"real\", \"coalition\", \"foresight\", \"kim\", \"housing\", \"ecosystems\", \"commitments\", \"diet\", \"meetings\", \"orientations\", \"appraisal\", \"reserve\", \"correspond\", \"presidents\", \"transit\", \"\\u201cclimate\", \"firm's\", \"urbanization\", \"ph.d.\", \"inderscience\", \"drought\", \"bond\", \"courts\", \"landscapes\", \"caa\", \"speeches.\", \"cohesion\", \"town\", \"stakeholders'\", \"visualizations\", \"ignored\", \"urban\", \"climate\", \"production.\", \"budget\", \"resilience\", \"stakeholders\\u2019\", \"tourism\", \"projects.\", \"change\", \"food\", \"firms'\", \"originality/value:\", \"change.\", \"limitations/implications:\", \"design/methodology/approach:\", \"finance\", \"cities\", \"disaster\", \"city\", \"india.\", \"consumers\", \"agricultural\", \"adaptation\", \"government\", \"mitigation\", \"local\", \"findings:\", \"sectors\", \"spatial\", \"factors\", \"public\", \"environmental\", \"official\", \"economic\", \"governments\", \"policy\", \"analysis\", \"mining\", \"study\", \"text\", \"business\", \"paper\", \"chinese\", \"case\", \"results\", \"different\", \"impact\", \"issues\", \"attention\", \"social\", \"new\", \"data\", \"topic\", \"based\", \"research\", \"findings\", \"approach\", \"policies\", \"information\", \"twitter.\", \"parking\", \"arabic\", \"e-cigarettes\", \"petitions\", \"tweets,\", \"twitter,\", \"menthol\", \"tweet\", \"sns\", \"harassment\", \"tweets.\", \"internet.\", \"youtube\", \"tweets\", \"pages\", \"videos\", \"budapest,\", \"kiad\\u00f3,\", \"cigarettes\", \"e-cigarette\", \"indonesian\", \"reddit\", \"hashtags\", \"mpox\", \"multi-class\", \"retweets\", \"api\", \"twitter\", \"persistence\", \"feelings\", \"vaccine-related\", \"positive,\", \"neutral,\", \"emotions\", \"posts\", \"sentiments.\", \"conversations\", \"sentiments\", \"media\", \"people\", \"fear\", \"sentiment\", \"negative\", \"social\", \"comments\", \"opinions\", \"emotion\", \"facebook\", \"emotional\", \"positive\", \"opinion\", \"public\", \"online\", \"expressed\", \"users\", \"media.\", \"covid-19\", \"analysis\", \"attitudes\", \"platforms\", \"topics\", \"collected\", \"data\", \"related\", \"topic\", \"content\", \"study\", \"pandemic\", \"results\", \"different\", \"information\", \"use\", \"text\", \"policies\", \"research\", \"cardiovascular\", \"trials\", \"suicide\", \"adults\", \"rare\", \"indication\", \"child\", \"heritage\", \"pubmed\", \"prime\", \"deaths\", \"persons\", \"mortality\", \"workers\", \"reopening\", \"diseases,\", \"disproportionately\", \"collected.\", \"smoking\", \"workplace\", \"gig\", \"jmir\", \"epidemiological\", \"dementia\", \"tripadvisor\", \"prescribing\", \"illness\", \"pharmacy\", \"treatments\", \"blogs,\", \"care\", \"experts'\", \"open-access\", \"diseases\", \"older\", \"documentation\", \"health\", \"screening\", \"patients,\", \"disease\", \"imaging\", \"methods:\", \"results:\", \"conclusions:\", \"chronic\", \"mental\", \"hospital\", \"medical\", \"clinical\", \"healthcare\", \"patients\", \"patient\", \"background:\", \"treatment\", \"medicine\", \"objective:\", \"drug\", \"articles\", \"conclusion:\", \"reported\", \"search\", \"covid-19\", \"included\", \"physical\", \"use\", \"identified\", \"news\", \"published\", \"data\", \"information\", \"quality\", \"study\", \"research\", \"associated\", \"number\", \"identify\", \"analysis\", \"related\", \"topics\", \"review\", \"public\", \"text\", \"policy\", \"bim\", \"vegetable\", \"iot\", \"[no\", \"available]\", \"breakthrough\", \"pain\", \"blockchain\", \"leximancer\", \"loan\", \"end-to-end\", \"modular\", \"alphago\", \"osn\", \"nonlinear\", \"learns\", \"optical\", \"farm\", \"referral\", \"multi-objective\", \"robotics,\", \"shall\", \"farms\", \"lending\", \"solved\", \"mathematics\", \"multimedia\", \"together.\", \"generator\", \"well,\", \"tagging\", \"architecture\", \"recurrent\", \"sequence\", \"neural\", \"prediction.\", \"scenarios.\", \"domain-specific\", \"adversarial\", \"prediction,\", \"multilingual\", \"things\", \"semi-automated\", \"vision\", \"deep\", \"generation\", \"fuzzy\", \"prediction\", \"cybersecurity\", \"nlp\", \"systems\", \"applications\", \"learning\", \"algorithms\", \"natural\", \"framework\", \"language\", \"performance\", \"machine\", \"proposed\", \"state-of-the-art\", \"systems.\", \"processing\", \"hybrid\", \"precision\", \"models\", \"security\", \"model\", \"data\", \"approach\", \"decision\", \"digital\", \"network\", \"intelligence\", \"artificial\", \"techniques\", \"networks\", \"large\", \"potential\", \"information\", \"based\", \"policy\", \"management\", \"knowledge\", \"new\", \"however,\", \"research\", \"results\", \"hydrogen\", \"pmc\", \"renewable\", \"sdgs\", \"sdg\", \"bibliometric\", \"hydropower\", \"pmc-index\", \"telemedicine\", \"akad\\u00e9miai\", \"2030\", \"nev\", \"transnational\", \"alleviation\", \"korea\\u2019s\", \"(sdgs)\", \"diffusion.\", \"poverty\", \"diffusion,\", \"appointment\", \"(pmc)\", \"energy,\", \"yangtze\", \"vosviewer\", \"citation-based\", \"co-authorship\", \"gubernatorial\", \"interconnected\", \"poverty.\", \"sdgs.\", \"energy\", \"photovoltaic\", \"solar\", \"transition.\", \"energy.\", \"grid\", \"talent\", \"china's\", \"low-carbon\", \"marine\", \"china\\u2019s\", \"sustainable\", \"quantitatively\", \"funding\", \"coastal\", \"north\", \"china\", \"water\", \"development\", \"research\", \"evolution\", \"industry\", \"index\", \"cooperation\", \"policy\", \"korea\", \"diffusion\", \"scientific\", \"sustainability\", \"policies\", \"papers\", \"environmental\", \"quantitative\", \"trends\", \"evaluation\", \"regional\", \"science\", \"carbon\", \"study\", \"mining\", \"analysis\", \"text\", \"future\", \"topic\", \"literature\", \"topics\", \"technology\", \"network\", \"global\", \"key\", \"based\", \"results\", \"national\", \"women's\", \"student\", \"students\", \"teachers\", \"permission\", \"sons,\", \"event.\", \"students\\u2019\", \"students.\", \"2.0\", \"classroom\", \"altmetric.com\", \"android\", \"teacher\", \"recommendation.\", \"aca\", \"lis\", \"educators\", \"lobby\", \"governors\", \"non-state\", \"cited.\", \"chatbot\", \"believed\", \"apps.\", \"prevents\", \"faculty\", \"cognition.\", \"inaccurate\", \"3.0\", \"apps\", \"skills.\", \"students'\", \"privacy\", \"educational\", \"conversational\", \"chatgpt\", \"llms\", \"education.\", \"ethical\", \"teaching\", \"brain\", \"cognitive\", \"curriculum\", \"education\", \"skills\", \"artificial\", \"intelligence\", \"language\", \"models\", \"practice\", \"large\", \"questions\", \"human\", \"chapter\", \"learning\", \"support\", \"potential\", \"tools\", \"use\", \"higher\", \"university\", \"communication\", \"policy\", \"information\", \"research\", \"policies\", \"natural\", \"study\", \"findings\", \"social\", \"data\", \"however,\", \"patents\", \"extractive\", \"grant\", \"wikipedia\", \"abstractive\", \"enterprises.\", \"patent\", \"data;\", \"organisation\", \"patents,\", \"calculation\", \"enterprises,\", \"s&t\", \"helix\", \"outlier\", \"invention\", \"list,\", \"converge\", \"high-dimensional\", \"medicare\", \"partners\", \"sti\", \"quo\", \"syrian\", \"value-based\", \"transferred\", \"export\", \"[methods]\", \"pairwise\", \"[results]\", \"r&d\", \"enterprise\", \"union.\", \"soil\", \"patents.\", \"cosine\", \"fintech\", \"manufacturing\", \"similarity\", \"innovation\", \"enterprises\", \"sentences\", \"technology\", \"document\", \"convergence\", \"knowledge\", \"semantic\", \"method\", \"science\", \"text\", \"technological\", \"based\", \"information\", \"process\", \"clustering\", \"documents\", \"model\", \"paper\", \"data\", \"business\", \"mining\", \"important\", \"policy\", \"new\", \"research\", \"rights\", \"order\", \"analysis\", \"results\", \"policies\", \"classification\", \"methods\", \"topic\", \"development\", \"different\", \"digital\", \"party\", \"esg\", \"telecommunications\", \"macroeconomic\", \"ideological\", \"captioning\", \"manifestos\", \"populist\", \"voters\", \"epu\", \"parties\\u2019\", \"tag\", \"protest\", \"uncertainty.\", \"gdpr\", \"armed\", \"agree\", \"bills\", \"protests\", \"eventual\", \"elected\", \"parties\", \"var\", \"(esg)\", \"translation,\", \"manifestos.\", \"briefs\", \"disclosures\", \"eu's\", \"parliamentary\", \"politicians\", \"election\", \"biofuel\", \"uncertainty\", \"partisan\", \"firms\\u2019\", \"political\", \"legislative\", \"german\", \"speeches\", \"corporate\", \"presidential\", \"immigration\", \"electoral\", \"tone\", \"monetary\", \"positions\", \"disclosure\", \"politics\", \"trade\", \"frames\", \"financial\", \"firms\", \"indices\", \"news\", \"foreign\", \"leaders\", \"economic\", \"bank\", \"central\", \"european\", \"policy\", \"issue\", \"market\", \"article\", \"media\", \"companies\", \"press\", \"coverage\", \"impact\", \"evidence\", \"analysis\", \"international\", \"text\", \"findings\", \"prescription\", \"tags\", \"multi-agent\", \"electrical\", \"icd-10\", \"throughput\", \"safety-related\", \"abac\", \"cluster.\", \"hospitals,\", \"victims\", \"actor-critic\", \"gpu\", \"simulator\", \"sdn\", \"inc.,\", \"museum\", \"keyphrase\", \"professor\", \"rl-based\", \"reward\", \"bandwidth\", \"crowd\", \"machines.\", \"stressors\", \"nouns\", \"attribute-based\", \"complying\", \"neutrosophic\", \"batch\", \"de-identification\", \"caching\", \"drl\", \"reinforcement\", \"pruning\", \"inference\", \"cars\", \"(drl)\", \"model-based\", \"traffic\", \"game\", \"sanctions\", \"memory\", \"intent\", \"optimization\", \"agent\", \"anomaly\", \"road\", \"control\", \"deep\", \"simulation\", \"learning\", \"image\", \"ieee.\", \"algorithm\", \"cooperative\", \"computing\", \"user\", \"training\", \"access\", \"transfer\", \"model\", \"task\", \"detection\", \"proposed\", \"language\", \"models\", \"network\", \"policy\", \"average\", \"data\", \"natural\", \"propose\", \"on-line\", \"elites\", \"emoji\", \"city's\", \"vaccinations\", \"document-level\", \"turns\", \"carbon-related\", \"high-performance\", \"csi\", \"bitcoin\", \"deceptive\", \"taiwan's\", \"overcrowding\", \"tumor\", \"supranational\", \"non-expert\", \"party,\", \"offset\", \"vulnerabilities.\", \"vancouver\", \"tax.\", \"ideational\", \"sarcasm\", \"emojis\", \"container\", \"investor\", \"authorities,\", \"inflection\", \"projects:\", \"tax\", \"weighting\", \"bigger\", \"classifier.\", \"price\", \"prices\", \"taxes\", \"maritime\", \"stock\", \"carbon\", \"lexicons\", \"fiscal\", \"aspect-based\", \"latin\", \"ratings.\", \"sentiment\", \"polarity\", \"schemes,\", \"svm\", \"market\", \"vector\", \"lexicon\", \"feature\", \"bayes\", \"lexicon-based\", \"classification\", \"accuracy\", \"prediction\", \"market,\", \"model\", \"proposed\", \"reviews\", \"word\", \"technique\", \"machine\", \"based\", \"score\", \"analysis\", \"learning\", \"random\", \"features\", \"financial\", \"results\", \"alcohol\", \"hpv\", \"treaties\", \"bank.\", \"abortion\", \"senior\", \"prescriptions\", \"massachusetts\", \"papillomavirus\", \"uptake.\", \"minister\", \"myopia\", \"background.\", \"roe\", \"2nd\", \"what,\", \"austerity\", \"dct\", \"antimicrobial\", \"contrarian\", \"tweeters\", \"injuries,\", \"ameliorate\", \"advice,\", \"hearing\", \"servants\", \"utility.\", \"(ecb)\", \"synthesising\", \"junctures\", \"warnings\", \"citing\", \"entrepreneurial\", \"bangladesh\", \"acknowledgment\", \"resistance\", \"arab\", \"populism\", \"fukushima\", \"uptake\", \"television\", \"100,000\", \"criticism\", \"bilateral\", \"regeneration\", \"vaccine\", \"japan\", \"(or\", \"medications\", \"artificial\", \"abstracts\", \"use\", \"questions\", \"health\", \"human\", \"covid-19\", \"curation\", \"personality\", \"auditing\", \"audit\", \"msw\", \"internationalization\", \"cyber\", \"srl\", \"severity.\", \"human.\", \"tanks\", \"phishing\", \"alike.\", \"aggression\", \"chapters,\", \"uk's\", \"chapters\", \"hurdles\", \"nova\", \"blogging\", \"bing\", \"uploaded\", \"workshops,\", \"invited\", \"before.\", \"islamic\", \"empathic\", \"nqp\", \"rl.\", \"acp\", \"reflective\", \"cheating\", \"contributors.\", \"creativity\", \"robots\", \"charge\", \"plagiarism\", \"anomalies\", \"advice\", \"psychology\", \"threats\", \"think\", \"chapter\", \"sensitive\", \"centre\", \"readers\", \"book\", \"attacks\", \"explanations\", \"healthcare\", \"generative\", \"learning\", \"intelligence\", \"briefly\", \"artificial\", \"education\", \"ehr\", \"visits\", \"clickbait\", \"damages\", \"tim\", \"federated\", \"characters\", \"books\", \"monitors\", \"breast\", \"warehouse\", \"orthopaedic\", \"syphilis\", \"(ehr)\", \"recycled\", \"pii\", \"gender-based\", \"non-hispanic\", \"imf\", \"calories\", \"pgx\", \"calorie\", \"rai\", \"dominance.\", \"post-traumatic\", \"registry\", \"annotating\", \"shoulder\", \"exchange.\", \"conforms\", \"male\", \"transgender\", \"liver\", \"cancer\", \"female\", \"prescribed\", \"gender\", \"inequality\", \"triage\", \"patients'\", \"sensor\", \"patients\", \"signs\", \"clinical\", \"patient\", \"women\", \"record\", \"judgment\", \"records\", \"notes\", \"patients.\", \"racial\", \"electronic\", \"privacy\", \"data\", \"hong\", \"kong\", \"graduates\", \"conspiracy\", \"diplomacy\", \"kong.\", \"upstream\", \"vaccines.\", \"likes\", \"hashtag\", \"theories.\", \"taiwan.\", \"anti-immigrant\", \"netherlands.\", \"fever\", \"proof-of-concept\", \"kong,\", \"bootstrap\", \"offices\", \"web-scraping\", \"iia\", \"sustainability:\", \"identifier\", \"sweden,\", \"metric,\", \"drivers.\", \"lockdowns,\", \"weekends.\", \"vaccines:\", \"requirement.\", \"vaccination.\", \"vaccines\", \"vaccination\", \"vaccine\", \"railroad\", \"vaccines,\", \"converting\", \"bilateral\", \"covid-19\", \"theories\", \"diplomatic\", \"public\", \"chinese\", \"western\", \"sponsorship\", \"graphene\", \"youth,\", \"lung\", \"aquatic\", \"habitat\", \"coal\", \"niche\", \"fisheries\", \"switch\", \"zero.\", \"position.\", \"hesitancy.\", \"mothers\", \"quitting\", \"nasa\", \"task-oriented\", \"terrestrial\", \"wfh\", \"development;\", \"represented.\", \"decipher\", \"reduction\\u201d\", \"counties\", \"scholar,\", \"python,\", \"popular,\", \"families.\", \"accidents.\", \"phenotypes\", \"motor\", \"dialogue\", \"modules\", \"chemistry\", \"licensing\", \"treatments,\", \"restoration\", \"south\", \"tree\", \"bullying\", \"transportation\", \"culture\", \"school\", \"synergy\", \"median\", \"vaping\", \"japanese\", \"study\", \"cadastral\", \"donation\", \"favour\", \"permit\", \"ugc\", \"booking\", \"punishment\", \"ophthalmology\", \"exceptionally\", \"demography\", \"publishing,\", \"summarization.\", \"participative\", \"non-native\", \"jurisdiction\", \"time?\", \"94%\", \"imaging.\", \"subfields\", \"inquiry,\", \"co-benefits\", \"0.79,\", \"delicate\", \"electroencephalography\", \"fertility,\", \"merdeka\", \"cyprus\", \"expressway\", \"extensible\", \"i4.0\", \"genai\", \"agreements\", \"(genai)\", \"legal\", \"authorship\", \"agreements.\", \"integrity\", \"generative\", \"teaching,\", \"gai\", \"writing\", \"academic\", \"chatgpt\", \"summaries\", \"ethical\", \"writing.\", \"tools\", \"fraud\", \"chatgpt,\", \"challenges\", \"guidelines\", \"tools,\", \"compounded\", \"arctic\", \"endangered\", \"resolutions\", \"ess\", \"rumors\", \"cache\", \"amendments\", \"nevs\", \"antibiotic\", \"cryptocurrency\", \"rumor\", \"tactical\", \"(study\", \"estimates,\", \"ghg\", \"genetics\", \"courts.\", \"stations\", \"boards,\", \"conflicts.\", \"ice\", \"(stm),\", \"(ghg)\", \"12,\", \"shrinkage\", \"lcc\", \"\\u201cdouble\", \"1946\", \"priming\", \"species\", \"regret\", \"conflicts\", \"bottleneck\", \"charging\", \"conflict\", \"intention\", \"organic\", \"pharmaceutical\", \"preference\", \"railway\", \"resolution\", \"managed\", \"moral\", \"marriage\", \"wood\", \"doctor\", \"disposal\", \"doctors,\", \"table\", \"language-sensitive\", \"que\", \"deviation\", \"lexicon.\", \"radioactive\", \"reconstructing\", \"disposal.\", \"(natural\", \"offensive\", \"construction:\", \"manifestation\", \"prescriptions.\", \"aggressive\", \"mission-oriented\", \"fidelity\", \"p2,\", \"occurred.\", \"continuation\", \"happiness\", \"policing.\", \"decided\", \"districts\", \"constraint,\", \"p5,\", \"loneliness\", \"contracted\", \"wordscores\", \"contract\", \"taiwanese\", \"family\", \"nuclear\", \"compatible\", \"inflation\", \"los\", \"arizona\", \"beijing\", \"spent\", \"occupational\", \"lobbying\", \"fishery\", \"parenting\", \"topology\", \"nontraditional\", \"resource-based\", \"strictly\", \"quantum\", \"e-commerce,\", \"parents\\u2019\", \"superficial\", \"new-generation\", \"code.\", \"settings:\", \"arabic-specific\", \"streams,\", \"koreans\\u2019\", \"worry\", \"css\", \"industry's\", \"manufacturing.\", \"bariatric\", \"ever-increasing\", \"french,\", \"dispersed\", \"specialties,\", \"mechanics\", \"inertia\", \"gen-ai\", \"sel\", \"learners\\u2019\", \"sorting\", \"parental\", \"residents'\", \"parents\", \"tour\", \"phd\", \"spend\", \"networked\", \"satisfaction\", \"employee\", \"consumption\", \"same-sex\", \"groups\", \"green\", \"e-commerce\", \"satisfaction.\", \"psychological\", \"app\", \"estate\", \"edition\", \"fomc\", \"scenic\", \"nearest\", \"pulse\", \"gaussian\", \"disabled\", \"accident\", \"movies,\", \"minimise\", \"boosts\", \"ddqn\", \"89%\", \"apparel\", \"apps,\", \"habits,\", \"edition.\", \"labeling.\", \"kitchen\", \"message.\", \"dichotomous\", \"decision,\", \"curve.\", \"collated\", \"multi-topic\", \"vary.\", \"word.\", \"music\", \"qos\", \"retailers\", \"multi-layer\", \"malware\", \"games,\", \"optimum\", \"real\", \"accidents\", \"query\", \"engineers\", \"fitness\", \"transaction\", \"tree,\", \"tourists\", \"multi-view\", \"classifiers.\", \"customers\", \"reviews\", \"fake\", \"online\", \"characterizing\", \"csr\", \"population's\", \"(csr)\", \"etc.).\", \"remedy\", \"subsystems\", \"ner\", \"derives\", \"(ner)\", \"soc\", \"expression.\", \"lexicons,\", \"opportunity,\", \"peers'\", \"2500\", \"repositories,\", \"multi-lingual\", \"identifying,\", \"97%\", \"harmonized\", \"hyperparameters\", \"essays.\", \"processed,\", \"revising\", \"nobel\", \"percentages\", \"crf\", \"consolidates\", \"director\", \"help-seeking\", \"variants\", \"entity\", \"entities,\", \"annotation.\", \"dei\", \"named\", \"peer\", \"recognition\", \"annotations\", \"al.,\", \"as,\", \"annotation\", \"specialty\"], \"Freq\": [3082.0, 7430.0, 2422.0, 4107.0, 1910.0, 1496.0, 2775.0, 4377.0, 999.0, 1242.0, 5076.0, 1929.0, 2591.0, 1139.0, 1109.0, 4932.0, 1144.0, 686.0, 401.0, 5595.0, 565.0, 919.0, 2317.0, 1282.0, 445.0, 707.0, 557.0, 3318.0, 331.0, 262.0, 62.53211475504162, 53.24055984077866, 42.47999767037564, 108.82136793874952, 34.497766500565085, 39.711376462131675, 33.48970216293924, 46.477542103882655, 26.88418814665771, 26.415322250449332, 26.775202686503075, 31.52494082718388, 24.651056664878542, 42.55024220524093, 24.326327150787986, 22.87221206351971, 23.636600320190215, 27.26486358487437, 22.954933599682757, 23.30862875064434, 22.016837485377714, 21.448350020244558, 20.504291716835127, 19.572716554979994, 19.638730453086353, 29.464008746681564, 20.217592905026972, 18.492058010984618, 20.137045019680563, 17.890820464197045, 641.9176142156155, 949.6901958337943, 29.959789434075216, 32.68090347743694, 120.33207297064057, 36.20376309828389, 178.81478268540312, 47.37624233220031, 621.6116057098568, 277.124907430469, 31.091637250127146, 107.86367621905985, 149.2051229599895, 46.599434383293136, 106.29123838818543, 53.22552030574981, 180.97800325292255, 145.02424684009105, 204.29935256837425, 64.14230697665394, 85.48961293520766, 166.05516584644556, 111.90918014968119, 743.527954925989, 93.77896745684444, 385.47128968398783, 113.95900245934293, 91.17013619140158, 184.22475805125222, 326.5380243180316, 1509.3303372396401, 494.5917699865256, 146.5172297512839, 434.78508178169193, 193.263690530775, 1936.5788845130367, 1438.6754040009528, 651.7467404033117, 1143.3448487792496, 944.6408418282886, 261.5092525976004, 531.9350418942764, 282.8872516518662, 311.99452377384466, 602.2516879324238, 478.4352649832291, 382.76342017399185, 333.22232396603135, 283.0456866447232, 695.7722160848285, 418.32755684157405, 691.1014293627926, 462.6379731747752, 465.2111827652531, 619.3200947156079, 360.79145363668675, 374.99349042094815, 404.85491703869013, 319.36721986352427, 187.96555856620762, 68.95900856120949, 65.34380203115636, 65.36719425148848, 46.001388333229585, 99.70512967104574, 105.69358642137229, 45.1438807818755, 147.950482523779, 41.46650219176045, 36.43086230503578, 168.68061707421344, 33.998402901146385, 92.90605340710789, 1085.5423465153713, 32.21822178280677, 52.739528795575964, 29.93029411641083, 29.929520591557807, 29.029683273916284, 92.33495724553033, 34.28282522701513, 75.00217838194379, 47.93332535867215, 28.20286117722285, 23.543185448192176, 24.602876511241767, 27.967628470858223, 1107.9064970660472, 22.587075924111016, 102.0455534303689, 33.553418916499616, 122.09591157737569, 48.2369407699566, 265.7180252824996, 421.2143394381498, 98.5740913000124, 105.34440901495026, 537.1978161880859, 2093.9786306456476, 563.9892914868288, 74.44272653199303, 2201.0563500073745, 764.6646231001561, 2967.9229221052183, 308.40527055559267, 454.72840873098767, 180.27634857765057, 128.60354853999235, 279.6269414200783, 615.3148203043099, 640.5160390087827, 2128.99963685573, 823.42676460285, 206.3906581193448, 450.15751224502145, 186.20118981528765, 756.0224719315029, 1890.1804686971059, 229.6539346210562, 188.6232066336612, 759.9283304250804, 325.5168558435734, 1220.066274712152, 539.0909630140908, 662.3815975399083, 476.40804503851103, 904.5921196612975, 272.6633391824907, 420.52499066466595, 375.17579773932334, 415.4664696365299, 366.49828543453185, 388.2236702119342, 348.0879795442088, 358.1952972880428, 60.30574246602028, 61.4601123755798, 52.098141522979816, 50.78616389175765, 39.91222513154564, 35.4819878687956, 64.52049020596023, 34.396783235444936, 34.75195235750756, 38.77515023908338, 54.97936830044508, 31.86707782840341, 35.645234369552895, 72.09124637301268, 25.923257351962803, 25.64280944899454, 22.839296348679383, 24.709115200625455, 37.21771708638911, 22.533170700090917, 23.090929084605676, 24.958576444497453, 23.65694594332964, 25.64696013476044, 23.83724782786486, 20.991227918508734, 21.847421497122678, 31.511719366434143, 21.367183012197327, 20.37109534771785, 528.7753794792924, 24.99187364214195, 30.08943348897718, 100.85871750912841, 83.70996548974242, 56.08671682756465, 2081.670149281328, 53.26122698511691, 51.55888963512122, 273.5824379534494, 70.0883023368635, 393.31981153899204, 413.60715652081757, 295.13689292549515, 51.806806575379674, 281.5335543254559, 90.59108063121434, 541.3353368562964, 321.80035393341984, 326.66411745522163, 178.4541163863083, 261.0405152025529, 254.04944682717112, 160.0052382304815, 127.68085719256267, 194.46602427124327, 172.70878625918465, 403.1475467281855, 115.4829413845451, 134.6512046819114, 207.96075276733544, 546.9312304621034, 153.73257279587347, 142.5022075782813, 640.4462103522422, 301.46423025814585, 395.91838342020225, 310.50800356389095, 878.6284286506408, 596.3510761694329, 252.80271454440316, 692.0678424989268, 745.7456586967592, 245.7434601351422, 259.38116392823684, 290.6430049113172, 450.5634188636234, 293.26993044354697, 302.81992765718593, 245.0537421902246, 280.06621738396245, 275.30197565058904, 264.7853745460579, 70.7875501298019, 48.86161497370918, 53.603791141566965, 37.49336157708327, 37.49346992634169, 36.89621360042665, 34.99316451682218, 44.350095415905436, 30.385755865317538, 28.641693066054337, 54.90411226170622, 25.18215271063035, 23.91708031298629, 23.250196044879676, 23.102851888355545, 21.244461660339976, 25.01498876600991, 20.648023371325998, 19.208868928911436, 22.24190732659168, 21.33281777184929, 18.842416838915018, 18.7855158714905, 19.80426435631313, 18.077156861626786, 17.7591680405555, 19.209089690525463, 17.078347349084734, 16.707329692211683, 15.866677592183981, 22.3386036222678, 83.3880867297428, 56.27374981991909, 51.131423588330826, 264.4982223999872, 28.2361526267175, 40.657300776956816, 45.400752757332484, 46.04211264888702, 40.21048197889377, 85.587127026228, 46.562535806925624, 34.27940835952347, 49.763449191234685, 366.3779899385823, 201.68310821899493, 51.64506408279239, 188.2727855140185, 45.078486849285106, 205.14556046073895, 375.72948441362433, 285.6647917784497, 866.3919615849226, 195.50245479158772, 755.8727708976157, 591.2048248036714, 1047.6723193576063, 378.079276450811, 500.6954018023897, 428.5003839707979, 109.75056104808179, 158.02023151826992, 471.51855007915174, 116.29105319762468, 106.73879838165787, 444.25900349319477, 232.82407195915087, 601.1483396267154, 1141.0646994269032, 492.55629218935394, 234.38551479208016, 312.6501280611996, 374.6059459435217, 282.2944364063619, 289.1751560622666, 302.5144233235718, 187.16077540501163, 331.21967406461476, 308.2329021542665, 397.3302526102755, 355.97680784797603, 484.0296822885081, 260.6693546361215, 260.1602648105135, 276.78290465924766, 265.5525040241084, 289.7676098073022, 265.990408386935, 82.76061547028547, 133.53651944706877, 205.6385531543407, 57.82573498307727, 78.36624637538289, 262.7453376275337, 31.54970155432559, 30.54829821790874, 30.296700559804606, 35.5098654331113, 27.99007119251937, 25.49839526091079, 25.363196819452924, 24.009128569543698, 37.50883973655878, 21.4247430772874, 19.69877603927343, 102.71416583677838, 20.325922301952208, 18.17673302735854, 17.664957724083063, 73.09578720719524, 17.55706646682273, 24.722555301388514, 16.935355810366726, 17.273669829294242, 16.306593892285655, 17.746167692858975, 15.444966480657072, 21.23909545438242, 1182.4941603545224, 29.40414595206636, 119.99687514007206, 37.49065895632084, 37.6052549972222, 64.60075306447969, 39.508027639336916, 205.4788404641194, 85.48129968892387, 45.66207769451435, 208.16353567925404, 525.9366309180839, 68.41259704525056, 178.83348634150983, 58.06934253598668, 122.2775099655581, 357.91673487710796, 241.47491758293802, 942.7122012618713, 2240.4583610947957, 324.1062657187613, 303.0193225317799, 265.8173331359992, 87.64760423081529, 2640.2174364452653, 124.67715439020816, 102.43885120183107, 418.29564252931993, 239.31287509280727, 942.2187172640688, 188.31532952218893, 433.02390253492126, 304.8384735196527, 343.8726285601979, 301.3679513344307, 223.4647585033701, 373.1505994006704, 188.51110572730843, 798.3565677362291, 486.735133220529, 877.5305871710685, 644.7790463827524, 367.09765137286524, 484.9306460750776, 302.5591401598559, 417.4230842961303, 323.29818467887446, 318.7265430417994, 282.1924141764639, 292.63146053439124, 328.0063907996383, 310.37355742140187, 279.49903590016646, 76.42185819318318, 196.0507395677316, 309.61323088624766, 56.93522148914043, 54.249942976156504, 44.870833440242244, 41.02057108142318, 55.19899527790103, 46.96720476109582, 37.323389834399876, 33.58100892864413, 31.144939851308006, 31.371024806146117, 45.2499877959064, 28.0552112880641, 26.011288716199818, 25.763564231512554, 51.21261397582907, 25.689260470831247, 25.314567994630526, 24.400276193209773, 23.625518253812345, 84.09898439332018, 22.000127002199726, 21.640162241519242, 20.219708275623834, 77.83903074536298, 19.46386589451862, 20.766910362386277, 19.084414080223574, 61.53622727284849, 38.83325236972182, 76.13968003557882, 616.1462331478886, 420.56014738355503, 96.4129566288972, 229.9813349956901, 205.55035966645556, 122.93569852569131, 233.9291122571761, 80.48416405414574, 60.7462614681723, 206.2203582973171, 62.96616009763551, 483.73320284104494, 101.18549532829232, 378.10509025231755, 338.27089193182667, 783.3426048538433, 380.1557653693226, 144.7297007498442, 349.67471570707, 147.06471821165786, 262.8576808231006, 121.32967487580211, 424.28341130233935, 309.11400630023536, 303.9905601041414, 211.94634793868366, 397.4458035892576, 186.60714474814952, 151.74877819262224, 212.48602689849778, 522.9743201797972, 334.54391797783495, 398.95942300366585, 309.87220258625433, 258.13486221675, 343.34760667434875, 217.32679839187122, 270.4051103757793, 265.0251283613806, 203.3017785299534, 95.61055163660009, 27.281727427992728, 25.164709225169073, 23.590447678023896, 23.508045485981434, 27.99076163432835, 228.87740880675952, 22.31149116315264, 19.12942253807104, 27.355994050432844, 31.16004167445034, 39.29419288549678, 15.341060822702149, 20.631906854821327, 15.574902232041271, 15.59413123602697, 13.802345545293653, 13.394905437528022, 19.079725508804554, 12.836738191024121, 30.083102134885504, 12.674911852084211, 11.595364721199275, 11.710211893467529, 11.40569596648082, 11.242782050066607, 26.108069169579885, 10.798248991808926, 10.671663334236507, 10.373398995727008, 119.36136401862825, 83.05702755690295, 26.658857610131555, 36.17257886514982, 27.544340270581817, 23.69221725369093, 15.502349499086836, 63.58264187656495, 106.35620339254439, 390.4424869884693, 100.3238774531365, 63.097575115752704, 526.2973432281906, 120.09831631710743, 66.21270835634556, 402.6757544572574, 231.75263788008493, 355.0310220833285, 293.1708722933289, 638.3929689911853, 172.6899247430884, 448.6327856921621, 474.0407634395688, 209.6380263481454, 88.13630409426945, 156.90741557491188, 317.922953615729, 291.71444965741546, 503.10957453348215, 145.1299129784037, 280.8126710739075, 188.1964587847967, 511.6789643037083, 240.10048184846806, 381.67613686557405, 180.026790133105, 134.12099395949477, 320.0060976361191, 231.08271898500536, 209.09977567945785, 149.64863089613192, 164.10266093617386, 184.45072952983867, 166.07409799308002, 161.54351402131803, 151.6416897716127, 179.69328170291413, 71.40572904578866, 58.639391153339965, 78.24701230270642, 65.64133612003745, 34.72070223137061, 27.80778577030292, 29.485515292112755, 27.023845677906525, 26.10963793243112, 24.85483997713599, 21.06989085698517, 21.264392901585612, 21.766686381459746, 20.18685730100586, 19.593616105832446, 18.01059802509533, 31.517906461556795, 18.571575749608897, 16.566785927443828, 16.761750657186205, 174.39848722355424, 16.040038604148666, 15.919732167959555, 15.680181604068656, 14.785349576969907, 14.733435474115883, 31.27039065883225, 15.157420012422213, 84.87599984786112, 100.46662179205632, 109.9006100001271, 59.32559264043903, 216.44512191168513, 42.418874221516255, 27.052750012939477, 767.8441435836371, 123.9405437285255, 115.96152808168686, 88.61825537085646, 218.6051768335215, 77.66118236908909, 38.09413752642416, 53.93746855096843, 57.69878753174015, 156.2688318046709, 103.42203869734902, 79.92766732249892, 97.07724357040789, 106.33569360023394, 64.57207698148099, 280.1219508644039, 96.0276993835048, 70.63722354877738, 470.84838511520474, 118.82915514964456, 92.41131911697195, 300.2942595187045, 114.58661872340147, 166.8321286283295, 165.6941970555673, 656.1973142117656, 145.92310903807174, 165.9096630942222, 166.57704180281152, 262.7184662894551, 113.79489182680015, 104.2094499657206, 109.33199278371839, 148.830863149281, 119.60937093787155, 137.00387568638848, 112.49631099318579, 114.97022827731517, 110.17084302087446, 51.08840171918622, 24.371355680481923, 26.729575911652564, 19.643322158123087, 15.586548558223678, 16.422202421220632, 13.215957377726944, 12.523192579866988, 11.919901781291143, 11.895289530857049, 11.654773266398342, 13.759195958123835, 10.614023589751483, 10.160302921744831, 10.536494652367374, 9.522034985622037, 9.64951961194302, 14.679680183690317, 9.05235364612176, 9.250077634209756, 53.36389244654713, 8.912352390487692, 8.462256993353533, 8.542069412256252, 8.280702786788337, 8.257278281319968, 7.8465589997132055, 7.648923534870895, 13.264833361879836, 7.529247077039368, 18.677362077478122, 29.26535007453025, 53.45322982727885, 179.8472497614265, 15.116990593640615, 30.95928908194852, 11.851280234116528, 11.809541872292867, 13.48871213538382, 69.74914094341166, 34.86620328240504, 17.42243424158079, 46.37227631595557, 35.91848119496041, 72.53882486811682, 36.913708315288936, 18.71075973727136, 33.424880342767075, 100.4558669321206, 112.73859970723676, 39.166813116993055, 194.7918249538104, 49.76436162457914, 48.48147438371402, 67.47179889525911, 23.08368957841669, 41.192434088290184, 80.50256564301348, 59.13077344132075, 74.68345175108524, 35.3575365713597, 104.54509998481568, 39.137139009786026, 46.25461149660472, 61.04178259969301, 75.55468220037946, 58.29161768236852, 55.18059576989444, 72.00354222729668, 39.090468439407516, 55.92207762828511, 48.9655891944615, 41.43037899642345, 14.911226640328183, 13.410398309985402, 13.06049581275948, 10.010573445559555, 17.024271597745553, 15.130495731033779, 9.707690910235417, 8.185439804779008, 7.943450199895739, 7.575627125251099, 7.423979471450064, 14.531667144655048, 6.975195730322704, 6.894924786155298, 6.746866871727653, 6.693155542256077, 6.690537780791651, 6.581803057782522, 6.008550435966858, 5.969172597318744, 5.958161445832582, 5.891246709023402, 8.89227943629142, 5.870150756176107, 5.722240336212815, 5.552250313269465, 26.36526155848778, 5.461114650968994, 5.240137701699555, 5.170854564570716, 115.39494908582921, 12.675017438509704, 8.561372422184851, 12.02871579572359, 80.6717640881714, 49.300990320762295, 12.208032986592482, 20.174326789571396, 88.34072921213132, 123.1596943560498, 20.362691014994688, 48.39007724226189, 15.201070240559137, 20.878624529074063, 13.528164681435744, 499.04133597723376, 57.04762454409402, 12.120772502592818, 22.508958304673815, 114.38094268230331, 47.809840386170244, 39.92490941083944, 57.064742390848835, 28.995196091224674, 18.769455811068752, 75.15879027742525, 59.09627384281998, 40.90595345436089, 20.95936660663839, 73.93745971258373, 55.26264016984348, 42.25592465878711, 37.511751418471725, 33.478166185174665, 45.907972485032964, 53.44222741303344, 28.042432784853574, 56.48094868983268, 38.681796354169066, 24.864514933711586, 28.859475717351103, 28.93266904945214, 26.21076588208013, 53.13055956706329, 21.595899283927945, 15.123680473094506, 11.636455864149076, 11.79271345233547, 9.367367262632369, 12.77530412217389, 7.571008621046485, 6.774914204066048, 6.6752985018053765, 11.941009387416631, 6.437519503891059, 6.489466490621485, 6.291902625523266, 5.607526157793634, 5.527207369689106, 5.388203625946663, 5.368510118927103, 5.0863265907858475, 6.8017181279542065, 4.984672442304917, 4.984495208447561, 4.931987751750829, 4.9162699340706295, 4.811525751815795, 4.783212514672818, 4.513102978848784, 4.490774595149863, 4.927420255444297, 4.436927353235784, 5.30714148308389, 22.079660381884878, 23.86901957040851, 15.411201052088147, 12.119815232029335, 20.928998588254956, 8.275684273238642, 6.0893443616968845, 8.27164590989755, 16.157259011948327, 10.840511453795733, 6.577762857192343, 12.002821364763898, 8.465185795851795, 7.05054675786236, 14.84234509886193, 10.538753601982473, 11.123400321317135, 8.435892892140766, 10.813567797706993, 8.784265817045323, 10.675167162800888, 8.874037591263505, 9.661757323192871, 7.9615164553611715, 7.968410595551663, 13.488868411624038, 11.940841740583984, 11.588084104342098, 9.75419279501745, 8.583248563952917, 8.069787395953783, 43.9993687599906, 7.016490188972887, 6.566727175107219, 7.060916522028696, 5.865720946558217, 5.284428794157499, 5.151001177853132, 5.131482652328154, 7.707628664249433, 4.409530324498763, 9.410386156623291, 3.969718714122629, 3.7555448595961596, 3.697086096470432, 4.062598480024942, 3.618948725932222, 3.563798180274789, 3.4623809967858334, 3.6260798007830166, 12.44871915043807, 3.317320055622158, 3.58250440699129, 3.2280372490541955, 3.22448912106484, 5.473774245166303, 5.021962437912813, 7.189123855242931, 5.331585011708708, 12.268778616475249, 7.6513316435356025, 9.78188059224985, 7.903216459630127, 13.886153440574855, 8.42393863631978, 14.106838848801273, 13.20408825381872, 20.489790318571824, 14.751558672146224, 9.530977498499915, 9.950973773697582, 14.311786126846085, 9.123383535690126, 9.205434632374565, 14.222744929280749, 11.562007316874132, 12.958644079818804, 10.507582318134054, 7.843409526762154, 9.366515227039248, 9.202542967510094, 23.01767328984295, 19.565048343539402, 15.967193148164757, 13.777592477384124, 13.739657751363737, 12.03175325464761, 10.99822261706839, 10.597897968042279, 8.743182347153068, 16.66150407831486, 7.874960249270232, 7.797862186604294, 7.696992940456976, 5.951919441839338, 5.860484450332886, 5.4358151092896385, 5.319568224216059, 5.191429078697886, 4.3931063737548115, 4.244329158760106, 4.14195160870035, 11.633013403490484, 3.81318097573563, 3.7669060547913573, 3.693926897477981, 3.6245021593455147, 3.612250965720197, 3.6051864546255046, 3.381143109155001, 3.341702040605677, 17.924997516771263, 24.541727896348963, 5.290153748124971, 70.2038655616364, 35.520030702578964, 7.129712189593457, 76.65126264257323, 20.27480713014511, 7.977398602218525, 11.019347501929923, 7.3052709194672145, 33.08597574506074, 10.282396879016709, 40.78039848857772, 35.07654463277842, 23.741801956531994, 13.256274002934783, 10.114103113631469, 17.71457558744003, 12.97132499243101, 10.890060162510137, 10.012156675665281, 13.884156796665582, 12.622663969380422, 12.753725968592112, 34.02971225445496, 21.0847447115309, 12.182931381319996, 12.412046762567007, 9.982952518930052, 9.293903380412507, 7.286099718159775, 18.823918654001393, 7.580039048413377, 6.662964559744747, 6.32047950732983, 6.059219652648996, 5.858091034362957, 5.658465500294826, 5.197267192514056, 6.444476266439521, 5.000888863941665, 4.952300227170274, 4.994066513804855, 4.859288889400606, 4.75117446985824, 4.386183207810788, 4.268665124335549, 4.244084708549348, 3.907325180362052, 3.8952472209779514, 3.8494476762397407, 3.5212149234527677, 3.4619312506069706, 3.441205282049083, 21.911633431881604, 62.50042041227916, 108.8345638921009, 107.90971399133002, 5.688162768089072, 11.6753867251443, 5.636761078627208, 6.758887296186312, 26.959358586016563, 8.77789524788635, 6.326539765516043, 9.691504381791354, 7.6601141345974275, 5.810604230205264, 28.554239861724454, 14.294537550866071, 11.5088636898636, 11.051551079701161, 9.48695655401108, 7.522942282834659, 36.10351790740484, 7.3396061851930305, 8.215615487552117, 6.154266379563991, 4.643003447594404, 4.580895733143986, 4.530995224490613, 6.620816418011084, 4.3314072863646595, 4.231512527415775, 26.834003197812905, 4.199493765618485, 4.1599256299194005, 4.032346779091632, 4.024659612024137, 4.012931686803436, 3.9972955104124, 3.890629151261714, 3.8008042181866935, 3.7923205995732157, 3.760414609676242, 3.6707250028816008, 5.234895224296742, 3.3559546650701426, 4.553585550597088, 47.44740687947143, 6.393906667736013, 4.108829034298298, 8.625959306057217, 5.6292800568461505, 8.783836442378076, 15.076242761234452, 7.0650016741523345, 4.85072435420629, 9.753684652639064, 7.940263157847449, 8.290463607440763, 6.529643155902908, 5.816516652589967, 5.484754408698358, 5.960837901668436, 5.25159180896294, 18.85588431035132, 9.969664748253985, 8.814665399661443, 9.087119400192996, 6.877240536918429, 7.087765726745876, 5.583311291961914, 5.509627648341751, 5.017121613333827, 4.826232859968112, 5.148226590929631, 4.7043954978558045, 4.673056074311099, 6.862974637486592, 4.324400450865859, 4.315920892045264, 3.8537025014481805, 3.8379776602733133, 3.8536326823929583, 3.8205412153288467, 3.433924418537207, 3.3915238593231294, 3.370561897728841, 3.25450154397782, 3.094658421102659, 3.167820841280868, 3.013239033547235, 3.013921670349529, 2.9351042523372284, 2.8458794746107654, 21.311872578172203, 31.679236342859323, 5.231720157447366, 75.05227130451253, 12.481039573921342, 5.424922617524248, 16.309546037406577, 45.85460050712965, 4.5306964032690695, 6.381758205452503, 15.997358081675982, 29.776895209726458, 18.615036220946536, 8.790106374167674, 15.655190791421964, 5.10619932171377, 10.192714508799368, 4.99058795287727, 5.283272543117717, 5.682621639598522, 5.424696915330882, 5.15149840863622, 16.05172511857244, 13.40714249483293, 12.860731558969118, 10.248888329730798, 7.704063568759683, 7.617905285803563, 6.965844339948893, 6.462487193817828, 6.567977563115432, 9.998444210956826, 5.316686198563866, 5.020201302243081, 4.88283399979968, 4.916801322400565, 4.73697762778723, 4.268265022166491, 3.964611355091952, 3.9277428892007333, 3.8856321341921416, 3.807734253082498, 4.857476230309923, 3.5546510427222175, 3.55704414707678, 3.5505121820443923, 3.1972361131273357, 3.1793194573979116, 3.136263910613509, 3.4992619973468995, 2.8312264398567057, 2.8998814762371623, 21.662503109102524, 5.689096309000113, 25.321672620549567, 6.876808006381339, 9.634867050199315, 16.06514397307159, 8.957521629009653, 6.070498507793592, 7.006457835939762, 6.974074369902469, 4.3971859262953314, 4.769908791926228, 4.892856724456455, 4.484892422767178, 7.464081625625383, 7.143209338707052, 17.552685060727665, 7.2000748853040175, 5.103084808798948, 5.035418153102888, 4.301989097175462, 4.252784712514225, 3.965477185557874, 3.940347303487917, 3.0462717151897922, 3.0083132618977504, 2.832407522329057, 2.783757662727506, 2.860006468553663, 2.576108100694418, 2.5331106182885677, 2.5069131198338557, 9.417354607296254, 2.4086771699744265, 2.7191079410863352, 2.258304701011172, 2.238415649664047, 2.2113332296855144, 9.292714204991583, 2.1120882717809715, 2.40423774925849, 3.951869745997987, 1.9678185840301512, 1.928325579779286, 10.74734399806991, 2.644100215155668, 3.2523506595935077, 11.091060227129608, 7.279908889928769, 18.863188144641992, 17.962921111233, 3.3587883420817697, 5.989379442291308, 4.206940539325777, 3.147575478871492, 3.6635334602007457, 3.1615495962486246, 3.059573661462829, 29.4683081540213, 7.374922739753941, 6.794860224872072, 4.257656487150538, 3.9512574736564554, 3.7459111077483542, 3.5307841655480106, 4.57551087562747, 2.8496577628204913, 2.6966506970708783, 2.5788277758570692, 2.39222086079217, 2.366409348641674, 2.250519364495687, 2.086716998322378, 2.063265940702268, 2.04561621365417, 2.0415978208226795, 1.9433533001780199, 1.8425938683313225, 1.84168592666672, 1.753561903270485, 1.7368703114603363, 1.7164190465886537, 1.7119661595817015, 1.7035247245706548, 1.6376411053091995, 1.60093661875444, 1.5436475345926197, 1.557500282544939, 3.0502018246840144, 7.329074108161273, 5.307520771088824, 12.07152183202892, 10.1675706807261, 3.5414914818701635, 4.169701455244491, 2.742546421475606, 4.868938629464097, 11.471668708227263, 6.149055756760086, 11.84449959433801, 3.4201846615518594, 6.3974821620259545, 5.923776534508117, 3.1114972862273342, 2.905028638530607, 3.329169953445014, 2.8524984477553352, 33.62865761783395, 5.396631979465384, 4.981112013076904, 3.353388004699476, 2.7702971058315904, 2.7442687725064, 2.8008833687994623, 2.9967312318439236, 23.275500196602067, 2.189732475595111, 1.8742359924826324, 1.8985640902978282, 1.68078542311147, 1.5783044345782091, 1.5722232391244793, 3.223709007375209, 1.5071407998105377, 1.5083055885391048, 1.496743742734282, 1.9552210964891583, 1.340931259970806, 1.331378648543812, 1.2870994860147238, 1.2745755638140024, 1.269925222479415, 1.2362452185170951, 1.213418483458492, 1.4930188272662257, 1.5344042559754145, 1.109521562807331, 3.2009434437953836, 2.218181314595533, 1.963076003037948, 4.07163715503208, 2.1648301861531567, 30.81577905435148, 5.51346409361467, 8.75217294097571, 4.794326255208068, 2.9208297307870086, 4.103173713868554, 1.9831079607059443, 3.1897255893876246, 2.502287666462678, 2.3287451410649838, 2.7525716881451254, 2.7485767804440617, 2.2109428350454396, 2.124728922182475, 9.205523391134795, 19.58781755508586, 4.230108294340555, 3.8501914971993885, 2.8500615090460086, 2.788423625486115, 3.7469677137169497, 2.685683929591488, 2.486216246312088, 2.365273122034788, 2.3376547973475166, 2.2209445765799836, 2.197330471731965, 2.1792365269578613, 2.1346699314543076, 2.1047387438474927, 2.183991863344654, 1.8863847043196038, 1.8961001166464562, 1.8639056894355504, 1.8093604698235277, 1.7669766061675254, 1.5793055648263752, 1.5292810986553664, 1.511461123164831, 1.5114467219928638, 1.476093406386368, 1.3413171756481856, 1.3322011470389301, 1.3241675486865068, 3.395055817300919, 5.326063507255273, 12.129619243166784, 2.4759036191188386, 2.2662196056394635, 2.0590531946329005, 7.39878566969025, 6.472793782364252, 5.803994680804881, 3.105352819588684, 3.5786100320485192, 2.1846891923824368, 2.383814891204641, 2.1040231964596305], \"Total\": [3082.0, 7430.0, 2422.0, 4107.0, 1910.0, 1496.0, 2775.0, 4377.0, 999.0, 1242.0, 5076.0, 1929.0, 2591.0, 1139.0, 1109.0, 4932.0, 1144.0, 686.0, 401.0, 5595.0, 565.0, 919.0, 2317.0, 1282.0, 445.0, 707.0, 557.0, 3318.0, 331.0, 262.0, 63.29321844012467, 54.00538675685313, 43.25305882666158, 111.05676663556687, 35.24055104642586, 40.64109489705328, 34.289263903034346, 47.611283618233294, 27.600425997119444, 27.138664894588715, 27.548928815584816, 32.438699863051454, 25.370189610752618, 43.806140352054506, 25.056868593746152, 23.588612889180805, 24.379061767218168, 28.122119198010992, 23.690700612501676, 24.066917718308183, 22.746861314004395, 22.16650215490473, 21.237516062547872, 20.289167585896152, 20.379472084812036, 30.582698033164124, 21.004662860595367, 19.212183722577947, 20.938802144077847, 18.60744128497212, 686.4469531056601, 1024.0580763796793, 31.310879798971747, 34.280485156133565, 129.7154170525518, 38.24498719462746, 203.69448139980827, 50.85467771333158, 771.1440905918831, 328.13106865813114, 32.770568577295954, 125.5559608929243, 179.07618221054196, 50.75656745531919, 124.67323760168925, 58.69689612627536, 226.81910793062133, 178.4664725351501, 262.20729876269075, 73.12555246680444, 103.68777798463441, 224.60740167099803, 142.72035753358426, 1293.1982680356334, 116.98796579333498, 646.7047557026556, 151.0913244278824, 115.60895510711677, 276.7099222946031, 581.2739644525284, 4107.235866967557, 1042.7951297707873, 221.7685294371212, 957.2349619492446, 322.93416126404566, 7430.20650732627, 5595.715213410459, 1855.0288283138298, 4347.598350712739, 3318.411008471149, 537.1199128334495, 1716.6200008319563, 640.9204304806018, 758.9149336337848, 2344.1203080344253, 1671.045451821956, 1139.5492629506493, 894.2177408079543, 666.7290226030696, 4377.198100751123, 1633.7519983433745, 4932.207928261881, 2178.329569226779, 2317.806911440608, 5076.375523880685, 1353.2131008385304, 1574.517197244759, 2586.89293081074, 2685.3694441379785, 190.17943447317398, 69.79794238762778, 66.3653095721985, 66.39787836415792, 46.72727413685113, 101.32008495141658, 107.5240072840641, 45.93433382769808, 150.54328242277433, 42.195341299810906, 37.15717147858365, 172.14541690095348, 34.71371990044064, 94.89078390424594, 1109.9424947885109, 32.94413857206378, 54.00346333244986, 30.654846930312996, 30.65478704736593, 29.75410369725087, 94.64288225074883, 35.14267422810023, 76.98952757998362, 49.21651575412923, 28.99477673033489, 24.266368459320205, 25.368716390590173, 28.867881806364238, 1144.3486816323143, 23.33494286419009, 106.60579716297447, 34.66785350806164, 128.02508119628317, 50.18273953568843, 286.2765406849676, 467.1865052869868, 104.79840900440033, 113.05554613937026, 627.2561287631119, 2775.626354469621, 693.1481215140839, 80.62706711617591, 3082.7810912464556, 997.432595690159, 4377.198100751123, 375.50681512113033, 575.7563186069284, 211.8075717010936, 146.5066631146797, 355.7766886131639, 876.8364717786828, 919.1532588078053, 4107.235866967557, 1351.0196582100962, 262.4478815185159, 700.6130749175798, 234.65005407761834, 1496.2387937984906, 5595.715213410459, 326.9911089407443, 249.13186997680353, 1835.4350061185926, 594.9802582359728, 4932.207928261881, 1463.2459008680783, 2178.329569226779, 1295.648984596514, 4347.598350712739, 561.5837310561409, 2344.1203080344253, 1671.045451821956, 2685.3694441379785, 2243.9613358045694, 3318.411008471149, 2586.89293081074, 5076.375523880685, 61.06691989454031, 62.253847167314134, 52.87380017254452, 51.553841478844724, 40.67510945186884, 36.21395078894903, 65.85884786050701, 35.14269333886363, 35.50908849416452, 39.65376466342261, 56.26951487522124, 32.65055449167595, 36.57988854674701, 74.02532662287403, 26.64072932891661, 26.446015955504, 23.55673884697551, 25.49978645482256, 38.40899768295468, 23.258931690223505, 23.836396868714658, 25.780914696431093, 24.438146927605764, 26.503066811178407, 24.637775868356428, 21.708881460579466, 22.61271374227891, 32.6158293643108, 22.120601428255537, 21.089713485187644, 555.427620900894, 25.876568235469023, 31.236823396100146, 106.11080125369634, 88.24414088831892, 58.73406973348265, 2422.1845351211764, 56.110294731345064, 54.83306140177908, 315.76892659589026, 75.86912248775354, 475.28922964681334, 505.1800157592795, 353.334385722713, 55.657424307008185, 337.3645113491095, 101.4659015506719, 697.9020262031764, 401.6244620200647, 410.0335970571139, 215.61712924869516, 331.77686728554835, 325.7937725557301, 194.0141227661616, 158.33814924171648, 270.6249945385645, 236.75240377718617, 733.6068448486712, 150.20924987592983, 187.1125084793578, 351.91990897253686, 1496.2387937984906, 245.91283618022078, 220.5736762486922, 2243.9613358045694, 736.038703009371, 1139.343289341331, 778.495165153551, 4932.207928261881, 2685.3694441379785, 615.2634621333601, 4347.598350712739, 5076.375523880685, 649.8427151183574, 727.5957961322869, 1194.7548485299178, 5595.715213410459, 1463.2459008680783, 1835.4350061185926, 836.9043920913633, 4107.235866967557, 3318.411008471149, 7430.20650732627, 71.51055653412288, 49.574766281537954, 54.59303542096347, 38.22637621744033, 38.226524808219054, 37.63066075769324, 35.721673405537125, 45.35513489606611, 31.095375488859425, 29.358015357256505, 56.41689584107237, 25.925567523294717, 24.627003357028848, 23.961599058158544, 23.85833889589557, 21.957988691789915, 25.867518799260665, 21.35788662670525, 19.923672204638553, 23.07216465378426, 22.129896098844423, 19.554155896673915, 19.49622598670399, 20.57773518490971, 18.7921263692807, 18.49832062084994, 20.01598288767209, 17.80807542035122, 17.427285055102605, 16.582677758010036, 23.423804763588127, 90.30700436662002, 60.32927981456954, 55.17932342053006, 309.720076442614, 29.905242673515595, 43.93811602082739, 49.59852744809129, 50.67010705459103, 44.05991480725767, 102.16620936945719, 52.35359330862762, 37.44176878435239, 57.06468756074212, 557.5163344746549, 293.6912795120837, 60.94081269783667, 281.37620930721505, 52.052565576271284, 318.54187079526804, 687.4672100789311, 492.8702900406189, 1910.21431681391, 313.3248155017308, 1693.6204758479344, 1249.9661163971798, 2591.7610691390746, 733.3468140478169, 1122.2628746366672, 919.4893943088482, 159.21512571148037, 259.868023521063, 1149.8482729436407, 178.9168679426108, 159.76509858771448, 1126.9516568867139, 474.1450729505773, 1929.8920638988675, 4932.207928261881, 1574.517197244759, 527.6727791989834, 873.8935815908732, 1224.066444554574, 774.2289202048372, 810.3142331729947, 892.7401911039987, 403.3003970054458, 1118.657828189628, 1162.4931532727874, 2685.3694441379785, 2317.806911440608, 7430.20650732627, 954.3853626387069, 1101.7667762786489, 1633.7519983433745, 1345.4453681393868, 5076.375523880685, 2344.1203080344253, 83.60507844277066, 135.0077456105888, 208.00343104153228, 58.78241300318319, 79.71062712803709, 268.517645375479, 32.25808514105247, 31.31438635044717, 31.07066264637087, 36.44562936832016, 28.77262071240573, 26.222588254738294, 26.134001992431973, 24.806474604654962, 38.75696589860224, 22.188434863186334, 20.41671467043277, 106.67371543031473, 21.114112446302236, 18.885668121703276, 18.38647185346294, 76.10464392787493, 18.280837338471084, 25.753919008485312, 17.643004282503483, 17.9997767757407, 17.013757940948395, 18.555272092907376, 16.152565979029983, 22.264326460206828, 1242.0655796293988, 31.043458736156936, 131.01011376367967, 39.808666809424416, 39.97687602861075, 70.13725606354048, 42.496907013651374, 236.7462315152557, 95.13739768979775, 49.497558123974365, 265.11517718828856, 738.586390776133, 78.99690250875663, 230.80461317197958, 66.48092763167838, 153.9668596493542, 537.8450594564513, 349.49148350465356, 1745.433314542592, 5076.375523880685, 522.8937706139777, 482.3074725827345, 429.8234070474448, 111.84138372038979, 7430.20650732627, 172.13931142574106, 139.50278752023223, 875.5681980942365, 421.6285870897007, 2586.89293081074, 308.3292151278315, 1042.7951297707873, 656.1345912394321, 784.3690113752675, 677.4019852313849, 426.4207126085181, 993.283111403866, 335.3053299478632, 4347.598350712739, 1855.0288283138298, 5595.715213410459, 3318.411008471149, 1142.5272040170425, 2178.329569226779, 836.6283483059074, 1835.4350061185926, 1282.8983001865215, 1224.066444554574, 857.6232156865015, 1083.6345494257805, 2317.806911440608, 2344.1203080344253, 924.3876772065047, 77.17420328766468, 198.66702740151172, 314.15495183865346, 57.77708807148755, 55.080661000340164, 45.57877434475124, 41.72740016796426, 56.29110820085624, 47.91040640978208, 38.10996591077779, 34.3003814306383, 31.853486796611016, 32.106116773773316, 46.31410521680019, 28.770161739310005, 26.71921321657981, 26.479020202997873, 52.63765252789308, 26.40588387162892, 26.020924701061567, 25.10700963428494, 24.336262162357784, 86.80119925224878, 22.709472672205173, 22.382617164855183, 20.928883943618107, 80.66195068952133, 20.170575236490198, 21.533531894529553, 19.792739525284478, 63.9948768812886, 40.352949380994126, 79.7035965955259, 686.0470538897969, 472.06870844773994, 105.07035303297373, 261.814789454982, 239.0993626771357, 139.09809792625057, 279.73025851267965, 89.29321895609482, 66.38729106850413, 248.45409366398974, 69.09494699905716, 736.6299411308725, 140.0520483201246, 810.3142331729947, 774.2289202048372, 2591.7610691390746, 1126.9516568867139, 280.01865253497516, 1118.657828189628, 288.52703510206555, 775.2512187769235, 215.31646616114764, 1910.21431681391, 1161.9646963980579, 1162.4931532727874, 638.6147899596717, 2243.9613358045694, 504.3722022341111, 360.0019869964315, 775.4460269091894, 7430.20650732627, 2685.3694441379785, 5076.375523880685, 2586.89293081074, 1693.6204758479344, 4347.598350712739, 1353.2131008385304, 4377.198100751123, 4932.207928261881, 1345.4453681393868, 98.12862220886619, 28.01767320114067, 25.901964201312044, 24.314365337478318, 24.255665592633477, 28.917285019560996, 237.2373311262831, 23.128877385154833, 19.859390734942743, 28.47999061343109, 32.489960745753415, 40.97653794147505, 16.077881442438212, 21.681514065089445, 16.36969980151003, 16.399775246363415, 14.526316327944958, 14.138755553598436, 20.143095005895617, 13.562009982032688, 31.817982114325734, 13.430767357980516, 12.319214879830142, 12.442367949561513, 12.13051889338951, 11.970678123794011, 27.8011270292779, 11.530264646033276, 11.398796099574323, 11.102982714138502, 132.65639284607443, 94.22230997739517, 29.279652767534508, 40.266649259456514, 30.37799927886837, 25.969514077699664, 16.82441828804484, 80.34231656293825, 145.76260322333326, 645.2522698230154, 139.24469136040628, 82.64078165069809, 1282.8983001865215, 218.57012155977907, 104.52451238524091, 1101.7667762786489, 535.7151000067373, 940.2060039712148, 993.283111403866, 3318.411008471149, 515.9158703977619, 2317.806911440608, 2685.3694441379785, 744.971297710999, 190.27344808329377, 515.4123285149133, 1929.8920638988675, 1716.6200008319563, 4932.207928261881, 537.1199128334495, 1855.0288283138298, 958.2698767535675, 7430.20650732627, 1633.7519983433745, 5076.375523880685, 932.224552718965, 515.931203017078, 5595.715213410459, 2344.1203080344253, 2586.89293081074, 707.0757798698853, 1150.4983163287998, 2178.329569226779, 1745.433314542592, 1671.045451821956, 873.8935815908732, 181.18274532970582, 72.20648288550274, 59.35417075820371, 79.55566692011719, 66.79122319090341, 35.43951797212005, 28.530954319029906, 30.291543181723902, 27.762995111987635, 26.828415877158776, 25.607493082536223, 21.7849229009982, 22.005013808463183, 22.525501624877677, 20.90638508010925, 20.31012515019812, 18.73633309405809, 32.81523187346769, 19.361327762953557, 17.281714752114386, 17.504641089876152, 182.1892861858352, 16.763541394240406, 16.63996343828391, 16.39816032331318, 15.503983183155489, 15.471892009419841, 32.84609633892596, 15.924145489936926, 89.3498337517286, 107.8946026297639, 119.90413193388748, 64.4727492585739, 248.3337370031025, 45.84795635861959, 28.789842882308005, 999.6295190245672, 144.64484291238065, 135.04950321405715, 101.45993800292706, 268.69744552528385, 90.04618289776916, 41.655744552812024, 61.76432274245089, 68.1042330890325, 220.80797951327352, 136.66800551835922, 101.40982679674697, 129.25058312970052, 147.1049096824493, 79.81661244698716, 505.0645397028578, 136.86689891244814, 92.54841057086122, 1139.343289341331, 185.87353229555006, 144.51120285618381, 957.2349619492446, 205.20108851862585, 461.0380566285626, 458.91054513922785, 7430.20650732627, 415.90978070519157, 565.8487621431873, 731.5291256601707, 2775.626354469621, 262.1309248230924, 214.80337106278958, 260.23570116753626, 1139.5492629506493, 595.5895270979343, 5595.715213410459, 704.6726247698524, 3318.411008471149, 1353.2131008385304, 51.82764803223246, 25.108481024004615, 27.71924044555555, 20.38411504858115, 16.34182295171544, 17.275273117690084, 13.93887106647998, 13.246160056484316, 12.64302109258653, 12.618800228570704, 12.37952579634189, 14.684025786197806, 11.342481785913796, 10.885382721899074, 11.292581791215826, 10.244854094537633, 10.396352290743849, 15.851001088648555, 9.77521091449909, 10.028016544027167, 57.89146884611069, 9.67079745253277, 9.190159535190523, 9.280743097458847, 9.003372739122858, 8.981905407812615, 8.58352033366451, 8.37167912717388, 14.536977092144975, 8.261596557038022, 20.830505510903663, 33.22182752971686, 63.82358976452659, 261.7407521131578, 17.412588483864536, 38.911999922688516, 13.376521624727225, 13.502739982997966, 16.134096044375255, 129.6772937487549, 57.4724530126739, 23.75542491989257, 98.82353185293445, 71.10282256183098, 207.81414542615255, 76.37009114281035, 27.11930118612267, 67.7622680562684, 431.51154161079666, 557.5163344746549, 100.30936852161193, 1910.21431681391, 160.45318161306884, 155.65975480847493, 366.3472482929001, 42.59681040204497, 144.69635280225472, 605.4915409869285, 336.89752590537523, 566.2572441840649, 111.02893501382924, 1929.8920638988675, 171.1378643615835, 320.3205037202302, 919.4893943088482, 2591.7610691390746, 1126.9516568867139, 1224.066444554574, 7430.20650732627, 218.74844003703538, 4932.207928261881, 1693.6204758479344, 477.9645005397775, 15.63566056632991, 14.14273609880395, 13.786146610003497, 10.742260604591921, 18.27553658483912, 16.247582845149314, 10.439896339636327, 8.912076757439948, 8.667865357340977, 8.300839385222828, 8.148999181889861, 16.025670202418866, 7.701831568410246, 7.620201877851756, 7.4736165255352605, 7.417622432565711, 7.415106477913766, 7.308239853695909, 6.7331285506025385, 6.693814949755467, 6.684778615034119, 6.6165888199636065, 10.000085143225823, 6.603105833849535, 6.451178667378762, 6.2779766067851, 29.816081475568623, 6.186163884269551, 5.96485873003735, 5.895206447923879, 150.24381620273067, 15.183143361043618, 10.175818934227001, 15.136376641077952, 136.53523420200196, 79.47314954294659, 15.543451101193325, 28.59128337907829, 188.54812496076227, 335.3053299478632, 32.627301659447696, 104.56975857412317, 22.175356529604343, 34.34958750745237, 19.32278081308588, 3082.7810912464556, 154.89817807142128, 16.76315283695113, 43.59635294983496, 565.8487621431873, 148.40034160754044, 112.17052594722347, 214.23992102935097, 84.13690539044497, 39.152312823557935, 707.0757798698853, 483.7087736725378, 281.37620930721505, 57.48742152776676, 1929.8920638988675, 919.4893943088482, 487.95443388764204, 348.56029877086957, 275.8560274828032, 1122.2628746366672, 2317.806911440608, 180.21756608454487, 5595.715213410459, 1910.21431681391, 121.43999588774241, 410.55541854620134, 505.0645397028578, 2344.1203080344253, 54.03800560734554, 22.348845173854958, 15.858250486346343, 12.379437288427733, 12.660292422889754, 10.106746110547252, 13.829038132760887, 8.389508961287195, 7.512791588701984, 7.415793850003948, 13.295971716093264, 7.183712814647672, 7.316779306714502, 7.107164708858914, 6.342163058885448, 6.265961379940427, 6.123095800173338, 6.105003149458553, 5.822859516330045, 7.8037834679972224, 5.719137263999106, 5.7190381543660855, 5.6677027078333655, 5.650742712725264, 5.54685858126962, 5.522390937218816, 5.2487907976427195, 5.226062470940385, 5.735252411177828, 5.171592942185232, 6.192422669668348, 26.389240592221444, 30.623139423677888, 19.75113916679373, 15.250604749700914, 29.91985924940491, 10.325428638557586, 7.373293608907986, 10.84735838317482, 25.9704128798222, 16.6421838462559, 8.648016375535123, 24.55858455983462, 16.87158498277695, 13.702530334323832, 169.89772195972202, 71.78945891298814, 98.98574306757749, 31.549917124372392, 810.3142331729947, 139.41129614919262, 2243.9613358045694, 288.52703510206555, 2422.1845351211764, 775.2512187769235, 1496.2387937984906, 14.22775041393371, 12.68136931045797, 12.32465667419442, 10.495901440055723, 9.320764446361446, 8.807102288875132, 48.286784205608086, 7.757819303980251, 7.304040885340709, 7.91029961332658, 6.61130032675688, 6.032893886502525, 5.887579804871384, 5.871244797597629, 8.90884309296691, 5.158955951249573, 11.032262077716528, 4.71201758443841, 4.5021307801413855, 4.433879061007685, 4.880812237914081, 4.35579610861843, 4.300576183137289, 4.204926403117323, 4.411661730216178, 15.149667819000252, 4.057096434934007, 4.385833202690044, 3.965216832398027, 3.961195147322843, 6.746345763760523, 6.308647022396606, 9.399931316708344, 7.146517169085835, 21.620659992438306, 12.39832576139264, 21.725168548682984, 16.22653288386985, 45.46190914667244, 20.476073382330007, 55.536764824325935, 70.6468225542625, 215.31646616114764, 103.63720395725494, 34.25589216055696, 40.42561533324573, 126.59336639344185, 38.73374211317302, 46.31313502918623, 410.0335970571139, 215.15712383664518, 1910.21431681391, 774.2289202048372, 27.025260018920655, 810.3142331729947, 736.6299411308725, 23.794015461075, 20.308858339071037, 16.707298929586454, 14.517999617215722, 14.479117797490124, 12.786889146991882, 11.738369548139259, 11.337228962531318, 9.482740865560785, 18.08781865374652, 8.614253686737875, 8.54054594085267, 8.436889822380992, 6.700585668389619, 6.603415368479211, 6.189189529432594, 6.07498494478479, 5.973747735540347, 5.133431112273966, 4.98412086266193, 4.885667038368877, 13.804226091789216, 4.556337389149918, 4.506726895620013, 4.433796796452141, 4.363628543882545, 4.351828206647343, 4.3734622128233624, 4.120138132081602, 4.0808623141729425, 22.842759421474845, 31.844527996494083, 6.538464424428944, 104.83111673452156, 50.82141446948256, 9.034303522598462, 141.62828797221292, 30.759925002205804, 10.923086828682273, 18.79494091439575, 11.085581357972485, 215.61712924869516, 23.54036959071746, 401.6244620200647, 331.77686728554835, 179.360120321249, 49.94227808765173, 25.366702884039583, 112.9032796704834, 63.371485402600705, 35.85406291488926, 31.481308985341645, 199.03200681608214, 686.0470538897969, 4932.207928261881, 35.23426071675205, 22.05036087282332, 12.937566389928003, 13.244981206904454, 10.853857327719997, 10.1123638576766, 8.029360049532558, 20.848663988337623, 8.403608942781386, 7.4094784856255105, 7.060808552241851, 6.798802288505839, 6.597651155402359, 6.39781076070269, 5.936587441869385, 7.3794557851058435, 5.739822771869953, 5.692233607030527, 5.752095873256121, 5.598718502971512, 5.489803404641933, 5.125125305183227, 5.007400605309892, 4.983063607069883, 4.645870652138046, 4.636199137629134, 4.58796335983279, 4.259619461694395, 4.204318632885994, 4.179469982215901, 27.402779979546924, 81.74547487060782, 169.74015605777979, 169.89772195972202, 7.508079789029871, 20.047343403665767, 9.549905895368875, 16.87158498277695, 1496.2387937984906, 73.10263476077017, 30.93829209044176, 4107.235866967557, 640.9204304806018, 78.9494908272908, 29.295395489639738, 15.036540383047042, 12.35952174497166, 11.912975762363004, 10.226923898909943, 8.277473901247859, 39.771475590312924, 8.112031571298834, 9.11430982302011, 6.8965545055714195, 5.38289601666175, 5.320772412362675, 5.27461891534107, 7.71386691963326, 5.080184758026477, 4.971899040813341, 31.54964436859779, 4.939324221711741, 4.900126313906707, 4.772300683786574, 4.765734767706342, 4.75455236177202, 4.746791064659447, 4.63069655940497, 4.543272803436804, 4.534012763467538, 4.5002701282018585, 4.410540146884239, 6.302874934714768, 4.09560789190508, 5.907198372123092, 133.83813560495742, 9.58306354160069, 5.328177752278174, 24.689042867156402, 10.381117665510281, 27.22009974814172, 235.67625802478784, 25.799050833387888, 8.619336137591482, 164.3887386282587, 75.91929087476235, 117.98802130724019, 44.908625781542426, 31.771776268083755, 38.595828296957045, 100.64910277779227, 4347.598350712739, 19.612289500886938, 10.782721950263337, 9.553706789329901, 9.87324940501127, 7.616362454815643, 7.866546856957875, 6.3295530579862325, 6.253280900997885, 5.756998219692983, 5.565089036157039, 5.938802507766742, 5.445210974342956, 5.411923364300758, 7.9759665881410875, 5.064101886189062, 5.054702600004701, 4.5926501316085755, 4.576886264413549, 4.595643337962532, 4.569415402828856, 4.17360667672897, 4.130399176628798, 4.109591878325498, 4.011596760072107, 3.834968547814213, 3.93246253646465, 3.7522046868297765, 3.754316563269442, 3.6761138445004544, 3.588362942132319, 27.348141899333843, 41.66068362888934, 6.840308397535633, 213.1823820710766, 24.978504461487642, 8.175668605296721, 41.314576913239954, 215.15712383664518, 6.860955765513258, 14.118736994807255, 95.63849549309022, 445.7737651231096, 261.814789454982, 42.82843081665199, 279.73025851267965, 12.56404342467614, 638.6147899596717, 11.419729178900713, 56.93893657322455, 718.2266695020983, 162.2137959446303, 100.81693922993074, 16.813817455043406, 14.160633926558607, 13.638540923238168, 10.992530794459094, 8.460563066307278, 8.39339705398665, 7.726275672571347, 7.20721312875297, 7.326043655573854, 11.421596176199046, 6.073702123043328, 5.766999076893929, 5.629045079710029, 5.676834734185365, 5.480460173875524, 5.01892536740191, 4.708223878826868, 4.671802102466065, 4.635427822720375, 4.553584484506611, 5.8734479405503945, 4.298713240500826, 4.301674722116816, 4.30503763874021, 3.940997919241227, 3.9232829205218587, 3.8947409696864375, 4.370705166619208, 3.574837085052115, 3.6619360164133195, 28.11108135772562, 7.823865849492355, 58.41829817048313, 12.42243142357505, 24.711651134897064, 83.26124080064955, 30.204911461255143, 18.02519114593273, 46.40212597281421, 52.37149300809311, 10.722507526957262, 22.492619411918785, 33.66907131409847, 56.258785587966194, 8.211881232136303, 7.889178062105128, 19.635164184649618, 8.205880005078306, 5.850549387349305, 5.793022348935144, 5.0477028725436375, 5.004706556934181, 4.711891512114552, 4.685621771596379, 3.794074722357752, 3.7555315899236503, 3.5806523348916723, 3.530857869998299, 3.6496925349293723, 3.3229887873406083, 3.2792542933235773, 3.2526121249485658, 12.268339846558762, 3.1595536231055035, 3.582507998104043, 3.008550653797677, 2.9837585441277317, 2.9566094868649033, 12.424607743218438, 2.8586003379334253, 3.2716860972871316, 5.3880011153116865, 2.7144218173119623, 2.6787670026659955, 15.847897168991487, 3.8252691301054695, 5.028984369133878, 29.235695367154623, 16.21838227882018, 102.31865630153334, 145.3687320308516, 6.200825815154309, 49.0275430621909, 24.42825902123761, 7.945635827007466, 26.73480218609666, 21.337890460738514, 36.61723589993179, 31.183504039869028, 8.158898344619232, 7.545283338050289, 5.004726079437586, 4.7026593730429225, 4.494224406693915, 4.278351053778192, 5.658417650015724, 3.60209096229642, 3.4439905310550682, 3.3273862769827978, 3.139147828087778, 3.114065816948286, 2.999503894662439, 2.8338371957609536, 2.810736620511007, 2.7927116171683557, 2.788585671864863, 2.693984569945814, 2.5918566520022557, 2.5917151257030056, 2.5064877114457507, 2.4843860694285573, 2.463380114562783, 2.459008368998492, 2.4506402809926726, 2.3854984200733, 2.3487654079927753, 2.300249498177883, 2.32149157574263, 4.7969285075707715, 13.398500765631322, 9.43253123737175, 24.580168257742052, 22.373224549943565, 6.453188868483638, 9.077462940803073, 4.921506625530033, 12.081966343662968, 91.24539219656441, 27.765728537621985, 123.29825017377766, 16.273502614947823, 383.4247551938485, 341.471658235006, 38.24227426759033, 24.226196416282537, 140.7410958026038, 64.34244188125763, 37.13514950857612, 6.145242846259417, 5.859208320214606, 4.104308641537153, 3.519186072873502, 3.4927508781610426, 3.6013783178067653, 3.8693773670327714, 30.25361362861091, 2.938314665790754, 2.6232760046825168, 2.6674572971979758, 2.4312230554088345, 2.326910887825768, 2.323080118446832, 4.787467285903365, 2.2562609054556915, 2.26297440235925, 2.2460024665708618, 3.0263296825232, 2.092735906808484, 2.0802328541634645, 2.0388907943136605, 2.024014929538018, 2.034738456830719, 1.985383372183464, 1.9624660363332576, 2.447313414870444, 2.551998554377881, 1.8590823269862926, 5.665013409732029, 4.004040852059148, 3.5762629764527865, 9.915137622117046, 4.369826201816213, 262.1658902245161, 20.316035900332402, 56.31766855225562, 19.626935965233518, 8.326802285046245, 21.14705768851128, 4.729728834530857, 22.724038147078147, 10.829152966363706, 11.460503318522745, 49.78385732921617, 487.95443388764204, 49.33830410851051, 1351.0196582100962, 9.957595059858825, 22.50406556156684, 4.979231776673822, 4.611785380709652, 3.6023338200773356, 3.537158139954381, 4.775188886954274, 3.465754333156618, 3.2345595297646064, 3.119866395447232, 3.117221642743766, 2.969379703516917, 2.9457771039675267, 2.927772224658465, 2.884145955233793, 2.8540778754950935, 2.969499260893706, 2.6348784129329292, 2.654458400004585, 2.6148583712180855, 2.5622225086380275, 2.517879919742892, 2.331839618733949, 2.278007717222832, 2.2600304134528626, 2.2649388930375536, 2.2260872732407777, 2.090452205355489, 2.080621530845168, 2.072685477850311, 6.2855254186853475, 12.982603252744621, 64.51176229509707, 5.4218170830044485, 4.827270949187124, 4.47281549198739, 87.36970795307536, 83.23720681038915, 91.67926500337697, 16.34517458670512, 54.98382214390472, 6.306558953703468, 53.963301134992605, 15.212243025464785], \"Category\": [\"Default\", \"Default\", \"Default\", \"Default\", \"Default\", \"Default\", \"Default\", \"Default\", \"Default\", \"Default\", \"Default\", \"Default\", \"Default\", \"Default\", \"Default\", \"Default\", \"Default\", \"Default\", \"Default\", \"Default\", \"Default\", \"Default\", \"Default\", \"Default\", \"Default\", \"Default\", \"Default\", \"Default\", \"Default\", \"Default\", \"Topic1\", \"Topic1\", \"Topic1\", \"Topic1\", \"Topic1\", \"Topic1\", \"Topic1\", \"Topic1\", \"Topic1\", \"Topic1\", \"Topic1\", \"Topic1\", \"Topic1\", \"Topic1\", \"Topic1\", \"Topic1\", \"Topic1\", \"Topic1\", \"Topic1\", \"Topic1\", \"Topic1\", \"Topic1\", \"Topic1\", \"Topic1\", \"Topic1\", \"Topic1\", \"Topic1\", \"Topic1\", \"Topic1\", \"Topic1\", \"Topic1\", \"Topic1\", \"Topic1\", \"Topic1\", \"Topic1\", \"Topic1\", \"Topic1\", \"Topic1\", \"Topic1\", \"Topic1\", \"Topic1\", \"Topic1\", \"Topic1\", \"Topic1\", \"Topic1\", \"Topic1\", \"Topic1\", \"Topic1\", \"Topic1\", \"Topic1\", \"Topic1\", \"Topic1\", \"Topic1\", \"Topic1\", \"Topic1\", \"Topic1\", \"Topic1\", \"Topic1\", \"Topic1\", \"Topic1\", \"Topic1\", \"Topic1\", \"Topic1\", \"Topic1\", \"Topic1\", \"Topic1\", \"Topic1\", \"Topic1\", \"Topic1\", \"Topic1\", \"Topic1\", \"Topic1\", \"Topic1\", \"Topic1\", \"Topic1\", \"Topic1\", \"Topic1\", \"Topic1\", \"Topic1\", \"Topic1\", \"Topic1\", \"Topic1\", \"Topic1\", \"Topic1\", \"Topic1\", \"Topic1\", \"Topic1\", \"Topic1\", \"Topic1\", \"Topic2\", \"Topic2\", \"Topic2\", \"Topic2\", \"Topic2\", \"Topic2\", \"Topic2\", \"Topic2\", \"Topic2\", \"Topic2\", \"Topic2\", \"Topic2\", \"Topic2\", \"Topic2\", \"Topic2\", \"Topic2\", \"Topic2\", \"Topic2\", \"Topic2\", \"Topic2\", \"Topic2\", \"Topic2\", \"Topic2\", \"Topic2\", \"Topic2\", \"Topic2\", \"Topic2\", \"Topic2\", \"Topic2\", \"Topic2\", \"Topic2\", \"Topic2\", \"Topic2\", \"Topic2\", \"Topic2\", \"Topic2\", \"Topic2\", \"Topic2\", \"Topic2\", \"Topic2\", \"Topic2\", \"Topic2\", \"Topic2\", \"Topic2\", \"Topic2\", \"Topic2\", \"Topic2\", \"Topic2\", \"Topic2\", \"Topic2\", \"Topic2\", \"Topic2\", \"Topic2\", \"Topic2\", \"Topic2\", \"Topic2\", \"Topic2\", \"Topic2\", \"Topic2\", \"Topic2\", \"Topic2\", \"Topic2\", \"Topic2\", \"Topic2\", \"Topic2\", \"Topic2\", \"Topic2\", \"Topic2\", \"Topic2\", \"Topic2\", \"Topic2\", \"Topic2\", \"Topic2\", \"Topic2\", \"Topic2\", \"Topic2\", \"Topic3\", \"Topic3\", \"Topic3\", \"Topic3\", \"Topic3\", \"Topic3\", \"Topic3\", \"Topic3\", \"Topic3\", \"Topic3\", \"Topic3\", \"Topic3\", \"Topic3\", \"Topic3\", \"Topic3\", \"Topic3\", \"Topic3\", \"Topic3\", \"Topic3\", \"Topic3\", \"Topic3\", \"Topic3\", \"Topic3\", \"Topic3\", \"Topic3\", \"Topic3\", \"Topic3\", \"Topic3\", \"Topic3\", \"Topic3\", \"Topic3\", \"Topic3\", \"Topic3\", \"Topic3\", \"Topic3\", \"Topic3\", \"Topic3\", \"Topic3\", \"Topic3\", \"Topic3\", \"Topic3\", \"Topic3\", \"Topic3\", \"Topic3\", \"Topic3\", \"Topic3\", \"Topic3\", \"Topic3\", \"Topic3\", \"Topic3\", \"Topic3\", \"Topic3\", \"Topic3\", \"Topic3\", \"Topic3\", \"Topic3\", \"Topic3\", \"Topic3\", \"Topic3\", \"Topic3\", \"Topic3\", \"Topic3\", \"Topic3\", \"Topic3\", \"Topic3\", \"Topic3\", \"Topic3\", \"Topic3\", \"Topic3\", \"Topic3\", \"Topic3\", \"Topic3\", \"Topic3\", \"Topic3\", \"Topic3\", \"Topic3\", \"Topic3\", \"Topic3\", \"Topic3\", \"Topic3\", \"Topic3\", \"Topic3\", \"Topic3\", \"Topic4\", \"Topic4\", \"Topic4\", \"Topic4\", \"Topic4\", \"Topic4\", \"Topic4\", \"Topic4\", \"Topic4\", \"Topic4\", \"Topic4\", \"Topic4\", \"Topic4\", \"Topic4\", \"Topic4\", \"Topic4\", \"Topic4\", \"Topic4\", \"Topic4\", \"Topic4\", \"Topic4\", \"Topic4\", \"Topic4\", \"Topic4\", \"Topic4\", \"Topic4\", \"Topic4\", \"Topic4\", \"Topic4\", \"Topic4\", \"Topic4\", \"Topic4\", \"Topic4\", \"Topic4\", \"Topic4\", \"Topic4\", \"Topic4\", \"Topic4\", \"Topic4\", \"Topic4\", \"Topic4\", \"Topic4\", \"Topic4\", \"Topic4\", \"Topic4\", \"Topic4\", \"Topic4\", \"Topic4\", \"Topic4\", \"Topic4\", \"Topic4\", \"Topic4\", \"Topic4\", \"Topic4\", \"Topic4\", \"Topic4\", \"Topic4\", \"Topic4\", \"Topic4\", \"Topic4\", \"Topic4\", \"Topic4\", \"Topic4\", \"Topic4\", \"Topic4\", \"Topic4\", \"Topic4\", \"Topic4\", \"Topic4\", \"Topic4\", \"Topic4\", \"Topic4\", \"Topic4\", \"Topic4\", \"Topic4\", \"Topic4\", \"Topic4\", \"Topic4\", \"Topic4\", \"Topic4\", \"Topic4\", \"Topic4\", \"Topic4\", \"Topic4\", \"Topic4\", \"Topic4\", \"Topic4\", \"Topic4\", \"Topic5\", \"Topic5\", \"Topic5\", \"Topic5\", \"Topic5\", \"Topic5\", \"Topic5\", \"Topic5\", \"Topic5\", \"Topic5\", \"Topic5\", \"Topic5\", \"Topic5\", \"Topic5\", \"Topic5\", \"Topic5\", \"Topic5\", \"Topic5\", \"Topic5\", \"Topic5\", \"Topic5\", \"Topic5\", \"Topic5\", \"Topic5\", \"Topic5\", \"Topic5\", \"Topic5\", \"Topic5\", \"Topic5\", \"Topic5\", \"Topic5\", \"Topic5\", \"Topic5\", \"Topic5\", \"Topic5\", \"Topic5\", \"Topic5\", \"Topic5\", \"Topic5\", \"Topic5\", \"Topic5\", \"Topic5\", \"Topic5\", \"Topic5\", \"Topic5\", \"Topic5\", \"Topic5\", \"Topic5\", \"Topic5\", \"Topic5\", \"Topic5\", \"Topic5\", \"Topic5\", \"Topic5\", \"Topic5\", \"Topic5\", \"Topic5\", \"Topic5\", \"Topic5\", \"Topic5\", \"Topic5\", \"Topic5\", \"Topic5\", \"Topic5\", \"Topic5\", \"Topic5\", \"Topic5\", \"Topic5\", \"Topic5\", \"Topic5\", \"Topic5\", \"Topic5\", \"Topic5\", \"Topic5\", \"Topic5\", \"Topic5\", \"Topic5\", \"Topic5\", \"Topic5\", \"Topic5\", \"Topic5\", \"Topic5\", \"Topic5\", \"Topic6\", \"Topic6\", \"Topic6\", \"Topic6\", \"Topic6\", \"Topic6\", \"Topic6\", \"Topic6\", \"Topic6\", \"Topic6\", \"Topic6\", \"Topic6\", \"Topic6\", \"Topic6\", \"Topic6\", \"Topic6\", \"Topic6\", \"Topic6\", \"Topic6\", \"Topic6\", \"Topic6\", \"Topic6\", \"Topic6\", \"Topic6\", \"Topic6\", \"Topic6\", \"Topic6\", \"Topic6\", \"Topic6\", \"Topic6\", \"Topic6\", \"Topic6\", \"Topic6\", \"Topic6\", \"Topic6\", \"Topic6\", \"Topic6\", \"Topic6\", \"Topic6\", \"Topic6\", \"Topic6\", \"Topic6\", \"Topic6\", \"Topic6\", \"Topic6\", \"Topic6\", \"Topic6\", \"Topic6\", \"Topic6\", \"Topic6\", \"Topic6\", \"Topic6\", \"Topic6\", \"Topic6\", \"Topic6\", \"Topic6\", \"Topic6\", \"Topic6\", \"Topic6\", \"Topic6\", \"Topic6\", \"Topic6\", \"Topic6\", \"Topic6\", \"Topic6\", \"Topic6\", \"Topic6\", \"Topic6\", \"Topic6\", \"Topic6\", \"Topic6\", \"Topic6\", \"Topic6\", \"Topic7\", \"Topic7\", \"Topic7\", \"Topic7\", \"Topic7\", \"Topic7\", \"Topic7\", \"Topic7\", \"Topic7\", \"Topic7\", \"Topic7\", \"Topic7\", \"Topic7\", \"Topic7\", \"Topic7\", \"Topic7\", \"Topic7\", \"Topic7\", \"Topic7\", \"Topic7\", \"Topic7\", \"Topic7\", \"Topic7\", \"Topic7\", \"Topic7\", \"Topic7\", \"Topic7\", \"Topic7\", \"Topic7\", \"Topic7\", \"Topic7\", \"Topic7\", \"Topic7\", \"Topic7\", \"Topic7\", \"Topic7\", \"Topic7\", \"Topic7\", \"Topic7\", \"Topic7\", \"Topic7\", \"Topic7\", \"Topic7\", \"Topic7\", \"Topic7\", \"Topic7\", \"Topic7\", \"Topic7\", \"Topic7\", \"Topic7\", \"Topic7\", \"Topic7\", \"Topic7\", \"Topic7\", \"Topic7\", \"Topic7\", \"Topic7\", \"Topic7\", \"Topic7\", \"Topic7\", \"Topic7\", \"Topic7\", \"Topic7\", \"Topic7\", \"Topic7\", \"Topic7\", \"Topic7\", \"Topic7\", \"Topic7\", \"Topic7\", \"Topic7\", \"Topic7\", \"Topic7\", \"Topic7\", \"Topic7\", \"Topic7\", \"Topic8\", \"Topic8\", \"Topic8\", \"Topic8\", \"Topic8\", \"Topic8\", \"Topic8\", \"Topic8\", \"Topic8\", \"Topic8\", \"Topic8\", \"Topic8\", \"Topic8\", \"Topic8\", \"Topic8\", \"Topic8\", \"Topic8\", \"Topic8\", \"Topic8\", \"Topic8\", \"Topic8\", \"Topic8\", \"Topic8\", \"Topic8\", \"Topic8\", \"Topic8\", \"Topic8\", \"Topic8\", \"Topic8\", \"Topic8\", \"Topic8\", \"Topic8\", \"Topic8\", \"Topic8\", \"Topic8\", \"Topic8\", \"Topic8\", \"Topic8\", \"Topic8\", \"Topic8\", \"Topic8\", \"Topic8\", \"Topic8\", \"Topic8\", \"Topic8\", \"Topic8\", \"Topic8\", \"Topic8\", \"Topic8\", \"Topic8\", \"Topic8\", \"Topic8\", \"Topic8\", \"Topic8\", \"Topic8\", \"Topic8\", \"Topic8\", \"Topic8\", \"Topic8\", \"Topic8\", \"Topic8\", \"Topic8\", \"Topic8\", \"Topic8\", \"Topic8\", \"Topic8\", \"Topic8\", \"Topic8\", \"Topic8\", \"Topic8\", \"Topic8\", \"Topic8\", \"Topic8\", \"Topic8\", \"Topic8\", \"Topic9\", \"Topic9\", \"Topic9\", \"Topic9\", \"Topic9\", \"Topic9\", \"Topic9\", \"Topic9\", \"Topic9\", \"Topic9\", \"Topic9\", \"Topic9\", \"Topic9\", \"Topic9\", \"Topic9\", \"Topic9\", \"Topic9\", \"Topic9\", \"Topic9\", \"Topic9\", \"Topic9\", \"Topic9\", \"Topic9\", \"Topic9\", \"Topic9\", \"Topic9\", \"Topic9\", \"Topic9\", \"Topic9\", \"Topic9\", \"Topic9\", \"Topic9\", \"Topic9\", \"Topic9\", \"Topic9\", \"Topic9\", \"Topic9\", \"Topic9\", \"Topic9\", \"Topic9\", \"Topic9\", \"Topic9\", \"Topic9\", \"Topic9\", \"Topic9\", \"Topic9\", \"Topic9\", \"Topic9\", \"Topic9\", \"Topic9\", \"Topic9\", \"Topic9\", \"Topic9\", \"Topic9\", \"Topic9\", \"Topic9\", \"Topic9\", \"Topic9\", \"Topic9\", \"Topic9\", \"Topic9\", \"Topic9\", \"Topic9\", \"Topic9\", \"Topic9\", \"Topic9\", \"Topic9\", \"Topic9\", \"Topic9\", \"Topic9\", \"Topic9\", \"Topic9\", \"Topic9\", \"Topic10\", \"Topic10\", \"Topic10\", \"Topic10\", \"Topic10\", \"Topic10\", \"Topic10\", \"Topic10\", \"Topic10\", \"Topic10\", \"Topic10\", \"Topic10\", \"Topic10\", \"Topic10\", \"Topic10\", \"Topic10\", \"Topic10\", \"Topic10\", \"Topic10\", \"Topic10\", \"Topic10\", \"Topic10\", \"Topic10\", \"Topic10\", \"Topic10\", \"Topic10\", \"Topic10\", \"Topic10\", \"Topic10\", \"Topic10\", \"Topic10\", \"Topic10\", \"Topic10\", \"Topic10\", \"Topic10\", \"Topic10\", \"Topic10\", \"Topic10\", \"Topic10\", \"Topic10\", \"Topic10\", \"Topic10\", \"Topic10\", \"Topic10\", \"Topic10\", \"Topic10\", \"Topic10\", \"Topic10\", \"Topic10\", \"Topic10\", \"Topic10\", \"Topic10\", \"Topic10\", \"Topic10\", \"Topic10\", \"Topic10\", \"Topic10\", \"Topic10\", \"Topic10\", \"Topic10\", \"Topic10\", \"Topic10\", \"Topic10\", \"Topic10\", \"Topic10\", \"Topic10\", \"Topic10\", \"Topic10\", \"Topic10\", \"Topic10\", \"Topic10\", \"Topic10\", \"Topic10\", \"Topic11\", \"Topic11\", \"Topic11\", \"Topic11\", \"Topic11\", \"Topic11\", \"Topic11\", \"Topic11\", \"Topic11\", \"Topic11\", \"Topic11\", \"Topic11\", \"Topic11\", \"Topic11\", \"Topic11\", \"Topic11\", \"Topic11\", \"Topic11\", \"Topic11\", \"Topic11\", \"Topic11\", \"Topic11\", \"Topic11\", \"Topic11\", \"Topic11\", \"Topic11\", \"Topic11\", \"Topic11\", \"Topic11\", \"Topic11\", \"Topic11\", \"Topic11\", \"Topic11\", \"Topic11\", \"Topic11\", \"Topic11\", \"Topic11\", \"Topic11\", \"Topic11\", \"Topic11\", \"Topic11\", \"Topic11\", \"Topic11\", \"Topic11\", \"Topic11\", \"Topic11\", \"Topic11\", \"Topic11\", \"Topic11\", \"Topic11\", \"Topic11\", \"Topic11\", \"Topic11\", \"Topic11\", \"Topic11\", \"Topic11\", \"Topic12\", \"Topic12\", \"Topic12\", \"Topic12\", \"Topic12\", \"Topic12\", \"Topic12\", \"Topic12\", \"Topic12\", \"Topic12\", \"Topic12\", \"Topic12\", \"Topic12\", \"Topic12\", \"Topic12\", \"Topic12\", \"Topic12\", \"Topic12\", \"Topic12\", \"Topic12\", \"Topic12\", \"Topic12\", \"Topic12\", \"Topic12\", \"Topic12\", \"Topic12\", \"Topic12\", \"Topic12\", \"Topic12\", \"Topic12\", \"Topic12\", \"Topic12\", \"Topic12\", \"Topic12\", \"Topic12\", \"Topic12\", \"Topic12\", \"Topic12\", \"Topic12\", \"Topic12\", \"Topic12\", \"Topic12\", \"Topic12\", \"Topic12\", \"Topic12\", \"Topic12\", \"Topic12\", \"Topic12\", \"Topic12\", \"Topic12\", \"Topic12\", \"Topic12\", \"Topic12\", \"Topic12\", \"Topic12\", \"Topic12\", \"Topic13\", \"Topic13\", \"Topic13\", \"Topic13\", \"Topic13\", \"Topic13\", \"Topic13\", \"Topic13\", \"Topic13\", \"Topic13\", \"Topic13\", \"Topic13\", \"Topic13\", \"Topic13\", \"Topic13\", \"Topic13\", \"Topic13\", \"Topic13\", \"Topic13\", \"Topic13\", \"Topic13\", \"Topic13\", \"Topic13\", \"Topic13\", \"Topic13\", \"Topic13\", \"Topic13\", \"Topic13\", \"Topic13\", \"Topic13\", \"Topic13\", \"Topic13\", \"Topic13\", \"Topic13\", \"Topic13\", \"Topic13\", \"Topic13\", \"Topic13\", \"Topic13\", \"Topic13\", \"Topic13\", \"Topic13\", \"Topic13\", \"Topic13\", \"Topic13\", \"Topic13\", \"Topic13\", \"Topic13\", \"Topic13\", \"Topic13\", \"Topic13\", \"Topic13\", \"Topic13\", \"Topic13\", \"Topic13\", \"Topic14\", \"Topic14\", \"Topic14\", \"Topic14\", \"Topic14\", \"Topic14\", \"Topic14\", \"Topic14\", \"Topic14\", \"Topic14\", \"Topic14\", \"Topic14\", \"Topic14\", \"Topic14\", \"Topic14\", \"Topic14\", \"Topic14\", \"Topic14\", \"Topic14\", \"Topic14\", \"Topic14\", \"Topic14\", \"Topic14\", \"Topic14\", \"Topic14\", \"Topic14\", \"Topic14\", \"Topic14\", \"Topic14\", \"Topic14\", \"Topic14\", \"Topic14\", \"Topic14\", \"Topic14\", \"Topic14\", \"Topic14\", \"Topic14\", \"Topic14\", \"Topic14\", \"Topic14\", \"Topic14\", \"Topic14\", \"Topic14\", \"Topic14\", \"Topic15\", \"Topic15\", \"Topic15\", \"Topic15\", \"Topic15\", \"Topic15\", \"Topic15\", \"Topic15\", \"Topic15\", \"Topic15\", \"Topic15\", \"Topic15\", \"Topic15\", \"Topic15\", \"Topic15\", \"Topic15\", \"Topic15\", \"Topic15\", \"Topic15\", \"Topic15\", \"Topic15\", \"Topic15\", \"Topic15\", \"Topic15\", \"Topic15\", \"Topic15\", \"Topic15\", \"Topic15\", \"Topic15\", \"Topic15\", \"Topic15\", \"Topic15\", \"Topic15\", \"Topic15\", \"Topic15\", \"Topic15\", \"Topic15\", \"Topic15\", \"Topic15\", \"Topic15\", \"Topic15\", \"Topic15\", \"Topic15\", \"Topic15\", \"Topic15\", \"Topic15\", \"Topic15\", \"Topic15\", \"Topic16\", \"Topic16\", \"Topic16\", \"Topic16\", \"Topic16\", \"Topic16\", \"Topic16\", \"Topic16\", \"Topic16\", \"Topic16\", \"Topic16\", \"Topic16\", \"Topic16\", \"Topic16\", \"Topic16\", \"Topic16\", \"Topic16\", \"Topic16\", \"Topic16\", \"Topic16\", \"Topic16\", \"Topic16\", \"Topic16\", \"Topic16\", \"Topic16\", \"Topic16\", \"Topic16\", \"Topic16\", \"Topic16\", \"Topic16\", \"Topic16\", \"Topic16\", \"Topic16\", \"Topic16\", \"Topic16\", \"Topic16\", \"Topic16\", \"Topic16\", \"Topic16\", \"Topic16\", \"Topic16\", \"Topic16\", \"Topic16\", \"Topic16\", \"Topic16\", \"Topic16\", \"Topic16\", \"Topic16\", \"Topic16\", \"Topic16\", \"Topic16\", \"Topic16\", \"Topic17\", \"Topic17\", \"Topic17\", \"Topic17\", \"Topic17\", \"Topic17\", \"Topic17\", \"Topic17\", \"Topic17\", \"Topic17\", \"Topic17\", \"Topic17\", \"Topic17\", \"Topic17\", \"Topic17\", \"Topic17\", \"Topic17\", \"Topic17\", \"Topic17\", \"Topic17\", \"Topic17\", \"Topic17\", \"Topic17\", \"Topic17\", \"Topic17\", \"Topic17\", \"Topic17\", \"Topic17\", \"Topic17\", \"Topic17\", \"Topic17\", \"Topic17\", \"Topic17\", \"Topic17\", \"Topic17\", \"Topic17\", \"Topic17\", \"Topic17\", \"Topic17\", \"Topic17\", \"Topic17\", \"Topic17\", \"Topic17\", \"Topic17\", \"Topic18\", \"Topic18\", \"Topic18\", \"Topic18\", \"Topic18\", \"Topic18\", \"Topic18\", \"Topic18\", \"Topic18\", \"Topic18\", \"Topic18\", \"Topic18\", \"Topic18\", \"Topic18\", \"Topic18\", \"Topic18\", \"Topic18\", \"Topic18\", \"Topic18\", \"Topic18\", \"Topic18\", \"Topic18\", \"Topic18\", \"Topic18\", \"Topic18\", \"Topic18\", \"Topic18\", \"Topic18\", \"Topic18\", \"Topic18\", \"Topic18\", \"Topic18\", \"Topic18\", \"Topic18\", \"Topic18\", \"Topic18\", \"Topic18\", \"Topic18\", \"Topic18\", \"Topic18\", \"Topic18\", \"Topic18\", \"Topic18\", \"Topic18\", \"Topic19\", \"Topic19\", \"Topic19\", \"Topic19\", \"Topic19\", \"Topic19\", \"Topic19\", \"Topic19\", \"Topic19\", \"Topic19\", \"Topic19\", \"Topic19\", \"Topic19\", \"Topic19\", \"Topic19\", \"Topic19\", \"Topic19\", \"Topic19\", \"Topic19\", \"Topic19\", \"Topic19\", \"Topic19\", \"Topic19\", \"Topic19\", \"Topic19\", \"Topic19\", \"Topic19\", \"Topic19\", \"Topic19\", \"Topic19\", \"Topic19\", \"Topic19\", \"Topic19\", \"Topic19\", \"Topic19\", \"Topic19\", \"Topic19\", \"Topic19\", \"Topic19\", \"Topic19\", \"Topic19\", \"Topic19\", \"Topic19\", \"Topic19\", \"Topic19\", \"Topic19\", \"Topic19\", \"Topic19\", \"Topic19\", \"Topic20\", \"Topic20\", \"Topic20\", \"Topic20\", \"Topic20\", \"Topic20\", \"Topic20\", \"Topic20\", \"Topic20\", \"Topic20\", \"Topic20\", \"Topic20\", \"Topic20\", \"Topic20\", \"Topic20\", \"Topic20\", \"Topic20\", \"Topic20\", \"Topic20\", \"Topic20\", \"Topic20\", \"Topic20\", \"Topic20\", \"Topic20\", \"Topic20\", \"Topic20\", \"Topic20\", \"Topic20\", \"Topic20\", \"Topic20\", \"Topic20\", \"Topic20\", \"Topic20\", \"Topic20\", \"Topic20\", \"Topic20\", \"Topic20\", \"Topic20\", \"Topic20\", \"Topic20\", \"Topic20\", \"Topic20\", \"Topic20\", \"Topic20\", \"Topic20\", \"Topic20\", \"Topic20\", \"Topic20\", \"Topic20\", \"Topic21\", \"Topic21\", \"Topic21\", \"Topic21\", \"Topic21\", \"Topic21\", \"Topic21\", \"Topic21\", \"Topic21\", \"Topic21\", \"Topic21\", \"Topic21\", \"Topic21\", \"Topic21\", \"Topic21\", \"Topic21\", \"Topic21\", \"Topic21\", \"Topic21\", \"Topic21\", \"Topic21\", \"Topic21\", \"Topic21\", \"Topic21\", \"Topic21\", \"Topic21\", \"Topic21\", \"Topic21\", \"Topic21\", \"Topic21\", \"Topic21\", \"Topic21\", \"Topic21\", \"Topic21\", \"Topic21\", \"Topic21\", \"Topic21\", \"Topic21\", \"Topic21\", \"Topic21\", \"Topic21\", \"Topic21\", \"Topic21\", \"Topic21\"], \"logprob\": [30.0, 29.0, 28.0, 27.0, 26.0, 25.0, 24.0, 23.0, 22.0, 21.0, 20.0, 19.0, 18.0, 17.0, 16.0, 15.0, 14.0, 13.0, 12.0, 11.0, 10.0, 9.0, 8.0, 7.0, 6.0, 5.0, 4.0, 3.0, 2.0, 1.0, -7.7184, -7.8792, -8.105, -7.1643, -8.3131, -8.1724, -8.3428, -8.0151, -8.5625, -8.5801, -8.5666, -8.4033, -8.6492, -8.1034, -8.6625, -8.7241, -8.6912, -8.5484, -8.7205, -8.7052, -8.7622, -8.7884, -8.8334, -8.8799, -8.8765, -8.4709, -8.8475, -8.9367, -8.8515, -8.9698, -5.3896, -4.9979, -8.4542, -8.3673, -7.0638, -8.2649, -6.6677, -7.9959, -5.4217, -6.2296, -8.4171, -7.1732, -6.8487, -8.0125, -7.1879, -7.8795, -6.6557, -6.8771, -6.5345, -7.6929, -7.4056, -6.7417, -7.1364, -5.2426, -7.3131, -5.8996, -7.1182, -7.3413, -6.6379, -6.0655, -4.5346, -5.6503, -6.8669, -5.7792, -6.59, -4.2854, -4.5826, -5.3744, -4.8123, -5.0032, -6.2876, -5.5775, -6.209, -6.1111, -5.4534, -5.6835, -5.9066, -6.0452, -6.2084, -5.309, -5.8178, -5.3158, -5.7171, -5.7116, -5.4254, -5.9657, -5.9271, -5.8505, -6.0877, -6.4477, -7.4504, -7.5043, -7.5039, -7.8553, -7.0817, -7.0234, -7.8741, -6.6871, -7.9591, -8.0885, -6.5559, -8.1576, -7.1524, -4.6941, -8.2114, -7.7186, -8.2851, -8.2851, -8.3156, -7.1585, -8.1493, -7.3664, -7.8141, -8.3445, -8.5251, -8.4811, -8.3529, -4.6737, -8.5666, -7.0585, -8.1708, -6.8791, -7.8078, -6.1015, -5.6408, -7.0931, -7.0267, -5.3976, -4.0371, -5.3489, -7.3739, -3.9873, -5.0445, -3.6883, -5.9525, -5.5643, -6.4895, -6.8272, -6.0505, -5.2618, -5.2217, -4.0205, -4.9705, -6.3542, -5.5744, -6.4571, -5.0559, -4.1395, -6.2474, -6.4442, -5.0507, -5.8985, -4.5773, -5.3941, -5.1881, -5.5177, -4.8765, -6.0757, -5.6424, -5.7566, -5.6546, -5.78, -5.7224, -5.8315, -5.8029, -7.4299, -7.4109, -7.5762, -7.6017, -7.8426, -7.9603, -7.3623, -7.9913, -7.9811, -7.8715, -7.5223, -8.0677, -7.9557, -7.2514, -8.2742, -8.285, -8.4008, -8.3221, -7.9125, -8.4143, -8.3899, -8.3121, -8.3656, -8.2849, -8.3581, -8.4852, -8.4452, -8.0789, -8.4674, -8.5152, -5.2587, -8.3108, -8.1251, -6.9156, -7.1019, -7.5024, -3.8884, -7.5541, -7.5866, -5.9177, -7.2795, -5.5547, -5.5044, -5.8419, -7.5818, -5.889, -7.0229, -5.2353, -5.7554, -5.7404, -6.345, -5.9646, -5.9918, -6.4541, -6.6798, -6.259, -6.3777, -5.53, -6.7802, -6.6266, -6.192, -5.225, -6.4941, -6.5699, -5.0671, -5.8207, -5.5481, -5.7911, -4.7509, -5.1385, -5.9967, -4.9896, -4.9149, -6.025, -5.971, -5.8572, -5.4188, -5.8482, -5.8162, -6.0278, -5.8943, -5.9114, -5.9504, -7.1814, -7.5521, -7.4595, -7.817, -7.817, -7.833, -7.886, -7.649, -8.0271, -8.0863, -7.4355, -8.215, -8.2665, -8.2948, -8.3012, -8.385, -8.2216, -8.4135, -8.4857, -8.3391, -8.3809, -8.505, -8.508, -8.4552, -8.5465, -8.5642, -8.4857, -8.6033, -8.6253, -8.6769, -8.3348, -7.0176, -7.4109, -7.5067, -5.8633, -8.1005, -7.7359, -7.6256, -7.6116, -7.747, -6.9916, -7.6003, -7.9066, -7.5338, -5.5375, -6.1344, -7.4967, -6.2032, -7.6327, -6.1174, -5.5123, -5.7863, -4.6768, -6.1655, -4.8132, -5.059, -4.4868, -5.506, -5.2251, -5.3808, -6.7429, -6.3784, -5.2852, -6.685, -6.7707, -5.3447, -5.9908, -5.0423, -4.4014, -5.2415, -5.9842, -5.696, -5.5152, -5.7982, -5.7741, -5.729, -6.2092, -5.6383, -5.7103, -5.4564, -5.5663, -5.259, -5.8779, -5.8798, -5.8179, -5.8593, -5.772, -5.8577, -6.9384, -6.46, -6.0283, -7.297, -6.993, -5.7832, -7.9028, -7.9351, -7.9434, -7.7846, -8.0225, -8.1158, -8.1211, -8.176, -7.7298, -8.2898, -8.3738, -6.7224, -8.3425, -8.4543, -8.4828, -7.0626, -8.4889, -8.1467, -8.525, -8.5052, -8.5628, -8.4782, -8.6171, -8.2986, -4.279, -7.9733, -6.5669, -7.7303, -7.7273, -7.1862, -7.6779, -6.0291, -6.9061, -7.5331, -6.0161, -5.0892, -7.1288, -6.1679, -7.2928, -6.5481, -5.4741, -5.8676, -4.5056, -3.64, -5.5733, -5.6406, -5.7716, -6.8811, -3.4758, -6.5287, -6.7251, -5.3182, -5.8766, -4.5062, -6.1163, -5.2836, -5.6346, -5.5141, -5.6461, -5.9451, -5.4324, -6.1152, -4.6718, -5.1667, -4.5773, -4.8855, -5.4488, -5.1704, -5.6421, -5.3203, -5.5758, -5.5901, -5.7118, -5.6755, -5.5614, -5.6166, -5.7214, -6.9595, -6.0174, -5.5604, -7.2538, -7.3021, -7.4919, -7.5817, -7.2848, -7.4463, -7.6761, -7.7818, -7.8571, -7.8498, -7.4835, -7.9616, -8.0372, -8.0468, -7.3597, -8.0497, -8.0643, -8.1011, -8.1334, -6.8637, -8.2047, -8.2212, -8.2891, -6.9411, -8.3272, -8.2624, -8.3469, -7.1761, -7.6365, -6.9632, -4.8722, -5.2541, -6.7271, -5.8577, -5.97, -6.4841, -5.8407, -6.9077, -7.189, -5.9668, -7.1531, -5.1142, -6.6788, -5.3606, -5.4719, -4.6322, -5.3551, -6.3209, -5.4387, -6.3049, -5.7241, -6.4972, -5.2453, -5.562, -5.5787, -5.9394, -5.3107, -6.0667, -6.2735, -5.9369, -5.0362, -5.483, -5.3069, -5.5596, -5.7422, -5.457, -5.9143, -5.6958, -5.7159, -5.981, -6.25, -7.5041, -7.5849, -7.6495, -7.653, -7.4784, -5.3771, -7.7052, -7.8591, -7.5014, -7.3712, -7.1392, -8.0798, -7.7835, -8.0646, -8.0634, -8.1855, -8.2154, -7.8617, -8.258, -7.4063, -8.2707, -8.3597, -8.3498, -8.3762, -8.3906, -7.548, -8.4309, -8.4427, -8.471, -6.0281, -6.3908, -7.5272, -7.222, -7.4945, -7.6451, -8.0693, -6.658, -6.1435, -4.843, -6.2019, -6.6656, -4.5444, -6.022, -6.6174, -4.8122, -5.3646, -4.9381, -5.1295, -4.3513, -5.6588, -4.7041, -4.649, -5.4649, -6.3314, -5.7546, -5.0485, -5.1345, -4.5895, -5.8327, -5.1726, -5.5728, -4.5726, -5.3292, -4.8657, -5.6172, -5.9116, -5.042, -5.3675, -5.4675, -5.802, -5.7098, -5.5929, -5.6979, -5.7255, -5.7888, -5.2901, -6.213, -6.41, -6.1215, -6.2972, -6.934, -7.1561, -7.0975, -7.1846, -7.2191, -7.2683, -7.4335, -7.4243, -7.401, -7.4763, -7.5062, -7.5904, -7.0308, -7.5597, -7.674, -7.6623, -5.32, -7.7063, -7.7138, -7.729, -7.7877, -7.7912, -7.0387, -7.7629, -6.0402, -5.8715, -5.7818, -6.3983, -5.104, -6.7338, -7.1836, -3.8378, -5.6616, -5.7281, -5.997, -5.0941, -6.129, -6.8413, -6.4935, -6.4261, -5.4298, -5.8426, -6.1002, -5.9059, -5.8148, -6.3136, -4.8461, -5.9167, -6.2238, -4.3268, -5.7037, -5.9551, -4.7766, -5.74, -5.3644, -5.3712, -3.9949, -5.4983, -5.3699, -5.3659, -4.9103, -5.747, -5.835, -5.787, -5.4786, -5.6971, -5.5614, -5.7584, -5.7367, -5.7793, -5.457, -6.1972, -6.1048, -6.4128, -6.6442, -6.5919, -6.8091, -6.863, -6.9124, -6.9144, -6.9349, -6.7689, -7.0284, -7.0721, -7.0357, -7.137, -7.1237, -6.7041, -7.1875, -7.1659, -5.4134, -7.2031, -7.255, -7.2456, -7.2766, -7.2795, -7.3305, -7.356, -6.8055, -7.3718, -6.4633, -6.0142, -5.4118, -4.1985, -6.6748, -5.9579, -6.9181, -6.9217, -6.7887, -5.1457, -5.8391, -6.5328, -5.5539, -5.8093, -5.1064, -5.782, -6.4615, -5.8813, -4.7809, -4.6655, -5.7227, -4.1186, -5.4833, -5.5094, -5.1789, -6.2514, -5.6723, -5.0023, -5.3108, -5.0773, -5.8251, -4.741, -5.7235, -5.5564, -5.279, -5.0657, -5.3251, -5.38, -5.1139, -5.7247, -5.3666, -5.4995, -5.6666, -6.4155, -6.5216, -6.5481, -6.814, -6.283, -6.401, -6.8447, -7.0153, -7.0453, -7.0927, -7.1129, -6.4413, -7.1753, -7.1869, -7.2086, -7.2166, -7.217, -7.2334, -7.3245, -7.3311, -7.3329, -7.3442, -6.9325, -7.3478, -7.3733, -7.4035, -5.8456, -7.42, -7.4613, -7.4746, -4.3693, -6.578, -6.9704, -6.6304, -4.7273, -5.2197, -6.6156, -6.1133, -4.6365, -4.3042, -6.104, -5.2384, -6.3963, -6.0789, -6.5129, -2.905, -5.0738, -6.6227, -6.0037, -4.3781, -5.2504, -5.4307, -5.0735, -5.7505, -6.1854, -4.7981, -5.0385, -5.4064, -6.0751, -4.8144, -5.1056, -5.3739, -5.493, -5.6068, -5.291, -5.1391, -5.7839, -5.0838, -5.4623, -5.9042, -5.7552, -5.7527, -5.8515, -4.4195, -5.3198, -5.676, -5.9381, -5.9248, -6.155, -5.8448, -6.3679, -6.479, -6.4939, -5.9123, -6.5301, -6.5221, -6.553, -6.6682, -6.6826, -6.7081, -6.7117, -6.7657, -6.4751, -6.7859, -6.7859, -6.7965, -6.7997, -6.8213, -6.8272, -6.8853, -6.8902, -6.7975, -6.9023, -6.7232, -5.2976, -5.2197, -5.6572, -5.8974, -5.3511, -6.279, -6.5857, -6.2794, -5.6099, -6.009, -6.5086, -5.9071, -6.2563, -6.4392, -5.6948, -6.0372, -5.9832, -6.2598, -6.0115, -6.2193, -6.0244, -6.2091, -6.1241, -6.3177, -6.3168, -5.5999, -5.7218, -5.7518, -5.9241, -6.052, -6.1137, -4.4176, -6.2535, -6.3198, -6.2472, -6.4327, -6.537, -6.5626, -6.5664, -6.1596, -6.718, -5.96, -6.8231, -6.8786, -6.8942, -6.8, -6.9156, -6.931, -6.9598, -6.9136, -5.6802, -7.0026, -6.9257, -7.0299, -7.031, -6.5018, -6.588, -6.2292, -6.5281, -5.6947, -6.1669, -5.9213, -6.1345, -5.5709, -6.0707, -5.5551, -5.6213, -5.1819, -5.5104, -5.9472, -5.9041, -5.5407, -5.9909, -5.982, -5.5469, -5.7541, -5.64, -5.8497, -6.1421, -5.9646, -5.9823, -4.9863, -5.1488, -5.352, -5.4995, -5.5023, -5.635, -5.7248, -5.7619, -5.9543, -5.3095, -6.0589, -6.0687, -6.0817, -6.3388, -6.3543, -6.4295, -6.4512, -6.4755, -6.6425, -6.677, -6.7014, -5.6687, -6.7841, -6.7963, -6.8159, -6.8348, -6.8382, -6.8402, -6.9043, -6.9161, -5.2364, -4.9222, -6.4567, -3.8712, -4.5525, -6.1583, -3.7833, -5.1132, -6.0459, -5.7229, -6.134, -4.6234, -5.7921, -4.4144, -4.565, -4.9553, -5.5381, -5.8086, -5.2482, -5.5598, -5.7347, -5.8188, -5.4918, -5.5871, -5.5767, -4.5028, -4.9815, -5.53, -5.5114, -5.7292, -5.8007, -6.0441, -5.0949, -6.0045, -6.1335, -6.1863, -6.2285, -6.2622, -6.2969, -6.3819, -6.1668, -6.4205, -6.4302, -6.4218, -6.4492, -6.4717, -6.5516, -6.5788, -6.5845, -6.6672, -6.6703, -6.6821, -6.7713, -6.7882, -6.7942, -4.943, -3.8949, -3.3402, -3.3488, -6.2917, -5.5726, -6.3008, -6.1192, -4.7357, -5.8578, -6.1853, -5.7588, -5.994, -6.2704, -4.6636, -5.3555, -5.5723, -5.6128, -5.7655, -5.9974, -4.429, -6.0221, -5.9094, -6.1982, -6.48, -6.4935, -6.5045, -6.1252, -6.5495, -6.5728, -4.7257, -6.5804, -6.5899, -6.621, -6.623, -6.6259, -6.6298, -6.6568, -6.6802, -6.6824, -6.6909, -6.715, -6.36, -6.8047, -6.4995, -4.1558, -6.16, -6.6023, -5.8606, -6.2874, -5.8425, -5.3023, -6.0602, -6.4363, -5.7377, -5.9434, -5.9003, -6.139, -6.2547, -6.3134, -6.2302, -6.3569, -5.0592, -5.6964, -5.8196, -5.7891, -6.0678, -6.0376, -6.2762, -6.2895, -6.3831, -6.4219, -6.3573, -6.4475, -6.4542, -6.0698, -6.5317, -6.5337, -6.647, -6.651, -6.647, -6.6556, -6.7623, -6.7747, -6.7809, -6.8159, -6.8663, -6.8429, -6.893, -6.8927, -6.9192, -6.9501, -4.9367, -4.5403, -6.3412, -3.6778, -5.4718, -6.305, -5.2042, -4.1705, -6.4851, -6.1425, -5.2236, -4.6023, -5.072, -5.8224, -5.2452, -6.3655, -5.6743, -6.3884, -6.3314, -6.2586, -6.305, -6.3567, -4.9003, -5.0803, -5.1219, -5.3489, -5.6343, -5.6456, -5.7351, -5.8101, -5.7939, -5.3736, -6.0052, -6.0626, -6.0903, -6.0834, -6.1207, -6.2249, -6.2987, -6.308, -6.3188, -6.339, -6.0956, -6.4078, -6.4071, -6.409, -6.5138, -6.5194, -6.533, -6.4235, -6.6354, -6.6114, -4.6005, -5.9375, -4.4444, -5.7479, -5.4107, -4.8994, -5.4836, -5.8726, -5.7292, -5.7339, -6.1951, -6.1137, -6.0883, -6.1754, -5.5096, -5.5536, -4.6545, -5.5457, -5.8899, -5.9033, -6.0607, -6.0722, -6.1421, -6.1485, -6.4058, -6.4184, -6.4786, -6.4959, -6.4689, -6.5735, -6.5903, -6.6007, -5.2772, -6.6407, -6.5194, -6.7051, -6.714, -6.7262, -5.2905, -6.7721, -6.6425, -6.1456, -6.8428, -6.8631, -5.1451, -6.5474, -6.3404, -5.1136, -5.5346, -4.5825, -4.6314, -6.3082, -5.7298, -6.083, -6.3731, -6.2213, -6.3687, -6.4015, -4.0341, -5.4193, -5.5012, -5.9687, -6.0434, -6.0967, -6.1559, -5.8967, -6.3702, -6.4254, -6.4701, -6.5452, -6.556, -6.6062, -6.6818, -6.6931, -6.7017, -6.7037, -6.753, -6.8062, -6.8067, -6.8558, -6.8653, -6.8772, -6.8798, -6.8847, -6.9241, -6.9468, -6.9833, -6.9743, -6.3022, -5.4256, -5.7483, -4.9266, -5.0982, -6.1529, -5.9896, -6.4085, -5.8345, -4.9775, -5.6011, -4.9455, -6.1877, -5.5615, -5.6384, -6.2823, -6.351, -6.2147, -6.3692, -3.7973, -5.6269, -5.707, -6.1027, -6.2937, -6.3032, -6.2827, -6.2151, -4.1653, -6.5289, -6.6845, -6.6716, -6.7934, -6.8563, -6.8602, -6.1421, -6.9025, -6.9017, -6.9094, -6.6422, -7.0193, -7.0265, -7.0603, -7.0701, -7.0737, -7.1006, -7.1192, -6.9119, -6.8845, -7.2087, -6.1492, -6.516, -6.6382, -5.9086, -6.5403, -3.8846, -5.6055, -5.1434, -5.7452, -6.2408, -5.9009, -6.628, -6.1527, -6.3955, -6.4673, -6.3001, -6.3016, -6.5192, -6.559, -5.087, -4.3319, -5.8646, -5.9587, -6.2595, -6.2813, -5.9859, -6.3189, -6.3961, -6.4459, -6.4577, -6.5089, -6.5196, -6.5278, -6.5485, -6.5626, -6.5257, -6.6722, -6.667, -6.6841, -6.7138, -6.7375, -6.8498, -6.882, -6.8937, -6.8937, -6.9174, -7.0132, -7.02, -7.026, -6.0845, -5.6342, -4.8112, -6.4002, -6.4887, -6.5846, -5.3055, -5.4392, -5.5483, -6.1737, -6.0318, -6.5253, -6.4381, -6.563], \"loglift\": [30.0, 29.0, 28.0, 27.0, 26.0, 25.0, 24.0, 23.0, 22.0, 21.0, 20.0, 19.0, 18.0, 17.0, 16.0, 15.0, 14.0, 13.0, 12.0, 11.0, 10.0, 9.0, 8.0, 7.0, 6.0, 5.0, 4.0, 3.0, 2.0, 1.0, 1.6687, 1.6665, 1.6627, 1.6604, 1.6595, 1.6576, 1.6572, 1.6567, 1.6545, 1.6538, 1.6523, 1.6522, 1.652, 1.6517, 1.6512, 1.6499, 1.6498, 1.6498, 1.6492, 1.6488, 1.6482, 1.6478, 1.6456, 1.6448, 1.6437, 1.6435, 1.6426, 1.6426, 1.6417, 1.6415, 1.6137, 1.6054, 1.6367, 1.633, 1.6057, 1.6259, 1.5505, 1.6099, 1.4652, 1.5118, 1.6282, 1.5289, 1.4983, 1.5953, 1.5213, 1.5829, 1.455, 1.4733, 1.4312, 1.5497, 1.4878, 1.3787, 1.4376, 1.1273, 1.4596, 1.1634, 1.3987, 1.4433, 1.274, 1.1041, 0.6797, 0.9348, 1.2663, 0.8916, 1.1674, 0.3361, 0.3225, 0.6348, 0.3451, 0.4243, 0.961, 0.5092, 0.8629, 0.7919, 0.3218, 0.4301, 0.5898, 0.6936, 0.824, -0.1584, 0.3184, -0.2845, 0.1314, 0.0749, -0.423, 0.3588, 0.246, -0.1739, -0.4485, 1.8392, 1.8388, 1.8354, 1.8352, 1.8352, 1.8348, 1.8337, 1.8335, 1.8335, 1.8334, 1.8311, 1.8305, 1.83, 1.8297, 1.8286, 1.8286, 1.8272, 1.8269, 1.8269, 1.8262, 1.8262, 1.8261, 1.8247, 1.8244, 1.8232, 1.8206, 1.8202, 1.8192, 1.8185, 1.8183, 1.8071, 1.8182, 1.8034, 1.8113, 1.7763, 1.7473, 1.7896, 1.7802, 1.6959, 1.5691, 1.6447, 1.7711, 1.514, 1.5851, 1.4623, 1.654, 1.6149, 1.6897, 1.7205, 1.61, 1.4967, 1.4897, 1.1938, 1.3557, 1.6106, 1.4085, 1.6196, 1.1682, 0.7655, 1.4975, 1.5726, 0.9691, 1.2477, 0.454, 0.8523, 0.6604, 0.8504, 0.281, 1.1283, 0.1327, 0.3571, -0.0153, 0.0389, -0.2948, -0.1549, -0.8004, 1.993, 1.9927, 1.9907, 1.9905, 1.9866, 1.9851, 1.985, 1.9841, 1.984, 1.9831, 1.9823, 1.9812, 1.9796, 1.979, 1.9782, 1.9747, 1.9746, 1.974, 1.974, 1.9738, 1.9737, 1.9731, 1.973, 1.9727, 1.9725, 1.9719, 1.9711, 1.9711, 1.9709, 1.9708, 1.9563, 1.9707, 1.9681, 1.9548, 1.9528, 1.9594, 1.854, 1.9534, 1.9439, 1.8621, 1.9263, 1.8162, 1.8055, 1.8255, 1.9338, 1.8246, 1.8921, 1.7515, 1.7839, 1.7782, 1.8163, 1.7657, 1.7568, 1.8128, 1.7903, 1.675, 1.6901, 1.4068, 1.7426, 1.6765, 1.4795, 0.9991, 1.5358, 1.5686, 0.7517, 1.1129, 0.9485, 1.0864, 0.2803, 0.5008, 1.1161, 0.1678, 0.0875, 1.0331, 0.9741, 0.5919, -0.5137, 0.3982, 0.2036, 0.7773, -0.68, -0.4839, -1.3289, 2.0835, 2.0792, 2.0754, 2.0743, 2.0743, 2.074, 2.0731, 2.0713, 2.0706, 2.069, 2.0665, 2.0646, 2.0644, 2.0636, 2.0615, 2.0607, 2.0602, 2.0599, 2.0572, 2.057, 2.057, 2.0566, 2.0566, 2.0554, 2.0549, 2.0529, 2.0525, 2.0519, 2.0515, 2.0496, 2.0463, 2.014, 2.0241, 2.0175, 1.9359, 2.0363, 2.0161, 2.0053, 1.9979, 2.0023, 1.9166, 1.9765, 2.0055, 1.9568, 1.6739, 1.7179, 1.9282, 1.6919, 1.9498, 1.6537, 1.4896, 1.5483, 1.3031, 1.622, 1.2869, 1.345, 1.1879, 1.4312, 1.2866, 1.3302, 1.7216, 1.5962, 1.2023, 1.6629, 1.6904, 1.1628, 1.3825, 0.9273, 0.6299, 0.9316, 1.2822, 1.0658, 0.9096, 1.0848, 1.0633, 1.0115, 1.326, 0.8766, 0.7662, 0.1829, 0.2202, -0.6375, 0.7959, 0.6503, 0.3183, 0.471, -0.7696, -0.0825, 2.1703, 2.1695, 2.169, 2.164, 2.1634, 2.1587, 2.1582, 2.1557, 2.1552, 2.1544, 2.1528, 2.1524, 2.1505, 2.1477, 2.1477, 2.1454, 2.1446, 2.1426, 2.1424, 2.1422, 2.1404, 2.1401, 2.14, 2.1395, 2.1395, 2.1392, 2.138, 2.1358, 2.1356, 2.1333, 2.1313, 2.1262, 2.0926, 2.1204, 2.1193, 2.0982, 2.1075, 2.0388, 2.0734, 2.0998, 1.9386, 1.8409, 2.0366, 1.9253, 2.0451, 1.95, 1.7732, 1.8107, 1.5644, 1.3625, 1.7021, 1.7156, 1.6999, 1.9367, 1.1457, 1.8578, 1.8716, 1.4417, 1.6141, 1.1704, 1.6874, 1.3016, 1.4138, 1.3558, 1.3705, 1.5342, 1.2014, 1.6045, 0.4856, 0.8425, 0.3278, 0.5421, 1.0451, 0.6781, 1.1633, 0.6995, 0.8021, 0.8348, 1.0688, 0.8713, 0.2251, 0.1585, 0.9843, 2.2293, 2.2258, 2.2245, 2.2244, 2.2239, 2.2234, 2.222, 2.2195, 2.2192, 2.2182, 2.2179, 2.2166, 2.2159, 2.2158, 2.2139, 2.2122, 2.2117, 2.2116, 2.2116, 2.2116, 2.2105, 2.2094, 2.2075, 2.2074, 2.2054, 2.2046, 2.2035, 2.2034, 2.2028, 2.2026, 2.1999, 2.2007, 2.1933, 2.1316, 2.1236, 2.1531, 2.1094, 2.0879, 2.1156, 2.0603, 2.1352, 2.1503, 2.0528, 2.1462, 1.8185, 1.914, 1.4768, 1.4111, 1.0426, 1.1524, 1.5791, 1.0762, 1.5652, 1.1575, 1.6655, 0.7345, 0.9149, 0.8978, 1.1361, 0.5081, 1.2448, 1.3752, 0.9445, -0.4147, 0.1563, -0.3044, 0.117, 0.3579, -0.2995, 0.4103, -0.5452, -0.6846, 0.3493, 2.6985, 2.6979, 2.6956, 2.6943, 2.6932, 2.692, 2.6886, 2.6885, 2.6871, 2.6843, 2.6827, 2.6826, 2.6776, 2.6749, 2.6748, 2.6741, 2.6734, 2.6705, 2.6703, 2.6696, 2.6685, 2.6666, 2.664, 2.6639, 2.6629, 2.6618, 2.6617, 2.6589, 2.6586, 2.6566, 2.6189, 2.5984, 2.6308, 2.6173, 2.6266, 2.6327, 2.6427, 2.4906, 2.4093, 2.2222, 2.3967, 2.4547, 1.8335, 2.1257, 2.268, 1.718, 1.8866, 1.7506, 1.5043, 1.0762, 1.6301, 1.0824, 0.9902, 1.4566, 1.9549, 1.5352, 0.9211, 0.9522, 0.4418, 1.4159, 0.8366, 1.0969, 0.0489, 0.8069, 0.1367, 1.0801, 1.3773, -0.1369, 0.4076, 0.2091, 1.1717, 0.7771, 0.2556, 0.3722, 0.3881, 0.9731, 3.0452, 3.0423, 3.0413, 3.0369, 3.0361, 3.033, 3.0278, 3.0265, 3.0265, 3.0263, 3.0236, 3.0201, 3.0192, 3.0192, 3.0184, 3.0175, 3.0139, 3.0131, 3.0118, 3.0112, 3.0101, 3.0097, 3.0093, 3.0092, 3.0087, 3.006, 3.0045, 3.0043, 3.0041, 3.0021, 2.9821, 2.9663, 2.9702, 2.916, 2.9757, 2.9912, 2.7896, 2.899, 2.9011, 2.9181, 2.8471, 2.9055, 2.9641, 2.9179, 2.8876, 2.7077, 2.7747, 2.8154, 2.7672, 2.7289, 2.8415, 2.464, 2.6991, 2.7833, 2.1698, 2.6061, 2.6063, 1.8942, 2.4708, 2.037, 2.0347, 0.6266, 2.0061, 1.8266, 1.5738, 0.6959, 2.219, 2.3301, 2.1862, 1.0179, 1.4481, -0.6563, 1.2186, -0.3091, 0.5452, 4.1299, 4.1144, 4.1079, 4.1072, 4.0969, 4.0936, 4.091, 4.0881, 4.0853, 4.0852, 4.0839, 4.0792, 4.0779, 4.0753, 4.0749, 4.0711, 4.0697, 4.0675, 4.0674, 4.0635, 4.0628, 4.0626, 4.0617, 4.0613, 4.0606, 4.0601, 4.0545, 4.054, 4.0527, 4.0514, 4.0351, 4.0174, 3.9669, 3.769, 4.0029, 3.9156, 4.0232, 4.0103, 3.9652, 3.5241, 3.6445, 3.8342, 3.3876, 3.4614, 3.0917, 3.4172, 3.7731, 3.4375, 2.6867, 2.5458, 3.2038, 1.8612, 2.9735, 2.9778, 2.4524, 3.5316, 2.8879, 2.1265, 2.4042, 2.1185, 3.0, 1.2286, 2.6688, 2.2091, 1.432, 0.609, 1.1824, 1.0449, -0.4923, 2.4222, -0.3353, 0.6007, 1.6987, 4.3697, 4.364, 4.3631, 4.3466, 4.3462, 4.3459, 4.3444, 4.3321, 4.3299, 4.3257, 4.324, 4.3193, 4.3181, 4.3171, 4.3149, 4.3144, 4.3143, 4.3125, 4.3033, 4.3026, 4.3021, 4.301, 4.2997, 4.2995, 4.2973, 4.2943, 4.2942, 4.2925, 4.2876, 4.2861, 4.1533, 4.2366, 4.2444, 4.1873, 3.891, 3.9397, 4.1756, 4.0685, 3.659, 3.4156, 3.9457, 3.6466, 4.0395, 3.9193, 4.0606, 2.5963, 3.4183, 4.0929, 3.7561, 2.8184, 3.2845, 3.3841, 3.0942, 3.3518, 3.6819, 2.1756, 2.3148, 2.4887, 3.4082, 1.1552, 1.6054, 1.9707, 2.188, 2.3082, 1.2207, 0.6474, 2.5567, -0.1787, 0.5176, 2.8312, 1.7621, 1.5574, -0.0763, 5.1256, 5.1083, 5.0951, 5.0806, 5.0716, 5.0666, 5.0633, 5.0399, 5.0392, 5.0373, 5.0351, 5.0329, 5.0226, 5.0207, 5.0194, 5.0171, 5.0147, 5.014, 5.0073, 5.0051, 5.0051, 5.0051, 5.0035, 5.0033, 5.0003, 4.9988, 4.9915, 4.9909, 4.9907, 4.9893, 4.9883, 4.9642, 4.8934, 4.8944, 4.9128, 4.7852, 4.9213, 4.9512, 4.8715, 4.668, 4.7139, 4.8689, 4.4266, 4.4529, 4.4781, 2.7048, 3.2239, 2.9566, 3.8235, 0.8259, 2.3781, -0.2055, 1.6609, -0.3817, 0.564, -0.0927, 5.2797, 5.2729, 5.2714, 5.2597, 5.2506, 5.2456, 5.24, 5.2326, 5.2266, 5.2194, 5.2134, 5.2006, 5.1994, 5.1984, 5.1882, 5.1761, 5.174, 5.1616, 5.1517, 5.1513, 5.1495, 5.1477, 5.1451, 5.1387, 5.1369, 5.1367, 5.1317, 5.1307, 5.1273, 5.1273, 5.124, 5.1049, 5.0649, 5.0401, 4.7664, 4.8503, 4.5351, 4.6137, 4.147, 4.4448, 3.9626, 3.6559, 2.9808, 3.3835, 4.0537, 3.9312, 3.1531, 3.8872, 3.7174, 1.9716, 2.4094, 0.3398, 1.0333, 4.0959, 0.8727, 0.9504, 5.3791, 5.3749, 5.3669, 5.3599, 5.3598, 5.3514, 5.3471, 5.3448, 5.3311, 5.3301, 5.3225, 5.3213, 5.3205, 5.2938, 5.2929, 5.2825, 5.2795, 5.2719, 5.2565, 5.2516, 5.2471, 5.2411, 5.2342, 5.2329, 5.2297, 5.2267, 5.226, 5.2191, 5.2146, 5.2124, 5.1698, 5.1518, 5.2004, 5.0113, 5.054, 5.1755, 4.7983, 4.9954, 5.098, 4.8783, 4.9952, 3.5379, 4.584, 3.1249, 3.1653, 3.3901, 4.0859, 4.4928, 3.5601, 3.826, 4.2207, 4.2667, 2.7495, 1.4168, -0.5455, 5.47, 5.46, 5.4446, 5.4398, 5.4211, 5.4203, 5.4076, 5.4026, 5.4016, 5.3986, 5.394, 5.3896, 5.3859, 5.3819, 5.3717, 5.3693, 5.3669, 5.3655, 5.3634, 5.3631, 5.3602, 5.3491, 5.3451, 5.3442, 5.3316, 5.3306, 5.3292, 5.3144, 5.3105, 5.3104, 5.2811, 5.2363, 5.0603, 5.0508, 5.2272, 4.9641, 4.9775, 4.59, 1.4884, 3.3851, 3.9175, -0.5445, 1.0779, 2.8956, 5.4938, 5.4688, 5.4481, 5.4444, 5.4443, 5.4238, 5.4227, 5.4194, 5.4156, 5.4055, 5.3716, 5.3697, 5.3675, 5.3666, 5.36, 5.3582, 5.3575, 5.3572, 5.3557, 5.3509, 5.3504, 5.3498, 5.3476, 5.3453, 5.341, 5.3408, 5.3398, 5.3358, 5.3338, 5.3202, 5.2592, 4.4824, 5.1148, 5.2596, 4.4678, 4.9074, 4.3884, 2.7701, 4.2242, 4.9445, 2.6948, 3.2617, 2.8639, 3.5911, 3.8215, 3.5683, 2.693, -1.1994, 5.4995, 5.4604, 5.4583, 5.4559, 5.4367, 5.4346, 5.4134, 5.4122, 5.4013, 5.3964, 5.396, 5.3926, 5.392, 5.3885, 5.3809, 5.3808, 5.3634, 5.3628, 5.3627, 5.3598, 5.3438, 5.3417, 5.3406, 5.3297, 5.3243, 5.3226, 5.3195, 5.3192, 5.3137, 5.307, 5.2894, 5.2649, 5.2707, 4.4949, 4.845, 5.1287, 4.6094, 3.9929, 5.1239, 4.7448, 3.7507, 2.8328, 2.8952, 3.9553, 2.6558, 4.6384, 1.4012, 4.711, 3.1614, 0.6995, 2.1409, 2.5648, 5.8124, 5.8041, 5.8, 5.7887, 5.7651, 5.7618, 5.7551, 5.7497, 5.7495, 5.7257, 5.7256, 5.7201, 5.7165, 5.715, 5.713, 5.6967, 5.6868, 5.6853, 5.6823, 5.6799, 5.6688, 5.6687, 5.6687, 5.666, 5.6496, 5.6485, 5.6421, 5.6364, 5.6255, 5.6254, 5.5982, 5.5401, 5.0228, 5.2674, 4.9169, 4.2134, 4.6432, 4.7704, 3.9682, 3.8426, 4.9674, 4.3079, 3.9299, 3.3295, 5.9196, 5.9157, 5.9029, 5.8843, 5.8784, 5.8749, 5.8552, 5.8523, 5.8426, 5.8418, 5.7955, 5.7932, 5.7806, 5.7773, 5.7712, 5.7605, 5.7569, 5.7547, 5.7506, 5.7437, 5.7393, 5.7282, 5.7276, 5.7246, 5.7246, 5.7124, 5.707, 5.7051, 5.6934, 5.6864, 5.6267, 5.6458, 5.5792, 5.0458, 5.214, 4.3242, 3.9241, 5.402, 3.9127, 4.2561, 5.0891, 4.0275, 4.1056, 3.5328, 6.0608, 6.0164, 6.0127, 5.9557, 5.9433, 5.9353, 5.9254, 5.905, 5.8831, 5.8728, 5.8626, 5.8457, 5.8429, 5.8301, 5.8114, 5.8083, 5.8061, 5.8056, 5.7908, 5.7762, 5.7758, 5.7602, 5.7595, 5.7561, 5.7553, 5.7538, 5.7413, 5.7341, 5.7185, 5.7183, 5.6646, 5.5141, 5.5424, 5.4063, 5.3287, 5.5174, 5.3395, 5.5327, 5.2086, 4.0437, 4.6099, 3.7747, 4.5576, 2.0242, 2.0631, 3.6086, 3.9964, 2.3732, 3.0014, 6.123, 6.0922, 6.0598, 6.0201, 5.9829, 5.981, 5.9708, 5.9666, 5.9599, 5.9281, 5.8859, 5.8821, 5.853, 5.834, 5.8317, 5.8267, 5.8187, 5.8165, 5.8163, 5.7853, 5.777, 5.7759, 5.7621, 5.7597, 5.7507, 5.7484, 5.7414, 5.728, 5.7134, 5.706, 5.6513, 5.6315, 5.6223, 5.3321, 5.5198, 4.0812, 4.9179, 4.3604, 4.8127, 5.1745, 4.5824, 5.3529, 4.2587, 4.7571, 4.6286, 3.327, 1.043, 3.1169, -0.2328, 6.1495, 6.0892, 6.065, 6.0475, 5.9938, 5.9902, 5.9855, 5.973, 5.9649, 5.9511, 5.9402, 5.9376, 5.9349, 5.9327, 5.9271, 5.9234, 5.9208, 5.8938, 5.8916, 5.8895, 5.8801, 5.8739, 5.8383, 5.8295, 5.8257, 5.8235, 5.8172, 5.7843, 5.7822, 5.7799, 5.6121, 5.337, 4.5568, 5.4442, 5.4718, 5.4522, 3.7592, 3.6739, 3.4683, 4.5672, 3.4959, 5.1679, 3.1084, 4.2498]}, \"token.table\": {\"Topic\": [21, 4, 9, 11, 13, 8, 6, 16, 17, 18, 21, 1, 2, 3, 4, 11, 5, 5, 17, 17, 16, 11, 20, 17, 17, 6, 5, 21, 11, 6, 20, 16, 21, 7, 4, 7, 9, 11, 7, 3, 5, 7, 11, 6, 1, 2, 3, 4, 5, 6, 7, 11, 12, 16, 1, 2, 3, 4, 5, 6, 7, 9, 13, 1, 6, 15, 18, 20, 1, 2, 15, 20, 15, 1, 2, 3, 4, 6, 7, 8, 9, 10, 5, 11, 12, 9, 1, 2, 3, 4, 6, 7, 3, 4, 9, 12, 1, 2, 6, 7, 8, 12, 13, 11, 4, 6, 7, 9, 12, 12, 4, 18, 8, 2, 6, 16, 2, 16, 1, 2, 4, 5, 7, 8, 21, 5, 1, 3, 4, 6, 7, 21, 11, 1, 2, 3, 4, 6, 7, 9, 10, 1, 2, 3, 4, 6, 7, 9, 10, 12, 5, 4, 6, 11, 17, 1, 2, 3, 4, 5, 6, 7, 8, 9, 10, 11, 12, 14, 15, 16, 6, 13, 2, 4, 6, 7, 21, 13, 21, 6, 21, 9, 12, 4, 9, 14, 11, 17, 11, 2, 2, 6, 8, 17, 19, 20, 1, 2, 3, 4, 5, 6, 7, 8, 9, 12, 16, 5, 1, 1, 2, 3, 4, 5, 6, 7, 8, 9, 10, 1, 2, 6, 12, 20, 6, 15, 3, 11, 2, 19, 1, 2, 4, 6, 17, 4, 18, 8, 1, 2, 3, 4, 5, 6, 7, 8, 14, 16, 1, 2, 3, 4, 5, 6, 7, 8, 11, 1, 2, 3, 4, 5, 6, 7, 9, 11, 12, 16, 2, 21, 2, 10, 1, 2, 3, 4, 5, 6, 7, 8, 10, 11, 15, 2, 4, 9, 12, 14, 1, 2, 3, 4, 5, 6, 7, 8, 9, 10, 1, 2, 3, 6, 11, 9, 12, 12, 11, 10, 1, 3, 5, 16, 4, 1, 2, 3, 4, 5, 6, 7, 8, 9, 10, 11, 11, 2, 3, 6, 11, 9, 2, 11, 1, 4, 8, 10, 11, 19, 1, 2, 3, 4, 5, 6, 7, 8, 9, 10, 11, 12, 15, 9, 2, 10, 12, 7, 9, 18, 6, 1, 3, 5, 7, 10, 13, 2, 11, 14, 6, 8, 4, 12, 3, 8, 10, 4, 12, 3, 17, 1, 2, 4, 6, 8, 12, 16, 13, 20, 14, 4, 17, 1, 2, 6, 11, 4, 3, 13, 1, 12, 8, 2, 1, 6, 6, 9, 15, 1, 2, 3, 4, 5, 6, 7, 8, 16, 1, 17, 9, 17, 16, 7, 1, 13, 13, 3, 13, 8, 1, 4, 5, 7, 10, 10, 3, 1, 2, 3, 6, 13, 9, 15, 1, 2, 3, 4, 5, 6, 7, 8, 10, 1, 2, 3, 4, 5, 6, 7, 8, 11, 1, 7, 12, 16, 1, 2, 3, 4, 5, 6, 7, 8, 9, 12, 13, 16, 1, 2, 3, 4, 5, 6, 7, 8, 9, 14, 1, 2, 3, 4, 5, 1, 2, 3, 4, 5, 6, 7, 12, 12, 19, 12, 21, 13, 8, 12, 1, 4, 17, 6, 11, 2, 3, 6, 7, 9, 11, 16, 4, 6, 11, 12, 16, 1, 12, 2, 15, 3, 10, 1, 2, 3, 4, 5, 6, 7, 8, 14, 1, 5, 7, 1, 5, 6, 7, 8, 14, 1, 2, 3, 4, 5, 6, 7, 8, 14, 18, 3, 5, 2, 5, 6, 1, 2, 5, 3, 6, 11, 1, 2, 4, 5, 10, 1, 2, 3, 4, 5, 6, 7, 8, 9, 10, 2, 4, 10, 7, 20, 6, 13, 1, 2, 4, 5, 6, 8, 3, 4, 6, 9, 12, 13, 9, 1, 2, 3, 4, 5, 6, 7, 9, 5, 16, 1, 5, 15, 1, 1, 5, 19, 6, 2, 3, 4, 5, 6, 7, 9, 1, 20, 1, 2, 3, 4, 5, 6, 7, 8, 9, 14, 3, 1, 2, 3, 4, 6, 15, 21, 1, 1, 2, 3, 4, 5, 6, 7, 8, 9, 11, 14, 1, 2, 3, 4, 5, 7, 8, 12, 18, 9, 17, 1, 2, 3, 4, 6, 7, 9, 12, 19, 1, 2, 3, 6, 11, 13, 2, 3, 6, 11, 1, 2, 4, 6, 8, 17, 1, 2, 6, 7, 8, 17, 17, 13, 21, 14, 18, 18, 1, 2, 3, 17, 20, 1, 2, 3, 4, 5, 7, 15, 17, 19, 10, 1, 2, 3, 4, 5, 6, 7, 8, 9, 11, 18, 1, 4, 6, 15, 18, 18, 11, 2, 12, 1, 2, 3, 4, 5, 6, 7, 8, 9, 11, 7, 1, 3, 5, 7, 9, 14, 4, 6, 12, 2, 6, 2, 14, 1, 2, 3, 4, 5, 6, 1, 4, 5, 6, 9, 1, 2, 3, 5, 7, 8, 1, 3, 7, 15, 1, 17, 1, 2, 3, 5, 6, 7, 8, 11, 14, 1, 2, 3, 4, 6, 8, 10, 11, 14, 12, 16, 21, 2, 11, 9, 17, 10, 8, 21, 19, 1, 2, 3, 6, 7, 8, 15, 12, 5, 6, 7, 20, 1, 2, 3, 4, 10, 20, 4, 12, 4, 6, 12, 16, 13, 1, 2, 3, 4, 5, 6, 7, 8, 9, 10, 11, 12, 13, 16, 7, 11, 20, 9, 12, 3, 11, 10, 12, 18, 15, 1, 2, 3, 4, 5, 6, 7, 8, 9, 10, 12, 20, 1, 2, 3, 4, 5, 6, 7, 8, 9, 10, 12, 14, 21, 16, 3, 16, 21, 1, 2, 3, 4, 5, 6, 7, 8, 2, 3, 4, 6, 7, 9, 11, 12, 1, 2, 3, 4, 5, 6, 7, 9, 11, 12, 15, 15, 18, 4, 6, 9, 15, 20, 1, 1, 2, 3, 4, 5, 6, 7, 8, 9, 10, 14, 15, 1, 2, 5, 8, 5, 5, 1, 2, 3, 4, 5, 6, 7, 8, 12, 16, 14, 1, 5, 8, 14, 17, 21, 20, 1, 2, 4, 6, 8, 11, 1, 2, 3, 7, 8, 9, 21, 6, 8, 1, 2, 3, 4, 5, 6, 2, 3, 6, 3, 19, 18, 18, 3, 18, 3, 18, 18, 1, 2, 3, 4, 5, 6, 7, 8, 10, 10, 1, 3, 4, 1, 2, 3, 4, 5, 6, 7, 8, 2, 4, 6, 13, 16, 14, 4, 9, 1, 2, 3, 4, 7, 10, 18, 2, 3, 2, 1, 7, 19, 20, 19, 1, 2, 3, 4, 5, 6, 7, 8, 10, 1, 20, 20, 1, 2, 3, 4, 5, 6, 7, 12, 15, 16, 2, 3, 4, 5, 6, 12, 16, 2, 3, 4, 5, 6, 16, 6, 13, 8, 2, 8, 1, 2, 8, 9, 16, 1, 2, 3, 4, 5, 6, 7, 13, 10, 10, 10, 1, 2, 3, 4, 6, 10, 1, 2, 3, 4, 6, 10, 19, 1, 2, 6, 10, 12, 2, 3, 4, 6, 7, 19, 4, 17, 1, 4, 5, 7, 17, 1, 4, 5, 4, 5, 7, 9, 20, 3, 4, 5, 7, 8, 1, 5, 7, 8, 4, 7, 7, 1, 2, 21, 1, 2, 3, 4, 7, 8, 9, 21, 5, 11, 1, 2, 3, 4, 5, 6, 7, 8, 3, 8, 8, 17, 21, 8, 20, 17, 21, 1, 3, 4, 5, 6, 12, 16, 19, 8, 1, 2, 3, 4, 5, 6, 7, 8, 1, 2, 3, 4, 5, 6, 7, 9, 10, 11, 6, 8, 19, 1, 2, 3, 4, 5, 6, 7, 8, 11, 12, 1, 2, 3, 4, 5, 6, 7, 16, 13, 3, 1, 2, 4, 6, 8, 12, 2, 7, 1, 2, 3, 4, 6, 8, 10, 21, 16, 16, 7, 1, 2, 3, 8, 1, 2, 3, 4, 5, 6, 7, 8, 10, 11, 15, 3, 5, 6, 2, 3, 6, 20, 15, 1, 3, 4, 18, 4, 4, 16, 1, 2, 3, 6, 10, 1, 2, 3, 4, 6, 7, 8, 9, 10, 1, 2, 3, 4, 5, 6, 7, 8, 9, 10, 13, 13, 1, 2, 6, 1, 3, 5, 6, 13, 16, 14, 18, 1, 8, 10, 1, 2, 3, 4, 5, 6, 7, 8, 10, 1, 2, 3, 4, 5, 6, 7, 8, 10, 11, 14, 15, 1, 2, 3, 4, 5, 6, 7, 8, 7, 21, 1, 1, 7, 8, 1, 21, 7, 8, 1, 8, 10, 15, 19, 2, 9, 20, 20, 1, 2, 3, 4, 5, 6, 7, 1, 2, 5, 6, 7, 8, 14, 15, 1, 1, 2, 3, 7, 8, 1, 2, 3, 4, 5, 6, 7, 8, 9, 10, 12, 13, 5, 16, 19, 11, 18, 1, 2, 3, 5, 7, 1, 2, 3, 4, 5, 6, 7, 8, 11, 12, 15, 1, 2, 4, 5, 7, 9, 6, 16, 1, 4, 6, 7, 9, 2, 20, 20, 8, 19, 3, 12, 16, 1, 2, 3, 5, 6, 13, 13, 1, 2, 3, 4, 5, 6, 7, 9, 2, 3, 4, 5, 6, 7, 9, 12, 16, 4, 17, 1, 2, 3, 7, 8, 17, 3, 1, 2, 3, 4, 5, 6, 7, 8, 10, 11, 1, 2, 3, 4, 5, 6, 7, 8, 10, 1, 2, 3, 4, 5, 6, 7, 6, 9, 14, 7, 15, 1, 2, 3, 5, 7, 19, 4, 5, 1, 2, 3, 4, 5, 6, 7, 8, 19, 5, 1, 2, 3, 4, 5, 6, 7, 16, 15, 20, 3, 6, 18, 2, 21, 14, 2, 6, 1, 2, 3, 4, 5, 6, 11, 12, 13, 14, 1, 2, 3, 4, 6, 7, 9, 10, 12, 13, 11, 7, 3, 21, 3, 15, 7, 10, 1, 2, 3, 4, 5, 6, 7, 8, 9, 10, 11, 12, 16, 14, 3, 9, 13, 9, 1, 3, 1, 2, 3, 4, 5, 6, 7, 8, 9, 10, 11, 11, 1, 2, 3, 4, 5, 6, 7, 8, 9, 11, 12, 16, 12, 12, 1, 2, 3, 4, 6, 7, 9, 10, 5, 5, 21, 16, 9, 17, 10, 1, 2, 3, 4, 5, 6, 7, 11, 14, 1, 2, 3, 4, 5, 6, 7, 8, 9, 11, 21, 8, 1, 2, 4, 5, 6, 7, 8, 9, 1, 14, 3, 1, 2, 3, 4, 6, 7, 8, 9, 12, 3, 6, 12, 16, 13, 2, 8, 1, 2, 3, 4, 5, 6, 7, 8, 10, 11, 12, 15, 1, 2, 3, 4, 5, 6, 7, 8, 9, 10, 6, 9, 1, 2, 3, 4, 5, 6, 7, 11, 1, 1, 3, 5, 7, 8, 9, 10, 20, 1, 6, 11, 3, 1, 3, 4, 7, 8, 9, 10, 2, 1, 2, 3, 4, 5, 6, 7, 8, 19, 1, 3, 6, 13, 19, 3, 4, 8, 9, 11, 1, 8, 18, 10, 1, 2, 3, 4, 5, 6, 7, 8, 9, 10, 11, 12, 13, 11, 1, 2, 3, 4, 5, 6, 7, 8, 15, 16, 4, 5, 6, 7, 8, 12, 16, 1, 2, 3, 4, 5, 6, 7, 9, 11, 12, 16, 1, 2, 4, 6, 9, 3, 4, 5, 17, 5, 1, 2, 3, 4, 5, 6, 7, 8, 14, 12, 2, 7, 8, 10, 12, 4, 10, 12, 1, 2, 3, 4, 5, 6, 7, 8, 1, 2, 3, 4, 5, 6, 7, 8, 11, 1, 3, 5, 8, 11, 1, 2, 3, 5, 6, 8, 15, 3, 1, 3, 5, 6, 13, 11, 16, 1, 2, 3, 4, 5, 6, 7, 8, 9, 10, 12, 16, 4, 9, 2, 1, 20, 1, 2, 3, 4, 5, 6, 7, 9, 11, 14, 14, 14, 1, 2, 3, 5, 6, 15, 19, 5, 14, 20, 1, 1, 2, 3, 4, 5, 6, 7, 8, 9, 10, 11, 12, 13, 16, 18, 1, 2, 3, 4, 5, 6, 7, 8, 9, 11, 12, 16, 3, 5, 10, 13, 17, 1, 2, 5, 6, 8, 2, 19, 1, 2, 3, 4, 5, 6, 7, 8, 9, 10, 11, 12, 15, 4, 1, 2, 3, 4, 5, 6, 7, 8, 16, 1, 5, 6, 8, 4, 1, 2, 4, 7, 10, 1, 2, 4, 10, 18, 2, 10, 21, 4, 3, 4, 7, 15, 14, 1, 4, 6, 8, 6, 7, 1, 2, 3, 4, 5, 6, 7, 8, 12, 16, 7, 13, 3, 4, 6, 7, 9, 11, 16, 4, 6, 6, 19, 1, 2, 3, 4, 5, 6, 7, 8, 14, 2, 18, 1, 2, 3, 4, 8, 18, 1, 5, 10, 15, 1, 2, 3, 4, 5, 6, 7, 8, 9, 10, 12, 14, 9, 8, 2, 6, 13, 12, 20, 1, 4, 7, 17, 1, 2, 3, 4, 5, 6, 7, 8, 9, 11, 18, 8, 8, 1, 5, 7, 8, 19, 1, 5, 15, 5, 10, 17, 1, 2, 3, 4, 5, 6, 7, 8, 9, 10, 1, 3, 4, 6, 8, 10, 18, 11, 4, 19, 1, 2, 3, 4, 6, 8, 9, 10, 11, 14, 1, 2, 3, 6, 8, 7, 15, 2, 3, 4, 5, 6, 7, 11, 12, 13, 7, 2, 3, 9, 11, 3, 5, 6, 7, 12, 1, 2, 4, 9, 10, 2, 3, 6, 2, 16, 20, 1, 2, 3, 4, 5, 6, 7, 8, 9, 10, 20, 1, 2, 3, 4, 5, 6, 7, 8, 9, 10, 15, 1, 2, 3, 5, 6, 11, 13, 14, 14, 20, 1, 2, 3, 4, 5, 6, 7, 8, 10, 15, 6, 11, 18, 1, 2, 3, 4, 6, 1, 2, 3, 4, 5, 6, 7, 8, 9, 10, 4, 9, 14, 1, 2, 3, 4, 5, 6, 7, 8, 9, 10, 11, 12, 13, 16, 21, 4, 2, 15, 1, 8, 13, 1, 3, 6, 17, 3, 15, 15, 20, 2, 12, 9, 2, 7, 20, 21, 4, 20, 7, 20, 2, 3, 4, 6, 4, 9, 20, 11, 1, 2, 3, 4, 6, 7, 9, 21, 15, 1, 2, 3, 4, 5, 6, 7, 8, 10, 11, 1, 2, 3, 4, 5, 6, 7, 8, 9, 10, 11, 12, 13, 20, 1, 2, 3, 4, 6, 8, 10, 14, 21, 14, 1, 2, 3, 4, 5, 6, 7, 8, 9, 10, 2, 19, 1, 2, 3, 4, 5, 6, 7, 8, 9, 2, 4, 6, 7, 8, 9, 10, 1, 2, 8, 9, 5, 17, 1, 2, 3, 4, 5, 6, 7, 8, 9, 10, 12, 18, 19, 1, 2, 3, 4, 5, 6, 7, 8, 10, 11, 15, 1, 2, 3, 4, 6, 7, 8, 9, 11, 21, 10, 13, 16, 6, 4, 19, 1, 2, 3, 5, 3, 6, 13, 9, 12, 12, 1, 2, 4, 5, 18, 1, 2, 3, 4, 5, 6, 7, 8, 9, 11, 13, 2, 3, 6, 11, 3, 6, 18, 18, 18, 14, 1, 2, 3, 5, 6, 7, 8, 11, 10, 2, 3, 6, 10, 1, 2, 3, 4, 6, 7, 8, 9, 10, 20, 3, 16, 1, 2, 3, 4, 6, 8, 10, 1, 2, 3, 4, 6, 10, 21, 4, 1, 4, 5, 7, 9, 10, 19, 20, 1, 2, 3, 4, 5, 6, 7, 8, 9, 10, 1, 7, 17, 7, 1, 1, 2, 3, 4, 5, 6, 7, 8, 13, 4, 7, 10, 18, 18, 2, 4, 7, 1, 2, 3, 6, 11, 14, 1, 2, 3, 4, 5, 6, 7, 8, 9, 10, 12, 15, 1, 3, 4, 5, 6, 7, 11, 15, 19, 19, 3, 19, 19, 2, 1, 8, 16, 1, 2, 8, 8, 1, 2, 8, 7, 17, 7, 8, 10, 1, 5, 7, 1, 5, 7, 7, 5, 7, 3, 4, 6, 12, 13, 3, 6, 13, 2, 4, 13, 3, 13, 3, 13, 1, 3, 4, 5, 6, 21, 21, 1, 2, 3, 6, 10, 11, 21, 1, 2, 3, 4, 5, 6, 7, 8, 9, 10, 6, 16, 2, 12, 3, 2, 13, 1, 2, 3, 5, 7, 10, 17, 18, 3, 1, 19, 15, 12, 4, 5, 1, 2, 3, 4, 6, 8, 9, 13, 3, 6, 7, 12, 1, 2, 3, 4, 6, 8, 9, 5, 18, 5, 1, 2, 10, 1, 2, 3, 4, 5, 6, 7, 8, 9, 10, 12, 15, 18, 18, 1, 2, 3, 4, 5, 6, 7, 8, 9, 10, 11, 12, 14, 15, 18, 1, 2, 3, 5, 6, 7, 8, 10, 2, 6, 8, 1, 2, 5, 6, 8, 15, 21, 11, 8, 15, 1, 3, 5, 6, 7, 8, 12, 1, 2, 3, 4, 5, 6, 7, 8, 10, 1, 2, 10, 13, 1, 2, 3, 6, 8, 1, 2, 3, 4, 5, 6, 7, 8, 9, 10, 11, 12, 16, 1, 5, 5, 1, 2, 3, 4, 5, 6, 7, 12, 1, 2, 3, 4, 6, 7, 8, 9, 10, 1, 2, 3, 4, 6, 7, 8, 9, 10, 4, 6, 4, 9, 1, 3, 4, 5, 6, 7, 17, 3, 13, 3, 9, 11, 18, 1, 2, 6, 8, 1, 1, 2, 3, 4, 6, 7, 8, 6, 1, 4, 5, 8, 10, 20, 1, 4, 8, 10, 3, 17, 1, 2, 3, 4, 5, 6, 7, 8, 13, 1, 2, 3, 4, 5, 6, 7, 8, 9, 21, 1, 2, 3, 4, 5, 6, 7, 8, 9, 11, 13, 16, 1, 2, 9, 1, 3, 13, 10, 14, 1, 2, 3, 4, 5, 6, 7, 8, 9, 10, 12, 1, 2, 3, 4, 5, 6, 7, 8, 9, 10, 8, 8, 9, 10, 1, 2, 3, 6, 19, 2, 12, 14, 1, 2, 3, 4, 5, 6, 7, 8, 10, 11, 13, 14, 1, 2, 3, 4, 5, 6, 7, 8, 11, 16, 16, 3, 20, 16, 15, 20, 1, 2, 3, 4, 5, 6, 7, 9, 12, 1, 2, 3, 4, 5, 6, 7, 8, 1, 4, 5, 6, 18, 19, 18, 3, 6, 9, 20, 1, 2, 3, 4, 5, 6, 7, 8, 9, 11, 15, 7, 1, 5, 7, 2, 4, 8, 13, 18, 13, 14, 15, 1, 17, 1, 2, 3, 4, 6, 9, 10, 15, 3, 3, 6, 10, 2, 3, 6, 8, 12, 1, 2, 3, 4, 6, 7, 8, 9, 12, 20, 1, 2, 3, 4, 5, 6, 7, 21, 6, 18, 1, 3, 6, 8, 13, 1, 2, 3, 4, 6, 7, 9, 13, 4, 10, 13, 2, 3, 15, 4, 12, 5, 11, 1, 2, 3, 4, 5, 6, 7, 13, 5, 17, 4, 6, 7, 9, 1, 2, 3, 4, 5, 6, 7, 8, 9, 10, 11, 14, 15, 21, 1, 4, 5, 3, 1, 2, 3, 4, 6, 21, 15, 14, 1, 2, 3, 4, 5, 6, 7, 8, 9, 10, 11, 15, 16, 1, 1, 19, 1, 4, 5, 7, 2, 3, 11, 1, 2, 7, 17, 17, 19, 3, 5, 15, 1, 2, 3, 4, 5, 6, 7, 8, 9, 10, 13, 15, 1, 2, 3, 5, 6, 11, 13, 3, 20, 2, 1, 2, 3, 4, 5, 6, 7, 9, 10, 16, 1, 2, 3, 4, 5, 6, 7, 10, 16, 19, 20, 21, 4, 9, 1, 2, 3, 4, 5, 6, 7, 8, 9, 10, 12, 16, 9, 12, 1, 2, 9, 11, 4, 7, 9, 12, 11, 17, 17, 7, 9, 1, 19, 1, 9, 10, 1, 2, 3, 4, 10, 19, 1, 2, 3, 6, 19, 1, 3, 4, 20, 3, 10, 15, 1, 2, 3, 4, 5, 6, 7, 15, 1, 2, 3, 4, 5, 6, 7, 8, 16, 1, 2, 3, 4, 5, 6, 7, 9, 11, 16, 1, 2, 3, 4, 5, 6, 7, 8, 9, 10, 11, 3, 6, 13, 5, 5, 5, 9, 1, 2, 3, 4, 5, 6, 7, 9, 10, 11, 1, 2, 3, 4, 5, 7, 8, 1, 2, 3, 4, 5, 6, 7, 8, 9, 12, 19, 1, 2, 3, 4, 5, 6, 7, 12, 2, 4, 8, 11, 1, 2, 4, 5, 6, 7, 8, 12, 13, 7, 13, 2, 6, 7, 8, 1, 2, 3, 4, 5, 6, 7, 8, 9, 10, 14, 1, 2, 3, 8, 10, 1, 2, 10, 1, 4, 6, 7, 9, 11, 19, 12, 4, 13, 17, 1, 6, 13, 1, 2, 4, 5, 6, 7, 8, 4, 6, 7, 9, 9, 2, 3, 4, 6, 3, 6, 3, 6, 2, 21, 1, 2, 3, 4, 5, 6, 7, 8, 9, 10, 11, 14, 15, 3, 7, 4, 5, 4, 6, 2, 7, 19, 1, 2, 3, 4, 5, 6, 8, 15, 1, 2, 3, 4, 5, 6, 19, 3, 21, 2, 17, 1, 8, 1, 1, 19, 3, 4, 6, 18, 15, 12, 1, 1, 3, 2, 4, 6, 7, 8, 9, 17, 7, 8, 9, 10, 19, 9, 19, 5, 6, 11, 2, 3, 4, 6, 12, 4, 6, 6, 6, 1, 2, 3, 4, 5, 6, 7, 8, 9, 10, 11, 12, 13, 14, 15, 16, 17, 19, 16, 21, 3, 3, 4, 6, 11, 16, 16, 19, 1, 2, 3, 4, 5, 6, 7, 8, 9, 10, 11, 12, 15, 10, 1, 2, 3, 4, 5, 7, 8, 14, 1, 2, 3, 4, 5, 7, 2, 10, 14, 15, 1, 4, 5, 7, 15, 11, 13, 7, 1, 2, 3, 4, 5, 6, 7, 9, 12, 1, 2, 3, 4, 5, 6, 7, 8, 9, 18, 17, 8, 4, 9, 10, 14, 1, 8, 18, 4, 5, 12, 2, 4, 5, 6, 7, 8, 9, 10, 4, 15, 1, 2, 5, 7, 10, 10, 3, 5, 10, 6, 6, 4, 5, 6, 12, 3, 5, 16, 1, 2, 3, 4, 5, 6, 7, 8, 9, 10, 1, 2, 3, 4, 5, 6, 7, 8, 9, 12, 1, 2, 3, 4, 5, 6, 7, 1, 2, 3, 4, 5, 6, 7, 12, 8, 5, 8, 11, 15, 1, 2, 3, 4, 5, 6, 7, 8, 9, 10, 13, 15, 16, 1, 2, 3, 4, 5, 6, 7, 8, 14, 14, 2, 4, 6, 1, 2, 3, 6, 12, 1, 2, 3, 4, 6, 12, 9, 13, 16, 4, 1, 2, 8, 1, 2, 3, 4, 5, 6, 7, 8, 11, 12, 16, 1, 2, 3, 4, 5, 6, 7, 16, 1, 2, 3, 4, 5, 6, 7, 8, 9, 11, 14, 15, 1, 2, 3, 4, 5, 6, 7, 8, 11, 14, 15, 19, 1, 19, 1, 2, 3, 5, 1, 2, 3, 20, 1, 1, 2, 3, 4, 8, 1, 2, 9, 2, 3, 4, 5, 6, 7, 9, 10, 4, 6, 20, 1, 5, 6, 7, 9, 10, 7, 2, 3, 13, 1, 1, 5, 8, 5, 1, 2, 4, 5, 6, 7, 15, 11, 1, 2, 3, 4, 5, 6, 7, 11, 12, 3, 4, 15, 2, 4, 15, 14, 20, 1, 2, 3, 4, 5, 6, 7, 9, 15, 3, 13, 3, 3, 10, 10, 2, 10, 11, 1, 2, 3, 6, 10, 11, 1, 2, 2, 10, 1, 2, 3, 6, 8, 10, 1, 2, 1, 2, 6, 16, 12, 1, 2, 3, 4, 5, 6, 7, 8, 8, 5, 7, 1, 2, 3, 4, 5, 6, 7, 8, 16, 12, 14, 4, 6, 11, 11, 1, 2, 3, 4, 5, 6, 7, 9, 1, 1, 2, 3, 4, 5, 6, 7, 8, 9, 10, 11, 12, 13, 16, 1, 2, 3, 4, 6, 7, 9, 10, 12, 1, 2, 3, 4, 6, 7, 9, 10, 11, 11, 2, 3, 11, 14, 2, 3, 14, 6, 10, 2, 3, 11, 14, 2, 2, 3, 14, 1, 3, 11, 14, 3, 14, 14, 7, 10, 2, 3, 15, 8, 1, 11, 21, 20, 1, 2, 4, 7, 9, 10, 20, 4, 9, 2, 1, 2, 4, 13, 1, 5, 8, 10, 13, 11, 1, 3, 5, 11, 12, 14, 14, 10, 17, 4, 1, 2, 3, 5, 14, 15, 11, 7, 1, 2, 3, 6, 13, 15, 6, 18, 1, 2, 3, 4, 5, 6, 7, 8, 9, 10, 18, 20, 18, 20, 2, 3, 3, 12, 19, 3, 6, 11, 12, 16, 6, 16, 5, 15, 2, 8, 15, 1, 17], \"Freq\": [0.8673430504228037, 0.0740590429245586, 0.8887085150947032, 0.7653946010485088, 0.8954441144309712, 0.9615405742532143, 0.14619223898739292, 0.7309611949369647, 0.9291440251311082, 0.8496518722803887, 0.6410530921832314, 0.04040985980444884, 0.1111271144622343, 0.6768651517245181, 0.060614789706673264, 0.1111271144622343, 0.9789806409547708, 0.9464389953363448, 0.9298704012728408, 0.8807725139311295, 0.7263220506567547, 0.809434174963256, 0.11563345356617943, 0.7612285166031246, 0.8391990819789387, 0.9708746548507439, 0.9731473639426734, 0.7007517269139204, 0.9460494699192458, 0.9599479635311836, 0.8595086345866778, 0.8709568300163549, 0.7648597805579563, 0.954011060256479, 0.9679180623749313, 0.9006588821638021, 0.9814164968991286, 0.9478454050795898, 0.9894595515568485, 0.4016891137721792, 0.4734193126600683, 0.0502111392215224, 0.06455717899910023, 0.9730825451052756, 0.07178529223486838, 0.01345974229403782, 0.1099212287346422, 0.0044865807646792735, 0.33873684773328516, 0.26470826511607715, 0.12338097102868002, 0.0022432903823396367, 0.0022432903823396367, 0.06729871147018911, 0.033553654624547194, 0.10595890934067535, 0.1942580004579048, 0.20485389139197235, 0.010595890934067535, 0.2719612006410667, 0.033553654624547194, 0.1324486366758442, 0.012361872756412125, 0.03305390266021966, 0.03305390266021966, 0.09916170798065899, 0.06610780532043932, 0.7602397611850522, 0.1476666026146821, 0.492222008715607, 0.0492222008715607, 0.2953332052293642, 0.79328878516392, 0.006202078943539995, 0.19433180689758653, 0.014471517534926657, 0.3907309734430197, 0.1674561314755799, 0.07442494732247995, 0.006202078943539995, 0.02067359647846665, 0.12197421922295325, 0.13114234043992407, 0.7868540426395443, 0.7573471864993921, 0.9534170127349713, 0.7847513973165651, 0.007006708904612188, 0.007006708904612188, 0.15414759590146812, 0.007006708904612188, 0.042040253427673126, 0.9892570279351153, 0.9078330928024378, 0.0394710040348886, 0.0394710040348886, 0.021996436550293763, 0.26395723860352516, 0.21996436550293763, 0.043992873100587526, 0.08798574620117505, 0.3079501117041127, 0.043992873100587526, 0.8848394369009555, 0.0785647877358184, 0.3011650196539705, 0.0392823938679092, 0.48448285770421345, 0.0785647877358184, 0.8516081635781698, 0.16302124207628588, 0.7335955893432865, 0.9607002560019813, 0.07201034017405487, 0.14402068034810975, 0.7681102951899187, 0.24462831072975144, 0.6115707768243787, 0.739067362718325, 0.0044522130284236445, 0.017808852113694578, 0.09349647359689653, 0.13356639085270933, 0.0044522130284236445, 0.0044522130284236445, 0.9877727624397257, 0.25462034929763394, 0.12731017464881697, 0.2728075171046078, 0.2728075171046078, 0.018187167806973853, 0.07274867122789541, 0.9807911932411428, 0.03275580765494333, 0.1364825318955972, 0.07643021786153444, 0.2756947144291063, 0.010918602551647776, 0.23747960549833913, 0.18288659274010025, 0.04094475956867916, 0.0031915761233232928, 0.1372377733029016, 0.041490489603202806, 0.6255489201713653, 0.012766304493293171, 0.06702309858978915, 0.044682065726526096, 0.06702309858978915, 0.8492453887186378, 0.9674893503608277, 0.9745400060275748, 0.9732058596265882, 0.8821916493766461, 0.8324993160065118, 0.2571610500390285, 0.3377584326433383, 0.08059738260430983, 0.03842225556524748, 0.15690576923854552, 0.03538421675311163, 0.05718661293432183, 0.024483018662506534, 0.00035741633083951143, 0.01000765726350632, 0.0008935408270987786, 0.00017870816541975572, 0.00017870816541975572, 0.00035741633083951143, 0.00017870816541975572, 0.9655480984646242, 0.9191539302700572, 0.12971778695467606, 0.24090446148725556, 0.5003400353966077, 0.07412444968838633, 0.037062224844193165, 0.4143127703110978, 0.4143127703110978, 0.7953417646926803, 0.18354040723677234, 0.4930196769238659, 0.4930196769238659, 0.29499285195791525, 0.7006080234000487, 0.9094145565860989, 0.08755343689035823, 0.8755343689035823, 0.8586846352685723, 0.9699360759412247, 0.07770920490129012, 0.8081757309734172, 0.031083681960516047, 0.015541840980258024, 0.04662552294077407, 0.8609259681225125, 0.012173588307596147, 0.022318245230592938, 0.05478114738418266, 0.5802743759954163, 0.03043397076899037, 0.2170956581521313, 0.06695473569177882, 0.002028931384599358, 0.008115725538397432, 0.004057862769198716, 0.002028931384599358, 0.9531036913284804, 0.9580427077377798, 0.23816824653056246, 0.10923983574201798, 0.05525503319509049, 0.31311185477217945, 0.05589014851917199, 0.08574056875100249, 0.08065964615835049, 0.028580189583667495, 0.020958805694689497, 0.010796960509385499, 0.01562625086153403, 0.01562625086153403, 0.9688275534151097, 0.20887871191193033, 0.6266361357357909, 0.9829056109910166, 0.8800300157664499, 0.09684827962160952, 0.7747862369728762, 0.9794273607551972, 0.7057568455208846, 0.011073338186928364, 0.022146676373856727, 0.9190870695150543, 0.03322001456078509, 0.9180379965630062, 0.5034210083482399, 0.37756575626117994, 0.9847305150556841, 0.22965592770949192, 0.09568996987895496, 0.07655197590316397, 0.02460599225458842, 0.0505789840788762, 0.16814094707302088, 0.12302996127294209, 0.22828892813979257, 0.0013669995696993567, 0.0013669995696993567, 0.059977630128405277, 0.06406701400079655, 0.5493405668578938, 0.0013631279574637563, 0.2521786721307949, 0.006815639787318781, 0.01090502365971005, 0.0531619903410865, 0.0013631279574637563, 0.0049363565839599865, 0.008638624021929976, 0.05183174413157986, 0.35665176319110903, 0.03949085267167989, 0.46648569718421873, 0.032086317795739915, 0.007404534875939979, 0.013574980605889962, 0.01110680231390997, 0.0049363565839599865, 0.4756952280987206, 0.31713015206581374, 0.2705706215812104, 0.676426553953026, 0.19235423755921222, 0.2200532477677388, 0.37855313951652964, 0.046165017014210934, 0.021543674606631768, 0.11233487473457994, 0.0030776678009473957, 0.020004840706158072, 0.0015388339004736979, 0.0015388339004736979, 0.0015388339004736979, 0.15490370082160096, 0.5163456694053365, 0.05163456694053366, 0.23235555123240145, 0.02581728347026683, 0.42446029857092515, 0.10798989928306223, 0.02399775539623605, 0.07799270503776716, 0.15598541007553432, 0.029997194245295063, 0.05849452877832537, 0.09149144244814994, 0.016498456834912283, 0.011998877698118025, 0.20489853750776266, 0.7033830392057524, 0.036698245523778386, 0.04587280690472298, 0.006116374253963064, 0.9320185295797638, 0.9527528490155972, 0.973657953906806, 0.8165803971021416, 0.8082553410384453, 0.04003442245879132, 0.2001721122939566, 0.24020653475274792, 0.48041306950549584, 0.9679142999691319, 0.06857191757555123, 0.24685890327198443, 0.19200136921154343, 0.03657168937362732, 0.20571575272665368, 0.02742876703022049, 0.00914292234340683, 0.00914292234340683, 0.1782869856964332, 0.00914292234340683, 0.00914292234340683, 0.8200329336835248, 0.19644328833526797, 0.7796343005805948, 0.018416558281431374, 0.003069426380238562, 0.9306368005508078, 0.20251996435349573, 0.7594498663256091, 0.39960801666291823, 0.01949307398355699, 0.5604258770272634, 0.01949307398355699, 0.9693493912859489, 0.7979293059635202, 0.20062068056867785, 0.13288423573151134, 0.07118798342759536, 0.15359346727408454, 0.14151308220758352, 0.05047875188502217, 0.19371760338782013, 0.01725769295214433, 0.014237596685519074, 0.022866443161591237, 0.00043144232380360826, 0.00043144232380360826, 0.00043144232380360826, 0.9683358349403822, 0.6418111023861418, 0.34467633276292803, 0.9066878298042117, 0.7854930009888376, 0.037404428618516075, 0.1496177144740643, 0.9687587341878916, 0.0037241500408722113, 0.011172450122616634, 0.9794514607493916, 0.0037241500408722113, 0.8844496996431352, 0.09827218884923725, 0.059271254065390515, 0.4741700325231241, 0.4148987784577336, 0.030473653328305032, 0.975156906505761, 0.9928604032905372, 0.8195357258220376, 0.06204171601179332, 0.9151153111739514, 0.8590011906684971, 0.9701216874523363, 0.9021445882853923, 0.948329621170387, 0.8784288539303137, 0.9671664013907457, 0.08689238870394597, 0.007899308063995088, 0.41866332739173967, 0.37126747900776913, 0.11059031289593123, 0.8898440608420931, 0.9702547277076405, 0.7497777010716893, 0.8783898106051826, 0.4024976938501022, 0.5634967713901431, 0.015063124039330267, 0.06025249615732107, 0.9188505663991463, 0.015063124039330267, 0.9832407737468626, 0.05528582628690113, 0.9398590468773192, 0.666043545460729, 0.29601935353810177, 0.9695000450408692, 0.978638062300502, 0.9626468193112939, 0.029171115736705874, 0.2320364315851898, 0.1160182157925949, 0.5800910789629745, 0.4877867934887775, 0.026064943163522463, 0.005585344963611957, 0.13404827912668696, 0.0037235633090746375, 0.01489425323629855, 0.26995833990791124, 0.053991667981582246, 0.0018617816545373187, 0.9857476860658806, 0.905999254576217, 0.8729200696156633, 0.09030207616713758, 0.9687803149724438, 0.9541408880911573, 0.07244158371144052, 0.8692990045372864, 0.8025487563846257, 0.3243311819915354, 0.6677406688061023, 0.9875980826695833, 0.04473534614654756, 0.020876494868388863, 0.5636653614464993, 0.0029823564097698372, 0.36682983840169, 0.8976583368541422, 0.9825286767961634, 0.0126029022262993, 0.0018004146037570428, 0.9524193253874756, 0.028806633660112685, 0.0018004146037570428, 0.8970942025628957, 0.07475785021357464, 0.41111326997625786, 0.11595502486509837, 0.04084779285020511, 0.22136868383336963, 0.05007148800992884, 0.06851887832937631, 0.07510723201489326, 0.013176707371033906, 0.0013176707371033906, 0.4598318879580016, 0.002169018339424536, 0.01084509169712268, 0.01084509169712268, 0.10411288029237772, 0.03253527509136804, 0.013014110036547216, 0.3622260626838975, 0.002169018339424536, 0.613033223644366, 0.05838411653755867, 0.29192058268779336, 0.05838411653755867, 0.18796294503180602, 0.05847736067656187, 0.09050067723753623, 0.32997939238917057, 0.06265431501060201, 0.2478326238197146, 0.008353908668080267, 0.0013923181113467112, 0.004176954334040133, 0.0013923181113467112, 0.0013923181113467112, 0.008353908668080267, 0.8065937450452233, 0.03371613725269423, 0.07261937254426448, 0.0038903235291570257, 0.011670970587471078, 0.010374196077752069, 0.00907742156803306, 0.047980656859603316, 0.0025935490194380173, 0.0012967745097190086, 0.8320481158394306, 0.07259480205310469, 0.005584215542546514, 0.005584215542546514, 0.07259480205310469, 0.06037624633069405, 0.04644326640822619, 0.00464432664082262, 0.16255143242879166, 0.00464432664082262, 0.5619635235395369, 0.06037624633069405, 0.09288653281645239, 0.8157891769248861, 0.0906432418805429, 0.8979841620867253, 0.9038326971419943, 0.9370977762191596, 0.322624205637157, 0.645248411274314, 0.5260676402817044, 0.0404667415601311, 0.40466741560131103, 0.9677285650845866, 0.023041156311537775, 0.0038194939334087767, 0.019097469667043884, 0.8784836046840186, 0.011458481800226331, 0.0038194939334087767, 0.011458481800226331, 0.07257038473476676, 0.052688023004116756, 0.7551949963923401, 0.035125348669411166, 0.035125348669411166, 0.08781337167352793, 0.1585125933420995, 0.7925629667104974, 0.1876814262760714, 0.7507257051042856, 0.9869592638133284, 0.015183988674051206, 0.26587582703560847, 0.01859271517731528, 0.014874172141852222, 0.005577814553194583, 0.6656192033478869, 0.0018592715177315278, 0.01859271517731528, 0.0037185430354630556, 0.0018592715177315278, 0.1140461659186332, 0.8659060745674003, 0.012671796213181468, 0.1735094930733828, 0.7845646643318177, 0.0037719455015952775, 0.026403618511166942, 0.0037719455015952775, 0.0037719455015952775, 0.4415524713228272, 0.054608962884448595, 0.0733320358734024, 0.004680768247238451, 0.273044814422243, 0.012482048659302537, 0.09205510886235621, 0.032765377730669155, 0.012482048659302537, 0.0015602560824128171, 0.9342868565596261, 0.05390116480151689, 0.9746554725719886, 0.9635547170874322, 0.9861826701194114, 0.7979927337310738, 0.039679196704860024, 0.1587167868194401, 0.07578846359790758, 0.07578846359790758, 0.8336730995769833, 0.7780103794312341, 0.01906888184880476, 0.02669643458832666, 0.17161993663924283, 0.930902755768685, 0.022628409083598207, 0.2927550425190518, 0.024042684651323098, 0.3068977981963007, 0.001414275567724888, 0.026871235786772873, 0.2121413351587332, 0.001414275567724888, 0.005657102270899552, 0.1060706675793666, 0.06606600930411204, 0.13213201860822407, 0.7927921116493444, 0.6980496211776498, 0.17451240529441245, 0.991242621273885, 0.9576652735689118, 0.9276817613298901, 0.002929521351568074, 0.000976507117189358, 0.027342199281302024, 0.000976507117189358, 0.03906028468757432, 0.8017439933325408, 0.007469664534154106, 0.07220675716348969, 0.002489888178051369, 0.009959552712205475, 0.10208541530010612, 0.9491402341356864, 0.07883391062232512, 0.19445697953506863, 0.10511188082976683, 0.1261342569957202, 0.005255594041488341, 0.021022376165953365, 0.46249227565097406, 0.005255594041488341, 0.9444561569736712, 0.7188027603864257, 0.02514364843540199, 0.02514364843540199, 0.9051713436744716, 0.9953673008364703, 0.10529335629583599, 0.8724306664512125, 0.6422471834458382, 0.9419661946788442, 0.03219910721543284, 0.020124442009645527, 0.03622399561736195, 0.01609955360771642, 0.8291270107973958, 0.040248884019291054, 0.024149330411574636, 0.9482485805716737, 0.4914636555096061, 0.12941605865763253, 0.5479173392517949, 0.19664518003822085, 0.020168736414176498, 0.031933832655779454, 0.05210256906995595, 0.015126552310632374, 0.0016807280345147082, 0.0033614560690294164, 0.0016807280345147082, 0.9804003670498175, 0.11451190302932088, 0.8202247937914147, 0.03728294517233703, 0.0026630675123097878, 0.015978405073858726, 0.0026630675123097878, 0.0026630675123097878, 0.9842254521272811, 0.29144517111113694, 0.1805412564405273, 0.0709269221730643, 0.024502027659785847, 0.0038687412094398706, 0.2733910454670842, 0.005158321612586494, 0.1366955227335421, 0.010316643225172988, 0.0012895804031466235, 0.0012895804031466235, 0.22126347755093448, 0.11444662631944887, 0.015259550175926515, 0.015259550175926515, 0.038148875439816286, 0.15641038930324677, 0.4348971800139057, 0.32253768443425135, 0.483806526651377, 0.9556027982525708, 0.9515982936522666, 0.006911024228555522, 0.03455512114277761, 0.006911024228555522, 0.18659765417099908, 0.2557078964565543, 0.1935086783995546, 0.2833519933707764, 0.020733072685666563, 0.006911024228555522, 0.006657379627592723, 0.15311973143463262, 0.7655986571731631, 0.053259037020741785, 0.006657379627592723, 0.006657379627592723, 0.14716937298258922, 0.8349031736512273, 0.011320720998660709, 0.0028301802496651773, 0.45639483191203595, 0.18015585470211945, 0.03603117094042389, 0.03603117094042389, 0.08407273219432242, 0.1921662450155941, 0.08558962100211158, 0.06847169680168927, 0.034235848400844635, 0.034235848400844635, 0.3423584840084463, 0.4279481050105579, 0.8512887235247131, 0.7351387449610639, 0.4806256136327641, 0.9060035505180287, 0.7368051594798041, 0.9028017221812245, 0.8197687485654889, 0.019288676436835035, 0.10608772040259268, 0.02893301465525255, 0.019288676436835035, 0.16220830361997693, 0.08110415180998846, 0.048662491085993076, 0.06488332144799078, 0.5028457412219285, 0.024331245542996538, 0.008110415180998847, 0.008110415180998847, 0.09732498217198615, 0.9557219428812989, 0.12194660890287637, 0.367383454669425, 0.1682554477267535, 0.04399339688268325, 0.09338949162815216, 0.12271842288327432, 0.016979907568754938, 0.04708065280427506, 0.016208093588356988, 0.0007718139803979517, 0.6764505116029841, 0.2052285716022616, 0.2736380954696821, 0.03420476193371026, 0.06840952386742052, 0.3762523812708129, 0.7842585444222808, 0.8970007982290279, 0.10638375604112167, 0.7446862922878517, 0.08111022910151583, 0.125141496328053, 0.22479120636705818, 0.16453789332021784, 0.06488818328121267, 0.0486661374609095, 0.03939639699216484, 0.018539480937489333, 0.23174351171861668, 0.0023174351171861667, 0.9194585726246174, 0.05740280306581189, 0.06696993691011387, 0.17220840919743569, 0.6314308337239308, 0.05740280306581189, 0.009567133844301983, 0.03806973027629115, 0.9136735266309877, 0.028552297707218365, 0.9287470061005259, 0.06191646707336839, 0.3141392211471757, 0.6282784422943514, 0.08941234154434824, 0.008941234154434824, 0.04470617077217412, 0.05364740492660894, 0.7868286055902645, 0.017882468308869647, 0.11737968061007595, 0.023475936122015192, 0.2347593612201519, 0.09390374448806077, 0.5399465308063494, 0.040938238093390894, 0.003721658008490081, 0.007443316016980162, 0.022329948050940487, 0.10792808224621235, 0.8150431038593278, 0.9864760343385048, 0.03850668892024869, 0.9241605340859685, 0.8638009311743777, 0.9473754520784137, 0.8562006506843587, 0.23440288832902684, 0.07301073570904114, 0.20750419622569588, 0.0307413624038068, 0.0153706812019034, 0.00384267030047585, 0.4188510627518676, 0.0076853406009517, 0.00384267030047585, 0.09958303488558452, 0.5052669421040396, 0.365583356257817, 0.0006683425160106343, 0.003341712580053172, 0.0013366850320212687, 0.0006683425160106343, 0.005346740128085075, 0.01804524793228713, 0.6996415011257278, 0.13992830022514555, 0.4783653974188548, 0.4886275090798966, 0.4886275090798966, 0.8704963139504576, 0.8232211423458264, 0.9637579561220782, 0.08887283031274419, 0.8887283031274419, 0.7423947495141843, 0.11854694500303671, 0.18440635889361268, 0.2502657727841886, 0.07903129666869115, 0.013171882778115191, 0.2502657727841886, 0.10537506222492153, 0.9137073410613575, 0.043418515105611656, 0.9117888172178448, 0.028945676737074436, 0.4940675018776914, 0.5825181405334988, 0.22095515675408575, 0.06026049729656884, 0.04017366486437923, 0.020086832432189616, 0.06026049729656884, 0.06212880085834286, 0.9112224125890286, 0.864510701860846, 0.019211348930241023, 0.11526809358144613, 0.799529943163812, 0.9643201797166693, 0.1400995274429782, 0.2473537242842741, 0.17821633085727617, 0.2313365568920957, 0.02027489543313722, 0.053728472897813635, 0.10198272402868022, 0.009731949807905866, 0.011353941442556845, 0.0022302384976450942, 0.00020274895433137222, 0.00040549790866274444, 0.002635736406307839, 0.00020274895433137222, 0.9511918643366842, 0.8190003964933983, 0.822631224868703, 0.9121238075597594, 0.048006516187355755, 0.9774386738887582, 0.017771612252522877, 0.9359982958925454, 0.062399886392836355, 0.6113055900009453, 0.8412989689967788, 0.15539933692330585, 0.09096546551608146, 0.017056024784265274, 0.44345664439089716, 0.00947556932459182, 0.1629797923829793, 0.06443387140722437, 0.0018951138649183638, 0.024636480243938733, 0.024636480243938733, 0.0037902277298367277, 0.49046275690141805, 0.00358733883893212, 0.07354044619810847, 0.00358733883893212, 0.656483007524578, 0.00179366941946606, 0.00538100825839818, 0.0269050412919909, 0.008968347097330302, 0.2026846443996648, 0.016143024775194543, 0.00179366941946606, 0.4471456521251108, 0.4471456521251108, 0.7299994960137954, 0.9810185434477257, 0.8984582218746926, 0.618322210982943, 0.8502225661184222, 0.0320838704195631, 0.008020967604890775, 0.0320838704195631, 0.01604193520978155, 0.008020967604890775, 0.008020967604890775, 0.04812580562934465, 0.24350611058018834, 0.028096858913098655, 0.33716230695718385, 0.09365619637699552, 0.1436061677780598, 0.1436061677780598, 0.003121873212566517, 0.003121873212566517, 0.15468938157099182, 0.009166778167169886, 0.04583389083584943, 0.08250100350452898, 0.5402669882275751, 0.06817791261832602, 0.09510532348438756, 0.0017187709063443536, 0.0005729236354481179, 0.0005729236354481179, 0.0011458472708962357, 0.8381701541961951, 0.8489159798598425, 0.29886847884720824, 0.18679279927950512, 0.14943423942360412, 0.35117046264546964, 0.48071541510295757, 0.9624003622043267, 0.2860484731153376, 0.22441041300889458, 0.07779560984308345, 0.12088240914079121, 0.07779560984308345, 0.06941762109075139, 0.09694529841984245, 0.027527677329091067, 0.008377988752332064, 0.008377988752332064, 0.0005984277680237188, 0.0011968555360474377, 0.05017820879733161, 0.10752473313713917, 0.7311681853325463, 0.10035641759466322, 0.947233754242066, 0.9795895335190117, 0.13159497039748144, 0.08696711087137905, 0.11443040904128822, 0.3581671802992321, 0.07437976587683734, 0.048060771797341056, 0.1739342217427581, 0.009154432723303059, 0.0011443040904128823, 0.0022886081808257647, 0.9213314398799675, 0.03232240477517973, 0.12928961910071893, 0.48483607162769593, 0.19393442865107838, 0.12928961910071893, 0.48246586888675047, 0.7753185371786436, 0.8124775367622136, 0.15128892063848115, 0.011206586713961566, 0.005603293356980783, 0.005603293356980783, 0.011206586713961566, 0.05916586379765386, 0.039443909198435906, 0.019721954599217953, 0.05916586379765386, 0.7888781839687181, 0.009860977299608976, 0.019721954599217953, 0.030445018174500647, 0.94379556340952, 0.0031668727217094546, 0.08233869076444582, 0.8677231257483906, 0.01900123633025673, 0.006333745443418909, 0.022168109051966183, 0.02827233386757124, 0.9518352402082318, 0.009424111289190414, 0.983134852665353, 0.8133359874714711, 0.853046839055405, 0.8378361592848586, 0.9763660474995252, 0.7423903437274264, 0.05092903683391556, 0.9167226630104801, 0.8546205952575231, 0.10065419666238776, 0.02745114454428757, 0.17385724878048794, 0.08235343363286271, 0.02745114454428757, 0.009150381514762523, 0.5490228908857514, 0.02287595378690631, 0.009150381514762523, 0.9232142493416011, 0.017025893225817587, 0.9534500206457849, 0.017025893225817587, 0.2522252433785904, 0.003880388359670622, 0.07372737883374182, 0.04074407777654153, 0.2832683502559554, 0.03686368941687091, 0.30461048623414383, 0.0058205825395059325, 0.040323777799515424, 0.9072850004890971, 0.020161888899757712, 0.8875621027507813, 0.9274096138364932, 0.8627757094242344, 0.1566818794883587, 0.8304139612883013, 0.9556687012937864, 0.1647290560847015, 0.7307211975039324, 0.06335732926334674, 0.012671465852669348, 0.025342931705338696, 0.004223821950889783, 0.9720752138153748, 0.010566034932775812, 0.9789469423030164, 0.4968323763135126, 0.39223608656329945, 0.07844721731265988, 0.026149072437553295, 0.8328495952493736, 0.45443388226668735, 0.011491431505594393, 0.03342961892536551, 0.044921050430959904, 0.12222704419586763, 0.00522337795708836, 0.011491431505594393, 0.31340267742530165, 0.0031340267742530166, 0.9647976263256622, 0.8136374957164596, 0.8837925863920123, 0.020363006120783032, 0.04344107972433713, 0.05022874843126481, 0.010860269931084283, 0.19684239250090263, 0.6570463308305992, 0.0027150674827710708, 0.012217803672469819, 0.0013575337413855354, 0.004072601224156606, 0.014378341830816366, 0.014378341830816366, 0.007189170915408183, 0.057513367323265466, 0.8842680225952065, 0.007189170915408183, 0.007189170915408183, 0.033893371269219104, 0.012710014225957165, 0.0381300426778715, 0.01906502133893575, 0.8918193315213278, 0.002118335704326194, 0.968888192211359, 0.9666296148132735, 0.9711710118884979, 0.07505996544774957, 0.9173995776947169, 0.06476230649657529, 0.04857172987243147, 0.8742911377037664, 0.9811561577401965, 0.7478318932399566, 0.04019454020474453, 0.12058362061423357, 0.6230153731735402, 0.025121587627965326, 0.030145905153558392, 0.08541339793508211, 0.005024317525593066, 0.07034044535830292, 0.9191997863199476, 0.9429756093386491, 0.9300625993106956, 0.06609773148127601, 0.8498279761878345, 0.004721266534376858, 0.03777013227501486, 0.014163799603130574, 0.02360633267188429, 0.047782782132991586, 0.7870105292492732, 0.02810751890175976, 0.008432255670527928, 0.11805157938739098, 0.008432255670527928, 0.0028107518901759757, 0.04191751084908272, 0.9291714904880003, 0.013972503616360907, 0.013972503616360907, 0.7394450805182299, 0.036015622591894926, 0.036015622591894926, 0.10804686777568477, 0.5402343388784239, 0.036015622591894926, 0.21609373555136954, 0.9748852569793313, 0.9531811410889135, 0.0161022093583557, 0.028983976845040255, 0.9516405730788218, 0.0008051104679177849, 0.0008051104679177849, 0.01313980262423551, 0.02627960524847102, 0.9592055915691922, 0.025014460841920653, 0.9505495119929849, 0.4585534907711673, 0.25475193931731516, 0.25475193931731516, 0.010613197662421029, 0.0742923836369472, 0.021226395324842058, 0.8808954059809454, 0.010613197662421029, 0.17235845593481858, 0.09336083029802673, 0.7181602330617441, 0.007181602330617441, 0.02440420909712419, 0.9517641547878435, 0.9682790061743175, 0.3688800211038693, 0.18444001055193465, 0.3688800211038693, 0.062004196718464195, 0.062004196718464195, 0.015501049179616049, 0.49603357374771356, 0.10850734425731234, 0.015501049179616049, 0.04650314753884815, 0.1860125901553926, 0.1959302707991064, 0.7837210831964256, 0.474685761247086, 0.023974028345812425, 0.01246649473982246, 0.027809872881142412, 0.4152301709494712, 0.020138183810482435, 0.01246649473982246, 0.01246649473982246, 0.9820711885846457, 0.9691216998815023, 0.9832912110202646, 0.9455635443294087, 0.8576919201183664, 0.08078599493202981, 0.9155746092296713, 0.9123321475510761, 0.8327934472035119, 0.0035748724693459356, 0.05362308704018903, 0.025024107285421548, 0.010724617408037807, 0.8365201578269489, 0.007149744938691871, 0.05719795950953497, 0.0035748724693459356, 0.9419657720082419, 0.429277562014254, 0.006537221756562244, 0.015253517431978569, 0.0021790739188540815, 0.06755129148447651, 0.008716295675416326, 0.10677462202384998, 0.3617262705297775, 0.08414501469246524, 0.023619653247007787, 0.019190968263193827, 0.20814819423925612, 0.444344726709334, 0.07676387305277531, 0.12400317954679088, 0.01328605495144188, 0.0029524566558759733, 0.0014762283279379867, 0.9825678052062607, 0.9836986805907141, 0.8050278596434198, 0.22498716633404814, 0.01343206963188347, 0.35930786265288284, 0.04533323500760671, 0.06212332204746105, 0.040296208895650415, 0.04197521759963584, 0.20148104447825205, 0.008395043519927169, 0.0016790087039854338, 0.17785639306966716, 0.04016112101573129, 0.02868651501123664, 0.030598949345319083, 0.6196287242427114, 0.019124343340824426, 0.08223467636554503, 0.8685081720012494, 0.7281309276114781, 0.9661250198444974, 0.3022900520808469, 0.0431842931544067, 0.1295528794632201, 0.15114502604042346, 0.15114502604042346, 0.19432931919483015, 0.03596976478496288, 0.935213884409035, 0.041913083604844956, 0.7849177475089146, 0.060964485243410846, 0.05715420491569767, 0.0342925229494186, 0.007620560655426356, 0.011430840983139534, 0.673541345228167, 0.7990801919450963, 0.8160791876693548, 0.9636774548038044, 0.020476884369769018, 0.8805060279000678, 0.027302512493025358, 0.0682562812325634, 0.5625574513869449, 0.051610775356600455, 0.19095986881942167, 0.09289939564188082, 0.017203591785533483, 0.0533311345351538, 0.017203591785533483, 0.008601795892766741, 0.0017203591785533484, 0.0017203591785533484, 0.0017203591785533484, 0.01239741899931399, 0.01239741899931399, 0.9669986819464912, 0.6283150700077005, 0.020268228064764533, 0.304023420971468, 0.040536456129529067, 0.9069183970189549, 0.12705405318937113, 0.5961767111193569, 0.07818710965499762, 0.18569438543061934, 0.983243350198434, 0.9745475874642402, 0.9420427273371723, 0.012402782784583934, 0.9178059260592112, 0.0372083483537518, 0.012402782784583934, 0.012402782784583934, 0.014002992465577872, 0.1353622605005861, 0.009335328310385249, 0.24738620022520907, 0.018670656620770498, 0.2800598493115575, 0.018670656620770498, 0.0046676641551926246, 0.2660568568459796, 0.06332884386733316, 0.17780790778135847, 0.024357247641281984, 0.38484451273225534, 0.0024357247641281984, 0.053585944810820366, 0.1753721830172303, 0.038971596226051175, 0.004871449528256397, 0.07063601815971775, 0.004871449528256397, 0.938461252150841, 0.028141058740114536, 0.9567959971638942, 0.009380352913371512, 0.059030234229341484, 0.17709070268802443, 0.019676744743113827, 0.039353489486227654, 0.7083628107520977, 0.7822749945915166, 0.8422347095801455, 0.8374021779121438, 0.9029438266374501, 0.017036675974291513, 0.051110027922874536, 0.26531262733043104, 0.011879669880467061, 0.02177939478085628, 0.029699174701167654, 0.019799449800778433, 0.003959889960155687, 0.03563900964140118, 0.5543845944217962, 0.05741840442225746, 0.2667724690045516, 0.15888111034897118, 0.13375572545657574, 0.03694909542999329, 0.14188452645117425, 0.1603590741661709, 0.015518620080597184, 0.08128800994598524, 0.0014779638171997318, 0.0014779638171997318, 0.0007389819085998659, 0.0007389819085998659, 0.7545105612891327, 0.026474054782074832, 0.03971108217311225, 0.052948109564149665, 0.03971108217311225, 0.013237027391037416, 0.006618513695518708, 0.059566623259668376, 0.9509987047438866, 0.05943741904649291, 0.9750467358150263, 0.1242082646358099, 0.1680464756837428, 0.7014113767669264, 0.9459707702928708, 0.030515186138479703, 0.034734472295940254, 0.9378307519903868, 0.5068386952661033, 0.028688982750911505, 0.4590237240145841, 0.8777406249449975, 0.8579589675383661, 0.36028236258084023, 0.24018824172056014, 0.36028236258084023, 0.8533576085270279, 0.8441748632117403, 0.048761002929197994, 0.09142688049224623, 0.006095125366149749, 0.0030475626830748746, 0.0030475626830748746, 0.0030475626830748746, 0.11836004690016157, 0.01076000426365105, 0.026900010659127626, 0.0215200085273021, 0.1506400596911147, 0.6402202536872376, 0.016140006395476577, 0.01076000426365105, 0.9813835838010077, 0.050114880566457666, 0.012528720141614417, 0.012528720141614417, 0.10022976113291533, 0.8143668092049371, 0.18880511791810076, 0.09440255895905038, 0.0152004120357793, 0.47281281648134554, 0.052001409596087074, 0.07280197343452191, 0.06560177825967908, 0.004800130116561884, 0.026400715641090363, 0.005600151802655531, 0.0008000216860936473, 0.0008000216860936473, 0.5254065053561605, 0.4378387544634671, 0.8118925650883453, 0.7375067474868982, 0.18437668687172454, 0.06065736645206555, 0.02166334516145198, 0.008665338064580792, 0.7755477567799809, 0.13431274000100227, 0.15316921941526881, 0.042012128753902304, 0.1636722516037444, 0.13741467113255545, 0.32121773443087803, 0.13303840772069064, 0.021006064376951152, 0.023631822424070047, 0.0008752526823729647, 0.002625758047118894, 0.0008752526823729647, 0.032818728721532096, 0.032818728721532096, 0.8532869467598344, 0.032818728721532096, 0.032818728721532096, 0.016409364360766048, 0.49579505607155494, 0.4249671909184756, 0.017399640133325765, 0.29579388226653797, 0.017399640133325765, 0.06959856053330306, 0.6089874046664017, 0.5042794351988448, 0.4034235481590758, 0.833014400394068, 0.9566455378758137, 0.8694708993890783, 0.03656555548383923, 0.14626222193535693, 0.7678766651606238, 0.03530368171209544, 0.2683079810119254, 0.04236441805451453, 0.014121472684838177, 0.09178957245144814, 0.5436766983662699, 0.8230473071858992, 0.010214807892777652, 0.013619743857036867, 0.0068098719285184335, 0.6877970647803618, 0.10895795085629494, 0.06809871928518434, 0.017024679821296084, 0.08512339910648042, 0.004647766163481694, 0.03253436314437185, 0.32999139760720025, 0.004647766163481694, 0.3439346960976453, 0.004647766163481694, 0.004647766163481694, 0.05577319396178032, 0.2137972435201579, 0.9754818347349234, 0.8495772722253526, 0.07404692177319398, 0.014809384354638798, 0.022214076531958196, 0.022214076531958196, 0.8589442925690502, 0.7969833594219462, 0.9649109354353622, 0.29150330288095405, 0.07695687196057187, 0.1644078628248581, 0.07112680590295278, 0.3288157256497162, 0.01515817174980961, 0.010494118903714345, 0.0361464095572383, 0.002332026423047632, 0.001166013211523816, 0.5753178135090878, 0.19022605124090808, 0.013145702728030234, 0.020878469038636254, 0.12217770770757512, 0.008506042941666622, 0.0378905549219695, 0.026291405456060467, 0.004639659786363612, 0.5976450408484175, 0.22295566290718163, 0.009289819287799235, 0.009289819287799235, 0.1300574700291893, 0.009289819287799235, 0.01857963857559847, 0.9607652413282639, 0.9698053924724725, 0.927531472174094, 0.9651777682070013, 0.9310652346456177, 0.5095591268082652, 0.014642503643915667, 0.0087855021863494, 0.35727708891154225, 0.087855021863494, 0.0175710043726988, 0.07128878830774726, 0.9267542480007144, 0.3129688377562671, 0.26341543844485815, 0.18778130265376025, 0.01043229459187557, 0.10171487227078681, 0.04955339931140895, 0.0339049574235956, 0.02086458918375114, 0.015648441887813353, 0.9404154012025467, 0.018494111320987848, 0.006164703773662616, 0.48084689434568406, 0.11096466792592709, 0.012329407547325233, 0.3143998924567934, 0.012329407547325233, 0.03082351886831308, 0.9664784323625558, 0.886422308326113, 0.08048543830655877, 0.16097087661311754, 0.7243689447590289, 0.9688573851954633, 0.7805723325188951, 0.944735856049801, 0.9752823674027113, 0.020318382654223154, 0.01362406518640789, 0.09000140032233091, 0.8595546581242797, 0.002477102761165071, 0.003302803681553428, 0.023945326691262352, 0.004128504601941785, 0.0004128504601941785, 0.0020642523009708927, 0.0004128504601941785, 0.00975529817241497, 0.012194122715518714, 0.7974956255949238, 0.0682870872069048, 0.05853178903448982, 0.0024388245431037426, 0.004877649086207485, 0.004877649086207485, 0.0341435436034524, 0.004877649086207485, 0.9014111188779488, 0.9685670445779989, 0.3181913788868761, 0.47728706833031415, 0.9674841843268756, 0.9479357808120793, 0.9432512726787493, 0.9229492695366629, 0.11895976767599535, 0.12490775605979512, 0.10309846531919596, 0.02577461632979899, 0.0971504769353962, 0.3707579425901855, 0.059479883837997675, 0.053531895454197904, 0.011895976767599535, 0.013878639562199457, 0.0019826627945999224, 0.0059479883837997675, 0.00793065117839969, 0.9649698704714068, 0.8968530177061971, 0.009855527667101066, 0.0886997490039096, 0.950962039388685, 0.9814800421633365, 0.009004404056544372, 0.20365003774097046, 0.16054163559142196, 0.08027081779571098, 0.19770405123758444, 0.10108177055756197, 0.15087940752341972, 0.062432858285552985, 0.025270442639390493, 0.012635221319695246, 0.0022297449387697495, 0.0022297449387697495, 0.9843909082934156, 0.05159617815642532, 0.05288608261033595, 0.21025442598743316, 0.19864528590223746, 0.03353751580167645, 0.33924487137849646, 0.0825538850502805, 0.0038697133617318987, 0.006449522269553165, 0.010319235631285062, 0.007739426723463797, 0.0012899044539106327, 0.8849222333130105, 0.8488932666996254, 0.05030269143145761, 0.0950161949260866, 0.005589187936828623, 0.6483458006721202, 0.022356751747314493, 0.022356751747314493, 0.03353512762097174, 0.11178375873657245, 0.9927626592302662, 0.99199936574276, 0.7943190556141477, 0.8360358326009534, 0.9790829362963109, 0.9305110102049925, 0.8999923371749198, 0.12499342714431783, 0.24183510904009317, 0.40894588663521375, 0.019020738913265757, 0.13857966922522194, 0.043475974658893156, 0.020379363121356166, 0.0013586242080904111, 0.7988176531668676, 0.19501908720997793, 0.20338900511598557, 0.24356461106482222, 0.05691544176085193, 0.1263857603807153, 0.06612235145746033, 0.10043901487209163, 0.004184958953003818, 0.0016739835812015272, 0.0016739835812015272, 0.7534493665436781, 0.9881537849869596, 0.012848536235077698, 0.12848536235077698, 0.3983046232874086, 0.012848536235077698, 0.08993975364554388, 0.032121340587694246, 0.006424268117538849, 0.30836486964186477, 0.9673549266839442, 0.9107794271416392, 0.972904015446261, 0.08725286628320561, 0.16827338497475366, 0.043626433141602805, 0.1994351229330414, 0.03739408554994526, 0.04985878073326035, 0.09348521387486315, 0.31161737958287716, 0.006232347591657543, 0.9226414871385799, 0.052722370693633135, 0.013180592673408284, 0.8739566091255128, 0.7792059370264175, 0.07201887836133951, 0.9122391259103004, 0.336097799763648, 0.07985613519188503, 0.21060958731925722, 0.027203738362070726, 0.07810105529755788, 0.0965293941879929, 0.03510159788654287, 0.1307534521273722, 0.0026326198414907153, 0.0008775399471635718, 0.0008775399471635718, 0.0008775399471635718, 0.2661045767857073, 0.1387917988725454, 0.08348378879551603, 0.08870152559523578, 0.11061602015405873, 0.060525746876749116, 0.19618690366946268, 0.046959631197477765, 0.002087094719887901, 0.005217736799719752, 0.9752232055037338, 0.9760997968074347, 0.06099722256469375, 0.10979500061644874, 0.6262381516641892, 0.004066481504312916, 0.10572851911213584, 0.06913018557331958, 0.012199444512938749, 0.008132963008625833, 0.9708450744535099, 0.058163421512408345, 0.009306147441985336, 0.6188588048920248, 0.023265368604963338, 0.2396332966311224, 0.004653073720992668, 0.04187766348893401, 0.002326536860496334, 0.8752070629353945, 0.08205066215019323, 0.02735022071673108, 0.9664783664167491, 0.04322062340484317, 0.010805155851210793, 0.010805155851210793, 0.1512721819169511, 0.7671660654359663, 0.010805155851210793, 0.010805155851210793, 0.9674847104496519, 0.1720893925933571, 0.020733661758235794, 0.010366830879117897, 0.05390752057141306, 0.6282299512745445, 0.020733661758235794, 0.09122811173623749, 0.0020733661758235793, 0.7716476134800758, 0.09752949657012717, 0.03250983219004239, 0.19505899314025435, 0.6501966438008479, 0.8515111782530782, 0.025699013208954277, 0.1284950660447714, 0.025699013208954277, 0.7966694094775826, 0.025699013208954277, 0.42833066248826157, 0.42833066248826157, 0.12238018928236044, 0.8382428195359275, 0.11879184843499295, 0.15454111943737328, 0.2219433908064445, 0.14783813112442695, 0.010799258948635723, 0.124750060268723, 0.17651202557425286, 0.03388732980433968, 0.0059582118337300535, 0.0029791059168650267, 0.0007447764792162567, 0.00037238823960812834, 0.0007447764792162567, 0.8742728873355828, 0.046493443577081295, 0.0015497814525693766, 0.003099562905138753, 0.009298688715416259, 0.3161554163241528, 0.004649344357708129, 0.6044147665020568, 0.012398251620555013, 0.0015497814525693766, 0.8753855028202646, 0.04840906405020128, 0.07261359607530192, 0.26624985227610704, 0.14522719215060384, 0.02420453202510064, 0.02420453202510064, 0.38727251240161026, 0.005166430619695429, 0.011624468894314715, 0.04391466026741115, 0.36423335868852774, 0.061997167436345146, 0.43656338736426376, 0.050372698542030435, 0.0012916076549238573, 0.007749645929543143, 0.01420768420416243, 0.0025832153098477146, 0.014064139284068513, 0.07032069642034257, 0.08438483570441108, 0.30941106424950726, 0.5063090142264665, 0.5628223748249178, 0.09932159555733845, 0.03310719851911281, 0.2979647866720153, 0.9700746995179, 0.2440849749998101, 0.12488068488362378, 0.08940321758713975, 0.031220171220905944, 0.16319634956382653, 0.07946952674412422, 0.10501330319759272, 0.15893905348824844, 0.0028381973837187224, 0.9083577932443637, 0.9794398323634691, 0.9756231265149768, 0.10061684337890638, 0.8720126426171886, 0.7134488722028404, 0.9891371597788874, 0.1320160959233483, 0.7920965755400898, 0.31016342001208863, 0.11060090946167501, 0.05770482232783044, 0.036065513954894025, 0.02404367596992935, 0.026448043566922284, 0.07934413070076686, 0.3510376691609685, 0.37239252231690667, 0.1498516456170135, 0.15208823734264057, 0.05479649727786314, 0.06486116004318494, 0.09170026075070975, 0.03243058002159247, 0.08051730212257442, 0.0011182958628135336, 0.3760997841302181, 0.3900294057646706, 0.041788864903357564, 0.027859243268905043, 0.15322583797897774, 0.35767830021772656, 0.059613050036287765, 0.43716236693277694, 0.009935508339381293, 0.029806525018143883, 0.03974203335752517, 0.059613050036287765, 0.9697095814626314, 0.11826527135647429, 0.11826527135647429, 0.03942175711882476, 0.23653054271294857, 0.3942175711882476, 0.7734560791456683, 0.7898735234590945, 0.20948021648099688, 0.11442972177816568, 0.15780227761343818, 0.1024330573981967, 0.27038635871776245, 0.07751690830133805, 0.04983229819371732, 0.014765125390731057, 0.0009228203369206911, 0.0009228203369206911, 0.0009228203369206911, 0.0009228203369206911, 0.06308749803292452, 0.9463124704938677, 0.978639974032304, 0.9710295904924722, 0.6608665313464797, 0.08440987875321382, 0.010891597258479201, 0.08804041117270688, 0.23598460726704937, 0.15066709540896228, 0.06081141802650888, 0.36577614126392655, 0.0009076331048732668, 0.0009076331048732668, 0.9523653658603896, 0.8711070356569687, 0.889999620926202, 0.04647398629482208, 0.08132947601593864, 0.11618496573705521, 0.726156035856595, 0.00580924828685276, 0.01742774486055828, 0.7161498479488124, 0.980468907174451, 0.025801813346696078, 0.4452354861064663, 0.9888162032768639, 0.017362711607882896, 0.06250576178837843, 0.09298696661110618, 0.40435826144580617, 0.008874274821806815, 0.3021111819771624, 0.03665461339441945, 0.03704045143015018, 0.02932369071553556, 0.00038583803573073104, 0.0027008662501151175, 0.0007716760714614621, 0.0027008662501151175, 0.0011575141071921932, 0.7924396702820031, 0.06436284463902665, 0.05899927425244111, 0.09118069657195443, 0.29589029965996977, 0.029499637126220554, 0.3128749392174907, 0.08939283977642591, 0.025029995137399258, 0.025923923535163516, 0.0008939283977642591, 0.0017878567955285183, 0.0026817851932927775, 0.1746745866656553, 0.14556215555471277, 0.6113610533297936, 0.0582248622218851, 0.7702694539507534, 0.10379818106508917, 0.16607708970414267, 0.04843915116370828, 0.03459939368836306, 0.6366288438658803, 0.20846672999644378, 0.6254001899893313, 0.005235014684990545, 0.1219758421602797, 0.02094005873996218, 0.45335227172018117, 0.0020940058739962178, 0.2219646226435991, 0.030886586641444214, 0.012564035243977308, 0.10208278635731562, 0.020416557271463125, 0.0005235014684990544, 0.006805519090487708, 0.0005235014684990544, 0.9563717467370723, 0.16886948935581989, 0.014072457446318324, 0.03283573404140942, 0.09850720212422827, 0.02814491489263665, 0.14072457446318323, 0.15479703190950156, 0.00938163829754555, 0.3518114361579581, 0.0553078826657238, 0.020740455999646426, 0.0553078826657238, 0.8572721813187189, 0.9719242579555898, 0.0980649765801716, 0.32093992335328886, 0.035659991483698764, 0.1872149552894185, 0.3565999148369876, 0.051082550576593284, 0.4342016799010429, 0.025541275288296642, 0.4852842304776362, 0.8536753914384366, 0.36779014474601, 0.6129835745766833, 0.6789379947675931, 0.9647736851014432, 0.08100759558648508, 0.3645341801391829, 0.16201519117297017, 0.3645341801391829, 0.9519719509166259, 0.9259885440711474, 0.01970188391640739, 0.01970188391640739, 0.01970188391640739, 0.9819094438039804, 0.9637680802164236, 0.22710203447532215, 0.016733834119234264, 0.218735117415705, 0.04302985916374525, 0.36216798129485583, 0.039444037566766475, 0.06215424101429869, 0.026296025044510986, 0.0011952738656595902, 0.0023905477313191804, 0.15294110896494448, 0.7647055448247223, 0.03345889303269571, 0.054370701178130525, 0.8615664955919144, 0.008364723258173928, 0.029276531403608745, 0.004182361629086964, 0.008364723258173928, 0.9878051921119384, 0.9846290367100716, 0.0320682370628224, 0.9299788748218496, 0.5953257597150202, 0.01700930742042915, 0.01546300674584468, 0.08195393575297681, 0.2474081079335149, 0.009277804047506808, 0.004638902023753404, 0.027833412142520428, 0.8718465441593635, 0.2523994166132356, 0.694098395686398, 0.40936196031432814, 0.12280858809429845, 0.12280858809429845, 0.12280858809429845, 0.040936196031432816, 0.16374478412573126, 0.021022227310874553, 0.8934446607121685, 0.07357779558806093, 0.9233629127956934, 0.023167477591573636, 0.25395119667686483, 0.03920650053958615, 0.4464194720530151, 0.004455284152225699, 0.04633495518314727, 0.09266991036629454, 0.03920650053958615, 0.008019511474006258, 0.040988614200476434, 0.0035642273217805593, 0.0008910568304451398, 0.9697499333285373, 0.980445554913401, 0.08755509626038296, 0.08755509626038296, 0.7879958663434466, 0.27962149500310995, 0.5592429900062199, 0.3861110358145348, 0.3861110358145348, 0.05940169781762074, 0.14850424454405184, 0.24518397825489627, 0.06181989195315761, 0.03772061203921481, 0.27347443728430737, 0.28080900073637693, 0.03876840681808189, 0.05553312327995514, 0.0020955895577341563, 0.0031433843366012342, 0.0010477947788670782, 0.9148421353317652, 0.9813902362643452, 0.9674933094804277, 0.11202066837280719, 0.02489348186062382, 0.7965914195399623, 0.06223370465155955, 0.7716897509935617, 0.02020301683358488, 0.9293387743449044, 0.04040603366716976, 0.20985416850474461, 0.6995138950158154, 0.03497569475079077, 0.31457168754034903, 0.005301770014724984, 0.03004336341677491, 0.04241416011779987, 0.0671557535198498, 0.0017672566715749947, 0.022974336730474932, 0.2933646074814491, 0.01943982338732494, 0.2014672605595494, 0.4870630697269286, 0.034790219266209184, 0.05218532889931378, 0.034790219266209184, 0.017395109633104592, 0.36529730229519647, 0.852423434061158, 0.9535718999664274, 0.9730613048036225, 0.8383992138374778, 0.08610669069888881, 0.7544243109768752, 0.04287320582915385, 0.0010808371217433741, 0.016933114907312863, 0.09475338767283581, 0.0007205580811622495, 0.0007205580811622495, 0.00036027904058112475, 0.0010808371217433741, 0.06818664527009853, 0.7926697512648955, 0.02983165730566811, 0.017046661317524633, 0.08523330658762317, 0.7868618924247455, 0.18884685418193892, 0.005731463514673192, 0.7751804403595492, 0.012895792908014682, 0.020060122301356172, 0.16907817368285918, 0.001432865878668298, 0.001432865878668298, 0.010030061150678086, 0.002865731757336596, 0.9585599787363928, 0.03169580433628136, 0.6339160867256272, 0.03169580433628136, 0.25356643469025086, 0.8083964642317326, 0.07578716852172493, 0.08210276589853535, 0.006315597376810411, 0.025262389507241644, 0.9661575262042246, 0.21249999475075865, 0.2529761842270936, 0.46547617897785226, 0.04047618947633498, 0.04742644665266223, 0.8358911222531717, 0.11560196371586418, 0.9796593582655881, 0.7628807578411289, 0.4778433804029505, 0.14571274744188334, 0.10316887957564004, 0.021271933933121656, 0.19463819548806316, 0.057434221619428474, 0.039353077776275065, 0.3775768273129094, 0.012763160359872993, 0.028717110809714237, 0.017017547146497326, 0.0010635966966560829, 0.14515449317030832, 0.10343344124111792, 0.13559341876986886, 0.21208201397338464, 0.0799653495309483, 0.14254692742473393, 0.14254692742473393, 0.00695350865486507, 0.028683223201318414, 0.0008691885818581337, 0.0008691885818581337, 0.0021039820337252295, 0.1367588321921399, 0.8268649392540152, 0.004207964067450459, 0.021039820337252296, 0.004207964067450459, 0.0021039820337252295, 0.0021039820337252295, 0.8609796310534789, 0.7624054794196354, 0.35147701752573307, 0.14177677240685244, 0.054446593205673376, 0.023180232750930247, 0.2625296127837914, 0.010781503605083837, 0.1514801256514279, 0.002695375901270959, 0.0005390751802541918, 0.0010781503605083835, 0.07521074964303763, 0.9025289957164516, 0.6330008091567738, 0.8035014487392288, 0.07693098977290488, 0.07693098977290488, 0.008547887752544987, 0.025643663257634963, 0.08964231898570352, 0.13472256032533478, 0.014508583419651437, 0.31141637982894693, 0.08549700943723168, 0.07617006295317004, 0.1647760545517556, 0.029535330532861854, 0.05440718782369289, 0.038344113323364515, 0.06198054091469381, 0.8057470318910195, 0.06198054091469381, 0.0212963882286679, 0.0576777181193089, 0.041705426947807975, 0.39398318223035617, 0.006211446566694805, 0.33719281362057507, 0.046142174495447115, 0.027507834795362705, 0.051466271552614094, 0.01064819411433395, 0.0008873495095278292, 0.0008873495095278292, 0.0008873495095278292, 0.0035493980381113167, 0.0008873495095278292, 0.9642990448535765, 0.2087015275770501, 0.6261045827311503, 0.28531577590117324, 0.7064962069933813, 0.949092686133184, 0.10665000919044733, 0.23107501991263588, 0.568800049015719, 0.07110000612696488, 0.9841473397053699, 0.9074566715927738, 0.8464249353120948, 0.6806622936899658, 0.965691174669604, 0.9655860366167002, 0.9740526639981988, 0.9890231428832567, 0.24974770162140889, 0.49949540324281777, 0.7590483075739973, 0.9535299496222863, 0.5036810592909472, 0.73874660602253, 0.27702997725844875, 0.058727832196480735, 0.039151888130987154, 0.8417655948162239, 0.058727832196480735, 0.9492414190512803, 0.961875831093495, 0.7836995035005239, 0.8352226981799623, 0.011445614543396222, 0.12590175997735845, 0.011445614543396222, 0.5036070399094338, 0.022891229086792444, 0.12590175997735845, 0.103010530890566, 0.08011930180377357, 0.8045215655355805, 0.2953306353293293, 0.08005299272663138, 0.21095045380666377, 0.021635943980170644, 0.3018214185233805, 0.01947234958215358, 0.05841704874646074, 0.010817971990085322, 0.0010817971990085323, 0.0010817971990085323, 0.043693378212701924, 0.09683397333625832, 0.12517562406882174, 0.4463809990378737, 0.023027591220207772, 0.15233637268752834, 0.05077879089584278, 0.028932101789491814, 0.028932101789491814, 0.0005904510569284043, 0.0011809021138568087, 0.0005904510569284043, 0.0011809021138568087, 0.8524698432755579, 0.13835521377212753, 0.7669691198237505, 0.051131274654916695, 0.002005148025683008, 0.006015444077049023, 0.016041184205464062, 0.01804633223114707, 0.001002574012841504, 0.8656124213130804, 0.9378207990854989, 0.052284743434241415, 0.1952508387622453, 0.026142371717120708, 0.3063559185600083, 0.26060676805504707, 0.040030506691841085, 0.06208813282816168, 0.010620338510080289, 0.04493220138880122, 0.0016338982323200442, 0.5793758897260564, 0.4138399212328974, 0.032234037200376126, 0.292585876126491, 0.012397706615529278, 0.463674227420795, 0.10166119424734009, 0.012397706615529278, 0.03719311984658784, 0.014877247938635135, 0.02975449587727027, 0.04197338496527423, 0.8523825869871074, 0.01937233152243426, 0.00322872192040571, 0.02260105344283997, 0.00968616576121713, 0.04520210688567994, 0.01992717036280633, 0.956504177414704, 0.06879009257986297, 0.8942712035382187, 0.9533765224522649, 0.9554952617125355, 0.2558527857495215, 0.14873738501706632, 0.08079561655248048, 0.1695483771593719, 0.07957144054410956, 0.0599846244101749, 0.14690112100450994, 0.05019121634320757, 0.0048967040334836655, 0.0018362640125563746, 0.0012241760083709164, 0.0006120880041854582, 0.637115583441098, 0.040374135197297024, 0.18080590979659103, 0.34756864213325267, 0.0026330957737367624, 0.0008776985912455875, 0.0061438901387191125, 0.0026330957737367624, 0.4133960364766717, 0.005266191547473525, 0.0008776985912455875, 0.8629157737460846, 0.006278609449385171, 0.04081096142100361, 0.05964678976915912, 0.6435574685619799, 0.21975133072848096, 0.006278609449385171, 0.0031393047246925853, 0.009417914174077755, 0.0031393047246925853, 0.8830260304805668, 0.9440188109030963, 0.8369955045561916, 0.8776365751591557, 0.9559083439083379, 0.9640235265480601, 0.8505825497226569, 0.10391846684694728, 0.03896942506760523, 0.05845413760140784, 0.792378309707973, 0.03155993562868138, 0.7574384550883532, 0.20513958158642898, 0.8906796093667901, 0.8884681932483497, 0.9120273879878984, 0.02751623367775596, 0.5434456151356802, 0.03439529209719495, 0.2614042199386816, 0.12382305154990182, 0.1250694416923967, 0.24739010444649895, 0.35596687250912906, 0.019241452568061028, 0.06184752611162474, 0.031610957790385974, 0.1181974943466606, 0.009620726284030514, 0.024739010444649896, 0.0027487789382944325, 0.0013743894691472163, 0.2660508136832124, 0.7168591368686557, 0.007390300380089233, 0.0036951501900446167, 0.6008099590073368, 0.3004049795036684, 0.08192863077372774, 0.6702955250639014, 0.8219870499469498, 0.8692483766216542, 0.6628532929045706, 0.13978538829960332, 0.0766565032610728, 0.01803682429672301, 0.009018412148361505, 0.06312888503853054, 0.027055236445084518, 0.004509206074180753, 0.8911162106749125, 0.03399659138612699, 0.9519045588115558, 0.011332197128708999, 0.9593454613808416, 0.11472816036248679, 0.6091695224408169, 0.11990943212079264, 0.02886708551056119, 0.11028707028393891, 0.0007401816797579793, 0.0059214534380638345, 0.004441090078547876, 0.0029607267190319172, 0.0014803633595159586, 0.9604049560220467, 0.9594963180116429, 0.26654967237757404, 0.6973809795674487, 0.0010879578464390775, 0.014143452003708009, 0.0097916206179517, 0.0010879578464390775, 0.0097916206179517, 0.1736845897617851, 0.7902648834161222, 0.010421075385707107, 0.01736845897617851, 0.0052105376928535535, 0.003473691795235702, 0.6831132501208516, 0.9664630069086696, 0.009623983949209592, 0.3320274462477309, 0.18285569503498225, 0.12029979936511989, 0.3512754141461501, 0.004811991974604796, 0.22884205316549525, 0.4576841063309905, 0.22483617839287817, 0.10466511752771915, 0.06977674501847943, 0.20157726338671836, 0.05620904459821954, 0.048456072929499605, 0.2597245509021179, 0.01938242917179984, 0.0019382429171799843, 0.011629457503079905, 0.49930122388914544, 0.1109558275309212, 0.3328674825927636, 0.9567262285931744, 0.978245770656507, 0.8601742142063948, 0.03185830422986648, 0.00796457605746662, 0.03185830422986648, 0.023893728172399854, 0.00796457605746662, 0.00796457605746662, 0.04778745634479971, 0.9367082684647788, 0.9598691616605138, 0.9774156028520494, 0.9186108337031879, 0.6647719218140505, 0.7466121532815416, 0.9713412275146148, 0.9797973236767441, 0.9650141913154131, 0.12464748554655367, 0.48612519363155926, 0.37572313500461174, 0.0017806783649507666, 0.007122713459803066, 0.0017806783649507666, 0.3099113372453818, 0.06932227280488804, 0.022136524088955844, 0.1491302675466499, 0.1462175670086294, 0.08679847603301107, 0.17010171142039754, 0.037865106994266574, 0.006990481291249214, 0.0011650802152082024, 0.0005825401076041012, 0.0005825401076041012, 0.01297314624675324, 0.188110620577922, 0.00648657312337662, 0.6097378735974024, 0.00972985968506493, 0.16865090120779214, 0.9317442015198266, 0.31804824436880536, 0.5300804072813422, 0.9277318937381097, 0.4916591247472974, 0.44696284067936126, 0.8710825343300083, 0.9885678236301529, 0.033575887878380756, 0.9513168232207881, 0.9238859576212827, 0.021955187836456825, 0.01646639087734262, 0.9550506708858718, 0.976276745225384, 0.021811222994937183, 0.021811222994937183, 0.9160713657873616, 0.9428630606493676, 0.03142876868831226, 0.0055192893682025745, 0.9934720862764634, 0.9578229697072645, 0.01686075282085673, 0.012645564615642549, 0.9652780989940478, 0.010190706620454794, 0.010190706620454794, 0.9783078355636602, 0.9480340203225652, 0.065837120530556, 0.921719687427784, 0.7866732908035048, 0.0030140739111245395, 0.09343629124486072, 0.006028147822249079, 0.10549258688935888, 0.8255373801711869, 0.013913551351199779, 0.15304906486319758, 0.21282322824097044, 0.15961742118072783, 0.5852638776626687, 0.9483329704861754, 0.036474345018699054, 0.6693802054448179, 0.3067992608288749, 0.036041574614990066, 0.06006929102498344, 0.024027716409993377, 0.024027716409993377, 0.7688869251197881, 0.07208314922998013, 0.6934461816575704, 0.08079081261545647, 0.8136788984842401, 0.09233235727480739, 0.010098851576932058, 0.0014426930824188655, 0.0014426930824188655, 0.4492186860869035, 0.02454500333975179, 0.05318084056946221, 0.016363335559834526, 0.5154450701347876, 0.059998897052726596, 0.0954527907657014, 0.12954307318202332, 0.03818111630628056, 0.046362784086197824, 0.01909055815314028, 0.9803803915800231, 0.9115540012016669, 0.9856462959374075, 0.946270052249321, 0.9800752390945825, 0.9844357679688067, 0.8187213677449938, 0.9600983414475266, 0.043101473436190134, 0.5172176812342816, 0.17240589374476054, 0.08620294687238027, 0.021550736718095067, 0.15085515702666547, 0.021550736718095067, 0.9811186967704505, 0.44065175766458425, 0.44065175766458425, 0.7324919961037931, 0.8287896478979296, 0.03221290541428234, 0.9341742570141877, 0.10880718138342357, 0.08160538603756767, 0.6483094557428988, 0.09520628371049562, 0.04986995813406914, 0.009067265115285297, 0.004533632557642648, 0.8078602175975672, 0.09205912467460435, 0.23014781168651088, 0.1841182493492087, 0.46029562337302177, 0.05619513874842078, 0.7586343731036805, 0.08027876964060111, 0.06422301571248089, 0.02809756937421039, 0.008027876964060111, 0.0040139384820300555, 0.992535645965858, 0.00740698243258103, 0.989960322168578, 0.019367561564324818, 0.6068502623488442, 0.3679836697221715, 0.15655847026999753, 0.13452431519496083, 0.07151436296283838, 0.05605179799790035, 0.36414340492429054, 0.11983487847826971, 0.08079190194180119, 0.00541189773772831, 0.008504410730715915, 0.00038656412412345066, 0.0007731282482469013, 0.00038656412412345066, 0.00038656412412345066, 0.6996430992678973, 0.26069261979328506, 0.0432020294030173, 0.03566522676573079, 0.06513950850797624, 0.35530641004350677, 0.07038835320180077, 0.0689079098266195, 0.08828825946535622, 0.009690174819368366, 0.0010766860910409297, 0.0009421003296608134, 0.0001345857613801162, 0.0001345857613801162, 0.0002691715227602324, 0.0001345857613801162, 0.101037432446528, 0.10303817368309293, 0.002000741236564911, 0.002000741236564911, 0.015005559274236833, 0.007002594327977189, 0.7682846348409259, 0.0010003706182824556, 0.05560982527169376, 0.00926830421194896, 0.926830421194896, 0.02321072700298425, 0.20889654302685823, 0.00773690900099475, 0.00773690900099475, 0.7504801730964906, 0.888835533434579, 0.803336775511993, 0.8137476029370576, 0.9573629123489773, 0.9397131868265275, 0.1975590402273996, 0.014634002979807378, 0.014634002979807378, 0.007317001489903689, 0.007317001489903689, 0.7536511534600799, 0.007317001489903689, 0.16422674539061166, 0.7013850584390706, 0.06614688356010748, 0.004561854038628102, 0.006842781057942153, 0.02280927019314051, 0.0034213905289710764, 0.017106952644855383, 0.01254509860622728, 0.015621938930338785, 0.952938274750666, 0.015621938930338785, 0.9021613266536576, 0.012842836708894825, 0.9011390424074535, 0.07063560189892153, 0.002140472784815804, 0.008561891139263216, 0.11698993634252108, 0.10666729490053393, 0.1118286156215275, 0.2649477970110036, 0.09806509369887796, 0.26150691653034125, 0.02494638348480229, 0.007741981081490366, 0.0017204402403311924, 0.0008602201201655962, 0.0008602201201655962, 0.0008602201201655962, 0.0017204402403311924, 0.028123141562082073, 0.9655611936314845, 0.9286450226839316, 0.067852622773502, 0.03571190672289579, 0.2964088258000351, 0.010713572016868737, 0.04642547873976453, 0.5178226474819889, 0.017855953361447897, 0.003571190672289579, 0.006259189327580069, 0.09388783991370103, 0.05007351462064055, 0.6697332580510674, 0.06885108260338076, 0.06885108260338076, 0.006259189327580069, 0.03129594663790034, 0.006259189327580069, 0.010661882208827788, 0.017769803681379648, 0.0035539607362759292, 0.6681446184198747, 0.017769803681379648, 0.10661882208827789, 0.0035539607362759292, 0.028431685890207434, 0.1457123901873131, 0.9078546832190219, 0.06808910124142664, 0.936290680055143, 0.033438952859112255, 0.43917021797422784, 0.09547178651613648, 0.13366050112259106, 0.11456614381936378, 0.05728307190968189, 0.019094357303227297, 0.13366050112259106, 0.11068921887543338, 0.7748245321280337, 0.9673460163359082, 0.9840307622734928, 0.9400509185959288, 0.9223356135793288, 0.09994871198724593, 0.011105412443027327, 0.022210824886054654, 0.8662221705561315, 0.9854084807235449, 0.17690597597228652, 0.018621681681293318, 0.18156139639260985, 0.01396626126096999, 0.07448672672517327, 0.051209624623556625, 0.48416372371362626, 0.9556171296032556, 0.09521351815141492, 0.03662058390439035, 0.02929646712351228, 0.23437173698809824, 0.5932534592511237, 0.00732411678087807, 0.3145716527377617, 0.025165732219020936, 0.025165732219020936, 0.616560439366013, 0.9835131753826728, 0.8192387814952452, 0.0014576259665137123, 0.024779641430733107, 0.0014576259665137123, 0.017491511598164547, 0.0014576259665137123, 0.8978975953724467, 0.021864389497705684, 0.016033885631650834, 0.01894913756467826, 0.1892690368518049, 0.052351010193052425, 0.03758534065142225, 0.29665572442729704, 0.024162004704485734, 0.09799035241263658, 0.2818900548856669, 0.017450336731017473, 0.0026846671893873035, 0.877960151266846, 0.0373962382792635, 0.12523391423753358, 0.13740943367729377, 0.4104889411119156, 0.01652391923967457, 0.1617604725568142, 0.060007917238818174, 0.04174463807917786, 0.005218079759897232, 0.001739359919965744, 0.001739359919965744, 0.000869679959982872, 0.9581334089815389, 0.03193778029938463, 0.9206962467327168, 0.9242021012293019, 0.03932774898848093, 0.019663874494240466, 0.848146717874631, 0.8130680872307634, 0.07950381243185557, 0.04602852298686375, 0.012553233541871933, 0.42053332365270973, 0.010461027951559943, 0.10461027951559944, 0.15691541927339916, 0.0753194012512316, 0.08578042920279154, 0.0041844111806239774, 0.0020922055903119887, 0.07395408845483585, 0.08917993019553735, 0.006525360746014928, 0.46656329334006735, 0.02283876261105225, 0.04241484484909703, 0.16204645852603738, 0.008700480994686571, 0.0663411675844851, 0.059815806838470174, 0.9543279628356037, 0.9813376557962656, 0.8614457301336804, 0.11485943068449073, 0.02131573569817621, 0.5399986376871306, 0.14210490465450806, 0.2699993188435653, 0.02131573569817621, 0.48837488581329175, 0.3906999086506334, 0.04883748858132918, 0.3674003755508984, 0.5183534788256213, 0.06817236922084263, 0.00949543714147451, 0.004382509449911313, 0.022399492743991153, 0.0012173637360864756, 0.003652091208259427, 0.0004869454944345903, 0.001704309230521066, 0.00024347274721729515, 0.002434727472172951, 0.17983412905639085, 0.05009665023713745, 0.3994886724038397, 0.0064226474662996726, 0.1708424226035713, 0.08606347604841562, 0.017983412905639085, 0.08606347604841562, 0.002569058986519869, 0.0012845294932599346, 0.8419205712702216, 0.9856631494709253, 0.8589218368701751, 0.9479342293259675, 0.8822207189687896, 0.5378997936154192, 0.1430281585304439, 0.08939259908152744, 0.4112059557750262, 0.18041051814635536, 0.050384919482315466, 0.10402047893123192, 0.01300255986640399, 0.004875959949901497, 0.0016253199833004988, 0.2819543466692355, 0.041150093838212755, 0.044198248937339625, 0.004572232648690306, 0.4648436526168478, 0.041150093838212755, 0.04877048158602993, 0.07163164482948146, 0.10126979344681543, 0.012658724180851929, 0.8607932442979311, 0.012658724180851929, 0.012658724180851929, 0.8836392626454687, 0.7992476590776081, 0.4794232555090139, 0.07102566748281687, 0.2841026699312675, 0.15980775183633794, 0.09357875247443911, 0.006931759442551046, 0.27380449798076634, 0.031192917491479708, 0.006931759442551046, 0.5094843190275019, 0.013863518885102092, 0.020795278327653138, 0.006931759442551046, 0.031192917491479708, 0.7873729382932715, 0.9740880500142276, 0.015076544424969144, 0.07538272212484572, 0.897054393285664, 0.41294343910709275, 0.03176487993131483, 0.2223541595192038, 0.31764879931314827, 0.7907066200677539, 0.8778981138502313, 0.7991390833068475, 0.1331898472178079, 0.5595706027639066, 0.37304706850927105, 0.008234519382925435, 0.37878789161457, 0.16469038765850869, 0.12351779074388153, 0.03293807753170174, 0.06587615506340348, 0.20586298457313587, 0.01646903876585087, 0.9834023937251428, 0.15525715625611833, 0.10350477083741222, 0.7245333958618856, 0.02473679106073142, 0.22263111954658277, 0.39578865697170273, 0.1236839553036571, 0.2473679106073142, 0.24793461858953003, 0.0839163324456871, 0.09535946868828078, 0.1563895286487805, 0.09535946868828078, 0.04958692371790601, 0.08773071119321832, 0.061030059960499705, 0.0038143787475312316, 0.11824574117346817, 0.03272277542680448, 0.29450497884124033, 0.08726073447147861, 0.29450497884124033, 0.010907591808934827, 0.021815183617869653, 0.18542906075189206, 0.06544555085360897, 0.9732305384207244, 0.7988216656329576, 0.06006934635089769, 0.5406241171580792, 0.04004623090059846, 0.08009246180119692, 0.26030050085389, 0.017714277263133085, 0.026571415894699628, 0.522571179262426, 0.053142831789399256, 0.07971424768409889, 0.11514280221036506, 0.008857138631566543, 0.15942849536819778, 0.9282391596936648, 0.04972709784073204, 0.9086207159768326, 0.9741584648909981, 0.012988779531879975, 0.8426745448689715, 0.9536394598771051, 0.7411419715334778, 0.43787533058550804, 0.5108545523497594, 0.3517652767906463, 0.011725509226354876, 0.03986673136960658, 0.0023451018452709752, 0.5229577114954275, 0.0023451018452709752, 0.06800795351285828, 0.9166683093609509, 0.12781405244376526, 0.7668843146625917, 0.3056459468161602, 0.0038205743352020026, 0.0038205743352020026, 0.6877033803363605, 0.19682269386788817, 0.36835913887080457, 0.20023975452531678, 0.04032131575765765, 0.09841134693394409, 0.03690425510022903, 0.042371552152114814, 0.008884357709314396, 0.003417060657428614, 0.0006834121314857228, 0.0006834121314857228, 0.0006834121314857228, 0.0006834121314857228, 0.84813850025905, 0.004807613004231304, 0.004807613004231304, 0.9903682788716487, 0.9759492572066657, 0.10154318465617745, 0.10154318465617745, 0.7214910488728398, 0.03206626883879288, 0.04275502511839051, 0.6735142272431738, 0.8393249299362759, 0.7177943645403188, 0.12193739353758434, 0.07052275749023457, 0.1469552432617737, 0.0571273733859442, 0.4412597116707414, 0.07859938614135081, 0.07525054011527822, 0.005121764510463963, 0.0007879637708406097, 0.0007879637708406097, 0.00019699094271015242, 0.0005909728281304573, 0.0005909728281304573, 0.9800744043712408, 0.48819844820306885, 0.48819844820306885, 0.925102063630449, 0.023127551590761224, 0.0308367354543483, 0.007709183863587075, 0.06684523424152736, 0.20053570272458204, 0.7018749595360372, 0.22229514083853266, 0.31121319717394574, 0.22229514083853266, 0.22229514083853266, 0.9097086182410887, 0.8900312129590607, 0.1469502329899829, 0.51432581546494, 0.33063802422746147, 0.2568127574069714, 0.17959829047896175, 0.1028104228157477, 0.11347540443563854, 0.13224577208664642, 0.048205716921906595, 0.09854443016779137, 0.044366323538745894, 0.011091580884686474, 0.011091580884686474, 0.0004265992647956336, 0.0004265992647956336, 0.0019794923963827272, 0.14846192972870453, 0.819509852102449, 0.0019794923963827272, 0.02177441636021, 0.0039589847927654544, 0.0019794923963827272, 0.35304417754142714, 0.5295662663121408, 0.9854657056780792, 0.043015666234034945, 0.04540542546925911, 0.29274550631496005, 0.22702712734629554, 0.18162170187703644, 0.17325754455375186, 0.028677110822689963, 0.0011948796176120817, 0.0011948796176120817, 0.0023897592352241635, 0.061481150526665564, 0.3340475845282162, 0.31765261105443876, 0.08607361073733179, 0.03688869031599934, 0.04918492042133245, 0.014345601789555297, 0.08607361073733179, 0.006148115052666556, 0.0020493716842221853, 0.006148115052666556, 0.8849438432752816, 0.06909480929967336, 0.9155062232206721, 0.179141387676307, 0.11477921246326257, 0.1651962497134807, 0.06865298689391405, 0.11907002414413219, 0.10834299494195812, 0.19308652563913328, 0.041835413888478876, 0.005363514601087036, 0.002145405840434814, 0.002145405840434814, 0.001072702920217407, 0.8974855556416619, 0.7565790540099425, 0.4574817356210426, 0.014757475342614278, 0.4869966863062712, 0.014757475342614278, 0.9489425484061164, 0.09250411415282826, 0.3237643995348989, 0.5550246849169695, 0.8442185098821674, 0.867002046182565, 0.9531301746532059, 0.9329587392283475, 0.9326436795345812, 0.737395033136723, 0.18434875828418076, 0.25257388660624025, 0.7156260120510141, 0.9086633095053799, 0.8000403992208235, 0.021918915047145847, 0.010959457523572923, 0.010959457523572923, 0.032878372570718774, 0.12055403275930217, 0.330221049253244, 0.0412776311566555, 0.12383289346996651, 0.37149868040989953, 0.12383289346996651, 0.02275928261298194, 0.02275928261298194, 0.9331305871322596, 0.730939181726946, 0.23861859632889426, 0.7158557889866828, 0.8804225880898369, 0.008475436649590091, 0.3474929026331937, 0.033901746598360365, 0.033901746598360365, 0.033901746598360365, 0.466149015727455, 0.016950873299180182, 0.06780349319672073, 0.04228401703179963, 0.049331353203766234, 0.06644631247854228, 0.0392637301009568, 0.375522341734792, 0.12886557571596077, 0.2949813569123165, 0.002013524620561887, 0.0010067623102809435, 0.02741077171628486, 0.0034263464645356077, 0.2798182946037413, 0.020558078787213645, 0.477404274058628, 0.020558078787213645, 0.16674886127406624, 0.001142115488178536, 0.001142115488178536, 0.001142115488178536, 0.011097697319148937, 0.3662240115319149, 0.027744243297872343, 0.08323272989361703, 0.08878157855319149, 0.1720143084468085, 0.07213503257446809, 0.005548848659574468, 0.016646545978723407, 0.15536776246808512, 0.005548848659574468, 0.9445681982916487, 0.01782204147720092, 0.01782204147720092, 0.9785395349444516, 0.9866896753091641, 0.9432129032752656, 0.9740907972485604, 0.005683111267672202, 0.034098667606033216, 0.591043571837909, 0.17901800493167438, 0.014207778169180505, 0.03978177887370542, 0.08524666901508303, 0.04546489014137762, 0.002841555633836101, 0.002841555633836101, 0.7871362552813016, 0.017299697918270365, 0.03459939583654073, 0.06919879167308146, 0.04324924479567591, 0.017299697918270365, 0.025949546877405548, 0.09279860217926668, 0.027417768825692426, 0.004218118280875758, 0.49141077972202585, 0.12654354842627275, 0.13708884412846215, 0.1012348387410182, 0.002109059140437879, 0.002109059140437879, 0.014763413983065153, 0.8615150797435968, 0.03733327658628341, 0.12319981273473524, 0.08959986380708018, 0.24826628929878466, 0.0503999233914826, 0.018666638293141705, 0.4330660084008875, 0.0018666638293141702, 0.026708139932158294, 0.908076757693382, 0.026708139932158294, 0.8904943194929703, 0.0771923565527645, 0.17368280224372015, 0.19298089138191127, 0.009649044569095563, 0.2701732479346758, 0.02894713370728669, 0.019298089138191126, 0.14473566853643344, 0.08684140112186008, 0.27062180170122263, 0.6314508706361861, 0.012100563184733052, 0.08470394229313136, 0.7623354806381822, 0.12100563184733051, 0.09115146086690955, 0.7139657130536224, 0.005838883614250433, 0.00875832542137565, 0.00032438242301391297, 0.0022706769610973906, 0.00032438242301391297, 0.014921591458639997, 0.00032438242301391297, 0.16186682908394256, 0.00032438242301391297, 0.09246621490071427, 0.8561096103738545, 0.011159715591465514, 0.003188490168990147, 0.03347914677439654, 0.019084259188667865, 0.9446708298390593, 0.028626388783001798, 0.01812273036366987, 0.9242592485471632, 0.01812273036366987, 0.01812273036366987, 0.01812273036366987, 0.9054049336315364, 0.6667769305313997, 0.9583736057733573, 0.9716604541969426, 0.9146071934202747, 0.764665730403392, 0.2973615164801945, 0.21240108320013895, 0.4248021664002779, 0.013720940459163299, 0.020581410688744948, 0.027441880918326597, 0.16465128550995958, 0.020581410688744948, 0.7272098443356548, 0.013720940459163299, 0.27913643972314833, 0.23925980547698428, 0.0897224270538691, 0.38879718390009943, 0.9186631518138657, 0.01428040520641648, 0.14994425466737304, 0.1071030390481236, 0.7211604629240322, 0.02478133606935286, 0.9664721067047617, 0.9633159476176603, 0.026035566151828653, 0.9716712494083733, 0.6415969825743953, 0.15900582609696534, 0.6780593273790131, 0.036781520117257785, 0.011879745627934191, 0.02353103460917734, 0.061683294606581375, 0.004112219640438759, 0.021931838082340047, 0.001370739880146253, 0.0009138265867641686, 0.00022845664669104214, 0.00022845664669104214, 0.00022845664669104214, 0.0745033434659443, 0.8940401215913315, 0.07632998485932413, 0.9159598183118894, 0.9578479649553878, 0.9873016694048534, 0.2985408643824132, 0.0746352160956033, 0.5224465126692232, 0.2588296356673491, 0.12729326344295858, 0.12305015466152663, 0.01697243512572781, 0.3946091166731716, 0.012729326344295858, 0.004243108781431953, 0.06364663172147929, 0.6649562779469174, 0.05782228503886239, 0.010841678444786697, 0.09034732037322248, 0.15901128385687155, 0.010841678444786697, 0.8161132482446044, 0.7888383047728335, 0.13147305079547225, 0.17786580090508958, 0.782609523982394, 0.11827328338850164, 0.8771935184647205, 0.9813796901493419, 0.2031898107812265, 0.6095694323436796, 0.515514878110368, 0.09372997783824874, 0.18745995567649748, 0.1405949667573731, 0.9899166580719416, 0.9023154221197905, 0.9369054689419088, 0.9412998314471176, 0.02614721754019771, 0.06908891319744022, 0.6908891319744023, 0.10049296465082214, 0.06280810290676384, 0.0376848617440583, 0.03140405145338192, 0.862919271527463, 0.9679268245440529, 0.5038501444645495, 0.015911057193617354, 0.466724344346109, 0.7115572428256866, 0.8885559036378838, 0.93493964139937, 0.005033547907167159, 0.9865753898047632, 0.005033547907167159, 0.00318314256753651, 0.00318314256753651, 0.00318314256753651, 0.9867741959363181, 0.00318314256753651, 0.02509297052364471, 0.9535328798984989, 0.9809977314323889, 0.9770637274318823, 0.26290377072496085, 0.20816090332991213, 0.15916833713182232, 0.05520289149080543, 0.18354961420692806, 0.0788941324222761, 0.02277119273995724, 0.022541180692078885, 0.0004600240957567119, 0.0032201686702969835, 0.0004600240957567119, 0.00023001204787835596, 0.00023001204787835596, 0.00023001204787835596, 0.0011500602393917797, 0.00023001204787835596, 0.00023001204787835596, 0.00023001204787835596, 0.8703895637326353, 0.8376631992355161, 0.9834738534076797, 0.21014078331585145, 0.4903284944036534, 0.07004692777195048, 0.023348975923983495, 0.21014078331585145, 0.9182380670940529, 0.9016085751006749, 0.1686798235846364, 0.1626555441708994, 0.11360069751618371, 0.12909170172293602, 0.07315196430966375, 0.2659289055492482, 0.05249729203399398, 0.015491004206752323, 0.0008606113448195735, 0.012909170172293602, 0.0008606113448195735, 0.001721222689639147, 0.0008606113448195735, 0.9436986128153118, 0.37710915452270566, 0.009487022755288193, 0.01185877844411024, 0.016602289821754337, 0.5668496096284695, 0.002371755688822048, 0.014230534132932288, 0.7804687225802369, 0.24100092043796154, 0.004061813265808341, 0.006769688776347234, 0.028432692860658384, 0.712171259271729, 0.005415751021077787, 0.45875397015464603, 0.527567065677843, 0.802719032991044, 0.869999649122307, 0.022267437103608786, 0.04453487420721757, 0.6234882389010461, 0.13360462262165274, 0.15587205972526152, 0.8718012114436596, 0.948216720666183, 0.9644466430059961, 0.036365370789291376, 0.03054691146300476, 0.12218764585201904, 0.5469351766709424, 0.09600457888372924, 0.11200534203101745, 0.040729215284006345, 0.008727688989429931, 0.004363844494714966, 0.04232917867676175, 0.04232917867676175, 0.026936750067030203, 0.608000930084396, 0.10005078596325505, 0.09620267881082216, 0.034632964371895975, 0.015392428609731546, 0.030784857219463092, 0.863107320985752, 0.888250125766903, 0.9639694432445187, 0.9392154785288594, 0.9558523264332531, 0.9088747186722609, 0.8825083809458165, 0.12331686142407859, 0.36995058427223576, 0.43160901498427506, 0.04706224853864154, 0.9412449707728309, 0.9075370507246721, 0.01752972675679498, 0.5317350449561143, 0.011686484504529986, 0.06427566477491492, 0.13439457180209483, 0.011686484504529986, 0.22788644783833473, 0.005843242252264993, 0.12678431342260416, 0.855794115602578, 0.11314941559432398, 0.006655847976136705, 0.02662339190454682, 0.07987017571364045, 0.7654225172557211, 0.9068116764180311, 0.06433577675187117, 0.06433577675187117, 0.7720293210224541, 0.9716262419267574, 0.9865502382098928, 0.02239811738653294, 0.03359717607979941, 0.8959246954613176, 0.03359717607979941, 0.14575228789938008, 0.14575228789938008, 0.7287614394969004, 0.20300444587345848, 0.16675365196748376, 0.02537555573418231, 0.23563016038883575, 0.04350095268716968, 0.032625714515377255, 0.11600254049911914, 0.04712603207776715, 0.003625079390597473, 0.11962761988971661, 0.15906083473669652, 0.19938611678261958, 0.050406602557403826, 0.33940445721985246, 0.05824762962188887, 0.06048792306888459, 0.1086542321792927, 0.02016264102296153, 0.0022402934469957256, 0.0011201467234978628, 0.11048312965455788, 0.0038766010405108025, 0.0038766010405108025, 0.07171711924944985, 0.4186729123751667, 0.054272414567151234, 0.3353259900041844, 0.09977408184373616, 0.016369185302487963, 0.017148670316892153, 0.12159966224705344, 0.251773659652553, 0.07950747146922725, 0.4100091175766033, 0.0015589700288083776, 0.9940329255100451, 0.9655410424117258, 0.3004413390809213, 0.6609709459780269, 0.8098273813282468, 0.284774850851094, 0.11692343082563438, 0.08287098834291096, 0.05544822492762042, 0.19437013629519115, 0.034655140579762767, 0.19226069295555342, 0.034655140579762767, 0.0009040471455590286, 0.0021094433396377336, 0.0003013490485196762, 0.0003013490485196762, 0.0003013490485196762, 0.24622915519947206, 0.12311457759973603, 0.02735879502216356, 0.05471759004432712, 0.02735879502216356, 0.20519096266622672, 0.0683969875554089, 0.12311457759973603, 0.12311457759973603, 0.8497610373666005, 0.07640354266458381, 0.8977416263088598, 0.019100885666145952, 0.5095770580814031, 0.14154918280038975, 0.014154918280038975, 0.14154918280038975, 0.18401393764050666, 0.036012180513690456, 0.28809744410952365, 0.2700913538526784, 0.07202436102738091, 0.054018270770535684, 0.25208526359583316, 0.9261792789611998, 0.9669097382733376, 0.7913423036987933, 0.9546230908575475, 0.10278362566463257, 0.04405012528484253, 0.8516357555069556, 0.05324023266380518, 0.04384489748783956, 0.14249591683547858, 0.17537958995135824, 0.15972069799141556, 0.3319685095507853, 0.06420145703576507, 0.00469766758798281, 0.00313177839198854, 0.00313177839198854, 0.0156588919599427, 0.01983793611744797, 0.029756904176171953, 0.04959484029361992, 0.22813626535065165, 0.3174069778791675, 0.2578931695268236, 0.04959484029361992, 0.04959484029361992, 0.21254818671186967, 0.30390259093576183, 0.11522590683516044, 0.008263212442362104, 0.2226476685858678, 0.03259378241153941, 0.08446839385525706, 0.01652642488472421, 0.0004590673579090057, 0.0013772020737270172, 0.0004590673579090057, 0.0009181347158180114, 0.14111096232587889, 0.41407077748134347, 0.1650834810221672, 0.0010896599407403775, 0.2271940976443687, 0.015255239170365285, 0.032144968251841134, 0.0016344899111105662, 0.0005448299703701888, 0.0005448299703701888, 0.0005448299703701888, 0.7992445413614937, 0.30992429336257094, 0.6198485867251419, 0.8787670572609263, 0.019637252676221816, 0.029455879014332727, 0.0638210711977209, 0.6600939455793291, 0.08801252607724387, 0.044006263038621936, 0.13201878911586581, 0.9521695317243054, 0.21073395896111638, 0.0339893482195349, 0.00679786964390698, 0.02039360893172094, 0.7205741822541398, 0.0077114502554122095, 0.45497556506932035, 0.5398015178788547, 0.059365232636399416, 0.026714354686379737, 0.3858740121365962, 0.011873046527279883, 0.2879213782865372, 0.04452392447729956, 0.17512743627737828, 0.0029682616318199707, 0.5201669263888211, 0.2837274143939024, 0.18915160959593497, 0.08105995071355951, 0.054039967142373004, 0.072053289523164, 0.38728643118700656, 0.31523314166384253, 0.08105995071355951, 0.9189120187047213, 0.06280513877361252, 0.1570128469340313, 0.7850642346701565, 0.981597548983411, 0.025120157999444913, 0.9294458459794618, 0.9757192077975284, 0.9566081768586241, 0.45015248986939593, 0.20682681966972247, 0.12166283509983675, 0.10949655158985307, 0.030415708774959187, 0.012166283509983675, 0.06083141754991837, 0.9458798757728489, 0.05669690352004897, 0.020617055825472352, 0.8246822330188941, 0.010308527912736176, 0.010308527912736176, 0.041234111650944705, 0.015462791869104264, 0.015462791869104264, 0.005154263956368088, 0.9493412766424991, 0.38531496596839515, 0.5779724489525928, 0.19380557960408532, 0.4651333910498048, 0.27132781144571944, 0.4228572228915911, 0.4228572228915911, 0.12366628282512816, 0.12239137269291034, 0.24478274538582068, 0.012749101322178161, 0.4385690854829287, 0.005099640528871264, 0.04844658502427701, 0.001274910132217816, 0.002549820264435632, 0.18309842550626998, 0.7323937020250799, 0.9798591215745385, 0.9741139024981733, 0.9366282008292712, 0.9578639169082352, 0.9831059720377827, 0.006642607919174207, 0.8742577366474591, 0.005405685455031834, 0.9784290673607619, 0.010811370910063667, 0.000900947575838639, 0.000900947575838639, 0.002702842727515917, 0.009869711424733847, 0.9869711424733846, 0.9817281403270629, 0.011618084500911986, 0.013981752464797168, 0.9682363581872039, 0.00873859529049823, 0.000873859529049823, 0.003495438116199292, 0.003495438116199292, 0.009300248616647381, 0.9858263533646223, 0.005258192100371695, 0.9885401148698788, 0.005258192100371695, 0.919073907200158, 0.7753506790518617, 0.03221471273514502, 0.012080517275679383, 0.01610735636757251, 0.03624155182703815, 0.012080517275679383, 0.01610735636757251, 0.004026839091893128, 0.8697972438489155, 0.9766708136569398, 0.0683068209817575, 0.9221420832537262, 0.0749995860446949, 0.011111049784399245, 0.14166588475109038, 0.005555524892199622, 0.03888867424539735, 0.4222198918071713, 0.1249993100744915, 0.17777679655038792, 0.002777762446099811, 0.9183166292117193, 0.8718004868155733, 0.19252678126980288, 0.19252678126980288, 0.6160857000633693, 0.9439313095247751, 0.9352507096075365, 0.016024544868664958, 0.007283884031211344, 0.01165421444993815, 0.024765205706118572, 0.0014567768062422688, 0.0014567768062422688, 0.0014567768062422688, 0.9844513389876274, 0.13101830023046573, 0.1631044145726206, 0.28520990526359885, 0.1065080739968752, 0.043227126266514204, 0.17691926935882618, 0.05258557628297604, 0.028520990526359886, 0.004010764292769359, 0.0004456404769743732, 0.004902045246718105, 0.0004456404769743732, 0.0008912809539487464, 0.0013369214309231197, 0.03303101471475679, 0.3682958140695382, 0.024773261036067595, 0.20148918976001642, 0.226262450796084, 0.006606202942951358, 0.133775609594765, 0.0016515507357378395, 0.0016515507357378395, 0.008563928100693584, 0.6422946075520187, 0.038537676453121124, 0.04424696185358351, 0.2554905216706919, 0.007136606750577986, 0.0014273213501155972, 0.0014273213501155972, 0.0014273213501155972, 0.9526003593523953, 0.31224196578421154, 0.011782715689970247, 0.029456789224925617, 0.6421580051033784, 0.14597059141392033, 0.03649264785348008, 0.8028382527765617, 0.054717955631987975, 0.9302052457437956, 0.2177780818554569, 0.05297304693781384, 0.08828841156302307, 0.6356765632537661, 0.9807356544902228, 0.19572948870045548, 0.024466186087556935, 0.7706848617580434, 0.09976384200782877, 0.24940960501957193, 0.049881921003914385, 0.5985830520469727, 0.047964704144082444, 0.9113293787375664, 0.7135520073417208, 0.9068037481887454, 0.8975615118361516, 0.7513765419638994, 0.10363814371915854, 0.12954767964894817, 0.9544522618291895, 0.3081046167804881, 0.2310784625853661, 0.38513077097561016, 0.5095629587905818, 0.0067385289627203155, 0.23584851369521107, 0.32344939021057517, 0.0876008765153641, 0.013477057925440631, 0.32344939021057517, 0.0067385289627203155, 0.988406071785113, 0.9693424608837571, 0.9814185374320817, 0.07009588891102272, 0.03504794445551136, 0.876198611387784, 0.9847919398562723, 0.9551644770499267, 0.9707260472382121, 0.9725175504692508, 0.8963498460947427, 0.9286933367560845, 0.8074384238160843, 0.2918526053257657, 0.0028613000522133888, 0.6895733125834267, 0.008583900156640166, 0.0028613000522133888, 0.8930615099412941, 0.9390510199258213, 0.8562126886949476, 0.13172502902999195, 0.9648622637119882, 0.29132550139322105, 0.1773285660654389, 0.11399693532778216, 0.3293244798358151, 0.07599795688518811, 0.81630548760506, 0.9575545772127062, 0.9870707981427854, 0.08920600616983675, 0.20628888926774747, 0.05017837847053317, 0.5017837847053317, 0.1338090092547551, 0.01672612615684439, 0.9847850287059282, 0.8872914193208281, 0.12336459473907722, 0.27541863011514917, 0.12336459473907722, 0.048772049082891, 0.08033043378358516, 0.014344720318497352, 0.20369502852266239, 0.00573788812739894, 0.01147577625479788, 0.10901987442057987, 0.00286894406369947, 0.40861133434065616, 0.596541921747249, 0.198847307249083, 0.013508890073454903, 0.972640085288753, 0.9888674297825836, 0.9301079273247481, 0.717209451435825, 0.06273624411452075, 0.7110107666312351, 0.04182416274301383, 0.010456040685753457, 0.16729665097205532, 0.4775532682588337, 0.3979610568823614, 0.984637610779454, 0.9709113546308595, 0.9800741038649874, 0.010538431224354702, 0.9288680265276226, 0.95782120220681, 0.6863880965735639], \"Term\": [\"(csr)\", \"(drl)\", \"(drl)\", \"(ecb)\", \"(ehr)\", \"(esg)\", \"(genai)\", \"(genai)\", \"(ghg)\", \"(natural\", \"(ner)\", \"(or\", \"(or\", \"(or\", \"(or\", \"(or\", \"(pmc)\", \"(sdgs)\", \"(stm),\", \"(study\", \"0.79,\", \"100,000\", \"100,000\", \"12,\", \"1946\", \"2.0\", \"2030\", \"2500\", \"2nd\", \"3.0\", \"89%\", \"94%\", \"97%\", \"[methods]\", \"[no\", \"[results]\", \"abac\", \"abortion\", \"abstractive\", \"abstracts\", \"abstracts\", \"abstracts\", \"abstracts\", \"aca\", \"academic\", \"academic\", \"academic\", \"academic\", \"academic\", \"academic\", \"academic\", \"academic\", \"academic\", \"academic\", \"access\", \"access\", \"access\", \"access\", \"access\", \"access\", \"access\", \"access\", \"access\", \"accident\", \"accident\", \"accident\", \"accident\", \"accident\", \"accidents\", \"accidents\", \"accidents\", \"accidents\", \"accidents.\", \"accuracy\", \"accuracy\", \"accuracy\", \"accuracy\", \"accuracy\", \"accuracy\", \"accuracy\", \"accuracy\", \"accuracy\", \"acknowledgment\", \"acknowledgment\", \"acp\", \"actor-critic\", \"adaptation\", \"adaptation\", \"adaptation\", \"adaptation\", \"adaptation\", \"adaptation\", \"adults\", \"adversarial\", \"adversarial\", \"adversarial\", \"advice\", \"advice\", \"advice\", \"advice\", \"advice\", \"advice\", \"advice\", \"advice,\", \"agent\", \"agent\", \"agent\", \"agent\", \"agent\", \"aggression\", \"aggressive\", \"aggressive\", \"agree\", \"agreements\", \"agreements\", \"agreements\", \"agreements.\", \"agreements.\", \"agricultural\", \"agricultural\", \"agricultural\", \"agricultural\", \"agricultural\", \"agricultural\", \"agricultural\", \"akad\\u00e9miai\", \"al.,\", \"al.,\", \"al.,\", \"al.,\", \"al.,\", \"al.,\", \"alcohol\", \"algorithm\", \"algorithm\", \"algorithm\", \"algorithm\", \"algorithm\", \"algorithm\", \"algorithm\", \"algorithm\", \"algorithms\", \"algorithms\", \"algorithms\", \"algorithms\", \"algorithms\", \"algorithms\", \"algorithms\", \"algorithms\", \"alike.\", \"alleviation\", \"alphago\", \"altmetric.com\", \"ameliorate\", \"amendments\", \"analysis\", \"analysis\", \"analysis\", \"analysis\", \"analysis\", \"analysis\", \"analysis\", \"analysis\", \"analysis\", \"analysis\", \"analysis\", \"analysis\", \"analysis\", \"analysis\", \"analysis\", \"android\", \"annotating\", \"annotation\", \"annotation\", \"annotation\", \"annotation\", \"annotation\", \"annotation.\", \"annotation.\", \"annotations\", \"annotations\", \"anomalies\", \"anomalies\", \"anomaly\", \"anomaly\", \"anti-immigrant\", \"antibiotic\", \"antibiotic\", \"antimicrobial\", \"api\", \"app\", \"app\", \"app\", \"app\", \"app\", \"apparel\", \"applications\", \"applications\", \"applications\", \"applications\", \"applications\", \"applications\", \"applications\", \"applications\", \"applications\", \"applications\", \"applications\", \"appointment\", \"appraisal\", \"approach\", \"approach\", \"approach\", \"approach\", \"approach\", \"approach\", \"approach\", \"approach\", \"approach\", \"approach\", \"apps\", \"apps\", \"apps\", \"apps,\", \"apps,\", \"apps.\", \"aquatic\", \"arab\", \"arab\", \"arabic\", \"arabic-specific\", \"architecture\", \"architecture\", \"architecture\", \"architecture\", \"arctic\", \"arizona\", \"arizona\", \"armed\", \"article\", \"article\", \"article\", \"article\", \"article\", \"article\", \"article\", \"article\", \"article\", \"article\", \"articles\", \"articles\", \"articles\", \"articles\", \"articles\", \"articles\", \"articles\", \"articles\", \"articles\", \"artificial\", \"artificial\", \"artificial\", \"artificial\", \"artificial\", \"artificial\", \"artificial\", \"artificial\", \"artificial\", \"artificial\", \"artificial\", \"as,\", \"as,\", \"aspect-based\", \"aspect-based\", \"associated\", \"associated\", \"associated\", \"associated\", \"associated\", \"associated\", \"associated\", \"associated\", \"associated\", \"associated\", \"associated\", \"attacks\", \"attacks\", \"attacks\", \"attacks\", \"attacks\", \"attention\", \"attention\", \"attention\", \"attention\", \"attention\", \"attention\", \"attention\", \"attention\", \"attention\", \"attention\", \"attitudes\", \"attitudes\", \"attitudes\", \"attitudes\", \"attitudes\", \"attribute-based\", \"audit\", \"auditing\", \"austerity\", \"authorities,\", \"authorship\", \"authorship\", \"authorship\", \"authorship\", \"available]\", \"average\", \"average\", \"average\", \"average\", \"average\", \"average\", \"average\", \"average\", \"average\", \"average\", \"average\", \"background.\", \"background:\", \"background:\", \"background:\", \"background:\", \"bandwidth\", \"bangladesh\", \"bangladesh\", \"bank\", \"bank\", \"bank\", \"bank\", \"bank.\", \"bariatric\", \"based\", \"based\", \"based\", \"based\", \"based\", \"based\", \"based\", \"based\", \"based\", \"based\", \"based\", \"based\", \"based\", \"batch\", \"bayes\", \"bayes\", \"before.\", \"beijing\", \"beijing\", \"beijing\", \"believed\", \"bibliometric\", \"bibliometric\", \"bibliometric\", \"bibliometric\", \"bigger\", \"bigger\", \"bilateral\", \"bilateral\", \"bilateral\", \"bills\", \"bills\", \"bim\", \"bing\", \"biofuel\", \"biofuel\", \"bitcoin\", \"blockchain\", \"blogging\", \"blogs,\", \"boards,\", \"bond\", \"book\", \"book\", \"book\", \"book\", \"book\", \"booking\", \"books\", \"boosts\", \"bootstrap\", \"bottleneck\", \"bottleneck\", \"brain\", \"brain\", \"brain\", \"brain\", \"breakthrough\", \"breast\", \"breast\", \"briefly\", \"briefly\", \"briefs\", \"budapest,\", \"budget\", \"budget\", \"bullying\", \"bullying\", \"bullying\", \"business\", \"business\", \"business\", \"business\", \"business\", \"business\", \"business\", \"business\", \"business\", \"caa\", \"cache\", \"caching\", \"caching\", \"cadastral\", \"calculation\", \"calorie\", \"calorie\", \"calories\", \"cancer\", \"cancer\", \"captioning\", \"carbon\", \"carbon\", \"carbon\", \"carbon\", \"carbon\", \"carbon-related\", \"cardiovascular\", \"care\", \"care\", \"care\", \"care\", \"care\", \"cars\", \"cars\", \"case\", \"case\", \"case\", \"case\", \"case\", \"case\", \"case\", \"case\", \"case\", \"central\", \"central\", \"central\", \"central\", \"central\", \"central\", \"central\", \"central\", \"central\", \"centre\", \"centre\", \"centre\", \"centre\", \"challenges\", \"challenges\", \"challenges\", \"challenges\", \"challenges\", \"challenges\", \"challenges\", \"challenges\", \"challenges\", \"challenges\", \"challenges\", \"challenges\", \"change\", \"change\", \"change\", \"change\", \"change\", \"change\", \"change\", \"change\", \"change\", \"change\", \"change.\", \"change.\", \"change.\", \"change.\", \"change.\", \"chapter\", \"chapter\", \"chapter\", \"chapter\", \"chapter\", \"chapter\", \"chapter\", \"chapter\", \"chapters\", \"chapters\", \"chapters,\", \"characterizing\", \"characters\", \"charge\", \"charge\", \"charging\", \"charging\", \"charging\", \"chatbot\", \"chatbot\", \"chatgpt\", \"chatgpt\", \"chatgpt\", \"chatgpt\", \"chatgpt\", \"chatgpt\", \"chatgpt\", \"chatgpt,\", \"chatgpt,\", \"chatgpt,\", \"chatgpt,\", \"chatgpt,\", \"cheating\", \"cheating\", \"chemistry\", \"chemistry\", \"child\", \"child\", \"china\", \"china\", \"china\", \"china\", \"china\", \"china\", \"china\", \"china\", \"china\", \"china's\", \"china's\", \"china's\", \"china\\u2019s\", \"china\\u2019s\", \"china\\u2019s\", \"china\\u2019s\", \"china\\u2019s\", \"china\\u2019s\", \"chinese\", \"chinese\", \"chinese\", \"chinese\", \"chinese\", \"chinese\", \"chinese\", \"chinese\", \"chinese\", \"chinese\", \"chronic\", \"chronic\", \"cigarettes\", \"citation-based\", \"cited.\", \"cities\", \"cities\", \"cities\", \"citing\", \"citing\", \"citing\", \"city\", \"city\", \"city\", \"city\", \"city's\", \"classification\", \"classification\", \"classification\", \"classification\", \"classification\", \"classification\", \"classification\", \"classification\", \"classification\", \"classification\", \"classifier.\", \"classifier.\", \"classifier.\", \"classifiers.\", \"classifiers.\", \"classroom\", \"clickbait\", \"climate\", \"climate\", \"climate\", \"climate\", \"climate\", \"climate\", \"clinical\", \"clinical\", \"clinical\", \"clinical\", \"clinical\", \"clinical\", \"cluster.\", \"clustering\", \"clustering\", \"clustering\", \"clustering\", \"clustering\", \"clustering\", \"clustering\", \"clustering\", \"co-authorship\", \"co-benefits\", \"coal\", \"coal\", \"coal\", \"coalition\", \"coastal\", \"coastal\", \"code.\", \"cognition.\", \"cognitive\", \"cognitive\", \"cognitive\", \"cognitive\", \"cognitive\", \"cognitive\", \"cognitive\", \"cohesion\", \"collated\", \"collected\", \"collected\", \"collected\", \"collected\", \"collected\", \"collected\", \"collected\", \"collected\", \"collected\", \"collected\", \"collected.\", \"comments\", \"comments\", \"comments\", \"comments\", \"comments\", \"comments\", \"comments\", \"commitments\", \"communication\", \"communication\", \"communication\", \"communication\", \"communication\", \"communication\", \"communication\", \"communication\", \"communication\", \"communication\", \"communication\", \"companies\", \"companies\", \"companies\", \"companies\", \"companies\", \"companies\", \"companies\", \"compatible\", \"compatible\", \"complying\", \"compounded\", \"computing\", \"computing\", \"computing\", \"computing\", \"computing\", \"computing\", \"computing\", \"computing\", \"computing\", \"conclusion:\", \"conclusion:\", \"conclusion:\", \"conclusion:\", \"conclusion:\", \"conclusion:\", \"conclusions:\", \"conclusions:\", \"conclusions:\", \"conclusions:\", \"conflict\", \"conflict\", \"conflict\", \"conflict\", \"conflict\", \"conflict\", \"conflicts\", \"conflicts\", \"conflicts\", \"conflicts\", \"conflicts\", \"conflicts\", \"conflicts.\", \"conforms\", \"consolidates\", \"conspiracy\", \"constraint,\", \"construction:\", \"consumers\", \"consumers\", \"consumers\", \"consumers\", \"consumers\", \"consumption\", \"consumption\", \"consumption\", \"consumption\", \"consumption\", \"consumption\", \"consumption\", \"consumption\", \"consumption\", \"container\", \"content\", \"content\", \"content\", \"content\", \"content\", \"content\", \"content\", \"content\", \"content\", \"content\", \"continuation\", \"contract\", \"contract\", \"contract\", \"contract\", \"contract\", \"contracted\", \"contrarian\", \"contributors.\", \"contributors.\", \"control\", \"control\", \"control\", \"control\", \"control\", \"control\", \"control\", \"control\", \"control\", \"control\", \"converge\", \"convergence\", \"convergence\", \"convergence\", \"convergence\", \"convergence\", \"convergence\", \"conversational\", \"conversational\", \"conversational\", \"conversations\", \"conversations\", \"converting\", \"converting\", \"cooperation\", \"cooperation\", \"cooperation\", \"cooperation\", \"cooperation\", \"cooperation\", \"cooperative\", \"cooperative\", \"cooperative\", \"cooperative\", \"cooperative\", \"corporate\", \"corporate\", \"corporate\", \"corporate\", \"corporate\", \"corporate\", \"correspond\", \"cosine\", \"cosine\", \"counties\", \"courts\", \"courts.\", \"coverage\", \"coverage\", \"coverage\", \"coverage\", \"coverage\", \"coverage\", \"coverage\", \"coverage\", \"coverage\", \"covid-19\", \"covid-19\", \"covid-19\", \"covid-19\", \"covid-19\", \"covid-19\", \"covid-19\", \"covid-19\", \"covid-19\", \"creativity\", \"creativity\", \"crf\", \"criticism\", \"criticism\", \"crowd\", \"cryptocurrency\", \"csi\", \"csr\", \"csr\", \"css\", \"culture\", \"culture\", \"culture\", \"culture\", \"culture\", \"culture\", \"culture\", \"curation\", \"curriculum\", \"curriculum\", \"curriculum\", \"curve.\", \"customers\", \"customers\", \"customers\", \"customers\", \"customers\", \"customers\", \"cyber\", \"cyber\", \"cybersecurity\", \"cybersecurity\", \"cybersecurity\", \"cyprus\", \"damages\", \"data\", \"data\", \"data\", \"data\", \"data\", \"data\", \"data\", \"data\", \"data\", \"data\", \"data\", \"data\", \"data\", \"data\", \"data;\", \"dct\", \"ddqn\", \"de-identification\", \"de-identification\", \"deaths\", \"deaths\", \"deceptive\", \"deceptive\", \"decided\", \"decipher\", \"decision\", \"decision\", \"decision\", \"decision\", \"decision\", \"decision\", \"decision\", \"decision\", \"decision\", \"decision\", \"decision\", \"decision,\", \"deep\", \"deep\", \"deep\", \"deep\", \"deep\", \"deep\", \"deep\", \"deep\", \"deep\", \"deep\", \"deep\", \"dei\", \"dei\", \"delicate\", \"dementia\", \"demography\", \"derives\", \"design/methodology/approach:\", \"design/methodology/approach:\", \"design/methodology/approach:\", \"design/methodology/approach:\", \"design/methodology/approach:\", \"design/methodology/approach:\", \"design/methodology/approach:\", \"design/methodology/approach:\", \"detection\", \"detection\", \"detection\", \"detection\", \"detection\", \"detection\", \"detection\", \"detection\", \"development\", \"development\", \"development\", \"development\", \"development\", \"development\", \"development\", \"development\", \"development\", \"development\", \"development\", \"development;\", \"deviation\", \"dialogue\", \"dialogue\", \"dialogue\", \"dialogue\", \"dichotomous\", \"diet\", \"different\", \"different\", \"different\", \"different\", \"different\", \"different\", \"different\", \"different\", \"different\", \"different\", \"different\", \"different\", \"diffusion\", \"diffusion\", \"diffusion\", \"diffusion\", \"diffusion,\", \"diffusion.\", \"digital\", \"digital\", \"digital\", \"digital\", \"digital\", \"digital\", \"digital\", \"digital\", \"digital\", \"digital\", \"diplomacy\", \"diplomatic\", \"diplomatic\", \"diplomatic\", \"diplomatic\", \"diplomatic\", \"director\", \"disabled\", \"disaster\", \"disaster\", \"disaster\", \"disaster\", \"disaster\", \"disaster\", \"disclosure\", \"disclosure\", \"disclosure\", \"disclosure\", \"disclosure\", \"disclosure\", \"disclosure\", \"disclosures\", \"disclosures\", \"disease\", \"disease\", \"disease\", \"disease\", \"disease\", \"disease\", \"diseases\", \"diseases\", \"diseases\", \"diseases,\", \"dispersed\", \"disposal\", \"disposal.\", \"disproportionately\", \"districts\", \"doctor\", \"doctor\", \"doctors,\", \"document\", \"document\", \"document\", \"document\", \"document\", \"document\", \"document\", \"document\", \"document\", \"document-level\", \"documentation\", \"documentation\", \"documentation\", \"documents\", \"documents\", \"documents\", \"documents\", \"documents\", \"documents\", \"documents\", \"documents\", \"domain-specific\", \"domain-specific\", \"domain-specific\", \"dominance.\", \"donation\", \"drivers.\", \"drl\", \"drl\", \"drought\", \"drug\", \"drug\", \"drug\", \"drug\", \"drug\", \"drug\", \"e-cigarette\", \"e-cigarette\", \"e-cigarettes\", \"e-commerce\", \"e-commerce\", \"e-commerce\", \"e-commerce\", \"e-commerce,\", \"economic\", \"economic\", \"economic\", \"economic\", \"economic\", \"economic\", \"economic\", \"economic\", \"economic\", \"ecosystems\", \"edition\", \"edition.\", \"education\", \"education\", \"education\", \"education\", \"education\", \"education\", \"education\", \"education\", \"education\", \"education\", \"education.\", \"education.\", \"education.\", \"education.\", \"education.\", \"education.\", \"education.\", \"educational\", \"educational\", \"educational\", \"educational\", \"educational\", \"educational\", \"educators\", \"ehr\", \"elected\", \"election\", \"election\", \"electoral\", \"electoral\", \"electoral\", \"electrical\", \"electroencephalography\", \"electronic\", \"electronic\", \"electronic\", \"electronic\", \"electronic\", \"electronic\", \"electronic\", \"electronic\", \"elites\", \"emoji\", \"emojis\", \"emotion\", \"emotion\", \"emotion\", \"emotion\", \"emotion\", \"emotion\", \"emotional\", \"emotional\", \"emotional\", \"emotional\", \"emotional\", \"emotional\", \"emotional\", \"emotions\", \"emotions\", \"emotions\", \"emotions\", \"empathic\", \"employee\", \"employee\", \"employee\", \"employee\", \"employee\", \"employee\", \"end-to-end\", \"endangered\", \"energy\", \"energy\", \"energy\", \"energy\", \"energy\", \"energy,\", \"energy,\", \"energy,\", \"energy.\", \"energy.\", \"engineers\", \"engineers\", \"engineers\", \"enterprise\", \"enterprise\", \"enterprise\", \"enterprise\", \"enterprise\", \"enterprises\", \"enterprises\", \"enterprises\", \"enterprises\", \"enterprises,\", \"enterprises,\", \"enterprises.\", \"entities,\", \"entities,\", \"entities,\", \"entity\", \"entity\", \"entity\", \"entity\", \"entity\", \"entity\", \"entity\", \"entity\", \"entrepreneurial\", \"entrepreneurial\", \"environmental\", \"environmental\", \"environmental\", \"environmental\", \"environmental\", \"environmental\", \"environmental\", \"environmental\", \"epidemiological\", \"epu\", \"esg\", \"ess\", \"essays.\", \"estate\", \"estate\", \"estimates,\", \"etc.).\", \"ethical\", \"ethical\", \"ethical\", \"ethical\", \"ethical\", \"ethical\", \"ethical\", \"ethical\", \"eu's\", \"european\", \"european\", \"european\", \"european\", \"european\", \"european\", \"european\", \"european\", \"evaluation\", \"evaluation\", \"evaluation\", \"evaluation\", \"evaluation\", \"evaluation\", \"evaluation\", \"evaluation\", \"evaluation\", \"evaluation\", \"event.\", \"eventual\", \"ever-increasing\", \"evidence\", \"evidence\", \"evidence\", \"evidence\", \"evidence\", \"evidence\", \"evidence\", \"evidence\", \"evidence\", \"evidence\", \"evolution\", \"evolution\", \"evolution\", \"evolution\", \"evolution\", \"evolution\", \"evolution\", \"exceptionally\", \"exchange.\", \"experts'\", \"explanations\", \"explanations\", \"explanations\", \"explanations\", \"explanations\", \"explanations\", \"export\", \"export\", \"expressed\", \"expressed\", \"expressed\", \"expressed\", \"expressed\", \"expressed\", \"expressed\", \"expression.\", \"expressway\", \"extensible\", \"extractive\", \"facebook\", \"facebook\", \"facebook\", \"facebook\", \"factors\", \"factors\", \"factors\", \"factors\", \"factors\", \"factors\", \"factors\", \"factors\", \"factors\", \"factors\", \"factors\", \"faculty\", \"faculty\", \"faculty\", \"fake\", \"fake\", \"fake\", \"fake\", \"families.\", \"family\", \"family\", \"family\", \"family\", \"farm\", \"farms\", \"favour\", \"fear\", \"fear\", \"fear\", \"fear\", \"fear\", \"feature\", \"feature\", \"feature\", \"feature\", \"feature\", \"feature\", \"feature\", \"feature\", \"feature\", \"features\", \"features\", \"features\", \"features\", \"features\", \"features\", \"features\", \"features\", \"features\", \"features\", \"features\", \"federated\", \"feelings\", \"feelings\", \"feelings\", \"female\", \"female\", \"female\", \"female\", \"female\", \"fertility,\", \"fever\", \"fidelity\", \"finance\", \"finance\", \"finance\", \"financial\", \"financial\", \"financial\", \"financial\", \"financial\", \"financial\", \"financial\", \"financial\", \"financial\", \"findings\", \"findings\", \"findings\", \"findings\", \"findings\", \"findings\", \"findings\", \"findings\", \"findings\", \"findings\", \"findings\", \"findings\", \"findings:\", \"findings:\", \"findings:\", \"findings:\", \"findings:\", \"findings:\", \"findings:\", \"findings:\", \"fintech\", \"fintech\", \"firm's\", \"firms\", \"firms\", \"firms\", \"firms'\", \"firms'\", \"firms\\u2019\", \"firms\\u2019\", \"fiscal\", \"fiscal\", \"fiscal\", \"fisheries\", \"fishery\", \"fitness\", \"fitness\", \"fitness\", \"fomc\", \"food\", \"food\", \"food\", \"food\", \"food\", \"food\", \"food\", \"foreign\", \"foreign\", \"foreign\", \"foreign\", \"foreign\", \"foreign\", \"foreign\", \"foreign\", \"foresight\", \"frames\", \"frames\", \"frames\", \"frames\", \"frames\", \"framework\", \"framework\", \"framework\", \"framework\", \"framework\", \"framework\", \"framework\", \"framework\", \"framework\", \"framework\", \"framework\", \"framework\", \"fraud\", \"fraud\", \"french,\", \"fukushima\", \"fukushima\", \"funding\", \"funding\", \"funding\", \"funding\", \"funding\", \"future\", \"future\", \"future\", \"future\", \"future\", \"future\", \"future\", \"future\", \"future\", \"future\", \"future\", \"fuzzy\", \"fuzzy\", \"fuzzy\", \"fuzzy\", \"fuzzy\", \"fuzzy\", \"gai\", \"gai\", \"game\", \"game\", \"game\", \"game\", \"game\", \"games,\", \"games,\", \"gaussian\", \"gdpr\", \"gen-ai\", \"genai\", \"genai\", \"genai\", \"gender\", \"gender\", \"gender\", \"gender\", \"gender\", \"gender\", \"gender-based\", \"generation\", \"generation\", \"generation\", \"generation\", \"generation\", \"generation\", \"generation\", \"generation\", \"generative\", \"generative\", \"generative\", \"generative\", \"generative\", \"generative\", \"generative\", \"generative\", \"generative\", \"generator\", \"genetics\", \"german\", \"german\", \"german\", \"german\", \"german\", \"ghg\", \"gig\", \"global\", \"global\", \"global\", \"global\", \"global\", \"global\", \"global\", \"global\", \"global\", \"global\", \"government\", \"government\", \"government\", \"government\", \"government\", \"government\", \"government\", \"government\", \"government\", \"governments\", \"governments\", \"governments\", \"governments\", \"governments\", \"governments\", \"governments\", \"governors\", \"gpu\", \"graduates\", \"grant\", \"graphene\", \"green\", \"green\", \"green\", \"green\", \"green\", \"green\", \"grid\", \"grid\", \"groups\", \"groups\", \"groups\", \"groups\", \"groups\", \"groups\", \"groups\", \"groups\", \"groups\", \"gubernatorial\", \"guidelines\", \"guidelines\", \"guidelines\", \"guidelines\", \"guidelines\", \"guidelines\", \"guidelines\", \"guidelines\", \"habitat\", \"habits,\", \"happiness\", \"happiness\", \"happiness\", \"harassment\", \"harmonized\", \"hashtag\", \"hashtags\", \"hashtags\", \"health\", \"health\", \"health\", \"health\", \"health\", \"health\", \"health\", \"health\", \"health\", \"health\", \"healthcare\", \"healthcare\", \"healthcare\", \"healthcare\", \"healthcare\", \"healthcare\", \"healthcare\", \"healthcare\", \"healthcare\", \"healthcare\", \"hearing\", \"helix\", \"help-seeking\", \"help-seeking\", \"heritage\", \"hesitancy.\", \"high-dimensional\", \"high-performance\", \"higher\", \"higher\", \"higher\", \"higher\", \"higher\", \"higher\", \"higher\", \"higher\", \"higher\", \"higher\", \"higher\", \"higher\", \"higher\", \"hong\", \"hospital\", \"hospital\", \"hospital\", \"hospitals,\", \"housing\", \"housing\", \"however,\", \"however,\", \"however,\", \"however,\", \"however,\", \"however,\", \"however,\", \"however,\", \"however,\", \"however,\", \"however,\", \"hpv\", \"human\", \"human\", \"human\", \"human\", \"human\", \"human\", \"human\", \"human\", \"human\", \"human\", \"human\", \"human\", \"human.\", \"hurdles\", \"hybrid\", \"hybrid\", \"hybrid\", \"hybrid\", \"hybrid\", \"hybrid\", \"hybrid\", \"hybrid\", \"hydrogen\", \"hydropower\", \"hyperparameters\", \"i4.0\", \"icd-10\", \"ice\", \"ideational\", \"identified\", \"identified\", \"identified\", \"identified\", \"identified\", \"identified\", \"identified\", \"identified\", \"identifier\", \"identify\", \"identify\", \"identify\", \"identify\", \"identify\", \"identify\", \"identify\", \"identify\", \"identify\", \"identify\", \"identifying,\", \"ideological\", \"ieee.\", \"ieee.\", \"ieee.\", \"ieee.\", \"ieee.\", \"ieee.\", \"ieee.\", \"ieee.\", \"ignored\", \"iia\", \"illness\", \"image\", \"image\", \"image\", \"image\", \"image\", \"image\", \"image\", \"image\", \"image\", \"imaging\", \"imaging\", \"imaging\", \"imaging.\", \"imf\", \"immigration\", \"immigration\", \"impact\", \"impact\", \"impact\", \"impact\", \"impact\", \"impact\", \"impact\", \"impact\", \"impact\", \"impact\", \"impact\", \"impact\", \"important\", \"important\", \"important\", \"important\", \"important\", \"important\", \"important\", \"important\", \"important\", \"important\", \"inaccurate\", \"inc.,\", \"included\", \"included\", \"included\", \"included\", \"included\", \"included\", \"included\", \"included\", \"inderscience\", \"index\", \"index\", \"index\", \"index\", \"index\", \"index\", \"index\", \"index\", \"india.\", \"india.\", \"india.\", \"indication\", \"indices\", \"indices\", \"indices\", \"indices\", \"indices\", \"indices\", \"indices\", \"indonesian\", \"industry\", \"industry\", \"industry\", \"industry\", \"industry\", \"industry\", \"industry\", \"industry\", \"industry's\", \"inequality\", \"inequality\", \"inequality\", \"inequality\", \"inertia\", \"inference\", \"inference\", \"inference\", \"inference\", \"inference\", \"inflation\", \"inflation\", \"inflation\", \"inflection\", \"information\", \"information\", \"information\", \"information\", \"information\", \"information\", \"information\", \"information\", \"information\", \"information\", \"information\", \"information\", \"information\", \"injuries,\", \"innovation\", \"innovation\", \"innovation\", \"innovation\", \"innovation\", \"innovation\", \"innovation\", \"innovation\", \"innovation\", \"inquiry,\", \"integrity\", \"integrity\", \"integrity\", \"integrity\", \"integrity\", \"integrity\", \"integrity\", \"intelligence\", \"intelligence\", \"intelligence\", \"intelligence\", \"intelligence\", \"intelligence\", \"intelligence\", \"intelligence\", \"intelligence\", \"intelligence\", \"intelligence\", \"intent\", \"intent\", \"intent\", \"intent\", \"intent\", \"intention\", \"intention\", \"intention\", \"intention\", \"interconnected\", \"international\", \"international\", \"international\", \"international\", \"international\", \"international\", \"international\", \"international\", \"international\", \"internationalization\", \"internet.\", \"invention\", \"investor\", \"investor\", \"invited\", \"iot\", \"islamic\", \"islamic\", \"issue\", \"issue\", \"issue\", \"issue\", \"issue\", \"issue\", \"issue\", \"issue\", \"issues\", \"issues\", \"issues\", \"issues\", \"issues\", \"issues\", \"issues\", \"issues\", \"issues\", \"japan\", \"japan\", \"japan\", \"japan\", \"japan\", \"japanese\", \"japanese\", \"japanese\", \"japanese\", \"japanese\", \"japanese\", \"japanese\", \"jmir\", \"judgment\", \"judgment\", \"judgment\", \"judgment\", \"judgment\", \"junctures\", \"jurisdiction\", \"key\", \"key\", \"key\", \"key\", \"key\", \"key\", \"key\", \"key\", \"key\", \"key\", \"key\", \"key\", \"keyphrase\", \"keyphrase\", \"kiad\\u00f3,\", \"kim\", \"kitchen\", \"knowledge\", \"knowledge\", \"knowledge\", \"knowledge\", \"knowledge\", \"knowledge\", \"knowledge\", \"knowledge\", \"knowledge\", \"kong\", \"kong,\", \"kong.\", \"korea\", \"korea\", \"korea\", \"korea\", \"korea\", \"korea\", \"koreans\\u2019\", \"korea\\u2019s\", \"korea\\u2019s\", \"labeling.\", \"landscapes\", \"language\", \"language\", \"language\", \"language\", \"language\", \"language\", \"language\", \"language\", \"language\", \"language\", \"language\", \"language\", \"language\", \"language\", \"language-sensitive\", \"large\", \"large\", \"large\", \"large\", \"large\", \"large\", \"large\", \"large\", \"large\", \"large\", \"large\", \"large\", \"latin\", \"latin\", \"latin\", \"latin\", \"lcc\", \"leaders\", \"leaders\", \"leaders\", \"leaders\", \"leaders\", \"learners\\u2019\", \"learners\\u2019\", \"learning\", \"learning\", \"learning\", \"learning\", \"learning\", \"learning\", \"learning\", \"learning\", \"learning\", \"learning\", \"learning\", \"learning\", \"learning\", \"learns\", \"legal\", \"legal\", \"legal\", \"legal\", \"legal\", \"legal\", \"legal\", \"legal\", \"legal\", \"legislative\", \"legislative\", \"legislative\", \"legislative\", \"lending\", \"lexicon\", \"lexicon\", \"lexicon\", \"lexicon\", \"lexicon\", \"lexicon-based\", \"lexicon-based\", \"lexicon-based\", \"lexicon-based\", \"lexicon.\", \"lexicons\", \"lexicons\", \"lexicons,\", \"leximancer\", \"licensing\", \"licensing\", \"licensing\", \"licensing\", \"likes\", \"limitations/implications:\", \"limitations/implications:\", \"limitations/implications:\", \"limitations/implications:\", \"lis\", \"list,\", \"literature\", \"literature\", \"literature\", \"literature\", \"literature\", \"literature\", \"literature\", \"literature\", \"literature\", \"literature\", \"liver\", \"liver\", \"llms\", \"llms\", \"llms\", \"llms\", \"llms\", \"llms\", \"llms\", \"loan\", \"lobby\", \"lobbying\", \"lobbying\", \"local\", \"local\", \"local\", \"local\", \"local\", \"local\", \"local\", \"local\", \"lockdowns,\", \"loneliness\", \"loneliness\", \"los\", \"los\", \"los\", \"los\", \"los\", \"los\", \"low-carbon\", \"low-carbon\", \"low-carbon\", \"lung\", \"machine\", \"machine\", \"machine\", \"machine\", \"machine\", \"machine\", \"machine\", \"machine\", \"machine\", \"machine\", \"machine\", \"machine\", \"machines.\", \"macroeconomic\", \"male\", \"male\", \"male\", \"malware\", \"malware\", \"managed\", \"managed\", \"managed\", \"managed\", \"management\", \"management\", \"management\", \"management\", \"management\", \"management\", \"management\", \"management\", \"management\", \"management\", \"manifestation\", \"manifestos\", \"manifestos.\", \"manufacturing\", \"manufacturing\", \"manufacturing\", \"manufacturing\", \"manufacturing.\", \"marine\", \"marine\", \"marine\", \"maritime\", \"maritime\", \"maritime\", \"market\", \"market\", \"market\", \"market\", \"market\", \"market\", \"market\", \"market\", \"market\", \"market\", \"market,\", \"market,\", \"market,\", \"market,\", \"market,\", \"market,\", \"marriage\", \"massachusetts\", \"mathematics\", \"mechanics\", \"media\", \"media\", \"media\", \"media\", \"media\", \"media\", \"media\", \"media\", \"media\", \"media\", \"media.\", \"media.\", \"media.\", \"media.\", \"media.\", \"median\", \"median\", \"medical\", \"medical\", \"medical\", \"medical\", \"medical\", \"medical\", \"medical\", \"medical\", \"medical\", \"medicare\", \"medications\", \"medications\", \"medications\", \"medications\", \"medicine\", \"medicine\", \"medicine\", \"medicine\", \"medicine\", \"meetings\", \"memory\", \"memory\", \"memory\", \"memory\", \"mental\", \"mental\", \"mental\", \"menthol\", \"merdeka\", \"message.\", \"method\", \"method\", \"method\", \"method\", \"method\", \"method\", \"method\", \"method\", \"method\", \"method\", \"method\", \"methods\", \"methods\", \"methods\", \"methods\", \"methods\", \"methods\", \"methods\", \"methods\", \"methods\", \"methods\", \"methods\", \"methods:\", \"methods:\", \"methods:\", \"methods:\", \"methods:\", \"methods:\", \"methods:\", \"methods:\", \"metric,\", \"minimise\", \"mining\", \"mining\", \"mining\", \"mining\", \"mining\", \"mining\", \"mining\", \"mining\", \"mining\", \"mining\", \"minister\", \"minister\", \"mission-oriented\", \"mitigation\", \"mitigation\", \"mitigation\", \"mitigation\", \"mitigation\", \"model\", \"model\", \"model\", \"model\", \"model\", \"model\", \"model\", \"model\", \"model\", \"model\", \"model-based\", \"model-based\", \"model-based\", \"models\", \"models\", \"models\", \"models\", \"models\", \"models\", \"models\", \"models\", \"models\", \"models\", \"models\", \"models\", \"models\", \"models\", \"models\", \"modular\", \"modules\", \"modules\", \"monetary\", \"monetary\", \"monitors\", \"moral\", \"moral\", \"moral\", \"moral\", \"mortality\", \"mothers\", \"motor\", \"movies,\", \"mpox\", \"msw\", \"multi-agent\", \"multi-class\", \"multi-layer\", \"multi-layer\", \"multi-lingual\", \"multi-objective\", \"multi-topic\", \"multi-view\", \"multi-view\", \"multilingual\", \"multilingual\", \"multilingual\", \"multilingual\", \"multimedia\", \"museum\", \"music\", \"myopia\", \"named\", \"named\", \"named\", \"named\", \"named\", \"named\", \"named\", \"named\", \"nasa\", \"national\", \"national\", \"national\", \"national\", \"national\", \"national\", \"national\", \"national\", \"national\", \"national\", \"natural\", \"natural\", \"natural\", \"natural\", \"natural\", \"natural\", \"natural\", \"natural\", \"natural\", \"natural\", \"natural\", \"natural\", \"natural\", \"nearest\", \"negative\", \"negative\", \"negative\", \"negative\", \"negative\", \"negative\", \"negative\", \"negative\", \"ner\", \"netherlands.\", \"network\", \"network\", \"network\", \"network\", \"network\", \"network\", \"network\", \"network\", \"network\", \"network\", \"networked\", \"networked\", \"networks\", \"networks\", \"networks\", \"networks\", \"networks\", \"networks\", \"networks\", \"networks\", \"networks\", \"neural\", \"neural\", \"neural\", \"neural\", \"neural\", \"neural\", \"neural\", \"neutral,\", \"neutral,\", \"neutrosophic\", \"neutrosophic\", \"nev\", \"nevs\", \"new\", \"new\", \"new\", \"new\", \"new\", \"new\", \"new\", \"new\", \"new\", \"new\", \"new\", \"new\", \"new-generation\", \"news\", \"news\", \"news\", \"news\", \"news\", \"news\", \"news\", \"news\", \"news\", \"news\", \"niche\", \"nlp\", \"nlp\", \"nlp\", \"nlp\", \"nlp\", \"nlp\", \"nlp\", \"nlp\", \"nlp\", \"nobel\", \"non-expert\", \"non-hispanic\", \"non-native\", \"non-state\", \"nonlinear\", \"nontraditional\", \"north\", \"north\", \"north\", \"north\", \"notes\", \"notes\", \"notes\", \"nouns\", \"nova\", \"nqp\", \"nuclear\", \"nuclear\", \"nuclear\", \"nuclear\", \"nuclear\", \"number\", \"number\", \"number\", \"number\", \"number\", \"number\", \"number\", \"number\", \"number\", \"number\", \"number\", \"objective:\", \"objective:\", \"objective:\", \"objective:\", \"occupational\", \"occupational\", \"occupational\", \"occurred.\", \"offensive\", \"offices\", \"official\", \"official\", \"official\", \"official\", \"official\", \"official\", \"official\", \"official\", \"offset\", \"older\", \"older\", \"older\", \"on-line\", \"online\", \"online\", \"online\", \"online\", \"online\", \"online\", \"online\", \"online\", \"online\", \"online\", \"open-access\", \"ophthalmology\", \"opinion\", \"opinion\", \"opinion\", \"opinion\", \"opinion\", \"opinion\", \"opinion\", \"opinions\", \"opinions\", \"opinions\", \"opinions\", \"opinions\", \"opinions\", \"opportunity,\", \"optical\", \"optimization\", \"optimization\", \"optimization\", \"optimization\", \"optimization\", \"optimization\", \"optimum\", \"optimum\", \"order\", \"order\", \"order\", \"order\", \"order\", \"order\", \"order\", \"order\", \"order\", \"order\", \"organic\", \"organic\", \"organic\", \"organisation\", \"orientations\", \"originality/value:\", \"originality/value:\", \"originality/value:\", \"originality/value:\", \"originality/value:\", \"originality/value:\", \"originality/value:\", \"originality/value:\", \"orthopaedic\", \"osn\", \"outlier\", \"overcrowding\", \"p2,\", \"p5,\", \"pages\", \"pain\", \"pairwise\", \"pandemic\", \"pandemic\", \"pandemic\", \"pandemic\", \"pandemic\", \"pandemic\", \"paper\", \"paper\", \"paper\", \"paper\", \"paper\", \"paper\", \"paper\", \"paper\", \"paper\", \"paper\", \"paper\", \"paper\", \"papers\", \"papers\", \"papers\", \"papers\", \"papers\", \"papers\", \"papillomavirus\", \"parental\", \"parental\", \"parenting\", \"parents\", \"parents\", \"parents\\u2019\", \"parking\", \"parliamentary\", \"parliamentary\", \"participative\", \"parties\", \"parties\", \"parties\", \"parties\\u2019\", \"partisan\", \"partisan\", \"partisan\", \"partners\", \"partners\", \"party\", \"party\", \"party,\", \"patent\", \"patent\", \"patent\", \"patents\", \"patents\", \"patents\", \"patents,\", \"patents.\", \"patents.\", \"patient\", \"patient\", \"patient\", \"patient\", \"patient\", \"patients\", \"patients\", \"patients\", \"patients'\", \"patients'\", \"patients'\", \"patients,\", \"patients,\", \"patients.\", \"patients.\", \"peer\", \"peer\", \"peer\", \"peer\", \"peer\", \"peer\", \"peers'\", \"people\", \"people\", \"people\", \"people\", \"people\", \"people\", \"percentages\", \"performance\", \"performance\", \"performance\", \"performance\", \"performance\", \"performance\", \"performance\", \"performance\", \"performance\", \"performance\", \"permission\", \"permit\", \"persistence\", \"personality\", \"persons\", \"petitions\", \"pgx\", \"ph.d.\", \"pharmaceutical\", \"pharmaceutical\", \"pharmaceutical\", \"pharmaceutical\", \"pharmaceutical\", \"pharmaceutical\", \"pharmaceutical\", \"pharmacy\", \"phd\", \"phd\", \"phenotypes\", \"phishing\", \"photovoltaic\", \"photovoltaic\", \"physical\", \"physical\", \"physical\", \"physical\", \"physical\", \"physical\", \"physical\", \"pii\", \"plagiarism\", \"plagiarism\", \"plagiarism\", \"plagiarism\", \"platforms\", \"platforms\", \"platforms\", \"platforms\", \"platforms\", \"platforms\", \"platforms\", \"pmc\", \"pmc\", \"pmc-index\", \"polarity\", \"polarity\", \"polarity\", \"policies\", \"policies\", \"policies\", \"policies\", \"policies\", \"policies\", \"policies\", \"policies\", \"policies\", \"policies\", \"policies\", \"policies\", \"policies\", \"policing.\", \"policy\", \"policy\", \"policy\", \"policy\", \"policy\", \"policy\", \"policy\", \"policy\", \"policy\", \"policy\", \"policy\", \"policy\", \"policy\", \"policy\", \"policy\", \"political\", \"political\", \"political\", \"political\", \"political\", \"political\", \"political\", \"political\", \"politicians\", \"politicians\", \"politicians\", \"politics\", \"politics\", \"politics\", \"politics\", \"politics\", \"popular,\", \"population's\", \"populism\", \"populist\", \"position.\", \"positions\", \"positions\", \"positions\", \"positions\", \"positions\", \"positions\", \"positions\", \"positive\", \"positive\", \"positive\", \"positive\", \"positive\", \"positive\", \"positive\", \"positive\", \"positive\", \"positive,\", \"positive,\", \"positive,\", \"post-traumatic\", \"posts\", \"posts\", \"posts\", \"posts\", \"posts\", \"potential\", \"potential\", \"potential\", \"potential\", \"potential\", \"potential\", \"potential\", \"potential\", \"potential\", \"potential\", \"potential\", \"potential\", \"potential\", \"poverty\", \"poverty\", \"poverty.\", \"practice\", \"practice\", \"practice\", \"practice\", \"practice\", \"practice\", \"practice\", \"practice\", \"precision\", \"precision\", \"precision\", \"precision\", \"precision\", \"precision\", \"precision\", \"precision\", \"precision\", \"prediction\", \"prediction\", \"prediction\", \"prediction\", \"prediction\", \"prediction\", \"prediction\", \"prediction\", \"prediction\", \"prediction,\", \"prediction,\", \"prediction.\", \"prediction.\", \"preference\", \"preference\", \"preference\", \"preference\", \"preference\", \"preference\", \"preference\", \"prescribed\", \"prescribed\", \"prescribing\", \"prescription\", \"prescriptions\", \"prescriptions.\", \"presidential\", \"presidential\", \"presidential\", \"presidential\", \"presidents\", \"press\", \"press\", \"press\", \"press\", \"press\", \"press\", \"press\", \"prevents\", \"price\", \"price\", \"price\", \"price\", \"price\", \"price\", \"prices\", \"prices\", \"prices\", \"prices\", \"prime\", \"priming\", \"privacy\", \"privacy\", \"privacy\", \"privacy\", \"privacy\", \"privacy\", \"privacy\", \"privacy\", \"privacy\", \"process\", \"process\", \"process\", \"process\", \"process\", \"process\", \"process\", \"process\", \"process\", \"processed,\", \"processing\", \"processing\", \"processing\", \"processing\", \"processing\", \"processing\", \"processing\", \"processing\", \"processing\", \"processing\", \"processing\", \"processing\", \"production.\", \"production.\", \"professor\", \"projects.\", \"projects.\", \"projects.\", \"projects:\", \"proof-of-concept\", \"propose\", \"propose\", \"propose\", \"propose\", \"propose\", \"propose\", \"propose\", \"propose\", \"propose\", \"propose\", \"propose\", \"proposed\", \"proposed\", \"proposed\", \"proposed\", \"proposed\", \"proposed\", \"proposed\", \"proposed\", \"proposed\", \"proposed\", \"protest\", \"protests\", \"pruning\", \"pruning\", \"psychological\", \"psychological\", \"psychological\", \"psychological\", \"psychological\", \"psychology\", \"psychology\", \"psychology\", \"public\", \"public\", \"public\", \"public\", \"public\", \"public\", \"public\", \"public\", \"public\", \"public\", \"public\", \"public\", \"published\", \"published\", \"published\", \"published\", \"published\", \"published\", \"published\", \"published\", \"published\", \"published\", \"publishing,\", \"pubmed\", \"pulse\", \"punishment\", \"python,\", \"qos\", \"quality\", \"quality\", \"quality\", \"quality\", \"quality\", \"quality\", \"quality\", \"quality\", \"quality\", \"quantitative\", \"quantitative\", \"quantitative\", \"quantitative\", \"quantitative\", \"quantitative\", \"quantitative\", \"quantitative\", \"quantitatively\", \"quantitatively\", \"quantitatively\", \"quantitatively\", \"quantitatively\", \"quantum\", \"que\", \"query\", \"query\", \"query\", \"query\", \"questions\", \"questions\", \"questions\", \"questions\", \"questions\", \"questions\", \"questions\", \"questions\", \"questions\", \"questions\", \"quitting\", \"quo\", \"r&d\", \"r&d\", \"r&d\", \"racial\", \"racial\", \"racial\", \"racial\", \"radioactive\", \"rai\", \"railroad\", \"railroad\", \"railway\", \"railway\", \"random\", \"random\", \"random\", \"random\", \"random\", \"random\", \"random\", \"random\", \"rare\", \"ratings.\", \"ratings.\", \"ratings.\", \"readers\", \"readers\", \"readers\", \"readers\", \"readers\", \"real\", \"real\", \"real\", \"real\", \"real\", \"real\", \"real\", \"real\", \"real\", \"real\", \"recognition\", \"recognition\", \"recognition\", \"recognition\", \"recognition\", \"recognition\", \"recognition\", \"recognition\", \"recommendation.\", \"reconstructing\", \"record\", \"record\", \"record\", \"record\", \"record\", \"records\", \"records\", \"records\", \"records\", \"records\", \"records\", \"records\", \"records\", \"recurrent\", \"recurrent\", \"recycled\", \"reddit\", \"reddit\", \"reduction\\u201d\", \"referral\", \"reflective\", \"regeneration\", \"regeneration\", \"regional\", \"regional\", \"regional\", \"regional\", \"regional\", \"regional\", \"regional\", \"registry\", \"regret\", \"regret\", \"reinforcement\", \"reinforcement\", \"reinforcement\", \"reinforcement\", \"related\", \"related\", \"related\", \"related\", \"related\", \"related\", \"related\", \"related\", \"related\", \"related\", \"related\", \"related\", \"related\", \"remedy\", \"renewable\", \"renewable\", \"renewable\", \"reopening\", \"reported\", \"reported\", \"reported\", \"reported\", \"reported\", \"repositories,\", \"represented.\", \"requirement.\", \"research\", \"research\", \"research\", \"research\", \"research\", \"research\", \"research\", \"research\", \"research\", \"research\", \"research\", \"research\", \"research\", \"reserve\", \"residents'\", \"residents'\", \"resilience\", \"resilience\", \"resilience\", \"resilience\", \"resistance\", \"resistance\", \"resistance\", \"resolution\", \"resolution\", \"resolution\", \"resolution\", \"resolutions\", \"resource-based\", \"restoration\", \"restoration\", \"restoration\", \"results\", \"results\", \"results\", \"results\", \"results\", \"results\", \"results\", \"results\", \"results\", \"results\", \"results\", \"results\", \"results:\", \"results:\", \"results:\", \"results:\", \"results:\", \"results:\", \"results:\", \"retailers\", \"retailers\", \"retweets\", \"review\", \"review\", \"review\", \"review\", \"review\", \"review\", \"review\", \"review\", \"review\", \"review\", \"reviews\", \"reviews\", \"reviews\", \"reviews\", \"reviews\", \"reviews\", \"reviews\", \"reviews\", \"reviews\", \"reviews\", \"reviews\", \"revising\", \"reward\", \"reward\", \"rights\", \"rights\", \"rights\", \"rights\", \"rights\", \"rights\", \"rights\", \"rights\", \"rights\", \"rights\", \"rights\", \"rights\", \"rl-based\", \"rl.\", \"road\", \"road\", \"road\", \"road\", \"robotics,\", \"robots\", \"robots\", \"robots\", \"roe\", \"rumor\", \"rumors\", \"s&t\", \"safety-related\", \"same-sex\", \"same-sex\", \"sanctions\", \"sanctions\", \"sarcasm\", \"satisfaction\", \"satisfaction\", \"satisfaction\", \"satisfaction\", \"satisfaction\", \"satisfaction\", \"satisfaction.\", \"satisfaction.\", \"satisfaction.\", \"satisfaction.\", \"satisfaction.\", \"scenarios.\", \"scenarios.\", \"scenarios.\", \"scenic\", \"schemes,\", \"schemes,\", \"scholar,\", \"school\", \"school\", \"school\", \"school\", \"school\", \"school\", \"school\", \"school\", \"science\", \"science\", \"science\", \"science\", \"science\", \"science\", \"science\", \"science\", \"science\", \"scientific\", \"scientific\", \"scientific\", \"scientific\", \"scientific\", \"scientific\", \"scientific\", \"scientific\", \"scientific\", \"scientific\", \"score\", \"score\", \"score\", \"score\", \"score\", \"score\", \"score\", \"score\", \"score\", \"score\", \"score\", \"screening\", \"screening\", \"screening\", \"sdg\", \"sdgs\", \"sdgs.\", \"sdn\", \"search\", \"search\", \"search\", \"search\", \"search\", \"search\", \"search\", \"search\", \"search\", \"search\", \"sectors\", \"sectors\", \"sectors\", \"sectors\", \"sectors\", \"sectors\", \"sectors\", \"security\", \"security\", \"security\", \"security\", \"security\", \"security\", \"security\", \"security\", \"security\", \"security\", \"sel\", \"semantic\", \"semantic\", \"semantic\", \"semantic\", \"semantic\", \"semantic\", \"semantic\", \"semantic\", \"semi-automated\", \"semi-automated\", \"semi-automated\", \"senior\", \"sensitive\", \"sensitive\", \"sensitive\", \"sensitive\", \"sensitive\", \"sensitive\", \"sensitive\", \"sensitive\", \"sensitive\", \"sensor\", \"sensor\", \"sentences\", \"sentences\", \"sentences\", \"sentences\", \"sentiment\", \"sentiment\", \"sentiment\", \"sentiment\", \"sentiment\", \"sentiment\", \"sentiment\", \"sentiment\", \"sentiment\", \"sentiment\", \"sentiment\", \"sentiments\", \"sentiments\", \"sentiments\", \"sentiments\", \"sentiments\", \"sentiments.\", \"sentiments.\", \"sentiments.\", \"sequence\", \"sequence\", \"sequence\", \"sequence\", \"sequence\", \"servants\", \"settings:\", \"severity.\", \"shall\", \"shoulder\", \"shrinkage\", \"signs\", \"signs\", \"signs\", \"similarity\", \"similarity\", \"similarity\", \"similarity\", \"similarity\", \"similarity\", \"similarity\", \"simulation\", \"simulation\", \"simulation\", \"simulation\", \"simulator\", \"skills\", \"skills\", \"skills\", \"skills\", \"skills.\", \"skills.\", \"smoking\", \"smoking\", \"sns\", \"soc\", \"social\", \"social\", \"social\", \"social\", \"social\", \"social\", \"social\", \"social\", \"social\", \"social\", \"social\", \"social\", \"social\", \"soil\", \"soil\", \"solar\", \"solar\", \"solved\", \"sons,\", \"sorting\", \"sorting\", \"sorting\", \"south\", \"south\", \"south\", \"south\", \"south\", \"south\", \"south\", \"south\", \"spatial\", \"spatial\", \"spatial\", \"spatial\", \"spatial\", \"spatial\", \"specialties,\", \"specialty\", \"specialty\", \"species\", \"species\", \"speeches\", \"speeches\", \"speeches.\", \"spend\", \"spend\", \"spent\", \"spent\", \"spent\", \"spent\", \"sponsorship\", \"srl\", \"stakeholders'\", \"stakeholders\\u2019\", \"stakeholders\\u2019\", \"state-of-the-art\", \"state-of-the-art\", \"state-of-the-art\", \"state-of-the-art\", \"state-of-the-art\", \"state-of-the-art\", \"stations\", \"sti\", \"stock\", \"stock\", \"stock\", \"streams,\", \"stressors\", \"strictly\", \"student\", \"student\", \"student\", \"students\", \"students\", \"students\", \"students\", \"students\", \"students'\", \"students'\", \"students.\", \"students\\u2019\", \"study\", \"study\", \"study\", \"study\", \"study\", \"study\", \"study\", \"study\", \"study\", \"study\", \"study\", \"study\", \"study\", \"study\", \"study\", \"study\", \"study\", \"study\", \"subfields\", \"subsystems\", \"suicide\", \"summaries\", \"summaries\", \"summaries\", \"summaries\", \"summaries\", \"summarization.\", \"superficial\", \"support\", \"support\", \"support\", \"support\", \"support\", \"support\", \"support\", \"support\", \"support\", \"support\", \"support\", \"support\", \"support\", \"supranational\", \"sustainability\", \"sustainability\", \"sustainability\", \"sustainability\", \"sustainability\", \"sustainability\", \"sustainability\", \"sustainability:\", \"sustainable\", \"sustainable\", \"sustainable\", \"sustainable\", \"sustainable\", \"sustainable\", \"svm\", \"svm\", \"sweden,\", \"switch\", \"synergy\", \"synergy\", \"synergy\", \"synergy\", \"synergy\", \"synthesising\", \"syphilis\", \"syrian\", \"systems\", \"systems\", \"systems\", \"systems\", \"systems\", \"systems\", \"systems\", \"systems\", \"systems\", \"systems.\", \"systems.\", \"systems.\", \"systems.\", \"systems.\", \"systems.\", \"systems.\", \"systems.\", \"systems.\", \"table\", \"tactical\", \"tag\", \"tagging\", \"tags\", \"taiwan's\", \"taiwan.\", \"taiwanese\", \"taiwanese\", \"taiwanese\", \"talent\", \"talent\", \"tanks\", \"task\", \"task\", \"task\", \"task\", \"task\", \"task\", \"task\", \"task\", \"task-oriented\", \"task-oriented\", \"tax\", \"tax\", \"tax\", \"tax\", \"tax\", \"tax.\", \"taxes\", \"taxes\", \"taxes\", \"teacher\", \"teachers\", \"teaching\", \"teaching\", \"teaching\", \"teaching\", \"teaching,\", \"teaching,\", \"teaching,\", \"technique\", \"technique\", \"technique\", \"technique\", \"technique\", \"technique\", \"technique\", \"technique\", \"technique\", \"technique\", \"techniques\", \"techniques\", \"techniques\", \"techniques\", \"techniques\", \"techniques\", \"techniques\", \"techniques\", \"techniques\", \"techniques\", \"technological\", \"technological\", \"technological\", \"technological\", \"technological\", \"technological\", \"technological\", \"technology\", \"technology\", \"technology\", \"technology\", \"technology\", \"technology\", \"technology\", \"technology\", \"telecommunications\", \"telemedicine\", \"television\", \"television\", \"terrestrial\", \"text\", \"text\", \"text\", \"text\", \"text\", \"text\", \"text\", \"text\", \"text\", \"text\", \"text\", \"text\", \"text\", \"theories\", \"theories\", \"theories\", \"theories\", \"theories\", \"theories\", \"theories\", \"theories\", \"theories\", \"theories.\", \"things\", \"things\", \"things\", \"think\", \"think\", \"think\", \"think\", \"think\", \"threats\", \"threats\", \"threats\", \"threats\", \"threats\", \"threats\", \"throughput\", \"tim\", \"time?\", \"together.\", \"tone\", \"tone\", \"tone\", \"tools\", \"tools\", \"tools\", \"tools\", \"tools\", \"tools\", \"tools\", \"tools\", \"tools\", \"tools\", \"tools\", \"tools,\", \"tools,\", \"tools,\", \"tools,\", \"tools,\", \"tools,\", \"tools,\", \"tools,\", \"topic\", \"topic\", \"topic\", \"topic\", \"topic\", \"topic\", \"topic\", \"topic\", \"topic\", \"topic\", \"topic\", \"topic\", \"topics\", \"topics\", \"topics\", \"topics\", \"topics\", \"topics\", \"topics\", \"topics\", \"topics\", \"topics\", \"topics\", \"topology\", \"tour\", \"tour\", \"tourism\", \"tourism\", \"tourism\", \"tourism\", \"tourists\", \"tourists\", \"tourists\", \"tourists\", \"town\", \"trade\", \"trade\", \"trade\", \"trade\", \"trade\", \"traffic\", \"traffic\", \"traffic\", \"training\", \"training\", \"training\", \"training\", \"training\", \"training\", \"training\", \"training\", \"transaction\", \"transaction\", \"transaction\", \"transfer\", \"transfer\", \"transfer\", \"transfer\", \"transfer\", \"transfer\", \"transferred\", \"transgender\", \"transgender\", \"transgender\", \"transit\", \"transition.\", \"transition.\", \"translation,\", \"transnational\", \"transportation\", \"transportation\", \"transportation\", \"transportation\", \"transportation\", \"transportation\", \"transportation\", \"treaties\", \"treatment\", \"treatment\", \"treatment\", \"treatment\", \"treatment\", \"treatment\", \"treatment\", \"treatment\", \"treatment\", \"treatments\", \"treatments,\", \"treatments,\", \"tree\", \"tree\", \"tree\", \"tree,\", \"tree,\", \"trends\", \"trends\", \"trends\", \"trends\", \"trends\", \"trends\", \"trends\", \"trends\", \"trends\", \"triage\", \"triage\", \"trials\", \"tripadvisor\", \"tumor\", \"turns\", \"tweet\", \"tweet\", \"tweeters\", \"tweets\", \"tweets\", \"tweets\", \"tweets\", \"tweets\", \"tweets\", \"tweets,\", \"tweets,\", \"tweets.\", \"tweets.\", \"twitter\", \"twitter\", \"twitter\", \"twitter\", \"twitter\", \"twitter\", \"twitter,\", \"twitter,\", \"twitter.\", \"twitter.\", \"twitter.\", \"ugc\", \"uk's\", \"uncertainty\", \"uncertainty\", \"uncertainty\", \"uncertainty\", \"uncertainty\", \"uncertainty\", \"uncertainty\", \"uncertainty\", \"uncertainty.\", \"union.\", \"union.\", \"university\", \"university\", \"university\", \"university\", \"university\", \"university\", \"university\", \"university\", \"university\", \"uploaded\", \"upstream\", \"uptake\", \"uptake\", \"uptake\", \"uptake.\", \"urban\", \"urban\", \"urban\", \"urban\", \"urban\", \"urban\", \"urban\", \"urban\", \"urbanization\", \"use\", \"use\", \"use\", \"use\", \"use\", \"use\", \"use\", \"use\", \"use\", \"use\", \"use\", \"use\", \"use\", \"use\", \"user\", \"user\", \"user\", \"user\", \"user\", \"user\", \"user\", \"user\", \"user\", \"users\", \"users\", \"users\", \"users\", \"users\", \"users\", \"users\", \"users\", \"users\", \"utility.\", \"vaccination\", \"vaccination\", \"vaccination\", \"vaccination\", \"vaccination.\", \"vaccination.\", \"vaccination.\", \"vaccinations\", \"vaccinations\", \"vaccine\", \"vaccine\", \"vaccine\", \"vaccine\", \"vaccine-related\", \"vaccines\", \"vaccines\", \"vaccines\", \"vaccines,\", \"vaccines,\", \"vaccines,\", \"vaccines,\", \"vaccines.\", \"vaccines.\", \"vaccines:\", \"value-based\", \"vancouver\", \"vaping\", \"vaping\", \"vaping\", \"var\", \"variants\", \"variants\", \"variants\", \"vary.\", \"vector\", \"vector\", \"vector\", \"vector\", \"vector\", \"vector\", \"vector\", \"vegetable\", \"victims\", \"videos\", \"vision\", \"vision\", \"vision\", \"visits\", \"visualizations\", \"vosviewer\", \"voters\", \"vulnerabilities.\", \"warehouse\", \"warnings\", \"water\", \"water\", \"water\", \"water\", \"water\", \"web-scraping\", \"weekends.\", \"weighting\", \"weighting\", \"well,\", \"western\", \"western\", \"western\", \"western\", \"western\", \"wfh\", \"what,\", \"wikipedia\", \"women\", \"women\", \"women\", \"women\", \"women\", \"women\", \"women's\", \"wood\", \"word\", \"word\", \"word\", \"word\", \"word\", \"word\", \"word\", \"word\", \"word\", \"word\", \"word\", \"word.\", \"wordscores\", \"wordscores\", \"workers\", \"workers\", \"workplace\", \"workshops,\", \"worry\", \"writing\", \"writing\", \"writing\", \"writing\", \"writing\", \"writing.\", \"writing.\", \"yangtze\", \"youth,\", \"youtube\", \"youtube\", \"zero.\", \"\\u201cclimate\", \"\\u201cdouble\"]}, \"R\": 30, \"lambda.step\": 0.01, \"plot.opts\": {\"xlab\": \"PC1\", \"ylab\": \"PC2\"}, \"topic.order\": [7, 15, 3, 12, 21, 10, 9, 16, 17, 5, 13, 19, 14, 4, 1, 18, 6, 2, 11, 8, 20]};\n",
       "\n",
       "function LDAvis_load_lib(url, callback){\n",
       "  var s = document.createElement('script');\n",
       "  s.src = url;\n",
       "  s.async = true;\n",
       "  s.onreadystatechange = s.onload = callback;\n",
       "  s.onerror = function(){console.warn(\"failed to load library \" + url);};\n",
       "  document.getElementsByTagName(\"head\")[0].appendChild(s);\n",
       "}\n",
       "\n",
       "if(typeof(LDAvis) !== \"undefined\"){\n",
       "   // already loaded: just create the visualization\n",
       "   !function(LDAvis){\n",
       "       new LDAvis(\"#\" + \"ldavis_el4090113671170560787767262\", ldavis_el4090113671170560787767262_data);\n",
       "   }(LDAvis);\n",
       "}else if(typeof define === \"function\" && define.amd){\n",
       "   // require.js is available: use it to load d3/LDAvis\n",
       "   require.config({paths: {d3: \"https://d3js.org/d3.v5\"}});\n",
       "   require([\"d3\"], function(d3){\n",
       "      window.d3 = d3;\n",
       "      LDAvis_load_lib(\"https://cdn.jsdelivr.net/gh/bmabey/pyLDAvis@3.4.0/pyLDAvis/js/ldavis.v3.0.0.js\", function(){\n",
       "        new LDAvis(\"#\" + \"ldavis_el4090113671170560787767262\", ldavis_el4090113671170560787767262_data);\n",
       "      });\n",
       "    });\n",
       "}else{\n",
       "    // require.js not available: dynamically load d3 & LDAvis\n",
       "    LDAvis_load_lib(\"https://d3js.org/d3.v5.js\", function(){\n",
       "         LDAvis_load_lib(\"https://cdn.jsdelivr.net/gh/bmabey/pyLDAvis@3.4.0/pyLDAvis/js/ldavis.v3.0.0.js\", function(){\n",
       "                 new LDAvis(\"#\" + \"ldavis_el4090113671170560787767262\", ldavis_el4090113671170560787767262_data);\n",
       "            })\n",
       "         });\n",
       "}\n",
       "</script>"
      ],
      "text/plain": [
       "PreparedData(topic_coordinates=              x         y  topics  cluster       Freq\n",
       "topic                                                \n",
       "6     -0.286479 -0.090483       1        1  18.622982\n",
       "14    -0.268189 -0.049403       2        1  15.710146\n",
       "2     -0.250301 -0.096483       3        1  13.459104\n",
       "11    -0.256112  0.161423       4        1  12.323099\n",
       "20    -0.262091 -0.078375       5        1  11.299401\n",
       "9     -0.226326  0.026058       6        1  10.655574\n",
       "8     -0.253224  0.068649       7        1   6.557751\n",
       "15    -0.164958 -0.081457       8        1   4.719594\n",
       "16    -0.019642  0.228321       9        1   1.585541\n",
       "4      0.030435  0.099263      10        1   1.206854\n",
       "12     0.126381 -0.065404      11        1   0.584281\n",
       "18     0.140334  0.026732      12        1   0.482942\n",
       "13     0.171447 -0.014816      13        1   0.446156\n",
       "3      0.179492 -0.048733      14        1   0.406741\n",
       "0      0.158500 -0.037917      15        1   0.400816\n",
       "17     0.165645 -0.004062      16        1   0.393112\n",
       "5      0.203557 -0.013215      17        1   0.285483\n",
       "1      0.201368 -0.014806      18        1   0.244169\n",
       "10     0.199648 -0.014802      19        1   0.220416\n",
       "7      0.205452 -0.000137      20        1   0.198497\n",
       "19     0.205065 -0.000354      21        1   0.197339, topic_info=              Term         Freq        Total Category  logprob  loglift\n",
       "256      sentiment  3082.000000  3082.000000  Default  30.0000  30.0000\n",
       "124         policy  7430.000000  7430.000000  Default  29.0000  29.0000\n",
       "1662        health  2422.000000  2422.000000  Default  28.0000  28.0000\n",
       "565         public  4107.000000  4107.000000  Default  27.0000  27.0000\n",
       "102       learning  1910.000000  1910.000000  Default  26.0000  26.0000\n",
       "...            ...          ...          ...      ...      ...      ...\n",
       "15849  annotations     3.105353    16.345175  Topic21  -6.1737   4.5672\n",
       "16378         al.,     3.578610    54.983822  Topic21  -6.0318   3.4959\n",
       "32082          as,     2.184689     6.306559  Topic21  -6.5253   5.1679\n",
       "5904    annotation     2.383815    53.963301  Topic21  -6.4381   3.1084\n",
       "27226    specialty     2.104023    15.212243  Topic21  -6.5630   4.2498\n",
       "\n",
       "[1360 rows x 6 columns], token_table=       Topic      Freq      Term\n",
       "term                            \n",
       "12787     21  0.867343     (csr)\n",
       "7710       4  0.074059     (drl)\n",
       "7710       9  0.888709     (drl)\n",
       "31938     11  0.765395     (ecb)\n",
       "9131      13  0.895444     (ehr)\n",
       "...      ...       ...       ...\n",
       "3684       2  0.980074   youtube\n",
       "3684       8  0.010538   youtube\n",
       "2783      15  0.928868     zero.\n",
       "10324      1  0.957821  “climate\n",
       "27469     17  0.686388   “double\n",
       "\n",
       "[3963 rows x 3 columns], R=30, lambda_step=0.01, plot_opts={'xlab': 'PC1', 'ylab': 'PC2'}, topic_order=[7, 15, 3, 12, 21, 10, 9, 16, 17, 5, 13, 19, 14, 4, 1, 18, 6, 2, 11, 8, 20])"
      ]
     },
     "execution_count": 9,
     "metadata": {},
     "output_type": "execute_result"
    }
   ],
   "source": [
    "import pyLDAvis\n",
    "import pyLDAvis.gensim_models\n",
    "\n",
    "lda_model = models.LdaModel(corpus=corpus, num_topics=21, id2word=dictionary, passes=5)\n",
    "\n",
    "pyLDAvis.enable_notebook()\n",
    "vis = pyLDAvis.gensim_models.prepare(lda_model, corpus, dictionary)\n",
    "vis\n"
   ]
  },
  {
   "cell_type": "code",
   "execution_count": 10,
   "id": "01014ebd",
   "metadata": {},
   "outputs": [
    {
     "data": {
      "text/html": [
       "<div>\n",
       "<style scoped>\n",
       "    .dataframe tbody tr th:only-of-type {\n",
       "        vertical-align: middle;\n",
       "    }\n",
       "\n",
       "    .dataframe tbody tr th {\n",
       "        vertical-align: top;\n",
       "    }\n",
       "\n",
       "    .dataframe thead th {\n",
       "        text-align: right;\n",
       "    }\n",
       "</style>\n",
       "<table border=\"1\" class=\"dataframe\">\n",
       "  <thead>\n",
       "    <tr style=\"text-align: right;\">\n",
       "      <th></th>\n",
       "      <th>text</th>\n",
       "      <th>Dominant_Topic</th>\n",
       "    </tr>\n",
       "  </thead>\n",
       "  <tbody>\n",
       "    <tr>\n",
       "      <th>0</th>\n",
       "      <td>Unveiling sustainable tourism themes with mach...</td>\n",
       "      <td>20</td>\n",
       "    </tr>\n",
       "    <tr>\n",
       "      <th>15</th>\n",
       "      <td>Investigating the higher education institution...</td>\n",
       "      <td>9</td>\n",
       "    </tr>\n",
       "    <tr>\n",
       "      <th>17</th>\n",
       "      <td>Integrating sustainability into cybersecurity:...</td>\n",
       "      <td>11</td>\n",
       "    </tr>\n",
       "    <tr>\n",
       "      <th>18</th>\n",
       "      <td>DrugGen enhances drug discovery with large lan...</td>\n",
       "      <td>4</td>\n",
       "    </tr>\n",
       "    <tr>\n",
       "      <th>20</th>\n",
       "      <td>Neural topic modeling reveals German televisio...</td>\n",
       "      <td>6</td>\n",
       "    </tr>\n",
       "  </tbody>\n",
       "</table>\n",
       "</div>"
      ],
      "text/plain": [
       "                                                 text  Dominant_Topic\n",
       "0   Unveiling sustainable tourism themes with mach...              20\n",
       "15  Investigating the higher education institution...               9\n",
       "17  Integrating sustainability into cybersecurity:...              11\n",
       "18  DrugGen enhances drug discovery with large lan...               4\n",
       "20  Neural topic modeling reveals German televisio...               6"
      ]
     },
     "execution_count": 10,
     "metadata": {},
     "output_type": "execute_result"
    }
   ],
   "source": [
    "topics_per_doc = [sorted(lda_model[doc], key=lambda x: -x[1])[0][0] for doc in corpus]\n",
    "df['Dominant_Topic'] = topics_per_doc\n",
    "df[['text', 'Dominant_Topic']].head()"
   ]
  },
  {
   "cell_type": "markdown",
   "id": "f6016c5e",
   "metadata": {},
   "source": [
    "## BERTopic"
   ]
  },
  {
   "cell_type": "code",
   "execution_count": 11,
   "id": "7549459a",
   "metadata": {},
   "outputs": [
    {
     "name": "stderr",
     "output_type": "stream",
     "text": [
      "/Users/esalasgirones/Documents/work/courses/nlp_icpp/.venv/lib/python3.11/site-packages/tqdm/auto.py:21: TqdmWarning: IProgress not found. Please update jupyter and ipywidgets. See https://ipywidgets.readthedocs.io/en/stable/user_install.html\n",
      "  from .autonotebook import tqdm as notebook_tqdm\n",
      "/Users/esalasgirones/Documents/work/courses/nlp_icpp/.venv/lib/python3.11/site-packages/spacy/cli/_util.py:23: DeprecationWarning: Importing 'parser.split_arg_string' is deprecated, it will only be available in 'shell_completion' in Click 9.0.\n",
      "  from click.parser import split_arg_string\n",
      "/Users/esalasgirones/Documents/work/courses/nlp_icpp/.venv/lib/python3.11/site-packages/weasel/util/config.py:8: DeprecationWarning: Importing 'parser.split_arg_string' is deprecated, it will only be available in 'shell_completion' in Click 9.0.\n",
      "  from click.parser import split_arg_string\n",
      "Batches: 100%|██████████| 158/158 [00:15<00:00, 10.09it/s]\n"
     ]
    },
    {
     "name": "stdout",
     "output_type": "stream",
     "text": [
      "Shape of embeddings: (5039, 384)\n"
     ]
    },
    {
     "data": {
      "text/html": [
       "<div>\n",
       "<style scoped>\n",
       "    .dataframe tbody tr th:only-of-type {\n",
       "        vertical-align: middle;\n",
       "    }\n",
       "\n",
       "    .dataframe tbody tr th {\n",
       "        vertical-align: top;\n",
       "    }\n",
       "\n",
       "    .dataframe thead th {\n",
       "        text-align: right;\n",
       "    }\n",
       "</style>\n",
       "<table border=\"1\" class=\"dataframe\">\n",
       "  <thead>\n",
       "    <tr style=\"text-align: right;\">\n",
       "      <th></th>\n",
       "      <th>Topic</th>\n",
       "      <th>Count</th>\n",
       "      <th>Name</th>\n",
       "      <th>Representation</th>\n",
       "      <th>Representative_Docs</th>\n",
       "    </tr>\n",
       "  </thead>\n",
       "  <tbody>\n",
       "    <tr>\n",
       "      <th>0</th>\n",
       "      <td>-1</td>\n",
       "      <td>2029</td>\n",
       "      <td>-1_data_analysis_policy_research</td>\n",
       "      <td>[data, analysis, policy, research, study, publ...</td>\n",
       "      <td>[Mapping 2 Decades of Research in Health Servi...</td>\n",
       "    </tr>\n",
       "    <tr>\n",
       "      <th>1</th>\n",
       "      <td>0</td>\n",
       "      <td>375</td>\n",
       "      <td>0_political_policy_analysis_parties</td>\n",
       "      <td>[political, policy, analysis, parties, media, ...</td>\n",
       "      <td>[Setting the Agenda or Responding to Voters? P...</td>\n",
       "    </tr>\n",
       "    <tr>\n",
       "      <th>2</th>\n",
       "      <td>1</td>\n",
       "      <td>301</td>\n",
       "      <td>1_innovation_technology_research_patent</td>\n",
       "      <td>[innovation, technology, research, patent, tec...</td>\n",
       "      <td>[A study on the knowledge spillover effect of ...</td>\n",
       "    </tr>\n",
       "    <tr>\n",
       "      <th>3</th>\n",
       "      <td>2</td>\n",
       "      <td>219</td>\n",
       "      <td>2_learning_reinforcement_reinforcement learnin...</td>\n",
       "      <td>[learning, reinforcement, reinforcement learni...</td>\n",
       "      <td>[A Survey on Deep Reinforcement Learning. Deep...</td>\n",
       "    </tr>\n",
       "    <tr>\n",
       "      <th>4</th>\n",
       "      <td>3</td>\n",
       "      <td>178</td>\n",
       "      <td>3_sentiment_sentiment analysis_analysis_opinion</td>\n",
       "      <td>[sentiment, sentiment analysis, analysis, opin...</td>\n",
       "      <td>[A hybrid transformer and attention based recu...</td>\n",
       "    </tr>\n",
       "    <tr>\n",
       "      <th>5</th>\n",
       "      <td>4</td>\n",
       "      <td>137</td>\n",
       "      <td>4_bank_monetary_central_monetary policy</td>\n",
       "      <td>[bank, monetary, central, monetary policy, cen...</td>\n",
       "      <td>[How central bank independence shapes monetary...</td>\n",
       "    </tr>\n",
       "    <tr>\n",
       "      <th>6</th>\n",
       "      <td>5</td>\n",
       "      <td>136</td>\n",
       "      <td>5_students_ai_learning_education</td>\n",
       "      <td>[students, ai, learning, education, educationa...</td>\n",
       "      <td>[Academic Integrity considerations of AI Large...</td>\n",
       "    </tr>\n",
       "    <tr>\n",
       "      <th>7</th>\n",
       "      <td>6</td>\n",
       "      <td>134</td>\n",
       "      <td>6_policy_policies_chinas_china</td>\n",
       "      <td>[policy, policies, chinas, china, development,...</td>\n",
       "      <td>[Quantitative evaluation of China's energy sup...</td>\n",
       "    </tr>\n",
       "    <tr>\n",
       "      <th>8</th>\n",
       "      <td>7</td>\n",
       "      <td>126</td>\n",
       "      <td>7_ai_healthcare_medical_artificial</td>\n",
       "      <td>[ai, healthcare, medical, artificial, artifici...</td>\n",
       "      <td>[Current applications of artificial intelligen...</td>\n",
       "    </tr>\n",
       "    <tr>\n",
       "      <th>9</th>\n",
       "      <td>8</td>\n",
       "      <td>105</td>\n",
       "      <td>8_climate_energy_climate change_change</td>\n",
       "      <td>[climate, energy, climate change, change, medi...</td>\n",
       "      <td>[Text Mining and Sentiment Analysis in Climate...</td>\n",
       "    </tr>\n",
       "  </tbody>\n",
       "</table>\n",
       "</div>"
      ],
      "text/plain": [
       "   Topic  Count                                               Name  \\\n",
       "0     -1   2029                   -1_data_analysis_policy_research   \n",
       "1      0    375                0_political_policy_analysis_parties   \n",
       "2      1    301            1_innovation_technology_research_patent   \n",
       "3      2    219  2_learning_reinforcement_reinforcement learnin...   \n",
       "4      3    178    3_sentiment_sentiment analysis_analysis_opinion   \n",
       "5      4    137            4_bank_monetary_central_monetary policy   \n",
       "6      5    136                   5_students_ai_learning_education   \n",
       "7      6    134                     6_policy_policies_chinas_china   \n",
       "8      7    126                 7_ai_healthcare_medical_artificial   \n",
       "9      8    105             8_climate_energy_climate change_change   \n",
       "\n",
       "                                      Representation  \\\n",
       "0  [data, analysis, policy, research, study, publ...   \n",
       "1  [political, policy, analysis, parties, media, ...   \n",
       "2  [innovation, technology, research, patent, tec...   \n",
       "3  [learning, reinforcement, reinforcement learni...   \n",
       "4  [sentiment, sentiment analysis, analysis, opin...   \n",
       "5  [bank, monetary, central, monetary policy, cen...   \n",
       "6  [students, ai, learning, education, educationa...   \n",
       "7  [policy, policies, chinas, china, development,...   \n",
       "8  [ai, healthcare, medical, artificial, artifici...   \n",
       "9  [climate, energy, climate change, change, medi...   \n",
       "\n",
       "                                 Representative_Docs  \n",
       "0  [Mapping 2 Decades of Research in Health Servi...  \n",
       "1  [Setting the Agenda or Responding to Voters? P...  \n",
       "2  [A study on the knowledge spillover effect of ...  \n",
       "3  [A Survey on Deep Reinforcement Learning. Deep...  \n",
       "4  [A hybrid transformer and attention based recu...  \n",
       "5  [How central bank independence shapes monetary...  \n",
       "6  [Academic Integrity considerations of AI Large...  \n",
       "7  [Quantitative evaluation of China's energy sup...  \n",
       "8  [Current applications of artificial intelligen...  \n",
       "9  [Text Mining and Sentiment Analysis in Climate...  "
      ]
     },
     "execution_count": 11,
     "metadata": {},
     "output_type": "execute_result"
    }
   ],
   "source": [
    "from bertopic import BERTopic\n",
    "from sentence_transformers import SentenceTransformer\n",
    "from sklearn.feature_extraction.text import CountVectorizer\n",
    "\n",
    "docs = df['text'].tolist()\n",
    "\n",
    "embedding_model = SentenceTransformer(\"all-MiniLM-L6-v2\")\n",
    "embeddings = embedding_model.encode(docs, show_progress_bar=True)\n",
    "\n",
    "print(f\"Shape of embeddings: {embeddings.shape}\")\n",
    "\n",
    "vectorizer_model = CountVectorizer(ngram_range=(1, 2), stop_words=\"english\")\n",
    "\n",
    "topic_model = BERTopic(\n",
    "    vectorizer_model=vectorizer_model,\n",
    "    language=\"english\",\n",
    "    min_topic_size=20  # Adjust as needed\n",
    ")\n",
    "\n",
    "topics, probs = topic_model.fit_transform(docs, embeddings)\n",
    "\n",
    "topic_model.get_topic_info().head(10)"
   ]
  },
  {
   "cell_type": "code",
   "execution_count": 12,
   "id": "b72f79d8",
   "metadata": {},
   "outputs": [
    {
     "name": "stdout",
     "output_type": "stream",
     "text": [
      "---\n",
      "A study on the knowledge spillover effect of enterprise basic research; [企业基础研究的知识溢出效应研究]. Enterprise basic research on enterprises is an important cornerstone of the construction of a technological country, which helps to promote the deep integration of scientific research and industrial development. Compared with developed countries, there exist a lack of basic research investment in Chinese enterprise. To improve enterprise’s investment in basic research is vital for indigenous innovation in China. Based on the perspective of knowledge spillover, this study constructs the correlation data between science publication and patent science citations of Chinese manufacturing listed companies from 2000 to 2022, exploring the knowledge spillover mechanism of enterprise technology literature on focal enterprise patents and on competitive enterprise patents. We suggest that basic research can be viewed as the input of applied research and development. However, knowledge spillover may result in incentive distortion of enterprise’s basic research investment. By distinguishing knowledge internal use and knowledge spill - out, we study the incentives, mechanisms and market effect of Chinese enterprise’s basic research. The sample of the research is listed manufacturing enterprises in China’s A share stock market. We use the enterprises which has at least one year of positive R&D investment and at least one patent application. This gives us a non - balanced panel of 29247 firm - year observations with 2902 unique firms. Patent data is from Incopat database. Publication data is from CNKI database. Financial data is from CSMAR database. We match data from different databases. To identify the relationship between patent citations in enterprise basic research publications, first, 186148 patents with scientific citations were obtained after cleaning the original 1. 8 million patents. Considering the situation where multiple patents refer to the same scientific literature, the original information of cited scientific literature was ultimately cleaned out. Secondly, considering that there may be some errors in the titles of scientific papers in CNKI and Incopat databases, fuzzy matching was performed on the title of articles and patent cited scientific literature in CNKI. Using Natural Language Processing (NPL) and Python_ Gensim library, we calculate the similarity between two database paper name strings. Using jieba word segmentation on the literature title strings of the two datasets, we construct an index dictionary of corpus features, and use a word bag model to construct a similarity matrix for fuzzy matching. We use twoway fixed effect model in our empirical research. Research findings are: (1) Knowledge internal use promotes focal enterprises to conduct basic research, while knowledge spill - out decreases focal enterprises from conducting basic research. (2) The citation of competitive enterprise patents to focal enterprise science literature can help improve the innovation performance of focal enterprises. (3) Compared with knowledge internal use, knowledge spill - out in basic research significantly decrease the financial performance of the focus enterprises. Robustness checks using Heckman model gain the same results. Heterogeneity test indicates that knowledge spillovers has a more significant impact on the basic research of non - state - owned enterprises. Basic research knowledge internal use promotes the applied research of high - tech industries and small - scale enterprises, while basic research knowledge spill - out promotes the applied research of non - state - owned enterprises and large - scale enterprises. This article reveals the incentives, spillover mechanisms, and market effects of Chinese enterprise basic research. The conclusions provide policy implications for consolidating the important position of enterprises in scientific and technological innovation, and guiding the deep integration of basic research and applied research. © 2025 Editorial Department of Studies in Science of Science. All rights reserved.\n",
      "---\n",
      "A Retrospective Study of International Studies in Library and Information Science Using Automated Classification Technique (1945-2019). Purpose: Analyzing the subject structure of research in this field can provide valuable information about the current state of the field, including its issues and needs, strengths, gaps, and shortcomings. The present study aims to analyze the global research topics in information science and library science, while also reviewing research topics from previous years and identifying thematic gaps. This analysis will provide a foundation for planning and policy research in this field. Methodology: The present study utilized an automated classification technique. Data analysis was performed on 85,403 articles indexed on the Web of Science website between 1945 and 2019 in the field of library and information science. The source and tool used for extracting research data was Web of Science. After preparing and pre-processing the data and formulating the classification plan for articles across 31 thematic categories, the logistic regression algorithm has been employed for the automatic classification of articles. This algorithm assigns articles to their respective thematic categories using the Cosine similarity criterion. The various stages of the research were performed using the Python 3.7 programming language and the Pandas, Numpy, NLTK, and Plotly software packages. Findings: Most of the global research in this field is dedicated to information technology, while the field of organizational management has the least amount of research. The growth trend of research in many thematic areas is increasing. However, there is further growth in areas such as web studies, information technology, information behavior, user studies, in formation retrieval, and search engines. After the 1990s, popular terms such as social media, big data, virtual library, IoT (Internet of Things), machine learning, deep learning, data mining, open data, artificial intelligence, natural language processing, cloud computing, virtual reality, augmented reality, and machine translation have emerged in research in this field. It appears that the utilization of keywords pertaining to traditional subjects in the field has declined, while the usage of concepts encompassing new topics related to technology and the web has increased. The rapid growth of fields such as web development, technology, artificial intelligence, and data mining has led to the evolution of research topics and increased connections with computer science and information technology, particularly in recent years. The changes in the subjects of this field can be attributed to the development of the web and advancements in technology. Additionally, the concepts and research topics in this field have had an impact on globalization, communication progress, and overall development in various economic, social, and cultural dimensions. Conclusion: The conclusion of the study highlights the thematic trends in library and information science research over different time periods. It also identifies the weaknesses in the scientific output of this field, while outlining the evolutionary process and the path of progress and development in the field of science. Due to the fact that scientific outputs are derived from the issues, needs, and priorities of a society at any given time, studying them can help clarify the most important issues and research needs in the field of library and information science. This, in turn, can provide a foundation for identifying future research needs and subjects in the field. In other words, having a clear understanding of the subject areas of library and information science will help researchers in this field identify the most important issues and needs. This, in turn, will enable them to take appropriate actions when selecting topics for future research. By conducting needs-based research, we can lay the groundwork for policy development and research planning in this field. This approach will also help address potential challenges and problems that may arise. This is despite the fact that if the needs and issues are ignored, research resources and credits will be spent on topics that do not have the necessary priority and importance. It cannot be expected that the findings from these topics will solve the problems and pave the way for the advancement of this field. © 2023, Shahed University. All rights reserved.\n",
      "---\n",
      "Mapping the trajectories of digital technology innovation in the construction industry: an integrated SPNP and Louvain approach. Purpose: Despite the continuous development and application of new digital technologies in the construction industry, there has been little research on digital technology trajectories in the construction industry. The study addresses the issue faced by the construction industry in exploring digital technology trajectories: how to comprehensively identify and analyse digital technology pathways across multiple technology fields in the construction industry. Design/methodology/approach: Firstly, the digital technology patent identification and classification method based on text mining is used to identify digital technology patents and construct a digital technology innovation network. Second, the main path of the digital technology innovation network is identified with the help of SPNP. Then, the subpaths of the digital technology innovation network are identified with the help of the Louvain algorithm and SPNP. Finally, starting from the technology nodes where the main path and subpaths intersect, the technological similarity of the paths is analysed to explore the evolutionary characteristics of the technology trajectories. In light of this, the developed method is applied to the global construction industry patent dataset to analyse the trajectories of digital technologies. Findings: The technological innovation path in the construction industry starts with construction materials and gradually expands to intelligence, automation and digital data processing technology. Equipment and devices with electronic digital data processing capabilities as well as improvements in green building technologies and user experience-enhancing technologies, may be the future of the construction industry. With the increasing demand for green buildings and intelligent buildings, the direction of digital technology innovation in the construction industry is gradually tilted towards these areas. In addition, influenced by geographic and economic factors, there is a spatial clustering effect of digital technology innovation in the construction industry. Research limitations/implications: Future research should analyse in depth the performance of different countries and regions in digital technology innovation and explore the root causes, motivations and influencing factors behind it, such as the policy environment, the level of the economy and the investment in research and development. Exploring the reasons affecting digital technology innovation can help formulate more targeted policies and promote cooperation and exchange of digital technology innovation in the global construction industry. Meanwhile, to solve the problems of overly broad IPC categorization and the difficulty of accurately describing cross-field innovations, combining IPC co-occurrence networks with patent citation networks is an effective strategy. This strategy can track technologically interrelated patents and provide more specific contents to know the advantages and challenges of the construction industry in the field of digital technology innovation. Practical implications: The study has practical implications for the construction industry. The identification of digital technology innovation trajectories provides valuable insights for industry firms and research institutes. It helps them understand the current and future directions of digital technology in construction, enabling them to stay at the forefront of technological advancements. The findings highlight the importance of focusing on areas such as solar energy utilisation, green energy, intelligence, automation and data applications. This knowledge can guide firms in developing new building materials, incorporating digital information technologies and enhancing user experiences. The study’s results can inform strategic decision-making, technology adoption and innovation management in the construction sector. Social implications: The social implications of this study are significant for various stakeholders. The identification of digital technology innovation trajectories in the construction industry highlights the potential benefits for society. The focus on green energy, intelligent buildings and enhanced user experiences aligns with the increasing demand for sustainability, energy efficiency and comfortable living environments. These technological advancements can contribute to reducing environmental impact, improving quality of life and promoting sustainable development. The findings can inform policymakers, urban planners and architects in shaping regulations, designing sustainable cities and creating buildings that prioritize energy efficiency and user well-being. Ultimately, the study’s social implications aim to foster a more sustainable and livable built environment. Originality/value: An identification method integrated with SPNP and the Louvain algorithm is developed to map digital technology innovation trajectories in the construction industry. This study helps to reveal the trajectories of digital technology innovation, provides new perspectives, insight and ideas for research in related fields and has great potential for applications in practice to promote the innovation and development of the construction industry. © 2024, Emerald Publishing Limited.\n"
     ]
    }
   ],
   "source": [
    "# Representative docs\n",
    "topic_nr = 1\n",
    "reps = topic_model.get_representative_docs(topic_nr)\n",
    "for doc in reps[:3]:\n",
    "    print(\"---\")\n",
    "    print(doc)"
   ]
  },
  {
   "cell_type": "code",
   "execution_count": 13,
   "id": "f7cf2d4a",
   "metadata": {},
   "outputs": [
    {
     "data": {
      "application/vnd.plotly.v1+json": {
       "config": {
        "plotlyServerURL": "https://plot.ly"
       },
       "data": [
        {
         "customdata": [
          [
           0,
           "political | policy | analysis | parties | media",
           375
          ],
          [
           1,
           "innovation | technology | research | patent | technological",
           301
          ],
          [
           2,
           "learning | reinforcement | reinforcement learning | language | model",
           219
          ],
          [
           3,
           "sentiment | sentiment analysis | analysis | opinion | reviews",
           178
          ],
          [
           4,
           "bank | monetary | central | monetary policy | central bank",
           137
          ],
          [
           5,
           "students | ai | learning | education | educational",
           136
          ],
          [
           6,
           "policy | policies | chinas | china | development",
           134
          ],
          [
           7,
           "ai | healthcare | medical | artificial | artificial intelligence",
           126
          ],
          [
           8,
           "climate | energy | climate change | change | media",
           105
          ],
          [
           9,
           "climate | biodiversity | research | change | climate change",
           90
          ],
          [
           10,
           "covid19 | pandemic | health | social | public",
           89
          ],
          [
           11,
           "transport | public | transportation | mobility | traffic",
           87
          ],
          [
           12,
           "vaccine | vaccination | vaccines | covid19 | covid19 vaccines",
           83
          ],
          [
           13,
           "ai | artificial | ethical | intelligence | artificial intelligence",
           82
          ],
          [
           14,
           "stock | market | forecasting | price | sentiment",
           64
          ],
          [
           15,
           "privacy | privacy policies | policies | privacy policy | users",
           62
          ],
          [
           16,
           "public | weibo | covid19 | china | pandemic",
           57
          ],
          [
           17,
           "policy | policies | pmc | china | index",
           54
          ],
          [
           18,
           "energy | renewable | renewable energy | research | sustainable",
           54
          ],
          [
           19,
           "corporate | companies | firms | disclosure | esg",
           53
          ],
          [
           20,
           "education | skills | job | learning | digital",
           52
          ],
          [
           21,
           "tourism | reviews | destination | hotel | tourists",
           49
          ],
          [
           22,
           "patients | health | language | nlp | clinical",
           45
          ],
          [
           23,
           "tobacco | ecigarettes | ecigarette | tweets | vaping",
           45
          ],
          [
           24,
           "china | chinese | chinas | policy | diplomatic",
           44
          ],
          [
           25,
           "cybersecurity | security | cyber | attacks | attack",
           43
          ],
          [
           26,
           "news | health | media | articles | topic",
           38
          ],
          [
           27,
           "disaster | disasters | public | response | social",
           35
          ],
          [
           28,
           "accident | safety | accidents | risk | coal",
           29
          ],
          [
           29,
           "food | agricultural | farmers | food composition | food security",
           28
          ],
          [
           30,
           "opioid | use | drug | substance | substance use",
           28
          ],
          [
           31,
           "north | korean | korea | koreas | south",
           25
          ],
          [
           32,
           "construction | bim | circular | industry | circular economy",
           22
          ],
          [
           33,
           "hate | hate speech | speech | harassment | online",
           21
          ],
          [
           34,
           "urban | spaces | green spaces | sentiment | spatial",
           20
          ]
         ],
         "hovertemplate": "<b>Topic %{customdata[0]}</b><br>%{customdata[1]}<br>Size: %{customdata[2]}",
         "legendgroup": "",
         "marker": {
          "color": "#B0BEC5",
          "line": {
           "color": "DarkSlateGrey",
           "width": 2
          },
          "size": {
           "bdata": "dwEtAdsAsgCJAIgAhgB+AGkAWgBZAFcAUwBSAEAAPgA5ADYANgA1ADQAMQAtAC0ALAArACYAIwAdABwAHAAZABYAFQAUAA==",
           "dtype": "i2"
          },
          "sizemode": "area",
          "sizeref": 0.234375,
          "symbol": "circle"
         },
         "mode": "markers",
         "name": "",
         "orientation": "v",
         "showlegend": false,
         "type": "scatter",
         "x": {
          "bdata": "bhKhwDyEbMBn6IZBzMYTwXSdGMFNr4dBB0ggQV1yiUFmWpjAPGGGwPVOCEH2cmjBq7kHQZjBjUF+xxbBx+KQQTufAkEQLR9Btrl5wHeZasB0r4dBGaBpwWZPh0GUKj4/FDUDQS0AkEGgugNBlF2hwHYIqMD3ppzAsjA+P26eBUHvdFnASCecwLdJZsE=",
          "dtype": "f4"
         },
         "xaxis": "x",
         "y": {
          "bdata": "t0BqQbteTkE7M4hBqg8TQV3hF0Eb2kLAsWo7QadRiUFjLWJBKe5cQcb23EDpSELA+arfQIgPhkHYChZBVn6DQQvDz0BIQzpBks9WQdk0TUGS3ULA3vxGwJjEi0ExNTjAsOHFQGxRhEHYW+VAJkxcQbqTWEG55mBB2j44wE45v0AMHFBBLJhtQZ6kOcA=",
          "dtype": "f4"
         },
         "yaxis": "y"
        }
       ],
       "layout": {
        "annotations": [
         {
          "showarrow": false,
          "text": "D1",
          "x": -16.791824293136596,
          "y": 8.258040320873262,
          "yshift": 10
         },
         {
          "showarrow": false,
          "text": "D2",
          "x": 2.0177582502365112,
          "xshift": 10,
          "y": 20.091641998291017
         }
        ],
        "height": 650,
        "hoverlabel": {
         "bgcolor": "white",
         "font": {
          "family": "Rockwell",
          "size": 16
         }
        },
        "legend": {
         "itemsizing": "constant",
         "tracegroupgap": 0
        },
        "margin": {
         "t": 60
        },
        "shapes": [
         {
          "line": {
           "color": "#CFD8DC",
           "width": 2
          },
          "type": "line",
          "x0": 2.0177582502365112,
          "x1": 2.0177582502365112,
          "y0": -3.575561356544495,
          "y1": 20.091641998291017
         },
         {
          "line": {
           "color": "#9E9E9E",
           "width": 2
          },
          "type": "line",
          "x0": -16.791824293136596,
          "x1": 20.82734079360962,
          "y0": 8.258040320873262,
          "y1": 8.258040320873262
         }
        ],
        "sliders": [
         {
          "active": 0,
          "pad": {
           "t": 50
          },
          "steps": [
           {
            "args": [
             {
              "marker.color": [
               [
                "red",
                "#B0BEC5",
                "#B0BEC5",
                "#B0BEC5",
                "#B0BEC5",
                "#B0BEC5",
                "#B0BEC5",
                "#B0BEC5",
                "#B0BEC5",
                "#B0BEC5",
                "#B0BEC5",
                "#B0BEC5",
                "#B0BEC5",
                "#B0BEC5",
                "#B0BEC5",
                "#B0BEC5",
                "#B0BEC5",
                "#B0BEC5",
                "#B0BEC5",
                "#B0BEC5",
                "#B0BEC5",
                "#B0BEC5",
                "#B0BEC5",
                "#B0BEC5",
                "#B0BEC5",
                "#B0BEC5",
                "#B0BEC5",
                "#B0BEC5",
                "#B0BEC5",
                "#B0BEC5",
                "#B0BEC5",
                "#B0BEC5",
                "#B0BEC5",
                "#B0BEC5",
                "#B0BEC5"
               ]
              ]
             }
            ],
            "label": "Topic 0",
            "method": "update"
           },
           {
            "args": [
             {
              "marker.color": [
               [
                "#B0BEC5",
                "red",
                "#B0BEC5",
                "#B0BEC5",
                "#B0BEC5",
                "#B0BEC5",
                "#B0BEC5",
                "#B0BEC5",
                "#B0BEC5",
                "#B0BEC5",
                "#B0BEC5",
                "#B0BEC5",
                "#B0BEC5",
                "#B0BEC5",
                "#B0BEC5",
                "#B0BEC5",
                "#B0BEC5",
                "#B0BEC5",
                "#B0BEC5",
                "#B0BEC5",
                "#B0BEC5",
                "#B0BEC5",
                "#B0BEC5",
                "#B0BEC5",
                "#B0BEC5",
                "#B0BEC5",
                "#B0BEC5",
                "#B0BEC5",
                "#B0BEC5",
                "#B0BEC5",
                "#B0BEC5",
                "#B0BEC5",
                "#B0BEC5",
                "#B0BEC5",
                "#B0BEC5"
               ]
              ]
             }
            ],
            "label": "Topic 1",
            "method": "update"
           },
           {
            "args": [
             {
              "marker.color": [
               [
                "#B0BEC5",
                "#B0BEC5",
                "red",
                "#B0BEC5",
                "#B0BEC5",
                "#B0BEC5",
                "#B0BEC5",
                "#B0BEC5",
                "#B0BEC5",
                "#B0BEC5",
                "#B0BEC5",
                "#B0BEC5",
                "#B0BEC5",
                "#B0BEC5",
                "#B0BEC5",
                "#B0BEC5",
                "#B0BEC5",
                "#B0BEC5",
                "#B0BEC5",
                "#B0BEC5",
                "#B0BEC5",
                "#B0BEC5",
                "#B0BEC5",
                "#B0BEC5",
                "#B0BEC5",
                "#B0BEC5",
                "#B0BEC5",
                "#B0BEC5",
                "#B0BEC5",
                "#B0BEC5",
                "#B0BEC5",
                "#B0BEC5",
                "#B0BEC5",
                "#B0BEC5",
                "#B0BEC5"
               ]
              ]
             }
            ],
            "label": "Topic 2",
            "method": "update"
           },
           {
            "args": [
             {
              "marker.color": [
               [
                "#B0BEC5",
                "#B0BEC5",
                "#B0BEC5",
                "red",
                "#B0BEC5",
                "#B0BEC5",
                "#B0BEC5",
                "#B0BEC5",
                "#B0BEC5",
                "#B0BEC5",
                "#B0BEC5",
                "#B0BEC5",
                "#B0BEC5",
                "#B0BEC5",
                "#B0BEC5",
                "#B0BEC5",
                "#B0BEC5",
                "#B0BEC5",
                "#B0BEC5",
                "#B0BEC5",
                "#B0BEC5",
                "#B0BEC5",
                "#B0BEC5",
                "#B0BEC5",
                "#B0BEC5",
                "#B0BEC5",
                "#B0BEC5",
                "#B0BEC5",
                "#B0BEC5",
                "#B0BEC5",
                "#B0BEC5",
                "#B0BEC5",
                "#B0BEC5",
                "#B0BEC5",
                "#B0BEC5"
               ]
              ]
             }
            ],
            "label": "Topic 3",
            "method": "update"
           },
           {
            "args": [
             {
              "marker.color": [
               [
                "#B0BEC5",
                "#B0BEC5",
                "#B0BEC5",
                "#B0BEC5",
                "red",
                "#B0BEC5",
                "#B0BEC5",
                "#B0BEC5",
                "#B0BEC5",
                "#B0BEC5",
                "#B0BEC5",
                "#B0BEC5",
                "#B0BEC5",
                "#B0BEC5",
                "#B0BEC5",
                "#B0BEC5",
                "#B0BEC5",
                "#B0BEC5",
                "#B0BEC5",
                "#B0BEC5",
                "#B0BEC5",
                "#B0BEC5",
                "#B0BEC5",
                "#B0BEC5",
                "#B0BEC5",
                "#B0BEC5",
                "#B0BEC5",
                "#B0BEC5",
                "#B0BEC5",
                "#B0BEC5",
                "#B0BEC5",
                "#B0BEC5",
                "#B0BEC5",
                "#B0BEC5",
                "#B0BEC5"
               ]
              ]
             }
            ],
            "label": "Topic 4",
            "method": "update"
           },
           {
            "args": [
             {
              "marker.color": [
               [
                "#B0BEC5",
                "#B0BEC5",
                "#B0BEC5",
                "#B0BEC5",
                "#B0BEC5",
                "red",
                "#B0BEC5",
                "#B0BEC5",
                "#B0BEC5",
                "#B0BEC5",
                "#B0BEC5",
                "#B0BEC5",
                "#B0BEC5",
                "#B0BEC5",
                "#B0BEC5",
                "#B0BEC5",
                "#B0BEC5",
                "#B0BEC5",
                "#B0BEC5",
                "#B0BEC5",
                "#B0BEC5",
                "#B0BEC5",
                "#B0BEC5",
                "#B0BEC5",
                "#B0BEC5",
                "#B0BEC5",
                "#B0BEC5",
                "#B0BEC5",
                "#B0BEC5",
                "#B0BEC5",
                "#B0BEC5",
                "#B0BEC5",
                "#B0BEC5",
                "#B0BEC5",
                "#B0BEC5"
               ]
              ]
             }
            ],
            "label": "Topic 5",
            "method": "update"
           },
           {
            "args": [
             {
              "marker.color": [
               [
                "#B0BEC5",
                "#B0BEC5",
                "#B0BEC5",
                "#B0BEC5",
                "#B0BEC5",
                "#B0BEC5",
                "red",
                "#B0BEC5",
                "#B0BEC5",
                "#B0BEC5",
                "#B0BEC5",
                "#B0BEC5",
                "#B0BEC5",
                "#B0BEC5",
                "#B0BEC5",
                "#B0BEC5",
                "#B0BEC5",
                "#B0BEC5",
                "#B0BEC5",
                "#B0BEC5",
                "#B0BEC5",
                "#B0BEC5",
                "#B0BEC5",
                "#B0BEC5",
                "#B0BEC5",
                "#B0BEC5",
                "#B0BEC5",
                "#B0BEC5",
                "#B0BEC5",
                "#B0BEC5",
                "#B0BEC5",
                "#B0BEC5",
                "#B0BEC5",
                "#B0BEC5",
                "#B0BEC5"
               ]
              ]
             }
            ],
            "label": "Topic 6",
            "method": "update"
           },
           {
            "args": [
             {
              "marker.color": [
               [
                "#B0BEC5",
                "#B0BEC5",
                "#B0BEC5",
                "#B0BEC5",
                "#B0BEC5",
                "#B0BEC5",
                "#B0BEC5",
                "red",
                "#B0BEC5",
                "#B0BEC5",
                "#B0BEC5",
                "#B0BEC5",
                "#B0BEC5",
                "#B0BEC5",
                "#B0BEC5",
                "#B0BEC5",
                "#B0BEC5",
                "#B0BEC5",
                "#B0BEC5",
                "#B0BEC5",
                "#B0BEC5",
                "#B0BEC5",
                "#B0BEC5",
                "#B0BEC5",
                "#B0BEC5",
                "#B0BEC5",
                "#B0BEC5",
                "#B0BEC5",
                "#B0BEC5",
                "#B0BEC5",
                "#B0BEC5",
                "#B0BEC5",
                "#B0BEC5",
                "#B0BEC5",
                "#B0BEC5"
               ]
              ]
             }
            ],
            "label": "Topic 7",
            "method": "update"
           },
           {
            "args": [
             {
              "marker.color": [
               [
                "#B0BEC5",
                "#B0BEC5",
                "#B0BEC5",
                "#B0BEC5",
                "#B0BEC5",
                "#B0BEC5",
                "#B0BEC5",
                "#B0BEC5",
                "red",
                "#B0BEC5",
                "#B0BEC5",
                "#B0BEC5",
                "#B0BEC5",
                "#B0BEC5",
                "#B0BEC5",
                "#B0BEC5",
                "#B0BEC5",
                "#B0BEC5",
                "#B0BEC5",
                "#B0BEC5",
                "#B0BEC5",
                "#B0BEC5",
                "#B0BEC5",
                "#B0BEC5",
                "#B0BEC5",
                "#B0BEC5",
                "#B0BEC5",
                "#B0BEC5",
                "#B0BEC5",
                "#B0BEC5",
                "#B0BEC5",
                "#B0BEC5",
                "#B0BEC5",
                "#B0BEC5",
                "#B0BEC5"
               ]
              ]
             }
            ],
            "label": "Topic 8",
            "method": "update"
           },
           {
            "args": [
             {
              "marker.color": [
               [
                "#B0BEC5",
                "#B0BEC5",
                "#B0BEC5",
                "#B0BEC5",
                "#B0BEC5",
                "#B0BEC5",
                "#B0BEC5",
                "#B0BEC5",
                "#B0BEC5",
                "red",
                "#B0BEC5",
                "#B0BEC5",
                "#B0BEC5",
                "#B0BEC5",
                "#B0BEC5",
                "#B0BEC5",
                "#B0BEC5",
                "#B0BEC5",
                "#B0BEC5",
                "#B0BEC5",
                "#B0BEC5",
                "#B0BEC5",
                "#B0BEC5",
                "#B0BEC5",
                "#B0BEC5",
                "#B0BEC5",
                "#B0BEC5",
                "#B0BEC5",
                "#B0BEC5",
                "#B0BEC5",
                "#B0BEC5",
                "#B0BEC5",
                "#B0BEC5",
                "#B0BEC5",
                "#B0BEC5"
               ]
              ]
             }
            ],
            "label": "Topic 9",
            "method": "update"
           },
           {
            "args": [
             {
              "marker.color": [
               [
                "#B0BEC5",
                "#B0BEC5",
                "#B0BEC5",
                "#B0BEC5",
                "#B0BEC5",
                "#B0BEC5",
                "#B0BEC5",
                "#B0BEC5",
                "#B0BEC5",
                "#B0BEC5",
                "red",
                "#B0BEC5",
                "#B0BEC5",
                "#B0BEC5",
                "#B0BEC5",
                "#B0BEC5",
                "#B0BEC5",
                "#B0BEC5",
                "#B0BEC5",
                "#B0BEC5",
                "#B0BEC5",
                "#B0BEC5",
                "#B0BEC5",
                "#B0BEC5",
                "#B0BEC5",
                "#B0BEC5",
                "#B0BEC5",
                "#B0BEC5",
                "#B0BEC5",
                "#B0BEC5",
                "#B0BEC5",
                "#B0BEC5",
                "#B0BEC5",
                "#B0BEC5",
                "#B0BEC5"
               ]
              ]
             }
            ],
            "label": "Topic 10",
            "method": "update"
           },
           {
            "args": [
             {
              "marker.color": [
               [
                "#B0BEC5",
                "#B0BEC5",
                "#B0BEC5",
                "#B0BEC5",
                "#B0BEC5",
                "#B0BEC5",
                "#B0BEC5",
                "#B0BEC5",
                "#B0BEC5",
                "#B0BEC5",
                "#B0BEC5",
                "red",
                "#B0BEC5",
                "#B0BEC5",
                "#B0BEC5",
                "#B0BEC5",
                "#B0BEC5",
                "#B0BEC5",
                "#B0BEC5",
                "#B0BEC5",
                "#B0BEC5",
                "#B0BEC5",
                "#B0BEC5",
                "#B0BEC5",
                "#B0BEC5",
                "#B0BEC5",
                "#B0BEC5",
                "#B0BEC5",
                "#B0BEC5",
                "#B0BEC5",
                "#B0BEC5",
                "#B0BEC5",
                "#B0BEC5",
                "#B0BEC5",
                "#B0BEC5"
               ]
              ]
             }
            ],
            "label": "Topic 11",
            "method": "update"
           },
           {
            "args": [
             {
              "marker.color": [
               [
                "#B0BEC5",
                "#B0BEC5",
                "#B0BEC5",
                "#B0BEC5",
                "#B0BEC5",
                "#B0BEC5",
                "#B0BEC5",
                "#B0BEC5",
                "#B0BEC5",
                "#B0BEC5",
                "#B0BEC5",
                "#B0BEC5",
                "red",
                "#B0BEC5",
                "#B0BEC5",
                "#B0BEC5",
                "#B0BEC5",
                "#B0BEC5",
                "#B0BEC5",
                "#B0BEC5",
                "#B0BEC5",
                "#B0BEC5",
                "#B0BEC5",
                "#B0BEC5",
                "#B0BEC5",
                "#B0BEC5",
                "#B0BEC5",
                "#B0BEC5",
                "#B0BEC5",
                "#B0BEC5",
                "#B0BEC5",
                "#B0BEC5",
                "#B0BEC5",
                "#B0BEC5",
                "#B0BEC5"
               ]
              ]
             }
            ],
            "label": "Topic 12",
            "method": "update"
           },
           {
            "args": [
             {
              "marker.color": [
               [
                "#B0BEC5",
                "#B0BEC5",
                "#B0BEC5",
                "#B0BEC5",
                "#B0BEC5",
                "#B0BEC5",
                "#B0BEC5",
                "#B0BEC5",
                "#B0BEC5",
                "#B0BEC5",
                "#B0BEC5",
                "#B0BEC5",
                "#B0BEC5",
                "red",
                "#B0BEC5",
                "#B0BEC5",
                "#B0BEC5",
                "#B0BEC5",
                "#B0BEC5",
                "#B0BEC5",
                "#B0BEC5",
                "#B0BEC5",
                "#B0BEC5",
                "#B0BEC5",
                "#B0BEC5",
                "#B0BEC5",
                "#B0BEC5",
                "#B0BEC5",
                "#B0BEC5",
                "#B0BEC5",
                "#B0BEC5",
                "#B0BEC5",
                "#B0BEC5",
                "#B0BEC5",
                "#B0BEC5"
               ]
              ]
             }
            ],
            "label": "Topic 13",
            "method": "update"
           },
           {
            "args": [
             {
              "marker.color": [
               [
                "#B0BEC5",
                "#B0BEC5",
                "#B0BEC5",
                "#B0BEC5",
                "#B0BEC5",
                "#B0BEC5",
                "#B0BEC5",
                "#B0BEC5",
                "#B0BEC5",
                "#B0BEC5",
                "#B0BEC5",
                "#B0BEC5",
                "#B0BEC5",
                "#B0BEC5",
                "red",
                "#B0BEC5",
                "#B0BEC5",
                "#B0BEC5",
                "#B0BEC5",
                "#B0BEC5",
                "#B0BEC5",
                "#B0BEC5",
                "#B0BEC5",
                "#B0BEC5",
                "#B0BEC5",
                "#B0BEC5",
                "#B0BEC5",
                "#B0BEC5",
                "#B0BEC5",
                "#B0BEC5",
                "#B0BEC5",
                "#B0BEC5",
                "#B0BEC5",
                "#B0BEC5",
                "#B0BEC5"
               ]
              ]
             }
            ],
            "label": "Topic 14",
            "method": "update"
           },
           {
            "args": [
             {
              "marker.color": [
               [
                "#B0BEC5",
                "#B0BEC5",
                "#B0BEC5",
                "#B0BEC5",
                "#B0BEC5",
                "#B0BEC5",
                "#B0BEC5",
                "#B0BEC5",
                "#B0BEC5",
                "#B0BEC5",
                "#B0BEC5",
                "#B0BEC5",
                "#B0BEC5",
                "#B0BEC5",
                "#B0BEC5",
                "red",
                "#B0BEC5",
                "#B0BEC5",
                "#B0BEC5",
                "#B0BEC5",
                "#B0BEC5",
                "#B0BEC5",
                "#B0BEC5",
                "#B0BEC5",
                "#B0BEC5",
                "#B0BEC5",
                "#B0BEC5",
                "#B0BEC5",
                "#B0BEC5",
                "#B0BEC5",
                "#B0BEC5",
                "#B0BEC5",
                "#B0BEC5",
                "#B0BEC5",
                "#B0BEC5"
               ]
              ]
             }
            ],
            "label": "Topic 15",
            "method": "update"
           },
           {
            "args": [
             {
              "marker.color": [
               [
                "#B0BEC5",
                "#B0BEC5",
                "#B0BEC5",
                "#B0BEC5",
                "#B0BEC5",
                "#B0BEC5",
                "#B0BEC5",
                "#B0BEC5",
                "#B0BEC5",
                "#B0BEC5",
                "#B0BEC5",
                "#B0BEC5",
                "#B0BEC5",
                "#B0BEC5",
                "#B0BEC5",
                "#B0BEC5",
                "red",
                "#B0BEC5",
                "#B0BEC5",
                "#B0BEC5",
                "#B0BEC5",
                "#B0BEC5",
                "#B0BEC5",
                "#B0BEC5",
                "#B0BEC5",
                "#B0BEC5",
                "#B0BEC5",
                "#B0BEC5",
                "#B0BEC5",
                "#B0BEC5",
                "#B0BEC5",
                "#B0BEC5",
                "#B0BEC5",
                "#B0BEC5",
                "#B0BEC5"
               ]
              ]
             }
            ],
            "label": "Topic 16",
            "method": "update"
           },
           {
            "args": [
             {
              "marker.color": [
               [
                "#B0BEC5",
                "#B0BEC5",
                "#B0BEC5",
                "#B0BEC5",
                "#B0BEC5",
                "#B0BEC5",
                "#B0BEC5",
                "#B0BEC5",
                "#B0BEC5",
                "#B0BEC5",
                "#B0BEC5",
                "#B0BEC5",
                "#B0BEC5",
                "#B0BEC5",
                "#B0BEC5",
                "#B0BEC5",
                "#B0BEC5",
                "red",
                "#B0BEC5",
                "#B0BEC5",
                "#B0BEC5",
                "#B0BEC5",
                "#B0BEC5",
                "#B0BEC5",
                "#B0BEC5",
                "#B0BEC5",
                "#B0BEC5",
                "#B0BEC5",
                "#B0BEC5",
                "#B0BEC5",
                "#B0BEC5",
                "#B0BEC5",
                "#B0BEC5",
                "#B0BEC5",
                "#B0BEC5"
               ]
              ]
             }
            ],
            "label": "Topic 17",
            "method": "update"
           },
           {
            "args": [
             {
              "marker.color": [
               [
                "#B0BEC5",
                "#B0BEC5",
                "#B0BEC5",
                "#B0BEC5",
                "#B0BEC5",
                "#B0BEC5",
                "#B0BEC5",
                "#B0BEC5",
                "#B0BEC5",
                "#B0BEC5",
                "#B0BEC5",
                "#B0BEC5",
                "#B0BEC5",
                "#B0BEC5",
                "#B0BEC5",
                "#B0BEC5",
                "#B0BEC5",
                "#B0BEC5",
                "red",
                "#B0BEC5",
                "#B0BEC5",
                "#B0BEC5",
                "#B0BEC5",
                "#B0BEC5",
                "#B0BEC5",
                "#B0BEC5",
                "#B0BEC5",
                "#B0BEC5",
                "#B0BEC5",
                "#B0BEC5",
                "#B0BEC5",
                "#B0BEC5",
                "#B0BEC5",
                "#B0BEC5",
                "#B0BEC5"
               ]
              ]
             }
            ],
            "label": "Topic 18",
            "method": "update"
           },
           {
            "args": [
             {
              "marker.color": [
               [
                "#B0BEC5",
                "#B0BEC5",
                "#B0BEC5",
                "#B0BEC5",
                "#B0BEC5",
                "#B0BEC5",
                "#B0BEC5",
                "#B0BEC5",
                "#B0BEC5",
                "#B0BEC5",
                "#B0BEC5",
                "#B0BEC5",
                "#B0BEC5",
                "#B0BEC5",
                "#B0BEC5",
                "#B0BEC5",
                "#B0BEC5",
                "#B0BEC5",
                "#B0BEC5",
                "red",
                "#B0BEC5",
                "#B0BEC5",
                "#B0BEC5",
                "#B0BEC5",
                "#B0BEC5",
                "#B0BEC5",
                "#B0BEC5",
                "#B0BEC5",
                "#B0BEC5",
                "#B0BEC5",
                "#B0BEC5",
                "#B0BEC5",
                "#B0BEC5",
                "#B0BEC5",
                "#B0BEC5"
               ]
              ]
             }
            ],
            "label": "Topic 19",
            "method": "update"
           },
           {
            "args": [
             {
              "marker.color": [
               [
                "#B0BEC5",
                "#B0BEC5",
                "#B0BEC5",
                "#B0BEC5",
                "#B0BEC5",
                "#B0BEC5",
                "#B0BEC5",
                "#B0BEC5",
                "#B0BEC5",
                "#B0BEC5",
                "#B0BEC5",
                "#B0BEC5",
                "#B0BEC5",
                "#B0BEC5",
                "#B0BEC5",
                "#B0BEC5",
                "#B0BEC5",
                "#B0BEC5",
                "#B0BEC5",
                "#B0BEC5",
                "red",
                "#B0BEC5",
                "#B0BEC5",
                "#B0BEC5",
                "#B0BEC5",
                "#B0BEC5",
                "#B0BEC5",
                "#B0BEC5",
                "#B0BEC5",
                "#B0BEC5",
                "#B0BEC5",
                "#B0BEC5",
                "#B0BEC5",
                "#B0BEC5",
                "#B0BEC5"
               ]
              ]
             }
            ],
            "label": "Topic 20",
            "method": "update"
           },
           {
            "args": [
             {
              "marker.color": [
               [
                "#B0BEC5",
                "#B0BEC5",
                "#B0BEC5",
                "#B0BEC5",
                "#B0BEC5",
                "#B0BEC5",
                "#B0BEC5",
                "#B0BEC5",
                "#B0BEC5",
                "#B0BEC5",
                "#B0BEC5",
                "#B0BEC5",
                "#B0BEC5",
                "#B0BEC5",
                "#B0BEC5",
                "#B0BEC5",
                "#B0BEC5",
                "#B0BEC5",
                "#B0BEC5",
                "#B0BEC5",
                "#B0BEC5",
                "red",
                "#B0BEC5",
                "#B0BEC5",
                "#B0BEC5",
                "#B0BEC5",
                "#B0BEC5",
                "#B0BEC5",
                "#B0BEC5",
                "#B0BEC5",
                "#B0BEC5",
                "#B0BEC5",
                "#B0BEC5",
                "#B0BEC5",
                "#B0BEC5"
               ]
              ]
             }
            ],
            "label": "Topic 21",
            "method": "update"
           },
           {
            "args": [
             {
              "marker.color": [
               [
                "#B0BEC5",
                "#B0BEC5",
                "#B0BEC5",
                "#B0BEC5",
                "#B0BEC5",
                "#B0BEC5",
                "#B0BEC5",
                "#B0BEC5",
                "#B0BEC5",
                "#B0BEC5",
                "#B0BEC5",
                "#B0BEC5",
                "#B0BEC5",
                "#B0BEC5",
                "#B0BEC5",
                "#B0BEC5",
                "#B0BEC5",
                "#B0BEC5",
                "#B0BEC5",
                "#B0BEC5",
                "#B0BEC5",
                "#B0BEC5",
                "red",
                "#B0BEC5",
                "#B0BEC5",
                "#B0BEC5",
                "#B0BEC5",
                "#B0BEC5",
                "#B0BEC5",
                "#B0BEC5",
                "#B0BEC5",
                "#B0BEC5",
                "#B0BEC5",
                "#B0BEC5",
                "#B0BEC5"
               ]
              ]
             }
            ],
            "label": "Topic 22",
            "method": "update"
           },
           {
            "args": [
             {
              "marker.color": [
               [
                "#B0BEC5",
                "#B0BEC5",
                "#B0BEC5",
                "#B0BEC5",
                "#B0BEC5",
                "#B0BEC5",
                "#B0BEC5",
                "#B0BEC5",
                "#B0BEC5",
                "#B0BEC5",
                "#B0BEC5",
                "#B0BEC5",
                "#B0BEC5",
                "#B0BEC5",
                "#B0BEC5",
                "#B0BEC5",
                "#B0BEC5",
                "#B0BEC5",
                "#B0BEC5",
                "#B0BEC5",
                "#B0BEC5",
                "#B0BEC5",
                "#B0BEC5",
                "red",
                "#B0BEC5",
                "#B0BEC5",
                "#B0BEC5",
                "#B0BEC5",
                "#B0BEC5",
                "#B0BEC5",
                "#B0BEC5",
                "#B0BEC5",
                "#B0BEC5",
                "#B0BEC5",
                "#B0BEC5"
               ]
              ]
             }
            ],
            "label": "Topic 23",
            "method": "update"
           },
           {
            "args": [
             {
              "marker.color": [
               [
                "#B0BEC5",
                "#B0BEC5",
                "#B0BEC5",
                "#B0BEC5",
                "#B0BEC5",
                "#B0BEC5",
                "#B0BEC5",
                "#B0BEC5",
                "#B0BEC5",
                "#B0BEC5",
                "#B0BEC5",
                "#B0BEC5",
                "#B0BEC5",
                "#B0BEC5",
                "#B0BEC5",
                "#B0BEC5",
                "#B0BEC5",
                "#B0BEC5",
                "#B0BEC5",
                "#B0BEC5",
                "#B0BEC5",
                "#B0BEC5",
                "#B0BEC5",
                "#B0BEC5",
                "red",
                "#B0BEC5",
                "#B0BEC5",
                "#B0BEC5",
                "#B0BEC5",
                "#B0BEC5",
                "#B0BEC5",
                "#B0BEC5",
                "#B0BEC5",
                "#B0BEC5",
                "#B0BEC5"
               ]
              ]
             }
            ],
            "label": "Topic 24",
            "method": "update"
           },
           {
            "args": [
             {
              "marker.color": [
               [
                "#B0BEC5",
                "#B0BEC5",
                "#B0BEC5",
                "#B0BEC5",
                "#B0BEC5",
                "#B0BEC5",
                "#B0BEC5",
                "#B0BEC5",
                "#B0BEC5",
                "#B0BEC5",
                "#B0BEC5",
                "#B0BEC5",
                "#B0BEC5",
                "#B0BEC5",
                "#B0BEC5",
                "#B0BEC5",
                "#B0BEC5",
                "#B0BEC5",
                "#B0BEC5",
                "#B0BEC5",
                "#B0BEC5",
                "#B0BEC5",
                "#B0BEC5",
                "#B0BEC5",
                "#B0BEC5",
                "red",
                "#B0BEC5",
                "#B0BEC5",
                "#B0BEC5",
                "#B0BEC5",
                "#B0BEC5",
                "#B0BEC5",
                "#B0BEC5",
                "#B0BEC5",
                "#B0BEC5"
               ]
              ]
             }
            ],
            "label": "Topic 25",
            "method": "update"
           },
           {
            "args": [
             {
              "marker.color": [
               [
                "#B0BEC5",
                "#B0BEC5",
                "#B0BEC5",
                "#B0BEC5",
                "#B0BEC5",
                "#B0BEC5",
                "#B0BEC5",
                "#B0BEC5",
                "#B0BEC5",
                "#B0BEC5",
                "#B0BEC5",
                "#B0BEC5",
                "#B0BEC5",
                "#B0BEC5",
                "#B0BEC5",
                "#B0BEC5",
                "#B0BEC5",
                "#B0BEC5",
                "#B0BEC5",
                "#B0BEC5",
                "#B0BEC5",
                "#B0BEC5",
                "#B0BEC5",
                "#B0BEC5",
                "#B0BEC5",
                "#B0BEC5",
                "red",
                "#B0BEC5",
                "#B0BEC5",
                "#B0BEC5",
                "#B0BEC5",
                "#B0BEC5",
                "#B0BEC5",
                "#B0BEC5",
                "#B0BEC5"
               ]
              ]
             }
            ],
            "label": "Topic 26",
            "method": "update"
           },
           {
            "args": [
             {
              "marker.color": [
               [
                "#B0BEC5",
                "#B0BEC5",
                "#B0BEC5",
                "#B0BEC5",
                "#B0BEC5",
                "#B0BEC5",
                "#B0BEC5",
                "#B0BEC5",
                "#B0BEC5",
                "#B0BEC5",
                "#B0BEC5",
                "#B0BEC5",
                "#B0BEC5",
                "#B0BEC5",
                "#B0BEC5",
                "#B0BEC5",
                "#B0BEC5",
                "#B0BEC5",
                "#B0BEC5",
                "#B0BEC5",
                "#B0BEC5",
                "#B0BEC5",
                "#B0BEC5",
                "#B0BEC5",
                "#B0BEC5",
                "#B0BEC5",
                "#B0BEC5",
                "red",
                "#B0BEC5",
                "#B0BEC5",
                "#B0BEC5",
                "#B0BEC5",
                "#B0BEC5",
                "#B0BEC5",
                "#B0BEC5"
               ]
              ]
             }
            ],
            "label": "Topic 27",
            "method": "update"
           },
           {
            "args": [
             {
              "marker.color": [
               [
                "#B0BEC5",
                "#B0BEC5",
                "#B0BEC5",
                "#B0BEC5",
                "#B0BEC5",
                "#B0BEC5",
                "#B0BEC5",
                "#B0BEC5",
                "#B0BEC5",
                "#B0BEC5",
                "#B0BEC5",
                "#B0BEC5",
                "#B0BEC5",
                "#B0BEC5",
                "#B0BEC5",
                "#B0BEC5",
                "#B0BEC5",
                "#B0BEC5",
                "#B0BEC5",
                "#B0BEC5",
                "#B0BEC5",
                "#B0BEC5",
                "#B0BEC5",
                "#B0BEC5",
                "#B0BEC5",
                "#B0BEC5",
                "#B0BEC5",
                "#B0BEC5",
                "red",
                "#B0BEC5",
                "#B0BEC5",
                "#B0BEC5",
                "#B0BEC5",
                "#B0BEC5",
                "#B0BEC5"
               ]
              ]
             }
            ],
            "label": "Topic 28",
            "method": "update"
           },
           {
            "args": [
             {
              "marker.color": [
               [
                "#B0BEC5",
                "#B0BEC5",
                "#B0BEC5",
                "#B0BEC5",
                "#B0BEC5",
                "#B0BEC5",
                "#B0BEC5",
                "#B0BEC5",
                "#B0BEC5",
                "#B0BEC5",
                "#B0BEC5",
                "#B0BEC5",
                "#B0BEC5",
                "#B0BEC5",
                "#B0BEC5",
                "#B0BEC5",
                "#B0BEC5",
                "#B0BEC5",
                "#B0BEC5",
                "#B0BEC5",
                "#B0BEC5",
                "#B0BEC5",
                "#B0BEC5",
                "#B0BEC5",
                "#B0BEC5",
                "#B0BEC5",
                "#B0BEC5",
                "#B0BEC5",
                "#B0BEC5",
                "red",
                "#B0BEC5",
                "#B0BEC5",
                "#B0BEC5",
                "#B0BEC5",
                "#B0BEC5"
               ]
              ]
             }
            ],
            "label": "Topic 29",
            "method": "update"
           },
           {
            "args": [
             {
              "marker.color": [
               [
                "#B0BEC5",
                "#B0BEC5",
                "#B0BEC5",
                "#B0BEC5",
                "#B0BEC5",
                "#B0BEC5",
                "#B0BEC5",
                "#B0BEC5",
                "#B0BEC5",
                "#B0BEC5",
                "#B0BEC5",
                "#B0BEC5",
                "#B0BEC5",
                "#B0BEC5",
                "#B0BEC5",
                "#B0BEC5",
                "#B0BEC5",
                "#B0BEC5",
                "#B0BEC5",
                "#B0BEC5",
                "#B0BEC5",
                "#B0BEC5",
                "#B0BEC5",
                "#B0BEC5",
                "#B0BEC5",
                "#B0BEC5",
                "#B0BEC5",
                "#B0BEC5",
                "#B0BEC5",
                "#B0BEC5",
                "red",
                "#B0BEC5",
                "#B0BEC5",
                "#B0BEC5",
                "#B0BEC5"
               ]
              ]
             }
            ],
            "label": "Topic 30",
            "method": "update"
           },
           {
            "args": [
             {
              "marker.color": [
               [
                "#B0BEC5",
                "#B0BEC5",
                "#B0BEC5",
                "#B0BEC5",
                "#B0BEC5",
                "#B0BEC5",
                "#B0BEC5",
                "#B0BEC5",
                "#B0BEC5",
                "#B0BEC5",
                "#B0BEC5",
                "#B0BEC5",
                "#B0BEC5",
                "#B0BEC5",
                "#B0BEC5",
                "#B0BEC5",
                "#B0BEC5",
                "#B0BEC5",
                "#B0BEC5",
                "#B0BEC5",
                "#B0BEC5",
                "#B0BEC5",
                "#B0BEC5",
                "#B0BEC5",
                "#B0BEC5",
                "#B0BEC5",
                "#B0BEC5",
                "#B0BEC5",
                "#B0BEC5",
                "#B0BEC5",
                "#B0BEC5",
                "red",
                "#B0BEC5",
                "#B0BEC5",
                "#B0BEC5"
               ]
              ]
             }
            ],
            "label": "Topic 31",
            "method": "update"
           },
           {
            "args": [
             {
              "marker.color": [
               [
                "#B0BEC5",
                "#B0BEC5",
                "#B0BEC5",
                "#B0BEC5",
                "#B0BEC5",
                "#B0BEC5",
                "#B0BEC5",
                "#B0BEC5",
                "#B0BEC5",
                "#B0BEC5",
                "#B0BEC5",
                "#B0BEC5",
                "#B0BEC5",
                "#B0BEC5",
                "#B0BEC5",
                "#B0BEC5",
                "#B0BEC5",
                "#B0BEC5",
                "#B0BEC5",
                "#B0BEC5",
                "#B0BEC5",
                "#B0BEC5",
                "#B0BEC5",
                "#B0BEC5",
                "#B0BEC5",
                "#B0BEC5",
                "#B0BEC5",
                "#B0BEC5",
                "#B0BEC5",
                "#B0BEC5",
                "#B0BEC5",
                "#B0BEC5",
                "red",
                "#B0BEC5",
                "#B0BEC5"
               ]
              ]
             }
            ],
            "label": "Topic 32",
            "method": "update"
           },
           {
            "args": [
             {
              "marker.color": [
               [
                "#B0BEC5",
                "#B0BEC5",
                "#B0BEC5",
                "#B0BEC5",
                "#B0BEC5",
                "#B0BEC5",
                "#B0BEC5",
                "#B0BEC5",
                "#B0BEC5",
                "#B0BEC5",
                "#B0BEC5",
                "#B0BEC5",
                "#B0BEC5",
                "#B0BEC5",
                "#B0BEC5",
                "#B0BEC5",
                "#B0BEC5",
                "#B0BEC5",
                "#B0BEC5",
                "#B0BEC5",
                "#B0BEC5",
                "#B0BEC5",
                "#B0BEC5",
                "#B0BEC5",
                "#B0BEC5",
                "#B0BEC5",
                "#B0BEC5",
                "#B0BEC5",
                "#B0BEC5",
                "#B0BEC5",
                "#B0BEC5",
                "#B0BEC5",
                "#B0BEC5",
                "red",
                "#B0BEC5"
               ]
              ]
             }
            ],
            "label": "Topic 33",
            "method": "update"
           },
           {
            "args": [
             {
              "marker.color": [
               [
                "#B0BEC5",
                "#B0BEC5",
                "#B0BEC5",
                "#B0BEC5",
                "#B0BEC5",
                "#B0BEC5",
                "#B0BEC5",
                "#B0BEC5",
                "#B0BEC5",
                "#B0BEC5",
                "#B0BEC5",
                "#B0BEC5",
                "#B0BEC5",
                "#B0BEC5",
                "#B0BEC5",
                "#B0BEC5",
                "#B0BEC5",
                "#B0BEC5",
                "#B0BEC5",
                "#B0BEC5",
                "#B0BEC5",
                "#B0BEC5",
                "#B0BEC5",
                "#B0BEC5",
                "#B0BEC5",
                "#B0BEC5",
                "#B0BEC5",
                "#B0BEC5",
                "#B0BEC5",
                "#B0BEC5",
                "#B0BEC5",
                "#B0BEC5",
                "#B0BEC5",
                "#B0BEC5",
                "red"
               ]
              ]
             }
            ],
            "label": "Topic 34",
            "method": "update"
           }
          ]
         }
        ],
        "template": {
         "data": {
          "bar": [
           {
            "error_x": {
             "color": "rgb(36,36,36)"
            },
            "error_y": {
             "color": "rgb(36,36,36)"
            },
            "marker": {
             "line": {
              "color": "white",
              "width": 0.5
             },
             "pattern": {
              "fillmode": "overlay",
              "size": 10,
              "solidity": 0.2
             }
            },
            "type": "bar"
           }
          ],
          "barpolar": [
           {
            "marker": {
             "line": {
              "color": "white",
              "width": 0.5
             },
             "pattern": {
              "fillmode": "overlay",
              "size": 10,
              "solidity": 0.2
             }
            },
            "type": "barpolar"
           }
          ],
          "carpet": [
           {
            "aaxis": {
             "endlinecolor": "rgb(36,36,36)",
             "gridcolor": "white",
             "linecolor": "white",
             "minorgridcolor": "white",
             "startlinecolor": "rgb(36,36,36)"
            },
            "baxis": {
             "endlinecolor": "rgb(36,36,36)",
             "gridcolor": "white",
             "linecolor": "white",
             "minorgridcolor": "white",
             "startlinecolor": "rgb(36,36,36)"
            },
            "type": "carpet"
           }
          ],
          "choropleth": [
           {
            "colorbar": {
             "outlinewidth": 1,
             "tickcolor": "rgb(36,36,36)",
             "ticks": "outside"
            },
            "type": "choropleth"
           }
          ],
          "contour": [
           {
            "colorbar": {
             "outlinewidth": 1,
             "tickcolor": "rgb(36,36,36)",
             "ticks": "outside"
            },
            "colorscale": [
             [
              0,
              "#440154"
             ],
             [
              0.1111111111111111,
              "#482878"
             ],
             [
              0.2222222222222222,
              "#3e4989"
             ],
             [
              0.3333333333333333,
              "#31688e"
             ],
             [
              0.4444444444444444,
              "#26828e"
             ],
             [
              0.5555555555555556,
              "#1f9e89"
             ],
             [
              0.6666666666666666,
              "#35b779"
             ],
             [
              0.7777777777777778,
              "#6ece58"
             ],
             [
              0.8888888888888888,
              "#b5de2b"
             ],
             [
              1,
              "#fde725"
             ]
            ],
            "type": "contour"
           }
          ],
          "contourcarpet": [
           {
            "colorbar": {
             "outlinewidth": 1,
             "tickcolor": "rgb(36,36,36)",
             "ticks": "outside"
            },
            "type": "contourcarpet"
           }
          ],
          "heatmap": [
           {
            "colorbar": {
             "outlinewidth": 1,
             "tickcolor": "rgb(36,36,36)",
             "ticks": "outside"
            },
            "colorscale": [
             [
              0,
              "#440154"
             ],
             [
              0.1111111111111111,
              "#482878"
             ],
             [
              0.2222222222222222,
              "#3e4989"
             ],
             [
              0.3333333333333333,
              "#31688e"
             ],
             [
              0.4444444444444444,
              "#26828e"
             ],
             [
              0.5555555555555556,
              "#1f9e89"
             ],
             [
              0.6666666666666666,
              "#35b779"
             ],
             [
              0.7777777777777778,
              "#6ece58"
             ],
             [
              0.8888888888888888,
              "#b5de2b"
             ],
             [
              1,
              "#fde725"
             ]
            ],
            "type": "heatmap"
           }
          ],
          "histogram": [
           {
            "marker": {
             "line": {
              "color": "white",
              "width": 0.6
             }
            },
            "type": "histogram"
           }
          ],
          "histogram2d": [
           {
            "colorbar": {
             "outlinewidth": 1,
             "tickcolor": "rgb(36,36,36)",
             "ticks": "outside"
            },
            "colorscale": [
             [
              0,
              "#440154"
             ],
             [
              0.1111111111111111,
              "#482878"
             ],
             [
              0.2222222222222222,
              "#3e4989"
             ],
             [
              0.3333333333333333,
              "#31688e"
             ],
             [
              0.4444444444444444,
              "#26828e"
             ],
             [
              0.5555555555555556,
              "#1f9e89"
             ],
             [
              0.6666666666666666,
              "#35b779"
             ],
             [
              0.7777777777777778,
              "#6ece58"
             ],
             [
              0.8888888888888888,
              "#b5de2b"
             ],
             [
              1,
              "#fde725"
             ]
            ],
            "type": "histogram2d"
           }
          ],
          "histogram2dcontour": [
           {
            "colorbar": {
             "outlinewidth": 1,
             "tickcolor": "rgb(36,36,36)",
             "ticks": "outside"
            },
            "colorscale": [
             [
              0,
              "#440154"
             ],
             [
              0.1111111111111111,
              "#482878"
             ],
             [
              0.2222222222222222,
              "#3e4989"
             ],
             [
              0.3333333333333333,
              "#31688e"
             ],
             [
              0.4444444444444444,
              "#26828e"
             ],
             [
              0.5555555555555556,
              "#1f9e89"
             ],
             [
              0.6666666666666666,
              "#35b779"
             ],
             [
              0.7777777777777778,
              "#6ece58"
             ],
             [
              0.8888888888888888,
              "#b5de2b"
             ],
             [
              1,
              "#fde725"
             ]
            ],
            "type": "histogram2dcontour"
           }
          ],
          "mesh3d": [
           {
            "colorbar": {
             "outlinewidth": 1,
             "tickcolor": "rgb(36,36,36)",
             "ticks": "outside"
            },
            "type": "mesh3d"
           }
          ],
          "parcoords": [
           {
            "line": {
             "colorbar": {
              "outlinewidth": 1,
              "tickcolor": "rgb(36,36,36)",
              "ticks": "outside"
             }
            },
            "type": "parcoords"
           }
          ],
          "pie": [
           {
            "automargin": true,
            "type": "pie"
           }
          ],
          "scatter": [
           {
            "fillpattern": {
             "fillmode": "overlay",
             "size": 10,
             "solidity": 0.2
            },
            "type": "scatter"
           }
          ],
          "scatter3d": [
           {
            "line": {
             "colorbar": {
              "outlinewidth": 1,
              "tickcolor": "rgb(36,36,36)",
              "ticks": "outside"
             }
            },
            "marker": {
             "colorbar": {
              "outlinewidth": 1,
              "tickcolor": "rgb(36,36,36)",
              "ticks": "outside"
             }
            },
            "type": "scatter3d"
           }
          ],
          "scattercarpet": [
           {
            "marker": {
             "colorbar": {
              "outlinewidth": 1,
              "tickcolor": "rgb(36,36,36)",
              "ticks": "outside"
             }
            },
            "type": "scattercarpet"
           }
          ],
          "scattergeo": [
           {
            "marker": {
             "colorbar": {
              "outlinewidth": 1,
              "tickcolor": "rgb(36,36,36)",
              "ticks": "outside"
             }
            },
            "type": "scattergeo"
           }
          ],
          "scattergl": [
           {
            "marker": {
             "colorbar": {
              "outlinewidth": 1,
              "tickcolor": "rgb(36,36,36)",
              "ticks": "outside"
             }
            },
            "type": "scattergl"
           }
          ],
          "scattermap": [
           {
            "marker": {
             "colorbar": {
              "outlinewidth": 1,
              "tickcolor": "rgb(36,36,36)",
              "ticks": "outside"
             }
            },
            "type": "scattermap"
           }
          ],
          "scattermapbox": [
           {
            "marker": {
             "colorbar": {
              "outlinewidth": 1,
              "tickcolor": "rgb(36,36,36)",
              "ticks": "outside"
             }
            },
            "type": "scattermapbox"
           }
          ],
          "scatterpolar": [
           {
            "marker": {
             "colorbar": {
              "outlinewidth": 1,
              "tickcolor": "rgb(36,36,36)",
              "ticks": "outside"
             }
            },
            "type": "scatterpolar"
           }
          ],
          "scatterpolargl": [
           {
            "marker": {
             "colorbar": {
              "outlinewidth": 1,
              "tickcolor": "rgb(36,36,36)",
              "ticks": "outside"
             }
            },
            "type": "scatterpolargl"
           }
          ],
          "scatterternary": [
           {
            "marker": {
             "colorbar": {
              "outlinewidth": 1,
              "tickcolor": "rgb(36,36,36)",
              "ticks": "outside"
             }
            },
            "type": "scatterternary"
           }
          ],
          "surface": [
           {
            "colorbar": {
             "outlinewidth": 1,
             "tickcolor": "rgb(36,36,36)",
             "ticks": "outside"
            },
            "colorscale": [
             [
              0,
              "#440154"
             ],
             [
              0.1111111111111111,
              "#482878"
             ],
             [
              0.2222222222222222,
              "#3e4989"
             ],
             [
              0.3333333333333333,
              "#31688e"
             ],
             [
              0.4444444444444444,
              "#26828e"
             ],
             [
              0.5555555555555556,
              "#1f9e89"
             ],
             [
              0.6666666666666666,
              "#35b779"
             ],
             [
              0.7777777777777778,
              "#6ece58"
             ],
             [
              0.8888888888888888,
              "#b5de2b"
             ],
             [
              1,
              "#fde725"
             ]
            ],
            "type": "surface"
           }
          ],
          "table": [
           {
            "cells": {
             "fill": {
              "color": "rgb(237,237,237)"
             },
             "line": {
              "color": "white"
             }
            },
            "header": {
             "fill": {
              "color": "rgb(217,217,217)"
             },
             "line": {
              "color": "white"
             }
            },
            "type": "table"
           }
          ]
         },
         "layout": {
          "annotationdefaults": {
           "arrowhead": 0,
           "arrowwidth": 1
          },
          "autotypenumbers": "strict",
          "coloraxis": {
           "colorbar": {
            "outlinewidth": 1,
            "tickcolor": "rgb(36,36,36)",
            "ticks": "outside"
           }
          },
          "colorscale": {
           "diverging": [
            [
             0,
             "rgb(103,0,31)"
            ],
            [
             0.1,
             "rgb(178,24,43)"
            ],
            [
             0.2,
             "rgb(214,96,77)"
            ],
            [
             0.3,
             "rgb(244,165,130)"
            ],
            [
             0.4,
             "rgb(253,219,199)"
            ],
            [
             0.5,
             "rgb(247,247,247)"
            ],
            [
             0.6,
             "rgb(209,229,240)"
            ],
            [
             0.7,
             "rgb(146,197,222)"
            ],
            [
             0.8,
             "rgb(67,147,195)"
            ],
            [
             0.9,
             "rgb(33,102,172)"
            ],
            [
             1,
             "rgb(5,48,97)"
            ]
           ],
           "sequential": [
            [
             0,
             "#440154"
            ],
            [
             0.1111111111111111,
             "#482878"
            ],
            [
             0.2222222222222222,
             "#3e4989"
            ],
            [
             0.3333333333333333,
             "#31688e"
            ],
            [
             0.4444444444444444,
             "#26828e"
            ],
            [
             0.5555555555555556,
             "#1f9e89"
            ],
            [
             0.6666666666666666,
             "#35b779"
            ],
            [
             0.7777777777777778,
             "#6ece58"
            ],
            [
             0.8888888888888888,
             "#b5de2b"
            ],
            [
             1,
             "#fde725"
            ]
           ],
           "sequentialminus": [
            [
             0,
             "#440154"
            ],
            [
             0.1111111111111111,
             "#482878"
            ],
            [
             0.2222222222222222,
             "#3e4989"
            ],
            [
             0.3333333333333333,
             "#31688e"
            ],
            [
             0.4444444444444444,
             "#26828e"
            ],
            [
             0.5555555555555556,
             "#1f9e89"
            ],
            [
             0.6666666666666666,
             "#35b779"
            ],
            [
             0.7777777777777778,
             "#6ece58"
            ],
            [
             0.8888888888888888,
             "#b5de2b"
            ],
            [
             1,
             "#fde725"
            ]
           ]
          },
          "colorway": [
           "#1F77B4",
           "#FF7F0E",
           "#2CA02C",
           "#D62728",
           "#9467BD",
           "#8C564B",
           "#E377C2",
           "#7F7F7F",
           "#BCBD22",
           "#17BECF"
          ],
          "font": {
           "color": "rgb(36,36,36)"
          },
          "geo": {
           "bgcolor": "white",
           "lakecolor": "white",
           "landcolor": "white",
           "showlakes": true,
           "showland": true,
           "subunitcolor": "white"
          },
          "hoverlabel": {
           "align": "left"
          },
          "hovermode": "closest",
          "mapbox": {
           "style": "light"
          },
          "paper_bgcolor": "white",
          "plot_bgcolor": "white",
          "polar": {
           "angularaxis": {
            "gridcolor": "rgb(232,232,232)",
            "linecolor": "rgb(36,36,36)",
            "showgrid": false,
            "showline": true,
            "ticks": "outside"
           },
           "bgcolor": "white",
           "radialaxis": {
            "gridcolor": "rgb(232,232,232)",
            "linecolor": "rgb(36,36,36)",
            "showgrid": false,
            "showline": true,
            "ticks": "outside"
           }
          },
          "scene": {
           "xaxis": {
            "backgroundcolor": "white",
            "gridcolor": "rgb(232,232,232)",
            "gridwidth": 2,
            "linecolor": "rgb(36,36,36)",
            "showbackground": true,
            "showgrid": false,
            "showline": true,
            "ticks": "outside",
            "zeroline": false,
            "zerolinecolor": "rgb(36,36,36)"
           },
           "yaxis": {
            "backgroundcolor": "white",
            "gridcolor": "rgb(232,232,232)",
            "gridwidth": 2,
            "linecolor": "rgb(36,36,36)",
            "showbackground": true,
            "showgrid": false,
            "showline": true,
            "ticks": "outside",
            "zeroline": false,
            "zerolinecolor": "rgb(36,36,36)"
           },
           "zaxis": {
            "backgroundcolor": "white",
            "gridcolor": "rgb(232,232,232)",
            "gridwidth": 2,
            "linecolor": "rgb(36,36,36)",
            "showbackground": true,
            "showgrid": false,
            "showline": true,
            "ticks": "outside",
            "zeroline": false,
            "zerolinecolor": "rgb(36,36,36)"
           }
          },
          "shapedefaults": {
           "fillcolor": "black",
           "line": {
            "width": 0
           },
           "opacity": 0.3
          },
          "ternary": {
           "aaxis": {
            "gridcolor": "rgb(232,232,232)",
            "linecolor": "rgb(36,36,36)",
            "showgrid": false,
            "showline": true,
            "ticks": "outside"
           },
           "baxis": {
            "gridcolor": "rgb(232,232,232)",
            "linecolor": "rgb(36,36,36)",
            "showgrid": false,
            "showline": true,
            "ticks": "outside"
           },
           "bgcolor": "white",
           "caxis": {
            "gridcolor": "rgb(232,232,232)",
            "linecolor": "rgb(36,36,36)",
            "showgrid": false,
            "showline": true,
            "ticks": "outside"
           }
          },
          "title": {
           "x": 0.05
          },
          "xaxis": {
           "automargin": true,
           "gridcolor": "rgb(232,232,232)",
           "linecolor": "rgb(36,36,36)",
           "showgrid": false,
           "showline": true,
           "ticks": "outside",
           "title": {
            "standoff": 15
           },
           "zeroline": false,
           "zerolinecolor": "rgb(36,36,36)"
          },
          "yaxis": {
           "automargin": true,
           "gridcolor": "rgb(232,232,232)",
           "linecolor": "rgb(36,36,36)",
           "showgrid": false,
           "showline": true,
           "ticks": "outside",
           "title": {
            "standoff": 15
           },
           "zeroline": false,
           "zerolinecolor": "rgb(36,36,36)"
          }
         }
        },
        "title": {
         "font": {
          "color": "Black",
          "size": 22
         },
         "text": "<b>Intertopic Distance Map</b>",
         "x": 0.5,
         "xanchor": "center",
         "y": 0.95,
         "yanchor": "top"
        },
        "width": 650,
        "xaxis": {
         "anchor": "y",
         "domain": [
          0,
          1
         ],
         "range": [
          -16.791824293136596,
          20.82734079360962
         ],
         "title": {
          "text": ""
         },
         "visible": false
        },
        "yaxis": {
         "anchor": "x",
         "domain": [
          0,
          1
         ],
         "range": [
          -3.575561356544495,
          20.091641998291017
         ],
         "title": {
          "text": ""
         },
         "visible": false
        }
       }
      }
     },
     "metadata": {},
     "output_type": "display_data"
    }
   ],
   "source": [
    "# Visualize topics\n",
    "topic_model.visualize_topics()"
   ]
  },
  {
   "cell_type": "code",
   "execution_count": 14,
   "id": "fcc1b7d0",
   "metadata": {},
   "outputs": [
    {
     "data": {
      "application/vnd.plotly.v1+json": {
       "config": {
        "plotlyServerURL": "https://plot.ly"
       },
       "data": [
        {
         "marker": {
          "color": "#D55E00"
         },
         "orientation": "h",
         "type": "bar",
         "x": [
          0.007994372557413981,
          0.008707523662270608,
          0.009635703305450261,
          0.012622174054220251,
          0.0133554902271453
         ],
         "xaxis": "x",
         "y": [
          "media  ",
          "parties  ",
          "analysis  ",
          "policy  ",
          "political  "
         ],
         "yaxis": "y"
        },
        {
         "marker": {
          "color": "#0072B2"
         },
         "orientation": "h",
         "type": "bar",
         "x": [
          0.010344806473204607,
          0.010643875218755048,
          0.01731041690560753,
          0.018096014027565076,
          0.0221354820319024
         ],
         "xaxis": "x2",
         "y": [
          "technological  ",
          "patent  ",
          "research  ",
          "technology  ",
          "innovation  "
         ],
         "yaxis": "y2"
        },
        {
         "marker": {
          "color": "#CC79A7"
         },
         "orientation": "h",
         "type": "bar",
         "x": [
          0.012617829791963759,
          0.015360527305608846,
          0.018591364590140304,
          0.019246054789023838,
          0.02103904411811581
         ],
         "xaxis": "x3",
         "y": [
          "model  ",
          "language  ",
          "reinforcement learning  ",
          "reinforcement  ",
          "learning  "
         ],
         "yaxis": "y3"
        },
        {
         "marker": {
          "color": "#E69F00"
         },
         "orientation": "h",
         "type": "bar",
         "x": [
          0.01193136209877433,
          0.01213319851131345,
          0.020620671618121447,
          0.025177668069223794,
          0.03230085118432524
         ],
         "xaxis": "x4",
         "y": [
          "reviews  ",
          "opinion  ",
          "analysis  ",
          "sentiment analysis  ",
          "sentiment  "
         ],
         "yaxis": "y4"
        },
        {
         "marker": {
          "color": "#56B4E9"
         },
         "orientation": "h",
         "type": "bar",
         "x": [
          0.027654884417171774,
          0.028792355967660915,
          0.03360535903672049,
          0.033683360459477195,
          0.03479043308761326
         ],
         "xaxis": "x5",
         "y": [
          "central bank  ",
          "monetary policy  ",
          "central  ",
          "monetary  ",
          "bank  "
         ],
         "yaxis": "y5"
        },
        {
         "marker": {
          "color": "#009E73"
         },
         "orientation": "h",
         "type": "bar",
         "x": [
          0.01914037326524692,
          0.020164024759945404,
          0.02078911112484279,
          0.02103268325789119,
          0.030605087401699607
         ],
         "xaxis": "x6",
         "y": [
          "educational  ",
          "education  ",
          "learning  ",
          "ai  ",
          "students  "
         ],
         "yaxis": "y6"
        },
        {
         "marker": {
          "color": "#F0E442"
         },
         "orientation": "h",
         "type": "bar",
         "x": [
          0.01666408950962598,
          0.01804493202563071,
          0.020480631021911652,
          0.028802483055467315,
          0.039447096070988806
         ],
         "xaxis": "x7",
         "y": [
          "development  ",
          "china  ",
          "chinas  ",
          "policies  ",
          "policy  "
         ],
         "yaxis": "y7"
        },
        {
         "marker": {
          "color": "#D55E00"
         },
         "orientation": "h",
         "type": "bar",
         "x": [
          0.015936914093136727,
          0.016300241396526687,
          0.017120653568634688,
          0.01749271404679857,
          0.0366453542791579
         ],
         "xaxis": "x8",
         "y": [
          "artificial intelligence  ",
          "artificial  ",
          "medical  ",
          "healthcare  ",
          "ai  "
         ],
         "yaxis": "y8"
        }
       ],
       "layout": {
        "annotations": [
         {
          "font": {
           "size": 16
          },
          "showarrow": false,
          "text": "Topic 0",
          "x": 0.0875,
          "xanchor": "center",
          "xref": "paper",
          "y": 1,
          "yanchor": "bottom",
          "yref": "paper"
         },
         {
          "font": {
           "size": 16
          },
          "showarrow": false,
          "text": "Topic 1",
          "x": 0.36250000000000004,
          "xanchor": "center",
          "xref": "paper",
          "y": 1,
          "yanchor": "bottom",
          "yref": "paper"
         },
         {
          "font": {
           "size": 16
          },
          "showarrow": false,
          "text": "Topic 2",
          "x": 0.6375000000000001,
          "xanchor": "center",
          "xref": "paper",
          "y": 1,
          "yanchor": "bottom",
          "yref": "paper"
         },
         {
          "font": {
           "size": 16
          },
          "showarrow": false,
          "text": "Topic 3",
          "x": 0.9125,
          "xanchor": "center",
          "xref": "paper",
          "y": 1,
          "yanchor": "bottom",
          "yref": "paper"
         },
         {
          "font": {
           "size": 16
          },
          "showarrow": false,
          "text": "Topic 4",
          "x": 0.0875,
          "xanchor": "center",
          "xref": "paper",
          "y": 0.4,
          "yanchor": "bottom",
          "yref": "paper"
         },
         {
          "font": {
           "size": 16
          },
          "showarrow": false,
          "text": "Topic 5",
          "x": 0.36250000000000004,
          "xanchor": "center",
          "xref": "paper",
          "y": 0.4,
          "yanchor": "bottom",
          "yref": "paper"
         },
         {
          "font": {
           "size": 16
          },
          "showarrow": false,
          "text": "Topic 6",
          "x": 0.6375000000000001,
          "xanchor": "center",
          "xref": "paper",
          "y": 0.4,
          "yanchor": "bottom",
          "yref": "paper"
         },
         {
          "font": {
           "size": 16
          },
          "showarrow": false,
          "text": "Topic 7",
          "x": 0.9125,
          "xanchor": "center",
          "xref": "paper",
          "y": 0.4,
          "yanchor": "bottom",
          "yref": "paper"
         }
        ],
        "height": 500,
        "hoverlabel": {
         "bgcolor": "white",
         "font": {
          "family": "Rockwell",
          "size": 16
         }
        },
        "showlegend": false,
        "template": {
         "data": {
          "bar": [
           {
            "error_x": {
             "color": "#2a3f5f"
            },
            "error_y": {
             "color": "#2a3f5f"
            },
            "marker": {
             "line": {
              "color": "white",
              "width": 0.5
             },
             "pattern": {
              "fillmode": "overlay",
              "size": 10,
              "solidity": 0.2
             }
            },
            "type": "bar"
           }
          ],
          "barpolar": [
           {
            "marker": {
             "line": {
              "color": "white",
              "width": 0.5
             },
             "pattern": {
              "fillmode": "overlay",
              "size": 10,
              "solidity": 0.2
             }
            },
            "type": "barpolar"
           }
          ],
          "carpet": [
           {
            "aaxis": {
             "endlinecolor": "#2a3f5f",
             "gridcolor": "#C8D4E3",
             "linecolor": "#C8D4E3",
             "minorgridcolor": "#C8D4E3",
             "startlinecolor": "#2a3f5f"
            },
            "baxis": {
             "endlinecolor": "#2a3f5f",
             "gridcolor": "#C8D4E3",
             "linecolor": "#C8D4E3",
             "minorgridcolor": "#C8D4E3",
             "startlinecolor": "#2a3f5f"
            },
            "type": "carpet"
           }
          ],
          "choropleth": [
           {
            "colorbar": {
             "outlinewidth": 0,
             "ticks": ""
            },
            "type": "choropleth"
           }
          ],
          "contour": [
           {
            "colorbar": {
             "outlinewidth": 0,
             "ticks": ""
            },
            "colorscale": [
             [
              0,
              "#0d0887"
             ],
             [
              0.1111111111111111,
              "#46039f"
             ],
             [
              0.2222222222222222,
              "#7201a8"
             ],
             [
              0.3333333333333333,
              "#9c179e"
             ],
             [
              0.4444444444444444,
              "#bd3786"
             ],
             [
              0.5555555555555556,
              "#d8576b"
             ],
             [
              0.6666666666666666,
              "#ed7953"
             ],
             [
              0.7777777777777778,
              "#fb9f3a"
             ],
             [
              0.8888888888888888,
              "#fdca26"
             ],
             [
              1,
              "#f0f921"
             ]
            ],
            "type": "contour"
           }
          ],
          "contourcarpet": [
           {
            "colorbar": {
             "outlinewidth": 0,
             "ticks": ""
            },
            "type": "contourcarpet"
           }
          ],
          "heatmap": [
           {
            "colorbar": {
             "outlinewidth": 0,
             "ticks": ""
            },
            "colorscale": [
             [
              0,
              "#0d0887"
             ],
             [
              0.1111111111111111,
              "#46039f"
             ],
             [
              0.2222222222222222,
              "#7201a8"
             ],
             [
              0.3333333333333333,
              "#9c179e"
             ],
             [
              0.4444444444444444,
              "#bd3786"
             ],
             [
              0.5555555555555556,
              "#d8576b"
             ],
             [
              0.6666666666666666,
              "#ed7953"
             ],
             [
              0.7777777777777778,
              "#fb9f3a"
             ],
             [
              0.8888888888888888,
              "#fdca26"
             ],
             [
              1,
              "#f0f921"
             ]
            ],
            "type": "heatmap"
           }
          ],
          "histogram": [
           {
            "marker": {
             "pattern": {
              "fillmode": "overlay",
              "size": 10,
              "solidity": 0.2
             }
            },
            "type": "histogram"
           }
          ],
          "histogram2d": [
           {
            "colorbar": {
             "outlinewidth": 0,
             "ticks": ""
            },
            "colorscale": [
             [
              0,
              "#0d0887"
             ],
             [
              0.1111111111111111,
              "#46039f"
             ],
             [
              0.2222222222222222,
              "#7201a8"
             ],
             [
              0.3333333333333333,
              "#9c179e"
             ],
             [
              0.4444444444444444,
              "#bd3786"
             ],
             [
              0.5555555555555556,
              "#d8576b"
             ],
             [
              0.6666666666666666,
              "#ed7953"
             ],
             [
              0.7777777777777778,
              "#fb9f3a"
             ],
             [
              0.8888888888888888,
              "#fdca26"
             ],
             [
              1,
              "#f0f921"
             ]
            ],
            "type": "histogram2d"
           }
          ],
          "histogram2dcontour": [
           {
            "colorbar": {
             "outlinewidth": 0,
             "ticks": ""
            },
            "colorscale": [
             [
              0,
              "#0d0887"
             ],
             [
              0.1111111111111111,
              "#46039f"
             ],
             [
              0.2222222222222222,
              "#7201a8"
             ],
             [
              0.3333333333333333,
              "#9c179e"
             ],
             [
              0.4444444444444444,
              "#bd3786"
             ],
             [
              0.5555555555555556,
              "#d8576b"
             ],
             [
              0.6666666666666666,
              "#ed7953"
             ],
             [
              0.7777777777777778,
              "#fb9f3a"
             ],
             [
              0.8888888888888888,
              "#fdca26"
             ],
             [
              1,
              "#f0f921"
             ]
            ],
            "type": "histogram2dcontour"
           }
          ],
          "mesh3d": [
           {
            "colorbar": {
             "outlinewidth": 0,
             "ticks": ""
            },
            "type": "mesh3d"
           }
          ],
          "parcoords": [
           {
            "line": {
             "colorbar": {
              "outlinewidth": 0,
              "ticks": ""
             }
            },
            "type": "parcoords"
           }
          ],
          "pie": [
           {
            "automargin": true,
            "type": "pie"
           }
          ],
          "scatter": [
           {
            "fillpattern": {
             "fillmode": "overlay",
             "size": 10,
             "solidity": 0.2
            },
            "type": "scatter"
           }
          ],
          "scatter3d": [
           {
            "line": {
             "colorbar": {
              "outlinewidth": 0,
              "ticks": ""
             }
            },
            "marker": {
             "colorbar": {
              "outlinewidth": 0,
              "ticks": ""
             }
            },
            "type": "scatter3d"
           }
          ],
          "scattercarpet": [
           {
            "marker": {
             "colorbar": {
              "outlinewidth": 0,
              "ticks": ""
             }
            },
            "type": "scattercarpet"
           }
          ],
          "scattergeo": [
           {
            "marker": {
             "colorbar": {
              "outlinewidth": 0,
              "ticks": ""
             }
            },
            "type": "scattergeo"
           }
          ],
          "scattergl": [
           {
            "marker": {
             "colorbar": {
              "outlinewidth": 0,
              "ticks": ""
             }
            },
            "type": "scattergl"
           }
          ],
          "scattermap": [
           {
            "marker": {
             "colorbar": {
              "outlinewidth": 0,
              "ticks": ""
             }
            },
            "type": "scattermap"
           }
          ],
          "scattermapbox": [
           {
            "marker": {
             "colorbar": {
              "outlinewidth": 0,
              "ticks": ""
             }
            },
            "type": "scattermapbox"
           }
          ],
          "scatterpolar": [
           {
            "marker": {
             "colorbar": {
              "outlinewidth": 0,
              "ticks": ""
             }
            },
            "type": "scatterpolar"
           }
          ],
          "scatterpolargl": [
           {
            "marker": {
             "colorbar": {
              "outlinewidth": 0,
              "ticks": ""
             }
            },
            "type": "scatterpolargl"
           }
          ],
          "scatterternary": [
           {
            "marker": {
             "colorbar": {
              "outlinewidth": 0,
              "ticks": ""
             }
            },
            "type": "scatterternary"
           }
          ],
          "surface": [
           {
            "colorbar": {
             "outlinewidth": 0,
             "ticks": ""
            },
            "colorscale": [
             [
              0,
              "#0d0887"
             ],
             [
              0.1111111111111111,
              "#46039f"
             ],
             [
              0.2222222222222222,
              "#7201a8"
             ],
             [
              0.3333333333333333,
              "#9c179e"
             ],
             [
              0.4444444444444444,
              "#bd3786"
             ],
             [
              0.5555555555555556,
              "#d8576b"
             ],
             [
              0.6666666666666666,
              "#ed7953"
             ],
             [
              0.7777777777777778,
              "#fb9f3a"
             ],
             [
              0.8888888888888888,
              "#fdca26"
             ],
             [
              1,
              "#f0f921"
             ]
            ],
            "type": "surface"
           }
          ],
          "table": [
           {
            "cells": {
             "fill": {
              "color": "#EBF0F8"
             },
             "line": {
              "color": "white"
             }
            },
            "header": {
             "fill": {
              "color": "#C8D4E3"
             },
             "line": {
              "color": "white"
             }
            },
            "type": "table"
           }
          ]
         },
         "layout": {
          "annotationdefaults": {
           "arrowcolor": "#2a3f5f",
           "arrowhead": 0,
           "arrowwidth": 1
          },
          "autotypenumbers": "strict",
          "coloraxis": {
           "colorbar": {
            "outlinewidth": 0,
            "ticks": ""
           }
          },
          "colorscale": {
           "diverging": [
            [
             0,
             "#8e0152"
            ],
            [
             0.1,
             "#c51b7d"
            ],
            [
             0.2,
             "#de77ae"
            ],
            [
             0.3,
             "#f1b6da"
            ],
            [
             0.4,
             "#fde0ef"
            ],
            [
             0.5,
             "#f7f7f7"
            ],
            [
             0.6,
             "#e6f5d0"
            ],
            [
             0.7,
             "#b8e186"
            ],
            [
             0.8,
             "#7fbc41"
            ],
            [
             0.9,
             "#4d9221"
            ],
            [
             1,
             "#276419"
            ]
           ],
           "sequential": [
            [
             0,
             "#0d0887"
            ],
            [
             0.1111111111111111,
             "#46039f"
            ],
            [
             0.2222222222222222,
             "#7201a8"
            ],
            [
             0.3333333333333333,
             "#9c179e"
            ],
            [
             0.4444444444444444,
             "#bd3786"
            ],
            [
             0.5555555555555556,
             "#d8576b"
            ],
            [
             0.6666666666666666,
             "#ed7953"
            ],
            [
             0.7777777777777778,
             "#fb9f3a"
            ],
            [
             0.8888888888888888,
             "#fdca26"
            ],
            [
             1,
             "#f0f921"
            ]
           ],
           "sequentialminus": [
            [
             0,
             "#0d0887"
            ],
            [
             0.1111111111111111,
             "#46039f"
            ],
            [
             0.2222222222222222,
             "#7201a8"
            ],
            [
             0.3333333333333333,
             "#9c179e"
            ],
            [
             0.4444444444444444,
             "#bd3786"
            ],
            [
             0.5555555555555556,
             "#d8576b"
            ],
            [
             0.6666666666666666,
             "#ed7953"
            ],
            [
             0.7777777777777778,
             "#fb9f3a"
            ],
            [
             0.8888888888888888,
             "#fdca26"
            ],
            [
             1,
             "#f0f921"
            ]
           ]
          },
          "colorway": [
           "#636efa",
           "#EF553B",
           "#00cc96",
           "#ab63fa",
           "#FFA15A",
           "#19d3f3",
           "#FF6692",
           "#B6E880",
           "#FF97FF",
           "#FECB52"
          ],
          "font": {
           "color": "#2a3f5f"
          },
          "geo": {
           "bgcolor": "white",
           "lakecolor": "white",
           "landcolor": "white",
           "showlakes": true,
           "showland": true,
           "subunitcolor": "#C8D4E3"
          },
          "hoverlabel": {
           "align": "left"
          },
          "hovermode": "closest",
          "mapbox": {
           "style": "light"
          },
          "paper_bgcolor": "white",
          "plot_bgcolor": "white",
          "polar": {
           "angularaxis": {
            "gridcolor": "#EBF0F8",
            "linecolor": "#EBF0F8",
            "ticks": ""
           },
           "bgcolor": "white",
           "radialaxis": {
            "gridcolor": "#EBF0F8",
            "linecolor": "#EBF0F8",
            "ticks": ""
           }
          },
          "scene": {
           "xaxis": {
            "backgroundcolor": "white",
            "gridcolor": "#DFE8F3",
            "gridwidth": 2,
            "linecolor": "#EBF0F8",
            "showbackground": true,
            "ticks": "",
            "zerolinecolor": "#EBF0F8"
           },
           "yaxis": {
            "backgroundcolor": "white",
            "gridcolor": "#DFE8F3",
            "gridwidth": 2,
            "linecolor": "#EBF0F8",
            "showbackground": true,
            "ticks": "",
            "zerolinecolor": "#EBF0F8"
           },
           "zaxis": {
            "backgroundcolor": "white",
            "gridcolor": "#DFE8F3",
            "gridwidth": 2,
            "linecolor": "#EBF0F8",
            "showbackground": true,
            "ticks": "",
            "zerolinecolor": "#EBF0F8"
           }
          },
          "shapedefaults": {
           "line": {
            "color": "#2a3f5f"
           }
          },
          "ternary": {
           "aaxis": {
            "gridcolor": "#DFE8F3",
            "linecolor": "#A2B1C6",
            "ticks": ""
           },
           "baxis": {
            "gridcolor": "#DFE8F3",
            "linecolor": "#A2B1C6",
            "ticks": ""
           },
           "bgcolor": "white",
           "caxis": {
            "gridcolor": "#DFE8F3",
            "linecolor": "#A2B1C6",
            "ticks": ""
           }
          },
          "title": {
           "x": 0.05
          },
          "xaxis": {
           "automargin": true,
           "gridcolor": "#EBF0F8",
           "linecolor": "#EBF0F8",
           "ticks": "",
           "title": {
            "standoff": 15
           },
           "zerolinecolor": "#EBF0F8",
           "zerolinewidth": 2
          },
          "yaxis": {
           "automargin": true,
           "gridcolor": "#EBF0F8",
           "linecolor": "#EBF0F8",
           "ticks": "",
           "title": {
            "standoff": 15
           },
           "zerolinecolor": "#EBF0F8",
           "zerolinewidth": 2
          }
         }
        },
        "title": {
         "font": {
          "color": "Black",
          "size": 22
         },
         "text": "Topic Word Scores",
         "x": 0.5,
         "xanchor": "center",
         "yanchor": "top"
        },
        "width": 1000,
        "xaxis": {
         "anchor": "y",
         "domain": [
          0,
          0.175
         ],
         "showgrid": true
        },
        "xaxis2": {
         "anchor": "y2",
         "domain": [
          0.275,
          0.45
         ],
         "showgrid": true
        },
        "xaxis3": {
         "anchor": "y3",
         "domain": [
          0.55,
          0.7250000000000001
         ],
         "showgrid": true
        },
        "xaxis4": {
         "anchor": "y4",
         "domain": [
          0.825,
          1
         ],
         "showgrid": true
        },
        "xaxis5": {
         "anchor": "y5",
         "domain": [
          0,
          0.175
         ],
         "showgrid": true
        },
        "xaxis6": {
         "anchor": "y6",
         "domain": [
          0.275,
          0.45
         ],
         "showgrid": true
        },
        "xaxis7": {
         "anchor": "y7",
         "domain": [
          0.55,
          0.7250000000000001
         ],
         "showgrid": true
        },
        "xaxis8": {
         "anchor": "y8",
         "domain": [
          0.825,
          1
         ],
         "showgrid": true
        },
        "yaxis": {
         "anchor": "x",
         "domain": [
          0.6000000000000001,
          1
         ],
         "showgrid": true
        },
        "yaxis2": {
         "anchor": "x2",
         "domain": [
          0.6000000000000001,
          1
         ],
         "showgrid": true
        },
        "yaxis3": {
         "anchor": "x3",
         "domain": [
          0.6000000000000001,
          1
         ],
         "showgrid": true
        },
        "yaxis4": {
         "anchor": "x4",
         "domain": [
          0.6000000000000001,
          1
         ],
         "showgrid": true
        },
        "yaxis5": {
         "anchor": "x5",
         "domain": [
          0,
          0.4
         ],
         "showgrid": true
        },
        "yaxis6": {
         "anchor": "x6",
         "domain": [
          0,
          0.4
         ],
         "showgrid": true
        },
        "yaxis7": {
         "anchor": "x7",
         "domain": [
          0,
          0.4
         ],
         "showgrid": true
        },
        "yaxis8": {
         "anchor": "x8",
         "domain": [
          0,
          0.4
         ],
         "showgrid": true
        }
       }
      }
     },
     "metadata": {},
     "output_type": "display_data"
    }
   ],
   "source": [
    "# Visualize barchart\n",
    "topic_model.visualize_barchart()"
   ]
  },
  {
   "cell_type": "code",
   "execution_count": null,
   "id": "fd8966ac-9673-4e9d-a668-6258de23bbeb",
   "metadata": {},
   "outputs": [],
   "source": [
    "topic_model.visualize_document_datamap(docs, embeddings=embeddings)"
   ]
  },
  {
   "cell_type": "code",
   "execution_count": null,
   "id": "08107b06-5ca1-40df-96ac-8bfbff6b5933",
   "metadata": {},
   "outputs": [],
   "source": []
  },
  {
   "cell_type": "code",
   "execution_count": null,
   "id": "6043fced",
   "metadata": {},
   "outputs": [],
   "source": []
  }
 ],
 "metadata": {
  "kernelspec": {
   "display_name": ".venv",
   "language": "python",
   "name": "python3"
  },
  "language_info": {
   "codemirror_mode": {
    "name": "ipython",
    "version": 3
   },
   "file_extension": ".py",
   "mimetype": "text/x-python",
   "name": "python",
   "nbconvert_exporter": "python",
   "pygments_lexer": "ipython3",
   "version": "3.11.5"
  }
 },
 "nbformat": 4,
 "nbformat_minor": 5
}
