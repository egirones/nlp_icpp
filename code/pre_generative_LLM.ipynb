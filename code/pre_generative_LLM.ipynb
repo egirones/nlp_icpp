{
 "cells": [
  {
   "cell_type": "code",
   "execution_count": 1,
   "id": "ff69e72e",
   "metadata": {},
   "outputs": [],
   "source": [
    "import pandas as pd"
   ]
  },
  {
   "cell_type": "code",
   "execution_count": 2,
   "id": "0ace7615",
   "metadata": {},
   "outputs": [],
   "source": [
    "df = pd.read_csv(\"../data/merged_scopus.csv\")"
   ]
  },
  {
   "cell_type": "code",
   "execution_count": 3,
   "id": "514ace55",
   "metadata": {},
   "outputs": [],
   "source": [
    "df = df.reset_index().rename(columns={'index': 'index_new'})"
   ]
  },
  {
   "cell_type": "code",
   "execution_count": 4,
   "id": "92e63e00",
   "metadata": {},
   "outputs": [],
   "source": [
    "def get_sample(x):\n",
    "    if \"policy\" in x.lower():\n",
    "        return True\n",
    "    return False"
   ]
  },
  {
   "cell_type": "code",
   "execution_count": 5,
   "id": "1adbe0f1",
   "metadata": {},
   "outputs": [],
   "source": [
    "df[\"Potential_policy\"] = df[\"Abstract\"].apply(lambda x: get_sample(x))"
   ]
  },
  {
   "cell_type": "code",
   "execution_count": 6,
   "id": "8759edd7",
   "metadata": {},
   "outputs": [
    {
     "data": {
      "text/plain": [
       "Potential_policy\n",
       "True     5792\n",
       "False    2279\n",
       "Name: count, dtype: int64"
      ]
     },
     "execution_count": 6,
     "metadata": {},
     "output_type": "execute_result"
    }
   ],
   "source": [
    "df[\"Potential_policy\"].value_counts()"
   ]
  },
  {
   "cell_type": "code",
   "execution_count": 7,
   "id": "25298d96",
   "metadata": {},
   "outputs": [],
   "source": [
    "df_certain = df[df[\"Potential_policy\"] == True]\n",
    "df_not_certain = df[df[\"Potential_policy\"] == False]"
   ]
  },
  {
   "cell_type": "code",
   "execution_count": 8,
   "id": "67181a9a",
   "metadata": {},
   "outputs": [],
   "source": [
    "df_certain = df_certain.sample(500, random_state=42)"
   ]
  },
  {
   "cell_type": "code",
   "execution_count": 9,
   "id": "b7b427d2",
   "metadata": {},
   "outputs": [],
   "source": [
    "df_not_certain = df_not_certain.sample(100, random_state=42)"
   ]
  },
  {
   "cell_type": "code",
   "execution_count": 10,
   "id": "517fb13c",
   "metadata": {},
   "outputs": [],
   "source": [
    "df_for_mixtral = pd.concat([df_certain, df_not_certain])"
   ]
  },
  {
   "cell_type": "code",
   "execution_count": 13,
   "id": "34f6092c",
   "metadata": {},
   "outputs": [],
   "source": [
    "df_for_mixtral.to_excel(\"../data/sample_llm.xlsx\")"
   ]
  }
 ],
 "metadata": {
  "kernelspec": {
   "display_name": ".venv",
   "language": "python",
   "name": "python3"
  },
  "language_info": {
   "codemirror_mode": {
    "name": "ipython",
    "version": 3
   },
   "file_extension": ".py",
   "mimetype": "text/x-python",
   "name": "python",
   "nbconvert_exporter": "python",
   "pygments_lexer": "ipython3",
   "version": "3.11.5"
  }
 },
 "nbformat": 4,
 "nbformat_minor": 5
}
